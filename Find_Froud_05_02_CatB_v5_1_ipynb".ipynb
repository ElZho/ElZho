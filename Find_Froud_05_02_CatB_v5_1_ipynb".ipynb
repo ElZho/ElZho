{
  "nbformat": 4,
  "nbformat_minor": 0,
  "metadata": {
    "colab": {
      "name": "Find_Froud_05_02_CatB_v5_1.ipynb\"",
      "provenance": [],
      "mount_file_id": "13h_60aOAu7TpAlAGBoiC8XDW64LyNDzL",
      "authorship_tag": "ABX9TyOZzKv/ruROe9x+gH0D2LWF",
      "include_colab_link": true
    },
    "kernelspec": {
      "name": "python3",
      "display_name": "Python 3"
    },
    "language_info": {
      "name": "python"
    },
    "accelerator": "GPU",
    "widgets": {
      "application/vnd.jupyter.widget-state+json": {
        "b99cd1b1d8054ff4943ec39b8b4ca63b": {
          "model_module": "catboost-widget",
          "model_name": "CatboostWidgetModel",
          "model_module_version": "^1.0.0",
          "state": {
            "_view_name": "CatboostWidgetView",
            "_dom_classes": [],
            "_model_name": "CatboostWidgetModel",
            "data": {
              "catboost_clf_find_fraud": {
                "content": {
                  "data": {
                    "meta": {
                      "name": "experiment",
                      "parameters": "",
                      "test_metrics": [
                        {
                          "best_value": "Max",
                          "name": "AUC"
                        },
                        {
                          "best_value": "Min",
                          "name": "Logloss"
                        }
                      ],
                      "learn_sets": [
                        "learn"
                      ],
                      "launch_mode": "Train",
                      "learn_metrics": [
                        {
                          "best_value": "Max",
                          "name": "AUC"
                        },
                        {
                          "best_value": "Min",
                          "name": "Logloss"
                        }
                      ],
                      "iteration_count": 1000,
                      "test_sets": [
                        "test"
                      ]
                    },
                    "iterations": [
                      {
                        "test": [
                          0.8529459536,
                          0.6689999021
                        ],
                        "passed_time": 0.4734089622,
                        "iteration": 0,
                        "remaining_time": 472.9355533,
                        "learn": [
                          0.8434736729,
                          0.6702060664
                        ]
                      },
                      {
                        "test": [
                          0.8579989076,
                          0.646496548
                        ],
                        "passed_time": 0.8854671826,
                        "iteration": 1,
                        "remaining_time": 441.8481241,
                        "learn": [
                          0.8479683399,
                          0.6488691672
                        ]
                      },
                      {
                        "test": [
                          0.8588282764,
                          0.6272625358
                        ],
                        "passed_time": 1.286363374,
                        "iteration": 2,
                        "remaining_time": 427.5014281,
                        "learn": [
                          0.8480529189,
                          0.6305639509
                        ]
                      },
                      {
                        "test": [
                          0.8592566848,
                          0.6091852549
                        ],
                        "passed_time": 1.699914011,
                        "iteration": 3,
                        "remaining_time": 423.2785889,
                        "learn": [
                          0.8495230675,
                          0.6132863989
                        ]
                      },
                      {
                        "test": [
                          0.8683678806,
                          0.5937018646
                        ],
                        "passed_time": 2.11588029,
                        "iteration": 4,
                        "remaining_time": 421.0601776,
                        "learn": [
                          0.8601181805,
                          0.5983933791
                        ]
                      },
                      {
                        "test": [
                          0.8769312203,
                          0.5794056459
                        ],
                        "passed_time": 2.567508034,
                        "iteration": 5,
                        "remaining_time": 425.3504976,
                        "learn": [
                          0.8671536446,
                          0.5849407704
                        ]
                      },
                      {
                        "test": [
                          0.8816094697,
                          0.5650904088
                        ],
                        "passed_time": 3.025505239,
                        "iteration": 6,
                        "remaining_time": 429.1895289,
                        "learn": [
                          0.8719442487,
                          0.5715684892
                        ]
                      },
                      {
                        "test": [
                          0.8822720647,
                          0.5539253923
                        ],
                        "passed_time": 3.466277569,
                        "iteration": 7,
                        "remaining_time": 429.8184186,
                        "learn": [
                          0.8728953302,
                          0.5609414823
                        ]
                      },
                      {
                        "test": [
                          0.8835301995,
                          0.5440203348
                        ],
                        "passed_time": 3.924058234,
                        "iteration": 8,
                        "remaining_time": 432.0824122,
                        "learn": [
                          0.8741379678,
                          0.5514736312
                        ]
                      },
                      {
                        "test": [
                          0.8857948482,
                          0.5348200375
                        ],
                        "passed_time": 4.388315464,
                        "iteration": 9,
                        "remaining_time": 434.4432309,
                        "learn": [
                          0.8760023713,
                          0.5429125148
                        ]
                      },
                      {
                        "test": [
                          0.8893054724,
                          0.5250650264
                        ],
                        "passed_time": 4.856152249,
                        "iteration": 10,
                        "remaining_time": 436.612234,
                        "learn": [
                          0.8791312873,
                          0.5339255682
                        ]
                      },
                      {
                        "test": [
                          0.8914425969,
                          0.5168257805
                        ],
                        "passed_time": 5.287481463,
                        "iteration": 11,
                        "remaining_time": 435.3359738,
                        "learn": [
                          0.8813170493,
                          0.5261855599
                        ]
                      },
                      {
                        "test": [
                          0.8918848038,
                          0.5078791883
                        ],
                        "passed_time": 5.713735293,
                        "iteration": 12,
                        "remaining_time": 433.8043642,
                        "learn": [
                          0.8817798793,
                          0.5178078297
                        ]
                      },
                      {
                        "test": [
                          0.8936269879,
                          0.5001735366
                        ],
                        "passed_time": 6.182560512,
                        "iteration": 13,
                        "remaining_time": 435.4289046,
                        "learn": [
                          0.8833288252,
                          0.5107135104
                        ]
                      },
                      {
                        "test": [
                          0.8939545155,
                          0.4930943086
                        ],
                        "passed_time": 6.605409331,
                        "iteration": 14,
                        "remaining_time": 433.7552127,
                        "learn": [
                          0.8834607303,
                          0.5040982318
                        ]
                      },
                      {
                        "test": [
                          0.8942886293,
                          0.4877749069
                        ],
                        "passed_time": 7.050008849,
                        "iteration": 15,
                        "remaining_time": 433.5755442,
                        "learn": [
                          0.8840970397,
                          0.4988603963
                        ]
                      },
                      {
                        "test": [
                          0.8953579366,
                          0.4822554612
                        ],
                        "passed_time": 7.479083692,
                        "iteration": 16,
                        "remaining_time": 432.4670158,
                        "learn": [
                          0.8851660192,
                          0.4937373506
                        ]
                      },
                      {
                        "test": [
                          0.8959960639,
                          0.4771421915
                        ],
                        "passed_time": 7.923609887,
                        "iteration": 17,
                        "remaining_time": 432.2769394,
                        "learn": [
                          0.8859043717,
                          0.4888340907
                        ]
                      },
                      {
                        "test": [
                          0.8973529637,
                          0.4717307685
                        ],
                        "passed_time": 8.392782174,
                        "iteration": 18,
                        "remaining_time": 433.3325954,
                        "learn": [
                          0.8872044384,
                          0.4838116918
                        ]
                      },
                      {
                        "test": [
                          0.8977554739,
                          0.4669718455
                        ],
                        "passed_time": 8.847020624,
                        "iteration": 19,
                        "remaining_time": 433.5040106,
                        "learn": [
                          0.8876695335,
                          0.4791703182
                        ]
                      },
                      {
                        "test": [
                          0.8990531862,
                          0.4625075737
                        ],
                        "passed_time": 9.273558806,
                        "iteration": 20,
                        "remaining_time": 432.3244796,
                        "learn": [
                          0.8888547719,
                          0.474968187
                        ]
                      },
                      {
                        "test": [
                          0.8990371525,
                          0.4592082764
                        ],
                        "passed_time": 9.656374462,
                        "iteration": 21,
                        "remaining_time": 429.2697374,
                        "learn": [
                          0.8891861737,
                          0.4714932782
                        ]
                      },
                      {
                        "test": [
                          0.9000660777,
                          0.4549543929
                        ],
                        "passed_time": 10.125508,
                        "iteration": 22,
                        "remaining_time": 430.1139701,
                        "learn": [
                          0.8903098702,
                          0.4674742773
                        ]
                      },
                      {
                        "test": [
                          0.9007689357,
                          0.4512666989
                        ],
                        "passed_time": 10.55152244,
                        "iteration": 23,
                        "remaining_time": 429.095246,
                        "learn": [
                          0.890940845,
                          0.463998601
                        ]
                      },
                      {
                        "test": [
                          0.9008913338,
                          0.4482857317
                        ],
                        "passed_time": 10.99886953,
                        "iteration": 24,
                        "remaining_time": 428.9559118,
                        "learn": [
                          0.8912270069,
                          0.4610995789
                        ]
                      },
                      {
                        "test": [
                          0.9010186493,
                          0.445110189
                        ],
                        "passed_time": 11.40149524,
                        "iteration": 25,
                        "remaining_time": 427.1175525,
                        "learn": [
                          0.8914398253,
                          0.4580021869
                        ]
                      },
                      {
                        "test": [
                          0.9022995234,
                          0.4407659275
                        ],
                        "passed_time": 11.87252352,
                        "iteration": 26,
                        "remaining_time": 427.85057,
                        "learn": [
                          0.8925167322,
                          0.454043523
                        ]
                      },
                      {
                        "test": [
                          0.9029711485,
                          0.4373516305
                        ],
                        "passed_time": 12.29236532,
                        "iteration": 27,
                        "remaining_time": 426.720682,
                        "learn": [
                          0.8930012882,
                          0.4509087447
                        ]
                      },
                      {
                        "test": [
                          0.9035937786,
                          0.4348903303
                        ],
                        "passed_time": 12.7313159,
                        "iteration": 28,
                        "remaining_time": 426.2795773,
                        "learn": [
                          0.893812716,
                          0.4483971798
                        ]
                      },
                      {
                        "test": [
                          0.9042766094,
                          0.4319363553
                        ],
                        "passed_time": 13.09718293,
                        "iteration": 29,
                        "remaining_time": 423.4755813,
                        "learn": [
                          0.8942629397,
                          0.4457813867
                        ]
                      },
                      {
                        "test": [
                          0.9052718282,
                          0.4288553123
                        ],
                        "passed_time": 13.58010409,
                        "iteration": 30,
                        "remaining_time": 424.4877697,
                        "learn": [
                          0.8950520158,
                          0.443054312
                        ]
                      },
                      {
                        "test": [
                          0.9058202207,
                          0.4259518466
                        ],
                        "passed_time": 14.00542569,
                        "iteration": 31,
                        "remaining_time": 423.6641271,
                        "learn": [
                          0.8957554996,
                          0.440239418
                        ]
                      },
                      {
                        "test": [
                          0.9083292484,
                          0.4209655641
                        ],
                        "passed_time": 14.31197154,
                        "iteration": 32,
                        "remaining_time": 419.3841358,
                        "learn": [
                          0.8976113498,
                          0.4362387266
                        ]
                      },
                      {
                        "test": [
                          0.9093836248,
                          0.417995911
                        ],
                        "passed_time": 14.78765691,
                        "iteration": 33,
                        "remaining_time": 420.1434288,
                        "learn": [
                          0.8985028863,
                          0.4335119808
                        ]
                      },
                      {
                        "test": [
                          0.9100363255,
                          0.4154275041
                        ],
                        "passed_time": 15.21297299,
                        "iteration": 34,
                        "remaining_time": 419.4433982,
                        "learn": [
                          0.8991585374,
                          0.4311569776
                        ]
                      },
                      {
                        "test": [
                          0.9106544852,
                          0.4128758259
                        ],
                        "passed_time": 15.56497562,
                        "iteration": 35,
                        "remaining_time": 416.7954583,
                        "learn": [
                          0.899740994,
                          0.4288551483
                        ]
                      },
                      {
                        "test": [
                          0.9108839035,
                          0.411070824
                        ],
                        "passed_time": 16.03306866,
                        "iteration": 36,
                        "remaining_time": 417.2931113,
                        "learn": [
                          0.9000729322,
                          0.4270961319
                        ]
                      },
                      {
                        "test": [
                          0.9129513502,
                          0.4060900638
                        ],
                        "passed_time": 16.40651171,
                        "iteration": 37,
                        "remaining_time": 415.3437963,
                        "learn": [
                          0.9018392563,
                          0.4227023918
                        ]
                      },
                      {
                        "test": [
                          0.9129662216,
                          0.4047070507
                        ],
                        "passed_time": 16.84502026,
                        "iteration": 38,
                        "remaining_time": 415.0785761,
                        "learn": [
                          0.9020442069,
                          0.4211904607
                        ]
                      },
                      {
                        "test": [
                          0.9143877327,
                          0.401365999
                        ],
                        "passed_time": 17.17796552,
                        "iteration": 39,
                        "remaining_time": 412.2711724,
                        "learn": [
                          0.9033542275,
                          0.4182368028
                        ]
                      },
                      {
                        "test": [
                          0.9147317708,
                          0.3999284357
                        ],
                        "passed_time": 17.55737693,
                        "iteration": 40,
                        "remaining_time": 410.6713286,
                        "learn": [
                          0.9038076997,
                          0.416749065
                        ]
                      },
                      {
                        "test": [
                          0.9152322114,
                          0.3980066831
                        ],
                        "passed_time": 18.03746174,
                        "iteration": 41,
                        "remaining_time": 411.425913,
                        "learn": [
                          0.9043898582,
                          0.4148083801
                        ]
                      },
                      {
                        "test": [
                          0.915504694,
                          0.3964355327
                        ],
                        "passed_time": 18.43749313,
                        "iteration": 42,
                        "remaining_time": 410.3414169,
                        "learn": [
                          0.9047691524,
                          0.4131668946
                        ]
                      },
                      {
                        "test": [
                          0.9161533713,
                          0.3945919551
                        ],
                        "passed_time": 18.79471353,
                        "iteration": 43,
                        "remaining_time": 408.3578667,
                        "learn": [
                          0.9054894447,
                          0.4114275763
                        ]
                      },
                      {
                        "test": [
                          0.9164238572,
                          0.3932395977
                        ],
                        "passed_time": 19.21575553,
                        "iteration": 44,
                        "remaining_time": 407.801034,
                        "learn": [
                          0.9059427679,
                          0.4099569419
                        ]
                      },
                      {
                        "test": [
                          0.9183925092,
                          0.3894401097
                        ],
                        "passed_time": 19.59497241,
                        "iteration": 45,
                        "remaining_time": 406.3826887,
                        "learn": [
                          0.907340765,
                          0.4070668735
                        ]
                      },
                      {
                        "test": [
                          0.918843925,
                          0.3882465806
                        ],
                        "passed_time": 19.97389582,
                        "iteration": 46,
                        "remaining_time": 405.0026109,
                        "learn": [
                          0.9078692198,
                          0.4059133824
                        ]
                      },
                      {
                        "test": [
                          0.919852972,
                          0.3857241305
                        ],
                        "passed_time": 20.43851118,
                        "iteration": 47,
                        "remaining_time": 405.3638052,
                        "learn": [
                          0.9087988436,
                          0.4036503646
                        ]
                      },
                      {
                        "test": [
                          0.92006284,
                          0.3847204088
                        ],
                        "passed_time": 20.85569569,
                        "iteration": 48,
                        "remaining_time": 404.7707469,
                        "learn": [
                          0.9092924595,
                          0.4024469887
                        ]
                      },
                      {
                        "test": [
                          0.9204639792,
                          0.3829002676
                        ],
                        "passed_time": 21.30141027,
                        "iteration": 49,
                        "remaining_time": 404.7267952,
                        "learn": [
                          0.9096311927,
                          0.4008379192
                        ]
                      },
                      {
                        "test": [
                          0.9225919545,
                          0.3784945866
                        ],
                        "passed_time": 21.75950689,
                        "iteration": 50,
                        "remaining_time": 404.8974909,
                        "learn": [
                          0.911562413,
                          0.3969823872
                        ]
                      },
                      {
                        "test": [
                          0.9233944714,
                          0.3765917447
                        ],
                        "passed_time": 22.16223839,
                        "iteration": 51,
                        "remaining_time": 404.0346537,
                        "learn": [
                          0.912320137,
                          0.3951920877
                        ]
                      },
                      {
                        "test": [
                          0.9272125065,
                          0.3697569011
                        ],
                        "passed_time": 22.54288888,
                        "iteration": 52,
                        "remaining_time": 402.7946371,
                        "learn": [
                          0.9151250124,
                          0.3900852318
                        ]
                      },
                      {
                        "test": [
                          0.9273170829,
                          0.3688609865
                        ],
                        "passed_time": 22.91938348,
                        "iteration": 53,
                        "remaining_time": 401.513644,
                        "learn": [
                          0.9153188169,
                          0.3890828205
                        ]
                      },
                      {
                        "test": [
                          0.9287980199,
                          0.3655579987
                        ],
                        "passed_time": 23.30564218,
                        "iteration": 54,
                        "remaining_time": 400.4333066,
                        "learn": [
                          0.9165490568,
                          0.3864252557
                        ]
                      },
                      {
                        "test": [
                          0.9290227592,
                          0.3647625102
                        ],
                        "passed_time": 23.69074106,
                        "iteration": 55,
                        "remaining_time": 399.3582065,
                        "learn": [
                          0.916891247,
                          0.3855058031
                        ]
                      },
                      {
                        "test": [
                          0.9296241105,
                          0.36315502
                        ],
                        "passed_time": 24.07506392,
                        "iteration": 56,
                        "remaining_time": 398.2944785,
                        "learn": [
                          0.9174245596,
                          0.3840681694
                        ]
                      },
                      {
                        "test": [
                          0.930003196,
                          0.3620305069
                        ],
                        "passed_time": 24.49552715,
                        "iteration": 57,
                        "remaining_time": 397.8411478,
                        "learn": [
                          0.9178997278,
                          0.38290408
                        ]
                      },
                      {
                        "test": [
                          0.931881547,
                          0.357432648
                        ],
                        "passed_time": 24.92745127,
                        "iteration": 58,
                        "remaining_time": 397.5717229,
                        "learn": [
                          0.9195387959,
                          0.3790290692
                        ]
                      },
                      {
                        "test": [
                          0.9320253134,
                          0.3567383129
                        ],
                        "passed_time": 25.36235417,
                        "iteration": 59,
                        "remaining_time": 397.3435487,
                        "learn": [
                          0.9198056757,
                          0.3782593442
                        ]
                      },
                      {
                        "test": [
                          0.9324084222,
                          0.3556352966
                        ],
                        "passed_time": 25.73846413,
                        "iteration": 60,
                        "remaining_time": 396.2035708,
                        "learn": [
                          0.9201836288,
                          0.3771950611
                        ]
                      },
                      {
                        "test": [
                          0.9339754283,
                          0.3517751974
                        ],
                        "passed_time": 26.18785824,
                        "iteration": 61,
                        "remaining_time": 396.1969521,
                        "learn": [
                          0.921553731,
                          0.3739773972
                        ]
                      },
                      {
                        "test": [
                          0.9342565536,
                          0.3509172389
                        ],
                        "passed_time": 26.60848214,
                        "iteration": 62,
                        "remaining_time": 395.7483772,
                        "learn": [
                          0.921878159,
                          0.373158628
                        ]
                      },
                      {
                        "test": [
                          0.9345710278,
                          0.3501422774
                        ],
                        "passed_time": 27.03066115,
                        "iteration": 63,
                        "remaining_time": 395.3234193,
                        "learn": [
                          0.922275126,
                          0.3723253135
                        ]
                      },
                      {
                        "test": [
                          0.9346146584,
                          0.3495399366
                        ],
                        "passed_time": 27.46195225,
                        "iteration": 64,
                        "remaining_time": 395.0296208,
                        "learn": [
                          0.9224184453,
                          0.3716278393
                        ]
                      },
                      {
                        "test": [
                          0.9356778562,
                          0.3467250442
                        ],
                        "passed_time": 27.8474322,
                        "iteration": 65,
                        "remaining_time": 394.0833587,
                        "learn": [
                          0.9232243001,
                          0.3694942298
                        ]
                      },
                      {
                        "test": [
                          0.9370801151,
                          0.3431030797
                        ],
                        "passed_time": 28.1991156,
                        "iteration": 66,
                        "remaining_time": 392.6832067,
                        "learn": [
                          0.924503684,
                          0.3664835972
                        ]
                      },
                      {
                        "test": [
                          0.9376384914,
                          0.3414505486
                        ],
                        "passed_time": 28.53162729,
                        "iteration": 67,
                        "remaining_time": 391.051127,
                        "learn": [
                          0.9250554442,
                          0.3650109527
                        ]
                      },
                      {
                        "test": [
                          0.9378652871,
                          0.3407763364
                        ],
                        "passed_time": 28.87787027,
                        "iteration": 68,
                        "remaining_time": 389.6419887,
                        "learn": [
                          0.9253810346,
                          0.3642847902
                        ]
                      },
                      {
                        "test": [
                          0.9384847283,
                          0.3388951799
                        ],
                        "passed_time": 29.30133068,
                        "iteration": 69,
                        "remaining_time": 389.2891077,
                        "learn": [
                          0.9259594381,
                          0.3626620892
                        ]
                      },
                      {
                        "test": [
                          0.938760221,
                          0.3381893421
                        ],
                        "passed_time": 29.62463739,
                        "iteration": 70,
                        "remaining_time": 387.6237765,
                        "learn": [
                          0.9262445867,
                          0.3619844959
                        ]
                      },
                      {
                        "test": [
                          0.9389623702,
                          0.3375301345
                        ],
                        "passed_time": 30.04307318,
                        "iteration": 71,
                        "remaining_time": 387.2218321,
                        "learn": [
                          0.9264890254,
                          0.3613204975
                        ]
                      },
                      {
                        "test": [
                          0.9391156137,
                          0.3369777105
                        ],
                        "passed_time": 30.4567383,
                        "iteration": 72,
                        "remaining_time": 386.7588549,
                        "learn": [
                          0.9267469347,
                          0.3606636987
                        ]
                      },
                      {
                        "test": [
                          0.9391756356,
                          0.3364687918
                        ],
                        "passed_time": 30.85945,
                        "iteration": 73,
                        "remaining_time": 386.1601446,
                        "learn": [
                          0.9269082248,
                          0.3600657018
                        ]
                      },
                      {
                        "test": [
                          0.9401777685,
                          0.3339170867
                        ],
                        "passed_time": 31.22910916,
                        "iteration": 74,
                        "remaining_time": 385.159013,
                        "learn": [
                          0.9276557565,
                          0.3581398179
                        ]
                      },
                      {
                        "test": [
                          0.9402940571,
                          0.3334014873
                        ],
                        "passed_time": 31.66444033,
                        "iteration": 75,
                        "remaining_time": 384.9729324,
                        "learn": [
                          0.9278621078,
                          0.357539811
                        ]
                      },
                      {
                        "test": [
                          0.9404277802,
                          0.3326806179
                        ],
                        "passed_time": 32.40727556,
                        "iteration": 76,
                        "remaining_time": 388.466433,
                        "learn": [
                          0.9280871451,
                          0.3567470257
                        ]
                      },
                      {
                        "test": [
                          0.9409209192,
                          0.3312312287
                        ],
                        "passed_time": 32.76230707,
                        "iteration": 77,
                        "remaining_time": 387.2672708,
                        "learn": [
                          0.9285413325,
                          0.3554834225
                        ]
                      },
                      {
                        "test": [
                          0.9415409267,
                          0.3292388169
                        ],
                        "passed_time": 33.18569162,
                        "iteration": 78,
                        "remaining_time": 386.8863543,
                        "learn": [
                          0.9290208519,
                          0.3539382714
                        ]
                      },
                      {
                        "test": [
                          0.9423940182,
                          0.3267552657
                        ],
                        "passed_time": 33.90307735,
                        "iteration": 79,
                        "remaining_time": 389.8853895,
                        "learn": [
                          0.9297449291,
                          0.3519506619
                        ]
                      },
                      {
                        "test": [
                          0.942489475,
                          0.3263710984
                        ],
                        "passed_time": 34.31660734,
                        "iteration": 80,
                        "remaining_time": 389.3452116,
                        "learn": [
                          0.9299388826,
                          0.3514625944
                        ]
                      },
                      {
                        "test": [
                          0.9426924586,
                          0.3258259477
                        ],
                        "passed_time": 34.95184823,
                        "iteration": 81,
                        "remaining_time": 391.2902034,
                        "learn": [
                          0.9301942289,
                          0.3508717605
                        ]
                      },
                      {
                        "test": [
                          0.9428414106,
                          0.325300839
                        ],
                        "passed_time": 35.34498636,
                        "iteration": 82,
                        "remaining_time": 390.4982228,
                        "learn": [
                          0.9303983152,
                          0.3502950332
                        ]
                      },
                      {
                        "test": [
                          0.9434221983,
                          0.3235580107
                        ],
                        "passed_time": 35.71053167,
                        "iteration": 83,
                        "remaining_time": 389.4148453,
                        "learn": [
                          0.9308418334,
                          0.3489994891
                        ]
                      },
                      {
                        "test": [
                          0.9443261027,
                          0.3208219667
                        ],
                        "passed_time": 36.03258913,
                        "iteration": 84,
                        "remaining_time": 387.8802242,
                        "learn": [
                          0.9316281974,
                          0.3468348157
                        ]
                      },
                      {
                        "test": [
                          0.944829911,
                          0.3194233024
                        ],
                        "passed_time": 36.44118327,
                        "iteration": 85,
                        "remaining_time": 387.2935059,
                        "learn": [
                          0.9320296347,
                          0.3457701306
                        ]
                      },
                      {
                        "test": [
                          0.9448916912,
                          0.3190763368
                        ],
                        "passed_time": 36.84930145,
                        "iteration": 86,
                        "remaining_time": 386.7058877,
                        "learn": [
                          0.9321510196,
                          0.3453609287
                        ]
                      },
                      {
                        "test": [
                          0.945759058,
                          0.3164781092
                        ],
                        "passed_time": 37.22260082,
                        "iteration": 87,
                        "remaining_time": 385.7614994,
                        "learn": [
                          0.9329033792,
                          0.3432026874
                        ]
                      },
                      {
                        "test": [
                          0.9459034503,
                          0.3159508186
                        ],
                        "passed_time": 37.63633519,
                        "iteration": 88,
                        "remaining_time": 385.2438355,
                        "learn": [
                          0.9331151843,
                          0.3426000127
                        ]
                      },
                      {
                        "test": [
                          0.9460347891,
                          0.3155299343
                        ],
                        "passed_time": 38.05779948,
                        "iteration": 89,
                        "remaining_time": 384.8066392,
                        "learn": [
                          0.9332880378,
                          0.3421515973
                        ]
                      },
                      {
                        "test": [
                          0.9461643696,
                          0.3151873059
                        ],
                        "passed_time": 38.50188245,
                        "iteration": 90,
                        "remaining_time": 384.5957269,
                        "learn": [
                          0.9334705174,
                          0.3417673195
                        ]
                      },
                      {
                        "test": [
                          0.9463139772,
                          0.3147598217
                        ],
                        "passed_time": 38.88250919,
                        "iteration": 91,
                        "remaining_time": 383.7534602,
                        "learn": [
                          0.9337142706,
                          0.3412518794
                        ]
                      },
                      {
                        "test": [
                          0.9470068812,
                          0.3124866049
                        ],
                        "passed_time": 39.26656659,
                        "iteration": 92,
                        "remaining_time": 382.9545796,
                        "learn": [
                          0.9343066812,
                          0.3394699123
                        ]
                      },
                      {
                        "test": [
                          0.9476855099,
                          0.3102656754
                        ],
                        "passed_time": 39.61336824,
                        "iteration": 93,
                        "remaining_time": 381.8054429,
                        "learn": [
                          0.9348372817,
                          0.3377111152
                        ]
                      },
                      {
                        "test": [
                          0.9478103518,
                          0.3098269579
                        ],
                        "passed_time": 40.05405022,
                        "iteration": 94,
                        "remaining_time": 381.567531,
                        "learn": [
                          0.9350609779,
                          0.3371696545
                        ]
                      },
                      {
                        "test": [
                          0.9481564462,
                          0.3086316509
                        ],
                        "passed_time": 40.37129833,
                        "iteration": 95,
                        "remaining_time": 380.1630593,
                        "learn": [
                          0.9353226721,
                          0.3362730064
                        ]
                      },
                      {
                        "test": [
                          0.9483002424,
                          0.3081573211
                        ],
                        "passed_time": 40.65594915,
                        "iteration": 96,
                        "remaining_time": 378.4775472,
                        "learn": [
                          0.9354920983,
                          0.3357942946
                        ]
                      },
                      {
                        "test": [
                          0.948381573,
                          0.3077387535
                        ],
                        "passed_time": 41.05843214,
                        "iteration": 97,
                        "remaining_time": 377.9051611,
                        "learn": [
                          0.9356625378,
                          0.3352705586
                        ]
                      },
                      {
                        "test": [
                          0.9485393167,
                          0.3072822568
                        ],
                        "passed_time": 41.48533465,
                        "iteration": 98,
                        "remaining_time": 377.5584497,
                        "learn": [
                          0.9358469844,
                          0.3347888866
                        ]
                      },
                      {
                        "test": [
                          0.9490397274,
                          0.3055686566
                        ],
                        "passed_time": 41.85696022,
                        "iteration": 99,
                        "remaining_time": 376.7126419,
                        "learn": [
                          0.9362291396,
                          0.3334958641
                        ]
                      },
                      {
                        "test": [
                          0.9490763843,
                          0.3051921936
                        ],
                        "passed_time": 42.24722596,
                        "iteration": 100,
                        "remaining_time": 376.0421399,
                        "learn": [
                          0.9363259673,
                          0.3330557811
                        ]
                      },
                      {
                        "test": [
                          0.9491230547,
                          0.3049418019
                        ],
                        "passed_time": 42.58947931,
                        "iteration": 101,
                        "remaining_time": 374.9544355,
                        "learn": [
                          0.936434865,
                          0.3327146638
                        ]
                      },
                      {
                        "test": [
                          0.9494468272,
                          0.3039314534
                        ],
                        "passed_time": 42.96823426,
                        "iteration": 102,
                        "remaining_time": 374.1990886,
                        "learn": [
                          0.9368271828,
                          0.3317547186
                        ]
                      },
                      {
                        "test": [
                          0.9498010278,
                          0.3026815155
                        ],
                        "passed_time": 43.31093882,
                        "iteration": 103,
                        "remaining_time": 373.140396,
                        "learn": [
                          0.9371834695,
                          0.3306727474
                        ]
                      },
                      {
                        "test": [
                          0.950114876,
                          0.3017451665
                        ],
                        "passed_time": 43.60747057,
                        "iteration": 104,
                        "remaining_time": 371.701773,
                        "learn": [
                          0.9375345707,
                          0.3298481308
                        ]
                      },
                      {
                        "test": [
                          0.9503190517,
                          0.3011887825
                        ],
                        "passed_time": 43.91389724,
                        "iteration": 105,
                        "remaining_time": 370.3681522,
                        "learn": [
                          0.9378182888,
                          0.3292519247
                        ]
                      },
                      {
                        "test": [
                          0.9504306316,
                          0.300861024
                        ],
                        "passed_time": 44.23077661,
                        "iteration": 106,
                        "remaining_time": 369.1409674,
                        "learn": [
                          0.9379563034,
                          0.3289131828
                        ]
                      },
                      {
                        "test": [
                          0.9507476389,
                          0.2998078436
                        ],
                        "passed_time": 44.57850221,
                        "iteration": 107,
                        "remaining_time": 368.1854071,
                        "learn": [
                          0.9383011758,
                          0.3279690619
                        ]
                      },
                      {
                        "test": [
                          0.9508054554,
                          0.2995655604
                        ],
                        "passed_time": 44.91702435,
                        "iteration": 108,
                        "remaining_time": 367.1657679,
                        "learn": [
                          0.9384755492,
                          0.3276006084
                        ]
                      },
                      {
                        "test": [
                          0.9509453177,
                          0.299184464
                        ],
                        "passed_time": 45.29679195,
                        "iteration": 109,
                        "remaining_time": 366.4922258,
                        "learn": [
                          0.9386574924,
                          0.3272130415
                        ]
                      },
                      {
                        "test": [
                          0.9510509968,
                          0.2987778032
                        ],
                        "passed_time": 45.71975566,
                        "iteration": 110,
                        "remaining_time": 366.169935,
                        "learn": [
                          0.9388400316,
                          0.3267474862
                        ]
                      },
                      {
                        "test": [
                          0.9511651993,
                          0.2983505615
                        ],
                        "passed_time": 46.16576087,
                        "iteration": 111,
                        "remaining_time": 366.0285326,
                        "learn": [
                          0.9390066266,
                          0.3263252009
                        ]
                      },
                      {
                        "test": [
                          0.951349467,
                          0.2978659411
                        ],
                        "passed_time": 46.59449506,
                        "iteration": 112,
                        "remaining_time": 365.7461692,
                        "learn": [
                          0.9392336011,
                          0.3258103089
                        ]
                      },
                      {
                        "test": [
                          0.9513980746,
                          0.2976156572
                        ],
                        "passed_time": 46.87341385,
                        "iteration": 113,
                        "remaining_time": 364.2968831,
                        "learn": [
                          0.9393448234,
                          0.3255010229
                        ]
                      },
                      {
                        "test": [
                          0.9514133334,
                          0.2974047572
                        ],
                        "passed_time": 47.24668897,
                        "iteration": 114,
                        "remaining_time": 363.5940847,
                        "learn": [
                          0.939412415,
                          0.3252001058
                        ]
                      },
                      {
                        "test": [
                          0.9514740407,
                          0.2970806892
                        ],
                        "passed_time": 47.67810714,
                        "iteration": 115,
                        "remaining_time": 363.3400578,
                        "learn": [
                          0.9395326376,
                          0.3247840333
                        ]
                      },
                      {
                        "test": [
                          0.951826632,
                          0.2960695864
                        ],
                        "passed_time": 48.0574167,
                        "iteration": 116,
                        "remaining_time": 362.6897346,
                        "learn": [
                          0.9398725629,
                          0.3239265257
                        ]
                      },
                      {
                        "test": [
                          0.9519348145,
                          0.295659666
                        ],
                        "passed_time": 48.41310027,
                        "iteration": 117,
                        "remaining_time": 361.8674105,
                        "learn": [
                          0.9400491714,
                          0.3234649538
                        ]
                      },
                      {
                        "test": [
                          0.9529067874,
                          0.2926672231
                        ],
                        "passed_time": 48.8434904,
                        "iteration": 118,
                        "remaining_time": 361.6060088,
                        "learn": [
                          0.9408204257,
                          0.321310294
                        ]
                      },
                      {
                        "test": [
                          0.9530329704,
                          0.29221571
                        ],
                        "passed_time": 49.17754744,
                        "iteration": 119,
                        "remaining_time": 360.6353479,
                        "learn": [
                          0.9409919381,
                          0.3208336287
                        ]
                      },
                      {
                        "test": [
                          0.9530786872,
                          0.2919989373
                        ],
                        "passed_time": 49.61939172,
                        "iteration": 120,
                        "remaining_time": 360.4582258,
                        "learn": [
                          0.9411568046,
                          0.3204970065
                        ]
                      },
                      {
                        "test": [
                          0.9531531334,
                          0.2917312782
                        ],
                        "passed_time": 50.00189564,
                        "iteration": 121,
                        "remaining_time": 359.849708,
                        "learn": [
                          0.941309154,
                          0.3201633811
                        ]
                      },
                      {
                        "test": [
                          0.9536170363,
                          0.2901335128
                        ],
                        "passed_time": 50.37322342,
                        "iteration": 122,
                        "remaining_time": 359.1651784,
                        "learn": [
                          0.9417034388,
                          0.3188507701
                        ]
                      },
                      {
                        "test": [
                          0.9536356926,
                          0.2899237172
                        ],
                        "passed_time": 50.81195698,
                        "iteration": 123,
                        "remaining_time": 358.9618896,
                        "learn": [
                          0.9417859018,
                          0.3185517534
                        ]
                      },
                      {
                        "test": [
                          0.9537576437,
                          0.2895339736
                        ],
                        "passed_time": 51.21047166,
                        "iteration": 124,
                        "remaining_time": 358.4733016,
                        "learn": [
                          0.9419727921,
                          0.3180888659
                        ]
                      },
                      {
                        "test": [
                          0.9538142681,
                          0.2892348505
                        ],
                        "passed_time": 51.62628979,
                        "iteration": 125,
                        "remaining_time": 358.1061689,
                        "learn": [
                          0.942088902,
                          0.3176881792
                        ]
                      },
                      {
                        "test": [
                          0.9539228976,
                          0.2889004382
                        ],
                        "passed_time": 51.96503295,
                        "iteration": 126,
                        "remaining_time": 357.2084549,
                        "learn": [
                          0.9422259927,
                          0.3173561252
                        ]
                      },
                      {
                        "test": [
                          0.9540247023,
                          0.2886358232
                        ],
                        "passed_time": 52.3999497,
                        "iteration": 127,
                        "remaining_time": 356.9746573,
                        "learn": [
                          0.9423478246,
                          0.3170710324
                        ]
                      },
                      {
                        "test": [
                          0.9544601142,
                          0.2870672858
                        ],
                        "passed_time": 52.71557343,
                        "iteration": 128,
                        "remaining_time": 355.9322826,
                        "learn": [
                          0.9427154958,
                          0.3158043959
                        ]
                      },
                      {
                        "test": [
                          0.9544765651,
                          0.2869270449
                        ],
                        "passed_time": 53.12042889,
                        "iteration": 129,
                        "remaining_time": 355.4982549,
                        "learn": [
                          0.9427866936,
                          0.315571271
                        ]
                      },
                      {
                        "test": [
                          0.9548208117,
                          0.2854669881
                        ],
                        "passed_time": 53.56574761,
                        "iteration": 130,
                        "remaining_time": 355.3330891,
                        "learn": [
                          0.94308424,
                          0.3143746195
                        ]
                      },
                      {
                        "test": [
                          0.9548631907,
                          0.2852177009
                        ],
                        "passed_time": 53.97368218,
                        "iteration": 131,
                        "remaining_time": 354.9178495,
                        "learn": [
                          0.9431645274,
                          0.3140844103
                        ]
                      },
                      {
                        "test": [
                          0.9549213648,
                          0.2850899325
                        ],
                        "passed_time": 54.38282021,
                        "iteration": 132,
                        "remaining_time": 354.5105648,
                        "learn": [
                          0.9432585835,
                          0.3138960904
                        ]
                      },
                      {
                        "test": [
                          0.9549639821,
                          0.284831594
                        ],
                        "passed_time": 54.78093948,
                        "iteration": 133,
                        "remaining_time": 354.0320417,
                        "learn": [
                          0.9433499575,
                          0.3135680199
                        ]
                      },
                      {
                        "test": [
                          0.9550380707,
                          0.2846011367
                        ],
                        "passed_time": 55.11817969,
                        "iteration": 134,
                        "remaining_time": 353.1646328,
                        "learn": [
                          0.9434642196,
                          0.3132847544
                        ]
                      },
                      {
                        "test": [
                          0.9551180303,
                          0.2841384442
                        ],
                        "passed_time": 55.53985481,
                        "iteration": 135,
                        "remaining_time": 352.8414306,
                        "learn": [
                          0.9435845017,
                          0.3128039595
                        ]
                      },
                      {
                        "test": [
                          0.9551700354,
                          0.2839370264
                        ],
                        "passed_time": 55.94248166,
                        "iteration": 136,
                        "remaining_time": 352.3968005,
                        "learn": [
                          0.9436724782,
                          0.3125420367
                        ]
                      },
                      {
                        "test": [
                          0.9553127885,
                          0.2833202467
                        ],
                        "passed_time": 56.30990943,
                        "iteration": 137,
                        "remaining_time": 351.7329125,
                        "learn": [
                          0.9438443184,
                          0.3119456478
                        ]
                      },
                      {
                        "test": [
                          0.9553951919,
                          0.2829941853
                        ],
                        "passed_time": 56.7731036,
                        "iteration": 138,
                        "remaining_time": 351.6664906,
                        "learn": [
                          0.9440016448,
                          0.3115418181
                        ]
                      },
                      {
                        "test": [
                          0.9554298818,
                          0.2827329914
                        ],
                        "passed_time": 57.18489998,
                        "iteration": 139,
                        "remaining_time": 351.2786713,
                        "learn": [
                          0.9440847039,
                          0.3112105681
                        ]
                      },
                      {
                        "test": [
                          0.9554295242,
                          0.2826867652
                        ],
                        "passed_time": 57.52904159,
                        "iteration": 140,
                        "remaining_time": 350.4783456,
                        "learn": [
                          0.944152534,
                          0.3110729737
                        ]
                      },
                      {
                        "test": [
                          0.9554740191,
                          0.2825640343
                        ],
                        "passed_time": 57.86167367,
                        "iteration": 141,
                        "remaining_time": 349.6149015,
                        "learn": [
                          0.944252193,
                          0.3108714974
                        ]
                      },
                      {
                        "test": [
                          0.9555305243,
                          0.2822354946
                        ],
                        "passed_time": 58.25672255,
                        "iteration": 142,
                        "remaining_time": 349.1329456,
                        "learn": [
                          0.9443650842,
                          0.3104644882
                        ]
                      },
                      {
                        "test": [
                          0.9555597901,
                          0.2820686925
                        ],
                        "passed_time": 58.60039186,
                        "iteration": 143,
                        "remaining_time": 348.3467738,
                        "learn": [
                          0.9444234371,
                          0.3102494169
                        ]
                      },
                      {
                        "test": [
                          0.9556257129,
                          0.2818705342
                        ],
                        "passed_time": 59.00828657,
                        "iteration": 144,
                        "remaining_time": 347.9454139,
                        "learn": [
                          0.9445288777,
                          0.3100072653
                        ]
                      },
                      {
                        "test": [
                          0.9557715654,
                          0.2814080033
                        ],
                        "passed_time": 59.42004566,
                        "iteration": 145,
                        "remaining_time": 347.5665684,
                        "learn": [
                          0.944672823,
                          0.30961016
                        ]
                      },
                      {
                        "test": [
                          0.9558053017,
                          0.2812326888
                        ],
                        "passed_time": 59.84731169,
                        "iteration": 146,
                        "remaining_time": 347.2772576,
                        "learn": [
                          0.9447463751,
                          0.3093559483
                        ]
                      },
                      {
                        "test": [
                          0.9558824897,
                          0.2810053024
                        ],
                        "passed_time": 60.25121484,
                        "iteration": 147,
                        "remaining_time": 346.8515881,
                        "learn": [
                          0.944855392,
                          0.3090872279
                        ]
                      },
                      {
                        "test": [
                          0.9559500217,
                          0.2806732338
                        ],
                        "passed_time": 60.54505212,
                        "iteration": 148,
                        "remaining_time": 345.7975796,
                        "learn": [
                          0.944976449,
                          0.3087153757
                        ]
                      },
                      {
                        "test": [
                          0.9560014009,
                          0.2804780926
                        ],
                        "passed_time": 60.91338388,
                        "iteration": 149,
                        "remaining_time": 345.175842,
                        "learn": [
                          0.9450501204,
                          0.3085117067
                        ]
                      },
                      {
                        "test": [
                          0.9561673999,
                          0.2796755194
                        ],
                        "passed_time": 61.21743517,
                        "iteration": 150,
                        "remaining_time": 344.1960428,
                        "learn": [
                          0.9452157021,
                          0.3078183987
                        ]
                      },
                      {
                        "test": [
                          0.9561886489,
                          0.2795795112
                        ],
                        "passed_time": 61.62561374,
                        "iteration": 151,
                        "remaining_time": 343.8060556,
                        "learn": [
                          0.9452697039,
                          0.3076808773
                        ]
                      },
                      {
                        "test": [
                          0.9562450647,
                          0.2793690421
                        ],
                        "passed_time": 62.04847987,
                        "iteration": 152,
                        "remaining_time": 343.4971402,
                        "learn": [
                          0.9453766942,
                          0.3073852594
                        ]
                      },
                      {
                        "test": [
                          0.9563892484,
                          0.2788966787
                        ],
                        "passed_time": 62.40390875,
                        "iteration": 153,
                        "remaining_time": 342.8162779,
                        "learn": [
                          0.9454987645,
                          0.3070100084
                        ]
                      },
                      {
                        "test": [
                          0.9564391375,
                          0.2786566314
                        ],
                        "passed_time": 62.7874218,
                        "iteration": 154,
                        "remaining_time": 342.2927188,
                        "learn": [
                          0.9456120133,
                          0.3066617281
                        ]
                      },
                      {
                        "test": [
                          0.9564651251,
                          0.2785064503
                        ],
                        "passed_time": 63.214777,
                        "iteration": 155,
                        "remaining_time": 342.0081525,
                        "learn": [
                          0.9457006454,
                          0.3063928799
                        ]
                      },
                      {
                        "test": [
                          0.9564986229,
                          0.2783488611
                        ],
                        "passed_time": 63.59538368,
                        "iteration": 156,
                        "remaining_time": 341.4707544,
                        "learn": [
                          0.9457535148,
                          0.3061751042
                        ]
                      },
                      {
                        "test": [
                          0.9565325975,
                          0.2782425895
                        ],
                        "passed_time": 64.01682949,
                        "iteration": 157,
                        "remaining_time": 341.1529774,
                        "learn": [
                          0.9458199739,
                          0.3060129145
                        ]
                      },
                      {
                        "test": [
                          0.9565848112,
                          0.278112666
                        ],
                        "passed_time": 64.40425033,
                        "iteration": 158,
                        "remaining_time": 340.6539279,
                        "learn": [
                          0.9458999038,
                          0.3058486234
                        ]
                      },
                      {
                        "test": [
                          0.956828475,
                          0.2773289764
                        ],
                        "passed_time": 64.85080785,
                        "iteration": 159,
                        "remaining_time": 340.4667412,
                        "learn": [
                          0.9461863637,
                          0.3051257135
                        ]
                      },
                      {
                        "test": [
                          0.9569069743,
                          0.2770154952
                        ],
                        "passed_time": 65.15175172,
                        "iteration": 160,
                        "remaining_time": 339.5175136,
                        "learn": [
                          0.9462891221,
                          0.3048157513
                        ]
                      },
                      {
                        "test": [
                          0.9569196105,
                          0.276935677
                        ],
                        "passed_time": 65.55047068,
                        "iteration": 161,
                        "remaining_time": 339.0820644,
                        "learn": [
                          0.9463632703,
                          0.3046325113
                        ]
                      },
                      {
                        "test": [
                          0.9569388628,
                          0.2768111681
                        ],
                        "passed_time": 65.9569299,
                        "iteration": 162,
                        "remaining_time": 338.6868118,
                        "learn": [
                          0.9464304447,
                          0.3044118851
                        ]
                      },
                      {
                        "test": [
                          0.9569891691,
                          0.2766115282
                        ],
                        "passed_time": 66.28582371,
                        "iteration": 163,
                        "remaining_time": 337.8960282,
                        "learn": [
                          0.9464954734,
                          0.3041894498
                        ]
                      },
                      {
                        "test": [
                          0.9570137262,
                          0.2764403622
                        ],
                        "passed_time": 66.6630551,
                        "iteration": 164,
                        "remaining_time": 337.3554607,
                        "learn": [
                          0.9465507865,
                          0.3039706144
                        ]
                      },
                      {
                        "test": [
                          0.9572467804,
                          0.2755956304
                        ],
                        "passed_time": 67.11891404,
                        "iteration": 165,
                        "remaining_time": 337.2118934,
                        "learn": [
                          0.9467266202,
                          0.3033130846
                        ]
                      },
                      {
                        "test": [
                          0.9572988153,
                          0.2754020517
                        ],
                        "passed_time": 67.47515687,
                        "iteration": 166,
                        "remaining_time": 336.5676987,
                        "learn": [
                          0.94681108,
                          0.3030852223
                        ]
                      },
                      {
                        "test": [
                          0.9573200345,
                          0.2752402602
                        ],
                        "passed_time": 67.9040271,
                        "iteration": 167,
                        "remaining_time": 336.2866104,
                        "learn": [
                          0.9468806386,
                          0.3028447518
                        ]
                      },
                      {
                        "test": [
                          0.9575010836,
                          0.2744969512
                        ],
                        "passed_time": 68.2744512,
                        "iteration": 168,
                        "remaining_time": 335.7163843,
                        "learn": [
                          0.9470304251,
                          0.3022971514
                        ]
                      },
                      {
                        "test": [
                          0.9575472474,
                          0.2743093258
                        ],
                        "passed_time": 68.64969193,
                        "iteration": 169,
                        "remaining_time": 335.1720253,
                        "learn": [
                          0.9470905662,
                          0.3021111522
                        ]
                      },
                      {
                        "test": [
                          0.9575833678,
                          0.2741637781
                        ],
                        "passed_time": 69.08257582,
                        "iteration": 170,
                        "remaining_time": 334.9090957,
                        "learn": [
                          0.947165072,
                          0.3018931207
                        ]
                      },
                      {
                        "test": [
                          0.9575883746,
                          0.2740960821
                        ],
                        "passed_time": 69.37190376,
                        "iteration": 171,
                        "remaining_time": 333.9531181,
                        "learn": [
                          0.9472072721,
                          0.3017777278
                        ]
                      },
                      {
                        "test": [
                          0.9577991068,
                          0.2733814624
                        ],
                        "passed_time": 69.68904051,
                        "iteration": 172,
                        "remaining_time": 333.1377832,
                        "learn": [
                          0.9474243522,
                          0.3011652223
                        ]
                      },
                      {
                        "test": [
                          0.9578251243,
                          0.2733142244
                        ],
                        "passed_time": 70.10355531,
                        "iteration": 173,
                        "remaining_time": 332.7904407,
                        "learn": [
                          0.947468698,
                          0.301075795
                        ]
                      },
                      {
                        "test": [
                          0.9581114054,
                          0.2721541796
                        ],
                        "passed_time": 70.41798111,
                        "iteration": 174,
                        "remaining_time": 331.9704824,
                        "learn": [
                          0.947681129,
                          0.3001787449
                        ]
                      },
                      {
                        "test": [
                          0.958121419,
                          0.2720740112
                        ],
                        "passed_time": 70.81432437,
                        "iteration": 175,
                        "remaining_time": 331.5397914,
                        "learn": [
                          0.9477530718,
                          0.3000031247
                        ]
                      },
                      {
                        "test": [
                          0.9581555128,
                          0.2719756055
                        ],
                        "passed_time": 71.24738611,
                        "iteration": 176,
                        "remaining_time": 331.280219,
                        "learn": [
                          0.9478191137,
                          0.2998361292
                        ]
                      },
                      {
                        "test": [
                          0.9581981003,
                          0.271731706
                        ],
                        "passed_time": 71.616497,
                        "iteration": 177,
                        "remaining_time": 330.7233738,
                        "learn": [
                          0.9479160309,
                          0.2995181087
                        ]
                      },
                      {
                        "test": [
                          0.9582208395,
                          0.2716421092
                        ],
                        "passed_time": 72.02058242,
                        "iteration": 178,
                        "remaining_time": 330.32904,
                        "learn": [
                          0.9479804635,
                          0.299362278
                        ]
                      },
                      {
                        "test": [
                          0.9582423568,
                          0.2715241732
                        ],
                        "passed_time": 72.41605866,
                        "iteration": 179,
                        "remaining_time": 329.8953784,
                        "learn": [
                          0.9480280876,
                          0.2992053143
                        ]
                      },
                      {
                        "test": [
                          0.9582651854,
                          0.2714566927
                        ],
                        "passed_time": 72.80707991,
                        "iteration": 180,
                        "remaining_time": 329.4419804,
                        "learn": [
                          0.9480875134,
                          0.2990840192
                        ]
                      },
                      {
                        "test": [
                          0.9583623409,
                          0.2712301415
                        ],
                        "passed_time": 73.25438368,
                        "iteration": 181,
                        "remaining_time": 329.2422299,
                        "learn": [
                          0.9481939077,
                          0.2988573995
                        ]
                      },
                      {
                        "test": [
                          0.9584103823,
                          0.2710278886
                        ],
                        "passed_time": 73.65101745,
                        "iteration": 182,
                        "remaining_time": 328.8135588,
                        "learn": [
                          0.948276639,
                          0.298596171
                        ]
                      },
                      {
                        "test": [
                          0.9584445357,
                          0.2708643999
                        ],
                        "passed_time": 74.03806876,
                        "iteration": 183,
                        "remaining_time": 328.3427397,
                        "learn": [
                          0.9483593702,
                          0.2983373363
                        ]
                      },
                      {
                        "test": [
                          0.9584772885,
                          0.2707044941
                        ],
                        "passed_time": 74.36954153,
                        "iteration": 184,
                        "remaining_time": 327.6279803,
                        "learn": [
                          0.9484110177,
                          0.2981565631
                        ]
                      },
                      {
                        "test": [
                          0.9586258531,
                          0.2699720951
                        ],
                        "passed_time": 74.81910154,
                        "iteration": 185,
                        "remaining_time": 327.4341325,
                        "learn": [
                          0.9485402703,
                          0.2975778441
                        ]
                      },
                      {
                        "test": [
                          0.959004581,
                          0.2685053846
                        ],
                        "passed_time": 75.239196,
                        "iteration": 186,
                        "remaining_time": 327.1094457,
                        "learn": [
                          0.9488282204,
                          0.2965104546
                        ]
                      },
                      {
                        "test": [
                          0.9590280056,
                          0.2683747068
                        ],
                        "passed_time": 75.62569913,
                        "iteration": 187,
                        "remaining_time": 326.6386579,
                        "learn": [
                          0.9488819838,
                          0.296319339
                        ]
                      },
                      {
                        "test": [
                          0.9590528011,
                          0.2682917099
                        ],
                        "passed_time": 75.97423842,
                        "iteration": 188,
                        "remaining_time": 326.005859,
                        "learn": [
                          0.9489374161,
                          0.2961884507
                        ]
                      },
                      {
                        "test": [
                          0.9590607285,
                          0.2682411736
                        ],
                        "passed_time": 76.3882489,
                        "iteration": 189,
                        "remaining_time": 325.6551664,
                        "learn": [
                          0.9489854574,
                          0.2960699148
                        ]
                      },
                      {
                        "test": [
                          0.9590912461,
                          0.2680944944
                        ],
                        "passed_time": 76.80533987,
                        "iteration": 190,
                        "remaining_time": 325.3168584,
                        "learn": [
                          0.9490632415,
                          0.2958270871
                        ]
                      },
                      {
                        "test": [
                          0.9591096044,
                          0.2679923174
                        ],
                        "passed_time": 77.15050804,
                        "iteration": 191,
                        "remaining_time": 324.6750547,
                        "learn": [
                          0.9491101503,
                          0.2956796253
                        ]
                      },
                      {
                        "test": [
                          0.959143579,
                          0.2678847796
                        ],
                        "passed_time": 77.57273558,
                        "iteration": 192,
                        "remaining_time": 324.3585368,
                        "learn": [
                          0.9491827488,
                          0.2955088473
                        ]
                      },
                      {
                        "test": [
                          0.9591977,
                          0.2677690796
                        ],
                        "passed_time": 77.9939518,
                        "iteration": 193,
                        "remaining_time": 324.0367276,
                        "learn": [
                          0.9492804408,
                          0.2953228847
                        ]
                      },
                      {
                        "test": [
                          0.9592119455,
                          0.2677187857
                        ],
                        "passed_time": 78.34170556,
                        "iteration": 194,
                        "remaining_time": 323.4106306,
                        "learn": [
                          0.9493226409,
                          0.2952338777
                        ]
                      },
                      {
                        "test": [
                          0.9592365026,
                          0.2676036244
                        ],
                        "passed_time": 78.73612894,
                        "iteration": 195,
                        "remaining_time": 322.9788146,
                        "learn": [
                          0.9493669868,
                          0.2950828344
                        ]
                      },
                      {
                        "test": [
                          0.9592573047,
                          0.2674755058
                        ],
                        "passed_time": 79.11524893,
                        "iteration": 196,
                        "remaining_time": 322.4849994,
                        "learn": [
                          0.9494208694,
                          0.2949084019
                        ]
                      },
                      {
                        "test": [
                          0.959302485,
                          0.2672926754
                        ],
                        "passed_time": 79.53484569,
                        "iteration": 197,
                        "remaining_time": 322.1562942,
                        "learn": [
                          0.9494830966,
                          0.2946969669
                        ]
                      },
                      {
                        "test": [
                          0.9593599141,
                          0.2671130507
                        ],
                        "passed_time": 79.87796491,
                        "iteration": 198,
                        "remaining_time": 321.5188437,
                        "learn": [
                          0.9495313168,
                          0.2945330596
                        ]
                      },
                      {
                        "test": [
                          0.9593841434,
                          0.2669947646
                        ],
                        "passed_time": 80.23295977,
                        "iteration": 199,
                        "remaining_time": 320.9318391,
                        "learn": [
                          0.9495722055,
                          0.2943994669
                        ]
                      },
                      {
                        "test": [
                          0.959446311,
                          0.2668281242
                        ],
                        "passed_time": 80.65569455,
                        "iteration": 200,
                        "remaining_time": 320.6164177,
                        "learn": [
                          0.9496870637,
                          0.2941527836
                        ]
                      },
                      {
                        "test": [
                          0.9596492648,
                          0.2661470158
                        ],
                        "passed_time": 81.01238083,
                        "iteration": 201,
                        "remaining_time": 320.0390094,
                        "learn": [
                          0.9498605728,
                          0.2936251737
                        ]
                      },
                      {
                        "test": [
                          0.9596779943,
                          0.2659755534
                        ],
                        "passed_time": 81.39716617,
                        "iteration": 202,
                        "remaining_time": 319.5740958,
                        "learn": [
                          0.9499065876,
                          0.2934338205
                        ]
                      },
                      {
                        "test": [
                          0.9597083926,
                          0.2659047325
                        ],
                        "passed_time": 81.81772319,
                        "iteration": 203,
                        "remaining_time": 319.2495474,
                        "learn": [
                          0.9499554038,
                          0.2933281304
                        ]
                      },
                      {
                        "test": [
                          0.9597443342,
                          0.2657500527
                        ],
                        "passed_time": 82.25460439,
                        "iteration": 204,
                        "remaining_time": 318.9873682,
                        "learn": [
                          0.9500306249,
                          0.2930958644
                        ]
                      },
                      {
                        "test": [
                          0.9597584009,
                          0.2657006209
                        ],
                        "passed_time": 82.66135188,
                        "iteration": 205,
                        "remaining_time": 318.6073466,
                        "learn": [
                          0.9500887394,
                          0.2929677536
                        ]
                      },
                      {
                        "test": [
                          0.9597831964,
                          0.2656063637
                        ],
                        "passed_time": 82.97483557,
                        "iteration": 206,
                        "remaining_time": 317.8697807,
                        "learn": [
                          0.9501268864,
                          0.2928580252
                        ]
                      },
                      {
                        "test": [
                          0.9597687721,
                          0.2656017034
                        ],
                        "passed_time": 83.34970203,
                        "iteration": 207,
                        "remaining_time": 317.3700193,
                        "learn": [
                          0.9501633644,
                          0.2927642307
                        ]
                      },
                      {
                        "test": [
                          0.9598029256,
                          0.2655188142
                        ],
                        "passed_time": 83.6263256,
                        "iteration": 208,
                        "remaining_time": 316.4996342,
                        "learn": [
                          0.9502334595,
                          0.292624279
                        ]
                      },
                      {
                        "test": [
                          0.9598328471,
                          0.2654429559
                        ],
                        "passed_time": 83.96820774,
                        "iteration": 209,
                        "remaining_time": 315.8804005,
                        "learn": [
                          0.9502708316,
                          0.292533865
                        ]
                      },
                      {
                        "test": [
                          0.960064441,
                          0.2646827297
                        ],
                        "passed_time": 84.42166948,
                        "iteration": 210,
                        "remaining_time": 315.6810295,
                        "learn": [
                          0.950484395,
                          0.2919339313
                        ]
                      },
                      {
                        "test": [
                          0.9600983262,
                          0.2645487654
                        ],
                        "passed_time": 84.78476061,
                        "iteration": 211,
                        "remaining_time": 315.1433555,
                        "learn": [
                          0.9505426288,
                          0.2917594074
                        ]
                      },
                      {
                        "test": [
                          0.9601868987,
                          0.2641048489
                        ],
                        "passed_time": 85.13258697,
                        "iteration": 212,
                        "remaining_time": 314.5509199,
                        "learn": [
                          0.9506415129,
                          0.291362229
                        ]
                      },
                      {
                        "test": [
                          0.9601994157,
                          0.2640492751
                        ],
                        "passed_time": 85.53519388,
                        "iteration": 213,
                        "remaining_time": 314.1619738,
                        "learn": [
                          0.9506703615,
                          0.2912813352
                        ]
                      },
                      {
                        "test": [
                          0.960238874,
                          0.2638914974
                        ],
                        "passed_time": 85.8597571,
                        "iteration": 214,
                        "remaining_time": 313.4879503,
                        "learn": [
                          0.950745225,
                          0.2910848656
                        ]
                      },
                      {
                        "test": [
                          0.9602871537,
                          0.263706081
                        ],
                        "passed_time": 86.12673238,
                        "iteration": 215,
                        "remaining_time": 312.6081397,
                        "learn": [
                          0.9508212805,
                          0.2908853445
                        ]
                      },
                      {
                        "test": [
                          0.9603403211,
                          0.2634899279
                        ],
                        "passed_time": 86.47251648,
                        "iteration": 216,
                        "remaining_time": 312.0183429,
                        "learn": [
                          0.9509108663,
                          0.290612257
                        ]
                      },
                      {
                        "test": [
                          0.9603909254,
                          0.263359304
                        ],
                        "passed_time": 86.8190278,
                        "iteration": 217,
                        "remaining_time": 311.4333933,
                        "learn": [
                          0.95097965,
                          0.290453667
                        ]
                      },
                      {
                        "test": [
                          0.9604105949,
                          0.2632912578
                        ],
                        "passed_time": 87.24007518,
                        "iteration": 218,
                        "remaining_time": 311.1164325,
                        "learn": [
                          0.9510483742,
                          0.29030425
                        ]
                      },
                      {
                        "test": [
                          0.9604443312,
                          0.2631718672
                        ],
                        "passed_time": 87.62304989,
                        "iteration": 219,
                        "remaining_time": 310.6635405,
                        "learn": [
                          0.9510902166,
                          0.2901566969
                        ]
                      },
                      {
                        "test": [
                          0.9604703188,
                          0.2630949583
                        ],
                        "passed_time": 88.02841271,
                        "iteration": 220,
                        "remaining_time": 310.2901968,
                        "learn": [
                          0.9511381984,
                          0.2900394766
                        ]
                      },
                      {
                        "test": [
                          0.960485816,
                          0.2630515876
                        ],
                        "passed_time": 88.44698841,
                        "iteration": 221,
                        "remaining_time": 309.9628693,
                        "learn": [
                          0.951169312,
                          0.289976143
                        ]
                      },
                      {
                        "test": [
                          0.9606130719,
                          0.2627167444
                        ],
                        "passed_time": 88.88356141,
                        "iteration": 222,
                        "remaining_time": 309.6974315,
                        "learn": [
                          0.9512708187,
                          0.2896899904
                        ]
                      },
                      {
                        "test": [
                          0.9606099129,
                          0.2627010393
                        ],
                        "passed_time": 89.28414426,
                        "iteration": 223,
                        "remaining_time": 309.3057855,
                        "learn": [
                          0.9512989521,
                          0.2896198592
                        ]
                      },
                      {
                        "test": [
                          0.9606494009,
                          0.2625866053
                        ],
                        "passed_time": 89.58144717,
                        "iteration": 224,
                        "remaining_time": 308.558318,
                        "learn": [
                          0.9513472915,
                          0.2894876187
                        ]
                      },
                      {
                        "test": [
                          0.9606770873,
                          0.2624533954
                        ],
                        "passed_time": 89.99025284,
                        "iteration": 225,
                        "remaining_time": 308.1967066,
                        "learn": [
                          0.9513889551,
                          0.289305603
                        ]
                      },
                      {
                        "test": [
                          0.96074,
                          0.2622521661
                        ],
                        "passed_time": 90.36822018,
                        "iteration": 226,
                        "remaining_time": 307.7296661,
                        "learn": [
                          0.9514770508,
                          0.2890640543
                        ]
                      },
                      {
                        "test": [
                          0.960770905,
                          0.2621553229
                        ],
                        "passed_time": 90.78137602,
                        "iteration": 227,
                        "remaining_time": 307.3825539,
                        "learn": [
                          0.9515402317,
                          0.288906378
                        ]
                      },
                      {
                        "test": [
                          0.9607715011,
                          0.2621141881
                        ],
                        "passed_time": 91.18288472,
                        "iteration": 228,
                        "remaining_time": 306.9956512,
                        "learn": [
                          0.9515964985,
                          0.2887701906
                        ]
                      },
                      {
                        "test": [
                          0.9607781172,
                          0.2620957353
                        ],
                        "passed_time": 91.59778441,
                        "iteration": 229,
                        "remaining_time": 306.6534522,
                        "learn": [
                          0.9516640306,
                          0.2886639706
                        ]
                      },
                      {
                        "test": [
                          0.9607750773,
                          0.262076663
                        ],
                        "passed_time": 91.99852897,
                        "iteration": 230,
                        "remaining_time": 306.2635012,
                        "learn": [
                          0.9516909122,
                          0.2885812677
                        ]
                      },
                      {
                        "test": [
                          0.9608094692,
                          0.2619796581
                        ],
                        "passed_time": 92.36432619,
                        "iteration": 231,
                        "remaining_time": 305.7577695,
                        "learn": [
                          0.9517661929,
                          0.2884144002
                        ]
                      },
                      {
                        "test": [
                          0.9608196616,
                          0.2619223873
                        ],
                        "passed_time": 92.78662187,
                        "iteration": 232,
                        "remaining_time": 305.4392231,
                        "learn": [
                          0.9517992735,
                          0.2883043246
                        ]
                      },
                      {
                        "test": [
                          0.960858047,
                          0.2617743073
                        ],
                        "passed_time": 93.17113504,
                        "iteration": 233,
                        "remaining_time": 304.9961087,
                        "learn": [
                          0.9518428445,
                          0.2881434688
                        ]
                      },
                      {
                        "test": [
                          0.9608795047,
                          0.2616894786
                        ],
                        "passed_time": 93.5753345,
                        "iteration": 234,
                        "remaining_time": 304.6175783,
                        "learn": [
                          0.9519017935,
                          0.2880090721
                        ]
                      },
                      {
                        "test": [
                          0.96088624,
                          0.2616228601
                        ],
                        "passed_time": 93.93261515,
                        "iteration": 235,
                        "remaining_time": 304.0869406,
                        "learn": [
                          0.9519210458,
                          0.287903583
                        ]
                      },
                      {
                        "test": [
                          0.9609104991,
                          0.2615655893
                        ],
                        "passed_time": 94.31715871,
                        "iteration": 236,
                        "remaining_time": 303.6455363,
                        "learn": [
                          0.951939404,
                          0.2878496416
                        ]
                      },
                      {
                        "test": [
                          0.9609568715,
                          0.2614274765
                        ],
                        "passed_time": 94.74767961,
                        "iteration": 237,
                        "remaining_time": 303.3518145,
                        "learn": [
                          0.9520128965,
                          0.2876599878
                        ]
                      },
                      {
                        "test": [
                          0.9611093402,
                          0.2609329159
                        ],
                        "passed_time": 95.06094706,
                        "iteration": 238,
                        "remaining_time": 302.6836013,
                        "learn": [
                          0.9522002935,
                          0.2871802345
                        ]
                      },
                      {
                        "test": [
                          0.9611161351,
                          0.2608773153
                        ],
                        "passed_time": 95.49583772,
                        "iteration": 239,
                        "remaining_time": 302.4034861,
                        "learn": [
                          0.9522668123,
                          0.2870293557
                        ]
                      },
                      {
                        "test": [
                          0.9611581564,
                          0.2607736027
                        ],
                        "passed_time": 95.87171491,
                        "iteration": 240,
                        "remaining_time": 301.9362308,
                        "learn": [
                          0.9523146749,
                          0.2869017199
                        ]
                      },
                      {
                        "test": [
                          0.9611671567,
                          0.2607106479
                        ],
                        "passed_time": 96.27669197,
                        "iteration": 241,
                        "remaining_time": 301.5608782,
                        "learn": [
                          0.9523602128,
                          0.2867665923
                        ]
                      },
                      {
                        "test": [
                          0.9611920118,
                          0.2606626707
                        ],
                        "passed_time": 96.62307293,
                        "iteration": 242,
                        "remaining_time": 301.0027416,
                        "learn": [
                          0.9523950815,
                          0.2867057986
                        ]
                      },
                      {
                        "test": [
                          0.9612362981,
                          0.2605239923
                        ],
                        "passed_time": 97.03202538,
                        "iteration": 243,
                        "remaining_time": 300.6402098,
                        "learn": [
                          0.9524632096,
                          0.2865031345
                        ]
                      },
                      {
                        "test": [
                          0.9612675309,
                          0.2604382476
                        ],
                        "passed_time": 97.4024828,
                        "iteration": 244,
                        "remaining_time": 300.1586715,
                        "learn": [
                          0.9524970651,
                          0.286411679
                        ]
                      },
                      {
                        "test": [
                          0.9612772465,
                          0.2604152962
                        ],
                        "passed_time": 97.771309,
                        "iteration": 245,
                        "remaining_time": 299.6730365,
                        "learn": [
                          0.9525370598,
                          0.2863344031
                        ]
                      },
                      {
                        "test": [
                          0.9612793922,
                          0.2603985405
                        ],
                        "passed_time": 98.11475766,
                        "iteration": 246,
                        "remaining_time": 299.1109819,
                        "learn": [
                          0.9525638223,
                          0.2862790547
                        ]
                      },
                      {
                        "test": [
                          0.9612850249,
                          0.260320177
                        ],
                        "passed_time": 98.5276379,
                        "iteration": 247,
                        "remaining_time": 298.7612246,
                        "learn": [
                          0.9525995255,
                          0.2861573942
                        ]
                      },
                      {
                        "test": [
                          0.9612987638,
                          0.2602545014
                        ],
                        "passed_time": 98.92847206,
                        "iteration": 248,
                        "remaining_time": 298.3746286,
                        "learn": [
                          0.9526503682,
                          0.2860425311
                        ]
                      },
                      {
                        "test": [
                          0.9613214135,
                          0.2601764611
                        ],
                        "passed_time": 99.344683,
                        "iteration": 249,
                        "remaining_time": 298.034049,
                        "learn": [
                          0.9526982307,
                          0.2859218756
                        ]
                      },
                      {
                        "test": [
                          0.9613209963,
                          0.2600950804
                        ],
                        "passed_time": 99.70771193,
                        "iteration": 250,
                        "remaining_time": 297.5341683,
                        "learn": [
                          0.9527379274,
                          0.2857614401
                        ]
                      },
                      {
                        "test": [
                          0.9614687562,
                          0.2596150127
                        ],
                        "passed_time": 100.0315549,
                        "iteration": 251,
                        "remaining_time": 296.9190597,
                        "learn": [
                          0.952871263,
                          0.285377071
                        ]
                      },
                      {
                        "test": [
                          0.96151793,
                          0.2594578545
                        ],
                        "passed_time": 100.4328769,
                        "iteration": 252,
                        "remaining_time": 296.5350159,
                        "learn": [
                          0.9529228806,
                          0.2852292802
                        ]
                      },
                      {
                        "test": [
                          0.9615439773,
                          0.2593465723
                        ],
                        "passed_time": 100.7616793,
                        "iteration": 253,
                        "remaining_time": 295.9378455,
                        "learn": [
                          0.9529768825,
                          0.2850886525
                        ]
                      },
                      {
                        "test": [
                          0.9615842104,
                          0.2592373913
                        ],
                        "passed_time": 101.1138216,
                        "iteration": 254,
                        "remaining_time": 295.4109691,
                        "learn": [
                          0.9530368447,
                          0.2849420495
                        ]
                      },
                      {
                        "test": [
                          0.9616726637,
                          0.2589704057
                        ],
                        "passed_time": 101.549171,
                        "iteration": 255,
                        "remaining_time": 295.1272781,
                        "learn": [
                          0.953139782,
                          0.2846469615
                        ]
                      },
                      {
                        "test": [
                          0.9617374539,
                          0.2588120892
                        ],
                        "passed_time": 101.9710399,
                        "iteration": 256,
                        "remaining_time": 294.8034344,
                        "learn": [
                          0.9532130957,
                          0.2844790341
                        ]
                      },
                      {
                        "test": [
                          0.9617404938,
                          0.258750589
                        ],
                        "passed_time": 102.3728496,
                        "iteration": 257,
                        "remaining_time": 294.421141,
                        "learn": [
                          0.9532445073,
                          0.2843605896
                        ]
                      },
                      {
                        "test": [
                          0.9621237516,
                          0.2572004236
                        ],
                        "passed_time": 102.6897975,
                        "iteration": 258,
                        "remaining_time": 293.795907,
                        "learn": [
                          0.9535635114,
                          0.2831364922
                        ]
                      },
                      {
                        "test": [
                          0.9621407986,
                          0.2571421021
                        ],
                        "passed_time": 103.0893442,
                        "iteration": 259,
                        "remaining_time": 293.4081336,
                        "learn": [
                          0.9536007047,
                          0.2830505003
                        ]
                      },
                      {
                        "test": [
                          0.9621447921,
                          0.2571196086
                        ],
                        "passed_time": 103.443908,
                        "iteration": 260,
                        "remaining_time": 292.8929041,
                        "learn": [
                          0.9536240697,
                          0.2829899806
                        ]
                      },
                      {
                        "test": [
                          0.9621628523,
                          0.2570695303
                        ],
                        "passed_time": 103.8013659,
                        "iteration": 261,
                        "remaining_time": 292.3870536,
                        "learn": [
                          0.9536647201,
                          0.2828973556
                        ]
                      },
                      {
                        "test": [
                          0.962179929,
                          0.257022496
                        ],
                        "passed_time": 104.2276248,
                        "iteration": 262,
                        "remaining_time": 292.0751311,
                        "learn": [
                          0.9536984563,
                          0.2828208107
                        ]
                      },
                      {
                        "test": [
                          0.9621940255,
                          0.256951729
                        ],
                        "passed_time": 104.6259903,
                        "iteration": 263,
                        "remaining_time": 291.684579,
                        "learn": [
                          0.9537174106,
                          0.2827447409
                        ]
                      },
                      {
                        "test": [
                          0.9622256756,
                          0.256875763
                        ],
                        "passed_time": 104.9720062,
                        "iteration": 264,
                        "remaining_time": 291.148772,
                        "learn": [
                          0.953792274,
                          0.2825979735
                        ]
                      },
                      {
                        "test": [
                          0.9622706771,
                          0.2567036002
                        ],
                        "passed_time": 105.4011201,
                        "iteration": 265,
                        "remaining_time": 290.8436924,
                        "learn": [
                          0.9538595676,
                          0.2823980138
                        ]
                      },
                      {
                        "test": [
                          0.9622848034,
                          0.256589274
                        ],
                        "passed_time": 105.7019331,
                        "iteration": 266,
                        "remaining_time": 290.1854567,
                        "learn": [
                          0.9538924694,
                          0.282249547
                        ]
                      },
                      {
                        "test": [
                          0.9622974992,
                          0.2565416201
                        ],
                        "passed_time": 106.0986109,
                        "iteration": 267,
                        "remaining_time": 289.7917284,
                        "learn": [
                          0.9539293647,
                          0.2821541445
                        ]
                      },
                      {
                        "test": [
                          0.962340951,
                          0.2564082485
                        ],
                        "passed_time": 106.3854188,
                        "iteration": 268,
                        "remaining_time": 289.0994095,
                        "learn": [
                          0.9539877772,
                          0.2820126031
                        ]
                      },
                      {
                        "test": [
                          0.9625839591,
                          0.2554730579
                        ],
                        "passed_time": 106.7738443,
                        "iteration": 269,
                        "remaining_time": 288.6848383,
                        "learn": [
                          0.9541527629,
                          0.2813654889
                        ]
                      },
                      {
                        "test": [
                          0.962602675,
                          0.2554074631
                        ],
                        "passed_time": 107.1641049,
                        "iteration": 270,
                        "remaining_time": 288.2753966,
                        "learn": [
                          0.9542046785,
                          0.2812411788
                        ]
                      },
                      {
                        "test": [
                          0.9626101255,
                          0.2553770497
                        ],
                        "passed_time": 107.5092409,
                        "iteration": 271,
                        "remaining_time": 287.7453211,
                        "learn": [
                          0.9542253613,
                          0.2811906178
                        ]
                      },
                      {
                        "test": [
                          0.9626229405,
                          0.255330177
                        ],
                        "passed_time": 107.8965196,
                        "iteration": 272,
                        "remaining_time": 287.3288269,
                        "learn": [
                          0.9542911649,
                          0.2810383868
                        ]
                      },
                      {
                        "test": [
                          0.9626476169,
                          0.2552438397
                        ],
                        "passed_time": 108.2308892,
                        "iteration": 273,
                        "remaining_time": 286.772356,
                        "learn": [
                          0.9543290734,
                          0.2809338479
                        ]
                      },
                      {
                        "test": [
                          0.9626588821,
                          0.2552303167
                        ],
                        "passed_time": 108.6246229,
                        "iteration": 274,
                        "remaining_time": 286.3740057,
                        "learn": [
                          0.9543600678,
                          0.280896078
                        ]
                      },
                      {
                        "test": [
                          0.9626831412,
                          0.2551250956
                        ],
                        "passed_time": 109.0519327,
                        "iteration": 275,
                        "remaining_time": 286.0637654,
                        "learn": [
                          0.9543916583,
                          0.2807650618
                        ]
                      },
                      {
                        "test": [
                          0.9626994431,
                          0.2550931737
                        ],
                        "passed_time": 109.4056051,
                        "iteration": 276,
                        "remaining_time": 285.5604784,
                        "learn": [
                          0.9544146061,
                          0.2807297586
                        ]
                      },
                      {
                        "test": [
                          0.9627197683,
                          0.2549656477
                        ],
                        "passed_time": 109.7416439,
                        "iteration": 277,
                        "remaining_time": 285.0124708,
                        "learn": [
                          0.9544505477,
                          0.2805638595
                        ]
                      },
                      {
                        "test": [
                          0.9627606869,
                          0.2548483313
                        ],
                        "passed_time": 110.1658521,
                        "iteration": 278,
                        "remaining_time": 284.6938327,
                        "learn": [
                          0.954511106,
                          0.2804123595
                        ]
                      },
                      {
                        "test": [
                          0.9627714157,
                          0.2547775105
                        ],
                        "passed_time": 110.5656451,
                        "iteration": 279,
                        "remaining_time": 284.3116589,
                        "learn": [
                          0.9545497894,
                          0.280290169
                        ]
                      },
                      {
                        "test": [
                          0.962769568,
                          0.2547518114
                        ],
                        "passed_time": 110.9185844,
                        "iteration": 280,
                        "remaining_time": 283.8094739,
                        "learn": [
                          0.9545699358,
                          0.280218576
                        ]
                      },
                      {
                        "test": [
                          0.9627991319,
                          0.2546728821
                        ],
                        "passed_time": 111.3000572,
                        "iteration": 281,
                        "remaining_time": 283.3809968,
                        "learn": [
                          0.9546102881,
                          0.2801257317
                        ]
                      },
                      {
                        "test": [
                          0.9628177881,
                          0.2546045665
                        ],
                        "passed_time": 111.7138573,
                        "iteration": 282,
                        "remaining_time": 283.034755,
                        "learn": [
                          0.9546455741,
                          0.2800244089
                        ]
                      },
                      {
                        "test": [
                          0.962862134,
                          0.2544962745
                        ],
                        "passed_time": 112.099125,
                        "iteration": 283,
                        "remaining_time": 282.6161038,
                        "learn": [
                          0.9547097087,
                          0.2798652159
                        ]
                      },
                      {
                        "test": [
                          0.9628786445,
                          0.2544478933
                        ],
                        "passed_time": 112.494728,
                        "iteration": 284,
                        "remaining_time": 282.2236158,
                        "learn": [
                          0.954741478,
                          0.2797933488
                        ]
                      },
                      {
                        "test": [
                          0.9629012942,
                          0.2543732741
                        ],
                        "passed_time": 112.9421988,
                        "iteration": 285,
                        "remaining_time": 281.9605941,
                        "learn": [
                          0.9547860622,
                          0.2796862883
                        ]
                      },
                      {
                        "test": [
                          0.9629110098,
                          0.2543295263
                        ],
                        "passed_time": 113.2944882,
                        "iteration": 286,
                        "remaining_time": 281.4598261,
                        "learn": [
                          0.954826355,
                          0.2795896067
                        ]
                      },
                      {
                        "test": [
                          0.9629092813,
                          0.2543013488
                        ],
                        "passed_time": 113.6918888,
                        "iteration": 287,
                        "remaining_time": 281.0716141,
                        "learn": [
                          0.954843998,
                          0.2795311702
                        ]
                      },
                      {
                        "test": [
                          0.9629366398,
                          0.2541986869
                        ],
                        "passed_time": 114.1050789,
                        "iteration": 288,
                        "remaining_time": 280.7221838,
                        "learn": [
                          0.9548856616,
                          0.279404576
                        ]
                      },
                      {
                        "test": [
                          0.9629376531,
                          0.2541442715
                        ],
                        "passed_time": 114.5420225,
                        "iteration": 289,
                        "remaining_time": 280.4304689,
                        "learn": [
                          0.9549620152,
                          0.2792164206
                        ]
                      },
                      {
                        "test": [
                          0.9629314542,
                          0.2541443523
                        ],
                        "passed_time": 114.9375516,
                        "iteration": 290,
                        "remaining_time": 280.0368524,
                        "learn": [
                          0.9549778104,
                          0.279181355
                        ]
                      },
                      {
                        "test": [
                          0.9629530907,
                          0.2540644263
                        ],
                        "passed_time": 115.3215498,
                        "iteration": 291,
                        "remaining_time": 279.6152646,
                        "learn": [
                          0.9550184011,
                          0.2790721017
                        ]
                      },
                      {
                        "test": [
                          0.9629645646,
                          0.2540382423
                        ],
                        "passed_time": 115.718922,
                        "iteration": 292,
                        "remaining_time": 279.2262043,
                        "learn": [
                          0.9550389051,
                          0.2790365245
                        ]
                      },
                      {
                        "test": [
                          0.9629647136,
                          0.2540269012
                        ],
                        "passed_time": 116.0668956,
                        "iteration": 293,
                        "remaining_time": 278.7184635,
                        "learn": [
                          0.9550685883,
                          0.278961752
                        ]
                      },
                      {
                        "test": [
                          0.9629806876,
                          0.2539992895
                        ],
                        "passed_time": 116.4188353,
                        "iteration": 294,
                        "remaining_time": 278.2212845,
                        "learn": [
                          0.9551098943,
                          0.2788805293
                        ]
                      },
                      {
                        "test": [
                          0.9629895091,
                          0.2539634615
                        ],
                        "passed_time": 116.8262957,
                        "iteration": 295,
                        "remaining_time": 277.8571357,
                        "learn": [
                          0.9551456571,
                          0.2788125543
                        ]
                      },
                      {
                        "test": [
                          0.9629946947,
                          0.2539254785
                        ],
                        "passed_time": 117.2589604,
                        "iteration": 296,
                        "remaining_time": 277.5523541,
                        "learn": [
                          0.9551776648,
                          0.2787289926
                        ]
                      },
                      {
                        "test": [
                          0.9630122185,
                          0.2538479231
                        ],
                        "passed_time": 117.649183,
                        "iteration": 297,
                        "remaining_time": 277.1467332,
                        "learn": [
                          0.9552090764,
                          0.2786377929
                        ]
                      },
                      {
                        "test": [
                          0.9630173445,
                          0.2538259145
                        ],
                        "passed_time": 117.9998893,
                        "iteration": 298,
                        "remaining_time": 276.6485698,
                        "learn": [
                          0.9552386403,
                          0.2785754277
                        ]
                      },
                      {
                        "test": [
                          0.9630334377,
                          0.2537844295
                        ],
                        "passed_time": 118.3864785,
                        "iteration": 299,
                        "remaining_time": 276.2351166,
                        "learn": [
                          0.9552821517,
                          0.278479477
                        ]
                      },
                      {
                        "test": [
                          0.96306777,
                          0.2536775921
                        ],
                        "passed_time": 118.8151997,
                        "iteration": 300,
                        "remaining_time": 275.9196831,
                        "learn": [
                          0.9553370476,
                          0.2783335136
                        ]
                      },
                      {
                        "test": [
                          0.9630698562,
                          0.2536520815
                        ],
                        "passed_time": 119.2089324,
                        "iteration": 301,
                        "remaining_time": 275.5226317,
                        "learn": [
                          0.9553526044,
                          0.2782710388
                        ]
                      },
                      {
                        "test": [
                          0.9630882144,
                          0.2535659328
                        ],
                        "passed_time": 119.6059772,
                        "iteration": 302,
                        "remaining_time": 275.1332214,
                        "learn": [
                          0.9553925991,
                          0.2781298446
                        ]
                      },
                      {
                        "test": [
                          0.9631367326,
                          0.2534526302
                        ],
                        "passed_time": 120.0429764,
                        "iteration": 303,
                        "remaining_time": 274.8352355,
                        "learn": [
                          0.9554767013,
                          0.2779403918
                        ]
                      },
                      {
                        "test": [
                          0.9631538987,
                          0.2533883015
                        ],
                        "passed_time": 120.4360308,
                        "iteration": 304,
                        "remaining_time": 274.4362013,
                        "learn": [
                          0.9555363059,
                          0.2778015183
                        ]
                      },
                      {
                        "test": [
                          0.9632692337,
                          0.2529696801
                        ],
                        "passed_time": 120.8263595,
                        "iteration": 305,
                        "remaining_time": 274.0310245,
                        "learn": [
                          0.955680728,
                          0.2773651629
                        ]
                      },
                      {
                        "test": [
                          0.9632730484,
                          0.2529475098
                        ],
                        "passed_time": 121.2426253,
                        "iteration": 306,
                        "remaining_time": 273.684493,
                        "learn": [
                          0.9557174444,
                          0.2772768686
                        ]
                      },
                      {
                        "test": [
                          0.9632926583,
                          0.2529106582
                        ],
                        "passed_time": 121.6250939,
                        "iteration": 307,
                        "remaining_time": 273.2615747,
                        "learn": [
                          0.9557433724,
                          0.2772299987
                        ]
                      },
                      {
                        "test": [
                          0.9632951021,
                          0.2528939834
                        ],
                        "passed_time": 121.971108,
                        "iteration": 308,
                        "remaining_time": 272.7573968,
                        "learn": [
                          0.955768168,
                          0.2771627364
                        ]
                      },
                      {
                        "test": [
                          0.9632896781,
                          0.2528931483
                        ],
                        "passed_time": 122.4005652,
                        "iteration": 309,
                        "remaining_time": 272.4399677,
                        "learn": [
                          0.9557927847,
                          0.2771066388
                        ]
                      },
                      {
                        "test": [
                          0.9633003473,
                          0.2528487809
                        ],
                        "passed_time": 122.7355311,
                        "iteration": 310,
                        "remaining_time": 271.9124789,
                        "learn": [
                          0.9558053613,
                          0.2770455344
                        ]
                      },
                      {
                        "test": [
                          0.9633324146,
                          0.2526344596
                        ],
                        "passed_time": 123.1069467,
                        "iteration": 311,
                        "remaining_time": 271.4666004,
                        "learn": [
                          0.9558383226,
                          0.2768317423
                        ]
                      },
                      {
                        "test": [
                          0.9633419514,
                          0.2525647702
                        ],
                        "passed_time": 123.5124066,
                        "iteration": 312,
                        "remaining_time": 271.0959212,
                        "learn": [
                          0.9558749795,
                          0.276707286
                        ]
                      },
                      {
                        "test": [
                          0.9633427858,
                          0.2525242011
                        ],
                        "passed_time": 123.950893,
                        "iteration": 313,
                        "remaining_time": 270.7971738,
                        "learn": [
                          0.9558968544,
                          0.2766254785
                        ]
                      },
                      {
                        "test": [
                          0.9633806348,
                          0.2524142928
                        ],
                        "passed_time": 124.4053455,
                        "iteration": 314,
                        "remaining_time": 270.5322594,
                        "learn": [
                          0.955962956,
                          0.2764542072
                        ]
                      },
                      {
                        "test": [
                          0.9633646011,
                          0.2524117336
                        ],
                        "passed_time": 124.7927921,
                        "iteration": 315,
                        "remaining_time": 270.1211069,
                        "learn": [
                          0.9560101032,
                          0.2763288372
                        ]
                      },
                      {
                        "test": [
                          0.9633746147,
                          0.2523798926
                        ],
                        "passed_time": 125.1974054,
                        "iteration": 316,
                        "remaining_time": 269.7470912,
                        "learn": [
                          0.9560332894,
                          0.2762691033
                        ]
                      },
                      {
                        "test": [
                          0.963388443,
                          0.2522991045
                        ],
                        "passed_time": 125.6286309,
                        "iteration": 317,
                        "remaining_time": 269.4299569,
                        "learn": [
                          0.9560703039,
                          0.2761301932
                        ]
                      },
                      {
                        "test": [
                          0.9633944035,
                          0.2522583199
                        ],
                        "passed_time": 126.0461418,
                        "iteration": 318,
                        "remaining_time": 269.0828293,
                        "learn": [
                          0.9561046958,
                          0.2760309717
                        ]
                      },
                      {
                        "test": [
                          0.9634122252,
                          0.2521650325
                        ],
                        "passed_time": 126.4492973,
                        "iteration": 319,
                        "remaining_time": 268.7047567,
                        "learn": [
                          0.9561489224,
                          0.2759135139
                        ]
                      },
                      {
                        "test": [
                          0.9635457993,
                          0.251657353
                        ],
                        "passed_time": 126.8076199,
                        "iteration": 320,
                        "remaining_time": 268.2316945,
                        "learn": [
                          0.9562705159,
                          0.2754596532
                        ]
                      },
                      {
                        "test": [
                          0.9635633826,
                          0.2515594592
                        ],
                        "passed_time": 127.2541451,
                        "iteration": 321,
                        "remaining_time": 267.9450634,
                        "learn": [
                          0.9563156962,
                          0.2753005333
                        ]
                      },
                      {
                        "test": [
                          0.9635888934,
                          0.2515050707
                        ],
                        "passed_time": 127.614112,
                        "iteration": 322,
                        "remaining_time": 267.4760181,
                        "learn": [
                          0.9563556314,
                          0.2752113071
                        ]
                      },
                      {
                        "test": [
                          0.9636007547,
                          0.2514798834
                        ],
                        "passed_time": 127.9786378,
                        "iteration": 323,
                        "remaining_time": 267.0171579,
                        "learn": [
                          0.9563878179,
                          0.2751543507
                        ]
                      },
                      {
                        "test": [
                          0.9636037946,
                          0.2514648249
                        ],
                        "passed_time": 128.3540361,
                        "iteration": 324,
                        "remaining_time": 266.5814595,
                        "learn": [
                          0.9563975334,
                          0.2751254248
                        ]
                      },
                      {
                        "test": [
                          0.9636285007,
                          0.2512996122
                        ],
                        "passed_time": 128.7062025,
                        "iteration": 325,
                        "remaining_time": 266.0980996,
                        "learn": [
                          0.9564382434,
                          0.2749494391
                        ]
                      },
                      {
                        "test": [
                          0.9637788534,
                          0.2507396723
                        ],
                        "passed_time": 129.1244466,
                        "iteration": 326,
                        "remaining_time": 265.7515369,
                        "learn": [
                          0.9566110373,
                          0.2744156712
                        ]
                      },
                      {
                        "test": [
                          0.9637770057,
                          0.2507089626
                        ],
                        "passed_time": 129.5379892,
                        "iteration": 327,
                        "remaining_time": 265.3949048,
                        "learn": [
                          0.9566317797,
                          0.2743378655
                        ]
                      },
                      {
                        "test": [
                          0.9639171362,
                          0.2500951461
                        ],
                        "passed_time": 129.9585146,
                        "iteration": 328,
                        "remaining_time": 265.052168,
                        "learn": [
                          0.9567673206,
                          0.2738244536
                        ]
                      },
                      {
                        "test": [
                          0.9639341235,
                          0.2500041754
                        ],
                        "passed_time": 130.3883273,
                        "iteration": 329,
                        "remaining_time": 264.7278161,
                        "learn": [
                          0.9568014145,
                          0.2737136288
                        ]
                      },
                      {
                        "test": [
                          0.9639403224,
                          0.2499807391
                        ],
                        "passed_time": 130.7299462,
                        "iteration": 330,
                        "remaining_time": 264.224574,
                        "learn": [
                          0.95683676,
                          0.2736471523
                        ]
                      },
                      {
                        "test": [
                          0.9640498161,
                          0.2496057847
                        ],
                        "passed_time": 131.0480707,
                        "iteration": 331,
                        "remaining_time": 263.6750338,
                        "learn": [
                          0.9569580555,
                          0.2732905944
                        ]
                      },
                      {
                        "test": [
                          0.9640883803,
                          0.2494903809
                        ],
                        "passed_time": 131.3487612,
                        "iteration": 332,
                        "remaining_time": 263.0919632,
                        "learn": [
                          0.957008183,
                          0.2731705967
                        ]
                      },
                      {
                        "test": [
                          0.9641426802,
                          0.2492829289
                        ],
                        "passed_time": 131.736921,
                        "iteration": 333,
                        "remaining_time": 262.6849981,
                        "learn": [
                          0.9570611119,
                          0.2729980097
                        ]
                      },
                      {
                        "test": [
                          0.9641582966,
                          0.2492281903
                        ],
                        "passed_time": 132.1746818,
                        "iteration": 334,
                        "remaining_time": 262.3766071,
                        "learn": [
                          0.9571217895,
                          0.2728623339
                        ]
                      },
                      {
                        "test": [
                          0.9641626477,
                          0.2491768189
                        ],
                        "passed_time": 132.5323858,
                        "iteration": 335,
                        "remaining_time": 261.9092387,
                        "learn": [
                          0.9571554065,
                          0.272753775
                        ]
                      },
                      {
                        "test": [
                          0.9641611576,
                          0.2491691415
                        ],
                        "passed_time": 132.7916034,
                        "iteration": 336,
                        "remaining_time": 261.2487627,
                        "learn": [
                          0.9571714997,
                          0.2727174851
                        ]
                      },
                      {
                        "test": [
                          0.9641805887,
                          0.2491135408
                        ],
                        "passed_time": 133.0845336,
                        "iteration": 337,
                        "remaining_time": 260.6566901,
                        "learn": [
                          0.9572004676,
                          0.2726478839
                        ]
                      },
                      {
                        "test": [
                          0.964194119,
                          0.2490765814
                        ],
                        "passed_time": 133.4544147,
                        "iteration": 338,
                        "remaining_time": 260.2164252,
                        "learn": [
                          0.9572262764,
                          0.2725884241
                        ]
                      },
                      {
                        "test": [
                          0.9642169476,
                          0.249012118
                        ],
                        "passed_time": 133.8459047,
                        "iteration": 339,
                        "remaining_time": 259.818521,
                        "learn": [
                          0.9572579861,
                          0.2725045152
                        ]
                      },
                      {
                        "test": [
                          0.964222908,
                          0.24895975
                        ],
                        "passed_time": 134.1751491,
                        "iteration": 340,
                        "remaining_time": 259.3003614,
                        "learn": [
                          0.9572764635,
                          0.2724339821
                        ]
                      },
                      {
                        "test": [
                          0.964224577,
                          0.2489381724
                        ],
                        "passed_time": 134.5760196,
                        "iteration": 341,
                        "remaining_time": 258.9211138,
                        "learn": [
                          0.9572950602,
                          0.2723801868
                        ]
                      },
                      {
                        "test": [
                          0.9642440677,
                          0.248888552
                        ],
                        "passed_time": 134.9534773,
                        "iteration": 342,
                        "remaining_time": 258.4968939,
                        "learn": [
                          0.9573278427,
                          0.2722974292
                        ]
                      },
                      {
                        "test": [
                          0.9642458558,
                          0.2488782885
                        ],
                        "passed_time": 135.2854925,
                        "iteration": 343,
                        "remaining_time": 257.9862879,
                        "learn": [
                          0.9573398829,
                          0.2722688504
                        ]
                      },
                      {
                        "test": [
                          0.9644168019,
                          0.2481936242
                        ],
                        "passed_time": 135.6736634,
                        "iteration": 344,
                        "remaining_time": 257.583332,
                        "learn": [
                          0.95746243,
                          0.2717718476
                        ]
                      },
                      {
                        "test": [
                          0.9644142985,
                          0.2481556143
                        ],
                        "passed_time": 136.0987285,
                        "iteration": 345,
                        "remaining_time": 257.2501977,
                        "learn": [
                          0.9574972987,
                          0.2716657737
                        ]
                      },
                      {
                        "test": [
                          0.9645743966,
                          0.2475950279
                        ],
                        "passed_time": 136.520827,
                        "iteration": 346,
                        "remaining_time": 256.910951,
                        "learn": [
                          0.9576467276,
                          0.2711969293
                        ]
                      },
                      {
                        "test": [
                          0.9645740986,
                          0.2475811277
                        ],
                        "passed_time": 136.8847761,
                        "iteration": 347,
                        "remaining_time": 256.4622816,
                        "learn": [
                          0.957675159,
                          0.2711246602
                        ]
                      },
                      {
                        "test": [
                          0.964797914,
                          0.24670011
                        ],
                        "passed_time": 137.2739551,
                        "iteration": 348,
                        "remaining_time": 256.0611597,
                        "learn": [
                          0.957803905,
                          0.2705895402
                        ]
                      },
                      {
                        "test": [
                          0.9648065567,
                          0.2466800949
                        ],
                        "passed_time": 137.660852,
                        "iteration": 349,
                        "remaining_time": 255.655868,
                        "learn": [
                          0.957824111,
                          0.2705437302
                        ]
                      },
                      {
                        "test": [
                          0.9648282528,
                          0.2466406302
                        ],
                        "passed_time": 138.0558073,
                        "iteration": 350,
                        "remaining_time": 255.2655811,
                        "learn": [
                          0.9578557014,
                          0.2704742569
                        ]
                      },
                      {
                        "test": [
                          0.9648314714,
                          0.2466248444
                        ],
                        "passed_time": 138.4518046,
                        "iteration": 351,
                        "remaining_time": 254.8771858,
                        "learn": [
                          0.957885921,
                          0.2704020609
                        ]
                      },
                      {
                        "test": [
                          0.9648569524,
                          0.2465509795
                        ],
                        "passed_time": 138.8760378,
                        "iteration": 352,
                        "remaining_time": 254.5404999,
                        "learn": [
                          0.9579265714,
                          0.270298728
                        ]
                      },
                      {
                        "test": [
                          0.9648554921,
                          0.2465335504
                        ],
                        "passed_time": 139.286199,
                        "iteration": 353,
                        "remaining_time": 254.17764,
                        "learn": [
                          0.9579359889,
                          0.270261762
                        ]
                      },
                      {
                        "test": [
                          0.9648675323,
                          0.2464504457
                        ],
                        "passed_time": 139.7001094,
                        "iteration": 354,
                        "remaining_time": 253.8213255,
                        "learn": [
                          0.9579673409,
                          0.2701329385
                        ]
                      },
                      {
                        "test": [
                          0.9648680091,
                          0.2464296493
                        ],
                        "passed_time": 140.1398803,
                        "iteration": 355,
                        "remaining_time": 253.5114689,
                        "learn": [
                          0.9579997063,
                          0.2700508387
                        ]
                      },
                      {
                        "test": [
                          0.9648730755,
                          0.2464111697
                        ],
                        "passed_time": 140.4806598,
                        "iteration": 356,
                        "remaining_time": 253.0225889,
                        "learn": [
                          0.9580088854,
                          0.2700241969
                        ]
                      },
                      {
                        "test": [
                          0.9648786783,
                          0.2463913431
                        ],
                        "passed_time": 140.890864,
                        "iteration": 357,
                        "remaining_time": 252.6590355,
                        "learn": [
                          0.9580473304,
                          0.2699546322
                        ]
                      },
                      {
                        "test": [
                          0.9648820162,
                          0.2463549494
                        ],
                        "passed_time": 141.2849597,
                        "iteration": 358,
                        "remaining_time": 252.2664602,
                        "learn": [
                          0.9580632448,
                          0.2698923401
                        ]
                      },
                      {
                        "test": [
                          0.9648754597,
                          0.2463397562
                        ],
                        "passed_time": 141.6631548,
                        "iteration": 359,
                        "remaining_time": 251.8456085,
                        "learn": [
                          0.9580938816,
                          0.2698125061
                        ]
                      },
                      {
                        "test": [
                          0.9650484324,
                          0.2455245758
                        ],
                        "passed_time": 142.1139689,
                        "iteration": 360,
                        "remaining_time": 251.553535,
                        "learn": [
                          0.9582173824,
                          0.2692487525
                        ]
                      },
                      {
                        "test": [
                          0.965062201,
                          0.2454573916
                        ],
                        "passed_time": 142.5368759,
                        "iteration": 361,
                        "remaining_time": 251.2114001,
                        "learn": [
                          0.9582448602,
                          0.2691644234
                        ]
                      },
                      {
                        "test": [
                          0.9651007056,
                          0.2453401561
                        ],
                        "passed_time": 142.9434559,
                        "iteration": 362,
                        "remaining_time": 250.8401692,
                        "learn": [
                          0.9582927823,
                          0.2690367511
                        ]
                      },
                      {
                        "test": [
                          0.9650999308,
                          0.2453208143
                        ],
                        "passed_time": 143.3340775,
                        "iteration": 363,
                        "remaining_time": 250.4408608,
                        "learn": [
                          0.9583156705,
                          0.2689690319
                        ]
                      },
                      {
                        "test": [
                          0.9651068449,
                          0.2453002065
                        ],
                        "passed_time": 143.661388,
                        "iteration": 364,
                        "remaining_time": 249.9314558,
                        "learn": [
                          0.9583348036,
                          0.2689259446
                        ]
                      },
                      {
                        "test": [
                          0.9651138783,
                          0.2452722984
                        ],
                        "passed_time": 144.0510582,
                        "iteration": 365,
                        "remaining_time": 249.531068,
                        "learn": [
                          0.9583645463,
                          0.2688477003
                        ]
                      },
                      {
                        "test": [
                          0.9651378989,
                          0.2452066498
                        ],
                        "passed_time": 144.4502193,
                        "iteration": 366,
                        "remaining_time": 249.1471085,
                        "learn": [
                          0.9584008455,
                          0.2687652715
                        ]
                      },
                      {
                        "test": [
                          0.965136528,
                          0.2452002115
                        ],
                        "passed_time": 144.8523679,
                        "iteration": 367,
                        "remaining_time": 248.768197,
                        "learn": [
                          0.9584158659,
                          0.2687212705
                        ]
                      },
                      {
                        "test": [
                          0.9651396871,
                          0.2451896517
                        ],
                        "passed_time": 145.195105,
                        "iteration": 368,
                        "remaining_time": 248.2875643,
                        "learn": [
                          0.9584394097,
                          0.2686677859
                        ]
                      },
                      {
                        "test": [
                          0.9651587605,
                          0.245165488
                        ],
                        "passed_time": 145.5956389,
                        "iteration": 369,
                        "remaining_time": 247.9060878,
                        "learn": [
                          0.9584717751,
                          0.2686091484
                        ]
                      },
                      {
                        "test": [
                          0.9651706815,
                          0.2451162717
                        ],
                        "passed_time": 145.9704498,
                        "iteration": 370,
                        "remaining_time": 247.4808974,
                        "learn": [
                          0.9584988952,
                          0.2685472035
                        ]
                      },
                      {
                        "test": [
                          0.9651823044,
                          0.2450550409
                        ],
                        "passed_time": 146.3756112,
                        "iteration": 371,
                        "remaining_time": 247.1072145,
                        "learn": [
                          0.9585245848,
                          0.2684391197
                        ]
                      },
                      {
                        "test": [
                          0.9653320909,
                          0.2444714492
                        ],
                        "passed_time": 146.7463312,
                        "iteration": 372,
                        "remaining_time": 246.6754683,
                        "learn": [
                          0.9586183429,
                          0.2680420326
                        ]
                      },
                      {
                        "test": [
                          0.9653440118,
                          0.2444534814
                        ],
                        "passed_time": 147.1355481,
                        "iteration": 373,
                        "remaining_time": 246.2750084,
                        "learn": [
                          0.9586446881,
                          0.2679986895
                        ]
                      },
                      {
                        "test": [
                          0.965359807,
                          0.2444205089
                        ],
                        "passed_time": 147.5539535,
                        "iteration": 374,
                        "remaining_time": 245.9232559,
                        "learn": [
                          0.9586844444,
                          0.2679143786
                        ]
                      },
                      {
                        "test": [
                          0.9653397799,
                          0.2444343282
                        ],
                        "passed_time": 147.9534149,
                        "iteration": 375,
                        "remaining_time": 245.5397099,
                        "learn": [
                          0.9587293863,
                          0.2678257919
                        ]
                      },
                      {
                        "test": [
                          0.965362668,
                          0.2443640192
                        ],
                        "passed_time": 148.2382189,
                        "iteration": 376,
                        "remaining_time": 244.9666058,
                        "learn": [
                          0.9587807059,
                          0.267692455
                        ]
                      },
                      {
                        "test": [
                          0.9653753042,
                          0.2443260092
                        ],
                        "passed_time": 148.7029654,
                        "iteration": 377,
                        "remaining_time": 244.691123,
                        "learn": [
                          0.958809793,
                          0.2676213554
                        ]
                      },
                      {
                        "test": [
                          0.9653894901,
                          0.2442915551
                        ],
                        "passed_time": 149.0612647,
                        "iteration": 378,
                        "remaining_time": 244.2402253,
                        "learn": [
                          0.9588297009,
                          0.267573645
                        ]
                      },
                      {
                        "test": [
                          0.9654065967,
                          0.2442517134
                        ],
                        "passed_time": 149.4427114,
                        "iteration": 379,
                        "remaining_time": 243.8275817,
                        "learn": [
                          0.9588629603,
                          0.2675011749
                        ]
                      },
                      {
                        "test": [
                          0.9653986096,
                          0.2442759848
                        ],
                        "passed_time": 149.8604143,
                        "iteration": 380,
                        "remaining_time": 243.4740064,
                        "learn": [
                          0.9588931799,
                          0.2674508516
                        ]
                      },
                      {
                        "test": [
                          0.9654120803,
                          0.2442355234
                        ],
                        "passed_time": 150.3203964,
                        "iteration": 381,
                        "remaining_time": 243.1884947,
                        "learn": [
                          0.958915174,
                          0.2673953204
                        ]
                      },
                      {
                        "test": [
                          0.9654306769,
                          0.2441766093
                        ],
                        "passed_time": 150.7186376,
                        "iteration": 382,
                        "remaining_time": 242.8026094,
                        "learn": [
                          0.9589496255,
                          0.2672959162
                        ]
                      },
                      {
                        "test": [
                          0.9654419422,
                          0.2441432866
                        ],
                        "passed_time": 151.1153815,
                        "iteration": 383,
                        "remaining_time": 242.4142578,
                        "learn": [
                          0.9589662552,
                          0.2672471094
                        ]
                      },
                      {
                        "test": [
                          0.9654419422,
                          0.2441308681
                        ],
                        "passed_time": 151.4421407,
                        "iteration": 384,
                        "remaining_time": 241.9140689,
                        "learn": [
                          0.958974123,
                          0.2672181104
                        ]
                      },
                      {
                        "test": [
                          0.9654356837,
                          0.2441220592
                        ],
                        "passed_time": 151.8824384,
                        "iteration": 385,
                        "remaining_time": 241.5953813,
                        "learn": [
                          0.9589951038,
                          0.2671470656
                        ]
                      },
                      {
                        "test": [
                          0.9654518366,
                          0.2440485446
                        ],
                        "passed_time": 152.3000279,
                        "iteration": 386,
                        "remaining_time": 241.2400959,
                        "learn": [
                          0.9590398669,
                          0.2670245463
                        ]
                      },
                      {
                        "test": [
                          0.9654433727,
                          0.2440416484
                        ],
                        "passed_time": 152.6954304,
                        "iteration": 387,
                        "remaining_time": 240.8494932,
                        "learn": [
                          0.9590514898,
                          0.2669849308
                        ]
                      },
                      {
                        "test": [
                          0.9655412436,
                          0.2436830185
                        ],
                        "passed_time": 153.0826548,
                        "iteration": 388,
                        "remaining_time": 240.4460208,
                        "learn": [
                          0.9591517448,
                          0.2666795003
                        ]
                      },
                      {
                        "test": [
                          0.9655492306,
                          0.2436424494
                        ],
                        "passed_time": 153.5274842,
                        "iteration": 389,
                        "remaining_time": 240.1327316,
                        "learn": [
                          0.9591829777,
                          0.2665847922
                        ]
                      },
                      {
                        "test": [
                          0.9655947685,
                          0.2435077848
                        ],
                        "passed_time": 153.9493797,
                        "iteration": 390,
                        "remaining_time": 239.7830493,
                        "learn": [
                          0.9592677355,
                          0.2663729369
                        ]
                      },
                      {
                        "test": [
                          0.9656016827,
                          0.2434866921
                        ],
                        "passed_time": 154.3158264,
                        "iteration": 391,
                        "remaining_time": 239.3469961,
                        "learn": [
                          0.9592910409,
                          0.2663105169
                        ]
                      },
                      {
                        "test": [
                          0.9656428695,
                          0.2433587082
                        ],
                        "passed_time": 154.702309,
                        "iteration": 392,
                        "remaining_time": 238.9422431,
                        "learn": [
                          0.9593440294,
                          0.2661654854
                        ]
                      },
                      {
                        "test": [
                          0.9656429291,
                          0.2433438921
                        ],
                        "passed_time": 155.100067,
                        "iteration": 393,
                        "remaining_time": 238.5549253,
                        "learn": [
                          0.9593706131,
                          0.2661033943
                        ]
                      },
                      {
                        "test": [
                          0.9656498432,
                          0.243286298
                        ],
                        "passed_time": 155.458115,
                        "iteration": 394,
                        "remaining_time": 238.106733,
                        "learn": [
                          0.9593939781,
                          0.2660060732
                        ]
                      },
                      {
                        "test": [
                          0.9656558931,
                          0.2432458905
                        ],
                        "passed_time": 155.9204667,
                        "iteration": 395,
                        "remaining_time": 237.8180855,
                        "learn": [
                          0.9594231248,
                          0.2659218354
                        ]
                      },
                      {
                        "test": [
                          0.9656563997,
                          0.2432301854
                        ],
                        "passed_time": 156.3244291,
                        "iteration": 396,
                        "remaining_time": 237.4398759,
                        "learn": [
                          0.959448874,
                          0.2658481776
                        ]
                      },
                      {
                        "test": [
                          0.9656538963,
                          0.2432219693
                        ],
                        "passed_time": 156.7450274,
                        "iteration": 397,
                        "remaining_time": 237.0866997,
                        "learn": [
                          0.9594793916,
                          0.2657854835
                        ]
                      },
                      {
                        "test": [
                          0.9656530619,
                          0.2432148575
                        ],
                        "passed_time": 157.1563283,
                        "iteration": 398,
                        "remaining_time": 236.7191812,
                        "learn": [
                          0.9594811201,
                          0.2657680512
                        ]
                      },
                      {
                        "test": [
                          0.9656654596,
                          0.2431658298
                        ],
                        "passed_time": 157.5597777,
                        "iteration": 399,
                        "remaining_time": 236.3396665,
                        "learn": [
                          0.9595030546,
                          0.2657062707
                        ]
                      },
                      {
                        "test": [
                          0.9656780958,
                          0.2431379217
                        ],
                        "passed_time": 157.9693189,
                        "iteration": 400,
                        "remaining_time": 235.9691322,
                        "learn": [
                          0.9595437646,
                          0.265634696
                        ]
                      },
                      {
                        "test": [
                          0.9656866193,
                          0.243112007
                        ],
                        "passed_time": 158.3503742,
                        "iteration": 401,
                        "remaining_time": 235.5560293,
                        "learn": [
                          0.9595612884,
                          0.2655886667
                        ]
                      },
                      {
                        "test": [
                          0.9656917751,
                          0.2430898637
                        ],
                        "passed_time": 158.7479265,
                        "iteration": 402,
                        "remaining_time": 235.1675239,
                        "learn": [
                          0.9596078396,
                          0.2654858272
                        ]
                      },
                      {
                        "test": [
                          0.9657174945,
                          0.2430215482
                        ],
                        "passed_time": 159.1714446,
                        "iteration": 403,
                        "remaining_time": 234.8172796,
                        "learn": [
                          0.9596447945,
                          0.2653910643
                        ]
                      },
                      {
                        "test": [
                          0.9657368064,
                          0.2429585664
                        ],
                        "passed_time": 159.5811121,
                        "iteration": 404,
                        "remaining_time": 234.4463252,
                        "learn": [
                          0.9596803784,
                          0.2652939807
                        ]
                      },
                      {
                        "test": [
                          0.9657616615,
                          0.242884917
                        ],
                        "passed_time": 159.9888637,
                        "iteration": 405,
                        "remaining_time": 234.0723769,
                        "learn": [
                          0.959733665,
                          0.2651727404
                        ]
                      },
                      {
                        "test": [
                          0.9657611251,
                          0.2428694814
                        ],
                        "passed_time": 160.3400615,
                        "iteration": 406,
                        "remaining_time": 233.6158635,
                        "learn": [
                          0.9597584009,
                          0.2651044
                        ]
                      },
                      {
                        "test": [
                          0.9657684863,
                          0.2428324681
                        ],
                        "passed_time": 160.7461405,
                        "iteration": 407,
                        "remaining_time": 233.239498,
                        "learn": [
                          0.9597834945,
                          0.2650309432
                        ]
                      },
                      {
                        "test": [
                          0.9657942653,
                          0.2427639909
                        ],
                        "passed_time": 161.0928956,
                        "iteration": 408,
                        "remaining_time": 232.7772648,
                        "learn": [
                          0.9598209262,
                          0.2649222198
                        ]
                      },
                      {
                        "test": [
                          0.965798378,
                          0.2427599502
                        ],
                        "passed_time": 161.4864225,
                        "iteration": 409,
                        "remaining_time": 232.3829006,
                        "learn": [
                          0.9598482847,
                          0.2648788401
                        ]
                      },
                      {
                        "test": [
                          0.9658155441,
                          0.2427148554
                        ],
                        "passed_time": 161.9035392,
                        "iteration": 410,
                        "remaining_time": 232.022347,
                        "learn": [
                          0.9598861933,
                          0.264793707
                        ]
                      },
                      {
                        "test": [
                          0.9658174515,
                          0.2426895873
                        ],
                        "passed_time": 162.3158608,
                        "iteration": 411,
                        "remaining_time": 231.6546751,
                        "learn": [
                          0.9599110484,
                          0.2647118995
                        ]
                      },
                      {
                        "test": [
                          0.9658361971,
                          0.2426238039
                        ],
                        "passed_time": 162.7360379,
                        "iteration": 412,
                        "remaining_time": 231.2979522,
                        "learn": [
                          0.959934175,
                          0.2646453315
                        ]
                      },
                      {
                        "test": [
                          0.9658709764,
                          0.2425099087
                        ],
                        "passed_time": 163.1339172,
                        "iteration": 413,
                        "remaining_time": 230.9093611,
                        "learn": [
                          0.9600093961,
                          0.2644740054
                        ]
                      },
                      {
                        "test": [
                          0.9658904076,
                          0.242454335
                        ],
                        "passed_time": 163.4879868,
                        "iteration": 414,
                        "remaining_time": 230.4589694,
                        "learn": [
                          0.960038662,
                          0.2644115306
                        ]
                      },
                      {
                        "test": [
                          0.9659023285,
                          0.2424151936
                        ],
                        "passed_time": 163.923787,
                        "iteration": 415,
                        "remaining_time": 230.123778,
                        "learn": [
                          0.9600744247,
                          0.2643301799
                        ]
                      },
                      {
                        "test": [
                          0.9659169912,
                          0.2423789077
                        ],
                        "passed_time": 164.2741062,
                        "iteration": 416,
                        "remaining_time": 229.6685945,
                        "learn": [
                          0.9601024985,
                          0.2642636851
                        ]
                      },
                      {
                        "test": [
                          0.9659286141,
                          0.2423497874
                        ],
                        "passed_time": 164.6825255,
                        "iteration": 417,
                        "remaining_time": 229.2948083,
                        "learn": [
                          0.960116446,
                          0.264215792
                        ]
                      },
                      {
                        "test": [
                          0.9659312069,
                          0.2423379884
                        ],
                        "passed_time": 165.115721,
                        "iteration": 418,
                        "remaining_time": 228.9552122,
                        "learn": [
                          0.9601485729,
                          0.2641365975
                        ]
                      },
                      {
                        "test": [
                          0.9659309387,
                          0.2423316309
                        ],
                        "passed_time": 165.5103102,
                        "iteration": 419,
                        "remaining_time": 228.5618569,
                        "learn": [
                          0.9601609707,
                          0.2641092431
                        ]
                      },
                      {
                        "test": [
                          0.9659406543,
                          0.2422862668
                        ],
                        "passed_time": 165.9148761,
                        "iteration": 420,
                        "remaining_time": 228.1822168,
                        "learn": [
                          0.9601857662,
                          0.2640292263
                        ]
                      },
                      {
                        "test": [
                          0.9659447074,
                          0.2422736597
                        ],
                        "passed_time": 166.3082031,
                        "iteration": 421,
                        "remaining_time": 227.7870648,
                        "learn": [
                          0.9602046609,
                          0.2639882403
                        ]
                      },
                      {
                        "test": [
                          0.9660191536,
                          0.2418863675
                        ],
                        "passed_time": 166.6161148,
                        "iteration": 422,
                        "remaining_time": 227.2754095,
                        "learn": [
                          0.9602761269,
                          0.2636451678
                        ]
                      },
                      {
                        "test": [
                          0.9660300016,
                          0.2418434278
                        ],
                        "passed_time": 166.9988347,
                        "iteration": 423,
                        "remaining_time": 226.8663415,
                        "learn": [
                          0.9602858424,
                          0.2635981701
                        ]
                      },
                      {
                        "test": [
                          0.9660468102,
                          0.2418075999
                        ],
                        "passed_time": 167.3516351,
                        "iteration": 424,
                        "remaining_time": 226.4169181,
                        "learn": [
                          0.9603152871,
                          0.2635337401
                        ]
                      },
                      {
                        "test": [
                          0.9660557508,
                          0.2417802844
                        ],
                        "passed_time": 167.7461984,
                        "iteration": 425,
                        "remaining_time": 226.0242203,
                        "learn": [
                          0.9603747129,
                          0.2634162823
                        ]
                      },
                      {
                        "test": [
                          0.9660589695,
                          0.2417717719
                        ],
                        "passed_time": 168.1210221,
                        "iteration": 426,
                        "remaining_time": 225.605025,
                        "learn": [
                          0.9603918791,
                          0.263386461
                        ]
                      },
                      {
                        "test": [
                          0.9660652876,
                          0.2417501674
                        ],
                        "passed_time": 168.5291781,
                        "iteration": 427,
                        "remaining_time": 225.2305838,
                        "learn": [
                          0.9604068995,
                          0.2633494768
                        ]
                      },
                      {
                        "test": [
                          0.9660721421,
                          0.2417137198
                        ],
                        "passed_time": 168.9263482,
                        "iteration": 428,
                        "remaining_time": 224.8413632,
                        "learn": [
                          0.9604402184,
                          0.2632590811
                        ]
                      },
                      {
                        "test": [
                          0.9660796523,
                          0.2417045069
                        ],
                        "passed_time": 169.2781904,
                        "iteration": 429,
                        "remaining_time": 224.3920198,
                        "learn": [
                          0.9604555964,
                          0.2632337732
                        ]
                      },
                      {
                        "test": [
                          0.9661928415,
                          0.2411011156
                        ],
                        "passed_time": 169.6780296,
                        "iteration": 430,
                        "remaining_time": 224.0064938,
                        "learn": [
                          0.9605239034,
                          0.2627690949
                        ]
                      },
                      {
                        "test": [
                          0.9661974907,
                          0.241076036
                        ],
                        "passed_time": 170.0892072,
                        "iteration": 431,
                        "remaining_time": 223.6358094,
                        "learn": [
                          0.9605462551,
                          0.2627072779
                        ]
                      },
                      {
                        "test": [
                          0.9662103653,
                          0.2409957598
                        ],
                        "passed_time": 170.45925,
                        "iteration": 432,
                        "remaining_time": 223.2110733,
                        "learn": [
                          0.9605793953,
                          0.2625838997
                        ]
                      },
                      {
                        "test": [
                          0.9662140608,
                          0.2409821829
                        ],
                        "passed_time": 170.7840217,
                        "iteration": 433,
                        "remaining_time": 222.7275491,
                        "learn": [
                          0.9605860114,
                          0.2625626484
                        ]
                      },
                      {
                        "test": [
                          0.9662256241,
                          0.2409129514
                        ],
                        "passed_time": 171.1986968,
                        "iteration": 434,
                        "remaining_time": 222.3615257,
                        "learn": [
                          0.9606254697,
                          0.2624489
                        ]
                      },
                      {
                        "test": [
                          0.9662312865,
                          0.2408872792
                        ],
                        "passed_time": 171.5230409,
                        "iteration": 435,
                        "remaining_time": 221.878429,
                        "learn": [
                          0.96064502,
                          0.262398065
                        ]
                      },
                      {
                        "test": [
                          0.966265142,
                          0.2407681849
                        ],
                        "passed_time": 171.8571687,
                        "iteration": 436,
                        "remaining_time": 221.4086636,
                        "learn": [
                          0.9606935382,
                          0.2622301193
                        ]
                      },
                      {
                        "test": [
                          0.9662676454,
                          0.2407641172
                        ],
                        "passed_time": 172.2440046,
                        "iteration": 437,
                        "remaining_time": 221.0071474,
                        "learn": [
                          0.9607061148,
                          0.2622056703
                        ]
                      },
                      {
                        "test": [
                          0.9662791491,
                          0.2407143352
                        ],
                        "passed_time": 172.6303422,
                        "iteration": 438,
                        "remaining_time": 220.6050614,
                        "learn": [
                          0.9607444406,
                          0.2621126615
                        ]
                      },
                      {
                        "test": [
                          0.966288805,
                          0.2406790729
                        ],
                        "passed_time": 173.0018574,
                        "iteration": 439,
                        "remaining_time": 220.1841822,
                        "learn": [
                          0.9607678652,
                          0.2620564177
                        ]
                      },
                      {
                        "test": [
                          0.9662809968,
                          0.2406565795
                        ],
                        "passed_time": 173.4212266,
                        "iteration": 440,
                        "remaining_time": 219.8241852,
                        "learn": [
                          0.9607772231,
                          0.2619878763
                        ]
                      },
                      {
                        "test": [
                          0.9662854075,
                          0.2406286714
                        ],
                        "passed_time": 173.8066327,
                        "iteration": 441,
                        "remaining_time": 219.4210432,
                        "learn": [
                          0.9607893825,
                          0.2619419202
                        ]
                      },
                      {
                        "test": [
                          0.966289103,
                          0.2406107574
                        ],
                        "passed_time": 174.2360583,
                        "iteration": 442,
                        "remaining_time": 219.0733283,
                        "learn": [
                          0.960834235,
                          0.2618667457
                        ]
                      },
                      {
                        "test": [
                          0.966293633,
                          0.2406025681
                        ],
                        "passed_time": 174.6323333,
                        "iteration": 443,
                        "remaining_time": 218.6837327,
                        "learn": [
                          0.9608508348,
                          0.2618392085
                        ]
                      },
                      {
                        "test": [
                          0.9663043618,
                          0.2405766804
                        ],
                        "passed_time": 175.0339501,
                        "iteration": 444,
                        "remaining_time": 218.3007693,
                        "learn": [
                          0.9608886242,
                          0.2617596669
                        ]
                      },
                      {
                        "test": [
                          0.9663221836,
                          0.2405214299
                        ],
                        "passed_time": 175.4363848,
                        "iteration": 445,
                        "remaining_time": 217.9187381,
                        "learn": [
                          0.9609222412,
                          0.2616711898
                        ]
                      },
                      {
                        "test": [
                          0.9663270116,
                          0.2405083648
                        ],
                        "passed_time": 175.7265974,
                        "iteration": 446,
                        "remaining_time": 217.3977815,
                        "learn": [
                          0.9609391093,
                          0.2616440912
                        ]
                      },
                      {
                        "test": [
                          0.9663301706,
                          0.2404697892
                        ],
                        "passed_time": 176.1019146,
                        "iteration": 447,
                        "remaining_time": 216.9827162,
                        "learn": [
                          0.9609783888,
                          0.2615324807
                        ]
                      },
                      {
                        "test": [
                          0.9664471149,
                          0.2398756646
                        ],
                        "passed_time": 176.4862234,
                        "iteration": 448,
                        "remaining_time": 216.5788621,
                        "learn": [
                          0.9610598087,
                          0.26106804
                        ]
                      },
                      {
                        "test": [
                          0.9664496779,
                          0.2398575351
                        ],
                        "passed_time": 176.8934826,
                        "iteration": 449,
                        "remaining_time": 216.2031454,
                        "learn": [
                          0.961088717,
                          0.2610014172
                        ]
                      },
                      {
                        "test": [
                          0.9664643407,
                          0.2398089384
                        ],
                        "passed_time": 177.3139324,
                        "iteration": 450,
                        "remaining_time": 215.8433457,
                        "learn": [
                          0.9611182809,
                          0.2609328027
                        ]
                      },
                      {
                        "test": [
                          0.9664666653,
                          0.2397976782
                        ],
                        "passed_time": 177.7373271,
                        "iteration": 451,
                        "remaining_time": 215.4868479,
                        "learn": [
                          0.961137712,
                          0.2608832468
                        ]
                      },
                      {
                        "test": [
                          0.9664794207,
                          0.2397478961
                        ],
                        "passed_time": 178.131327,
                        "iteration": 452,
                        "remaining_time": 215.0945604,
                        "learn": [
                          0.9611663818,
                          0.2608067567
                        ]
                      },
                      {
                        "test": [
                          0.966498971,
                          0.2396491672
                        ],
                        "passed_time": 178.5492845,
                        "iteration": 453,
                        "remaining_time": 214.7310779,
                        "learn": [
                          0.9612108469,
                          0.2606641738
                        ]
                      },
                      {
                        "test": [
                          0.9665163755,
                          0.2395983885
                        ],
                        "passed_time": 178.9671666,
                        "iteration": 454,
                        "remaining_time": 214.3672654,
                        "learn": [
                          0.9612675309,
                          0.2605288451
                        ]
                      },
                      {
                        "test": [
                          0.9665121436,
                          0.2395869128
                        ],
                        "passed_time": 179.3770435,
                        "iteration": 455,
                        "remaining_time": 213.9936659,
                        "learn": [
                          0.9612858295,
                          0.2604794719
                        ]
                      },
                      {
                        "test": [
                          0.9666416645,
                          0.2391572735
                        ],
                        "passed_time": 179.7661105,
                        "iteration": 456,
                        "remaining_time": 213.5951816,
                        "learn": [
                          0.9614129663,
                          0.2600764097
                        ]
                      },
                      {
                        "test": [
                          0.966643393,
                          0.2391317091
                        ],
                        "passed_time": 180.1789816,
                        "iteration": 457,
                        "remaining_time": 213.2249084,
                        "learn": [
                          0.9614509344,
                          0.2599759822
                        ]
                      },
                      {
                        "test": [
                          0.9666505456,
                          0.2391033969
                        ],
                        "passed_time": 180.535086,
                        "iteration": 458,
                        "remaining_time": 212.7875414,
                        "learn": [
                          0.9614710808,
                          0.2599196653
                        ]
                      },
                      {
                        "test": [
                          0.9666879177,
                          0.2389914951
                        ],
                        "passed_time": 180.9952046,
                        "iteration": 459,
                        "remaining_time": 212.4726315,
                        "learn": [
                          0.9615357518,
                          0.2597675074
                        ]
                      },
                      {
                        "test": [
                          0.9666995406,
                          0.2389733926
                        ],
                        "passed_time": 181.3795713,
                        "iteration": 460,
                        "remaining_time": 212.0685227,
                        "learn": [
                          0.961551249,
                          0.2597476265
                        ]
                      },
                      {
                        "test": [
                          0.9667149782,
                          0.2389209437
                        ],
                        "passed_time": 181.7617262,
                        "iteration": 461,
                        "remaining_time": 211.6619236,
                        "learn": [
                          0.9615738988,
                          0.2596826849
                        ]
                      },
                      {
                        "test": [
                          0.9667174816,
                          0.2388984771
                        ],
                        "passed_time": 182.1207837,
                        "iteration": 462,
                        "remaining_time": 211.2286411,
                        "learn": [
                          0.9616014957,
                          0.2596049522
                        ]
                      },
                      {
                        "test": [
                          0.9667108655,
                          0.2388842268
                        ],
                        "passed_time": 182.5085423,
                        "iteration": 463,
                        "remaining_time": 210.8288333,
                        "learn": [
                          0.9616146088,
                          0.2595582103
                        ]
                      },
                      {
                        "test": [
                          0.9667240977,
                          0.2388102811
                        ],
                        "passed_time": 182.830323,
                        "iteration": 464,
                        "remaining_time": 210.3531673,
                        "learn": [
                          0.961640954,
                          0.2594708844
                        ]
                      },
                      {
                        "test": [
                          0.9667489529,
                          0.2387269339
                        ],
                        "passed_time": 183.1910368,
                        "iteration": 465,
                        "remaining_time": 209.9227761,
                        "learn": [
                          0.9616580009,
                          0.2593990539
                        ]
                      },
                      {
                        "test": [
                          0.9667673707,
                          0.2386484626
                        ],
                        "passed_time": 183.593791,
                        "iteration": 466,
                        "remaining_time": 209.5406651,
                        "learn": [
                          0.9616922736,
                          0.2592924867
                        ]
                      },
                      {
                        "test": [
                          0.966974318,
                          0.2377546223
                        ],
                        "passed_time": 183.939796,
                        "iteration": 467,
                        "remaining_time": 209.0939561,
                        "learn": [
                          0.9618347883,
                          0.2586351031
                        ]
                      },
                      {
                        "test": [
                          0.9669821858,
                          0.2377286538
                        ],
                        "passed_time": 184.350092,
                        "iteration": 468,
                        "remaining_time": 208.7204666,
                        "learn": [
                          0.9618501663,
                          0.2585851452
                        ]
                      },
                      {
                        "test": [
                          0.967009604,
                          0.2376311371
                        ],
                        "passed_time": 184.7318829,
                        "iteration": 469,
                        "remaining_time": 208.3146765,
                        "learn": [
                          0.9618750215,
                          0.2584940917
                        ]
                      },
                      {
                        "test": [
                          0.9670235515,
                          0.2375765062
                        ],
                        "passed_time": 185.1568248,
                        "iteration": 470,
                        "remaining_time": 207.9574529,
                        "learn": [
                          0.9619089961,
                          0.2584028554
                        ]
                      },
                      {
                        "test": [
                          0.9670411348,
                          0.2375103995
                        ],
                        "passed_time": 185.5631109,
                        "iteration": 471,
                        "remaining_time": 207.5790733,
                        "learn": [
                          0.961931169,
                          0.2583318289
                        ]
                      },
                      {
                        "test": [
                          0.9670495391,
                          0.2374847273
                        ],
                        "passed_time": 185.9445725,
                        "iteration": 472,
                        "remaining_time": 207.1729169,
                        "learn": [
                          0.9619605541,
                          0.2582571295
                        ]
                      },
                      {
                        "test": [
                          0.967053175,
                          0.2374657627
                        ],
                        "passed_time": 186.2469436,
                        "iteration": 473,
                        "remaining_time": 206.6790978,
                        "learn": [
                          0.9619772434,
                          0.2582097115
                        ]
                      },
                      {
                        "test": [
                          0.9670627117,
                          0.2374247896
                        ],
                        "passed_time": 186.5849806,
                        "iteration": 474,
                        "remaining_time": 206.2255049,
                        "learn": [
                          0.9619896114,
                          0.2581607768
                        ]
                      },
                      {
                        "test": [
                          0.9670708179,
                          0.2374130714
                        ],
                        "passed_time": 186.9596944,
                        "iteration": 475,
                        "remaining_time": 205.8127728,
                        "learn": [
                          0.9620137215,
                          0.2581110016
                        ]
                      },
                      {
                        "test": [
                          0.9670884013,
                          0.237362131
                        ],
                        "passed_time": 187.382848,
                        "iteration": 476,
                        "remaining_time": 205.4533113,
                        "learn": [
                          0.9620482326,
                          0.2580323919
                        ]
                      },
                      {
                        "test": [
                          0.9671046138,
                          0.2373226664
                        ],
                        "passed_time": 187.7362312,
                        "iteration": 477,
                        "remaining_time": 205.0173906,
                        "learn": [
                          0.9620699286,
                          0.2579881899
                        ]
                      },
                      {
                        "test": [
                          0.9671159387,
                          0.2372998766
                        ],
                        "passed_time": 188.1332069,
                        "iteration": 478,
                        "remaining_time": 204.6292293,
                        "learn": [
                          0.962092042,
                          0.2579348149
                        ]
                      },
                      {
                        "test": [
                          0.967117846,
                          0.2372920106
                        ],
                        "passed_time": 188.5338332,
                        "iteration": 479,
                        "remaining_time": 204.2449859,
                        "learn": [
                          0.9621072412,
                          0.2579040435
                        ]
                      },
                      {
                        "test": [
                          0.967120707,
                          0.2372788916
                        ],
                        "passed_time": 188.9313311,
                        "iteration": 480,
                        "remaining_time": 203.857299,
                        "learn": [
                          0.9621137977,
                          0.2578789183
                        ]
                      },
                      {
                        "test": [
                          0.9671265483,
                          0.2372591728
                        ],
                        "passed_time": 189.3379514,
                        "iteration": 481,
                        "remaining_time": 203.4793752,
                        "learn": [
                          0.9621303082,
                          0.2578465937
                        ]
                      },
                      {
                        "test": [
                          0.9671235085,
                          0.2372527345
                        ],
                        "passed_time": 189.7280699,
                        "iteration": 482,
                        "remaining_time": 203.083669,
                        "learn": [
                          0.9621414542,
                          0.2578043469
                        ]
                      },
                      {
                        "test": [
                          0.9671159387,
                          0.2372523843
                        ],
                        "passed_time": 190.1097135,
                        "iteration": 483,
                        "remaining_time": 202.6789507,
                        "learn": [
                          0.9621717334,
                          0.2577431329
                        ]
                      },
                      {
                        "test": [
                          0.9671262503,
                          0.2372245032
                        ],
                        "passed_time": 190.4335034,
                        "iteration": 484,
                        "remaining_time": 202.2128953,
                        "learn": [
                          0.9621862173,
                          0.2577127634
                        ]
                      },
                      {
                        "test": [
                          0.9671341181,
                          0.2371935511
                        ],
                        "passed_time": 190.8609562,
                        "iteration": 485,
                        "remaining_time": 201.8570606,
                        "learn": [
                          0.9622243643,
                          0.2576135237
                        ]
                      },
                      {
                        "test": [
                          0.967238009,
                          0.2366394837
                        ],
                        "passed_time": 191.2609141,
                        "iteration": 486,
                        "remaining_time": 201.4719691,
                        "learn": [
                          0.9623069763,
                          0.2572133485
                        ]
                      },
                      {
                        "test": [
                          0.9672420025,
                          0.2366164246
                        ],
                        "passed_time": 191.6885754,
                        "iteration": 487,
                        "remaining_time": 201.1158824,
                        "learn": [
                          0.9623268843,
                          0.2571623856
                        ]
                      },
                      {
                        "test": [
                          0.9672374129,
                          0.2366181755
                        ],
                        "passed_time": 192.0747468,
                        "iteration": 488,
                        "remaining_time": 200.7161464,
                        "learn": [
                          0.9623352885,
                          0.2571440214
                        ]
                      },
                      {
                        "test": [
                          0.9672427773,
                          0.2365846912
                        ],
                        "passed_time": 192.4415027,
                        "iteration": 489,
                        "remaining_time": 200.2962579,
                        "learn": [
                          0.9623610377,
                          0.2570651558
                        ]
                      },
                      {
                        "test": [
                          0.967243135,
                          0.2365770138
                        ],
                        "passed_time": 192.8389226,
                        "iteration": 490,
                        "remaining_time": 199.908374,
                        "learn": [
                          0.9623841643,
                          0.257004289
                        ]
                      },
                      {
                        "test": [
                          0.9672600627,
                          0.2365171838
                        ],
                        "passed_time": 193.2757949,
                        "iteration": 491,
                        "remaining_time": 199.5611866,
                        "learn": [
                          0.9624200463,
                          0.2569103483
                        ]
                      },
                      {
                        "test": [
                          0.967273891,
                          0.2364723854
                        ],
                        "passed_time": 193.6799777,
                        "iteration": 492,
                        "remaining_time": 199.1800176,
                        "learn": [
                          0.9624350071,
                          0.2568643739
                        ]
                      },
                      {
                        "test": [
                          0.967313081,
                          0.2363579245
                        ],
                        "passed_time": 194.1042898,
                        "iteration": 493,
                        "remaining_time": 198.8193738,
                        "learn": [
                          0.9624894261,
                          0.2567345454
                        ]
                      },
                      {
                        "test": [
                          0.9673298001,
                          0.2363112404
                        ],
                        "passed_time": 194.5136054,
                        "iteration": 494,
                        "remaining_time": 198.4431732,
                        "learn": [
                          0.9625151753,
                          0.2566568493
                        ]
                      },
                      {
                        "test": [
                          0.9673211575,
                          0.2362867265
                        ],
                        "passed_time": 194.9494373,
                        "iteration": 495,
                        "remaining_time": 198.093783,
                        "learn": [
                          0.9625455141,
                          0.2565649369
                        ]
                      },
                      {
                        "test": [
                          0.9673308134,
                          0.2362631824
                        ],
                        "passed_time": 195.2754151,
                        "iteration": 496,
                        "remaining_time": 197.6328648,
                        "learn": [
                          0.9625640512,
                          0.2565280806
                        ]
                      },
                      {
                        "test": [
                          0.9673427939,
                          0.2362203774
                        ],
                        "passed_time": 195.6939156,
                        "iteration": 497,
                        "remaining_time": 197.2657543,
                        "learn": [
                          0.9625923038,
                          0.2564477167
                        ]
                      },
                      {
                        "test": [
                          0.9673476815,
                          0.2362044838
                        ],
                        "passed_time": 196.0606948,
                        "iteration": 498,
                        "remaining_time": 196.8465092,
                        "learn": [
                          0.9626079202,
                          0.2564152458
                        ]
                      },
                      {
                        "test": [
                          0.9673478007,
                          0.2361881861
                        ],
                        "passed_time": 196.4523758,
                        "iteration": 499,
                        "remaining_time": 196.4523758,
                        "learn": [
                          0.962641418,
                          0.2563459187
                        ]
                      },
                      {
                        "test": [
                          0.9673622847,
                          0.2361483713
                        ],
                        "passed_time": 196.8900006,
                        "iteration": 500,
                        "remaining_time": 196.1040126,
                        "learn": [
                          0.962670505,
                          0.2562745815
                        ]
                      },
                      {
                        "test": [
                          0.967387557,
                          0.2360894841
                        ],
                        "passed_time": 197.18915,
                        "iteration": 501,
                        "remaining_time": 195.6179217,
                        "learn": [
                          0.9627032876,
                          0.2562095851
                        ]
                      },
                      {
                        "test": [
                          0.9673913121,
                          0.236065536
                        ],
                        "passed_time": 197.5918314,
                        "iteration": 502,
                        "remaining_time": 195.2348712,
                        "learn": [
                          0.9627256393,
                          0.2561517515
                        ]
                      },
                      {
                        "test": [
                          0.9674116373,
                          0.2360162658
                        ],
                        "passed_time": 198.0385269,
                        "iteration": 503,
                        "remaining_time": 194.8950582,
                        "learn": [
                          0.9627646804,
                          0.256068939
                        ]
                      },
                      {
                        "test": [
                          0.9674261212,
                          0.2359627394
                        ],
                        "passed_time": 198.3713564,
                        "iteration": 504,
                        "remaining_time": 194.4432107,
                        "learn": [
                          0.962788105,
                          0.2560050206
                        ]
                      },
                      {
                        "test": [
                          0.9674342275,
                          0.2359405152
                        ],
                        "passed_time": 198.6469872,
                        "iteration": 505,
                        "remaining_time": 193.9359914,
                        "learn": [
                          0.9628064036,
                          0.2559567073
                        ]
                      },
                      {
                        "test": [
                          0.9674446583,
                          0.2358836754
                        ],
                        "passed_time": 198.9882436,
                        "iteration": 506,
                        "remaining_time": 193.4934992,
                        "learn": [
                          0.962833941,
                          0.2558609576
                        ]
                      },
                      {
                        "test": [
                          0.9675614834,
                          0.2352472038
                        ],
                        "passed_time": 199.3804899,
                        "iteration": 507,
                        "remaining_time": 193.1007894,
                        "learn": [
                          0.9629131556,
                          0.2553928441
                        ]
                      },
                      {
                        "test": [
                          0.9675677419,
                          0.2352285355
                        ],
                        "passed_time": 199.7732618,
                        "iteration": 508,
                        "remaining_time": 192.7085885,
                        "learn": [
                          0.9629383683,
                          0.2553465955
                        ]
                      },
                      {
                        "test": [
                          0.9675775766,
                          0.2351786188
                        ],
                        "passed_time": 200.2002008,
                        "iteration": 509,
                        "remaining_time": 192.3492125,
                        "learn": [
                          0.9629654884,
                          0.2552586118
                        ]
                      },
                      {
                        "test": [
                          0.9676030278,
                          0.2350957296
                        ],
                        "passed_time": 200.5923455,
                        "iteration": 510,
                        "remaining_time": 191.9562759,
                        "learn": [
                          0.9630038738,
                          0.2551514233
                        ]
                      },
                      {
                        "test": [
                          0.9675946236,
                          0.2350984773
                        ],
                        "passed_time": 201.0147226,
                        "iteration": 511,
                        "remaining_time": 191.5921575,
                        "learn": [
                          0.9630275369,
                          0.2550952709
                        ]
                      },
                      {
                        "test": [
                          0.967597425,
                          0.2350773846
                        ],
                        "passed_time": 201.3518656,
                        "iteration": 512,
                        "remaining_time": 191.1468977,
                        "learn": [
                          0.9630551338,
                          0.255022545
                        ]
                      },
                      {
                        "test": [
                          0.9676036239,
                          0.2350330172
                        ],
                        "passed_time": 201.6146641,
                        "iteration": 513,
                        "remaining_time": 190.6317642,
                        "learn": [
                          0.9630784988,
                          0.254938088
                        ]
                      },
                      {
                        "test": [
                          0.9676039219,
                          0.2350269022
                        ],
                        "passed_time": 202.0148707,
                        "iteration": 514,
                        "remaining_time": 190.2470142,
                        "learn": [
                          0.9631185532,
                          0.2548530462
                        ]
                      },
                      {
                        "test": [
                          0.9676129818,
                          0.2350040585
                        ],
                        "passed_time": 202.4629007,
                        "iteration": 515,
                        "remaining_time": 189.9070619,
                        "learn": [
                          0.9631415606,
                          0.2548042943
                        ]
                      },
                      {
                        "test": [
                          0.9676175714,
                          0.2349785749
                        ],
                        "passed_time": 202.8697492,
                        "iteration": 516,
                        "remaining_time": 189.5282183,
                        "learn": [
                          0.9631679058,
                          0.2547404672
                        ]
                      },
                      {
                        "test": [
                          0.9676396847,
                          0.2349225701
                        ],
                        "passed_time": 203.2975152,
                        "iteration": 517,
                        "remaining_time": 189.1687303,
                        "learn": [
                          0.9631846547,
                          0.2546904545
                        ]
                      },
                      {
                        "test": [
                          0.9676319361,
                          0.2349048178
                        ],
                        "passed_time": 203.7167066,
                        "iteration": 518,
                        "remaining_time": 188.8010325,
                        "learn": [
                          0.96322155,
                          0.2546036585
                        ]
                      },
                      {
                        "test": [
                          0.9676430225,
                          0.2348750509
                        ],
                        "passed_time": 204.0959658,
                        "iteration": 519,
                        "remaining_time": 188.3962761,
                        "learn": [
                          0.963234961,
                          0.2545764685
                        ]
                      },
                      {
                        "test": [
                          0.9676575661,
                          0.234805577
                        ],
                        "passed_time": 204.5327834,
                        "iteration": 520,
                        "remaining_time": 188.044536,
                        "learn": [
                          0.9632809758,
                          0.2544459457
                        ]
                      },
                      {
                        "test": [
                          0.9676776528,
                          0.2347432956
                        ],
                        "passed_time": 204.9952211,
                        "iteration": 521,
                        "remaining_time": 187.7159304,
                        "learn": [
                          0.9633205533,
                          0.2543407672
                        ]
                      },
                      {
                        "test": [
                          0.9676908851,
                          0.2346802061
                        ],
                        "passed_time": 205.3269689,
                        "iteration": 522,
                        "remaining_time": 187.2676179,
                        "learn": [
                          0.9633513093,
                          0.2542344558
                        ]
                      },
                      {
                        "test": [
                          0.9676886797,
                          0.2346836003
                        ],
                        "passed_time": 205.7402003,
                        "iteration": 523,
                        "remaining_time": 186.8937697,
                        "learn": [
                          0.9633577466,
                          0.2542204589
                        ]
                      },
                      {
                        "test": [
                          0.9676992893,
                          0.2346520017
                        ],
                        "passed_time": 206.1300841,
                        "iteration": 524,
                        "remaining_time": 186.4986475,
                        "learn": [
                          0.9633912444,
                          0.2541427628
                        ]
                      },
                      {
                        "test": [
                          0.9677019119,
                          0.2346340607
                        ],
                        "passed_time": 206.5194725,
                        "iteration": 525,
                        "remaining_time": 186.1030988,
                        "learn": [
                          0.9634057283,
                          0.2540907217
                        ]
                      },
                      {
                        "test": [
                          0.9677055478,
                          0.2346181133
                        ],
                        "passed_time": 206.9287501,
                        "iteration": 526,
                        "remaining_time": 185.7254246,
                        "learn": [
                          0.9634305239,
                          0.2540364514
                        ]
                      },
                      {
                        "test": [
                          0.967697084,
                          0.2346203761
                        ],
                        "passed_time": 207.3312455,
                        "iteration": 527,
                        "remaining_time": 185.341568,
                        "learn": [
                          0.9634527862,
                          0.2539868955
                        ]
                      },
                      {
                        "test": [
                          0.9677166939,
                          0.2345205427
                        ],
                        "passed_time": 207.6914079,
                        "iteration": 528,
                        "remaining_time": 184.9199492,
                        "learn": [
                          0.9634882808,
                          0.2538601916
                        ]
                      },
                      {
                        "test": [
                          0.967734158,
                          0.2344552711
                        ],
                        "passed_time": 208.1175343,
                        "iteration": 529,
                        "remaining_time": 184.5570587,
                        "learn": [
                          0.9635266662,
                          0.253739664
                        ]
                      },
                      {
                        "test": [
                          0.9677408338,
                          0.2344356331
                        ],
                        "passed_time": 208.5358473,
                        "iteration": 530,
                        "remaining_time": 184.187029,
                        "learn": [
                          0.9635478258,
                          0.2536717987
                        ]
                      },
                      {
                        "test": [
                          0.96774894,
                          0.2344026067
                        ],
                        "passed_time": 208.9284245,
                        "iteration": 531,
                        "remaining_time": 183.7941779,
                        "learn": [
                          0.9635683298,
                          0.2536011559
                        ]
                      },
                      {
                        "test": [
                          0.9677551389,
                          0.234355761
                        ],
                        "passed_time": 209.3198077,
                        "iteration": 532,
                        "remaining_time": 183.4002818,
                        "learn": [
                          0.9635878801,
                          0.2535292157
                        ]
                      },
                      {
                        "test": [
                          0.9677529335,
                          0.2343560304
                        ],
                        "passed_time": 209.70768,
                        "iteration": 533,
                        "remaining_time": 183.0033312,
                        "learn": [
                          0.9635955095,
                          0.2535121489
                        ]
                      },
                      {
                        "test": [
                          0.9677462578,
                          0.23435269
                        ],
                        "passed_time": 210.0805217,
                        "iteration": 534,
                        "remaining_time": 182.5933506,
                        "learn": [
                          0.9636180401,
                          0.253467015
                        ]
                      },
                      {
                        "test": [
                          0.9677516818,
                          0.2343371466
                        ],
                        "passed_time": 210.47495,
                        "iteration": 535,
                        "remaining_time": 182.2021956,
                        "learn": [
                          0.9636428356,
                          0.2534182448
                        ]
                      },
                      {
                        "test": [
                          0.967751503,
                          0.2343150572
                        ],
                        "passed_time": 210.8584062,
                        "iteration": 536,
                        "remaining_time": 181.8015681,
                        "learn": [
                          0.963676244,
                          0.2533310833
                        ]
                      },
                      {
                        "test": [
                          0.9677559733,
                          0.2342883613
                        ],
                        "passed_time": 211.2146319,
                        "iteration": 537,
                        "remaining_time": 181.3776207,
                        "learn": [
                          0.9636920094,
                          0.2532843962
                        ]
                      },
                      {
                        "test": [
                          0.9677689075,
                          0.2342500012
                        ],
                        "passed_time": 211.630597,
                        "iteration": 538,
                        "remaining_time": 181.005019,
                        "learn": [
                          0.9637234807,
                          0.2532008711
                        ]
                      },
                      {
                        "test": [
                          0.9677645564,
                          0.2342434013
                        ],
                        "passed_time": 212.0484426,
                        "iteration": 539,
                        "remaining_time": 180.6338585,
                        "learn": [
                          0.963753283,
                          0.2531245637
                        ]
                      },
                      {
                        "test": [
                          0.967784822,
                          0.2341891206
                        ],
                        "passed_time": 212.3794748,
                        "iteration": 540,
                        "remaining_time": 180.1888705,
                        "learn": [
                          0.9637858272,
                          0.2530416416
                        ]
                      },
                      {
                        "test": [
                          0.9677900076,
                          0.2341668426
                        ],
                        "passed_time": 212.8019522,
                        "iteration": 541,
                        "remaining_time": 179.8215759,
                        "learn": [
                          0.9638094306,
                          0.2529830041
                        ]
                      },
                      {
                        "test": [
                          0.967792511,
                          0.2341473392
                        ],
                        "passed_time": 213.2041498,
                        "iteration": 542,
                        "remaining_time": 179.4370101,
                        "learn": [
                          0.9638302922,
                          0.2529276374
                        ]
                      },
                      {
                        "test": [
                          0.9678096771,
                          0.2340794816
                        ],
                        "passed_time": 213.580929,
                        "iteration": 543,
                        "remaining_time": 179.0310728,
                        "learn": [
                          0.9638594389,
                          0.2528385207
                        ]
                      },
                      {
                        "test": [
                          0.9678087831,
                          0.2340765992
                        ],
                        "passed_time": 213.9772013,
                        "iteration": 544,
                        "remaining_time": 178.6415167,
                        "learn": [
                          0.963873744,
                          0.2528093208
                        ]
                      },
                      {
                        "test": [
                          0.9679738283,
                          0.2333159689
                        ],
                        "passed_time": 214.3051717,
                        "iteration": 545,
                        "remaining_time": 178.1951427,
                        "learn": [
                          0.9639881849,
                          0.2522582485
                        ]
                      },
                      {
                        "test": [
                          0.9679734111,
                          0.2332928289
                        ],
                        "passed_time": 214.7160572,
                        "iteration": 546,
                        "remaining_time": 177.8178682,
                        "learn": [
                          0.9640091062,
                          0.252196395
                        ]
                      },
                      {
                        "test": [
                          0.9679816961,
                          0.233249108
                        ],
                        "passed_time": 215.1525458,
                        "iteration": 547,
                        "remaining_time": 177.4615888,
                        "learn": [
                          0.9640248418,
                          0.2521263369
                        ]
                      },
                      {
                        "test": [
                          0.9679846168,
                          0.2332260757
                        ],
                        "passed_time": 215.542833,
                        "iteration": 548,
                        "remaining_time": 177.0670632,
                        "learn": [
                          0.964035213,
                          0.2520875985
                        ]
                      },
                      {
                        "test": [
                          0.9680023789,
                          0.2331788529
                        ],
                        "passed_time": 215.9513477,
                        "iteration": 549,
                        "remaining_time": 176.6874663,
                        "learn": [
                          0.9640655816,
                          0.2520099207
                        ]
                      },
                      {
                        "test": [
                          0.9680195451,
                          0.2331366675
                        ],
                        "passed_time": 216.3769595,
                        "iteration": 550,
                        "remaining_time": 176.3216966,
                        "learn": [
                          0.964099884,
                          0.2519376151
                        ]
                      },
                      {
                        "test": [
                          0.9680305719,
                          0.2331250301
                        ],
                        "passed_time": 216.777176,
                        "iteration": 551,
                        "remaining_time": 175.9350994,
                        "learn": [
                          0.9641166925,
                          0.2519096211
                        ]
                      },
                      {
                        "test": [
                          0.9680529833,
                          0.2330514346
                        ],
                        "passed_time": 217.1932803,
                        "iteration": 552,
                        "remaining_time": 175.5612953,
                        "learn": [
                          0.9641618729,
                          0.2517965488
                        ]
                      },
                      {
                        "test": [
                          0.9680541158,
                          0.2330419523
                        ],
                        "passed_time": 217.5238322,
                        "iteration": 553,
                        "remaining_time": 175.1184642,
                        "learn": [
                          0.9641802907,
                          0.2517544664
                        ]
                      },
                      {
                        "test": [
                          0.9680663347,
                          0.2330177348
                        ],
                        "passed_time": 217.9505832,
                        "iteration": 554,
                        "remaining_time": 174.7531703,
                        "learn": [
                          0.9642072916,
                          0.2516896161
                        ]
                      },
                      {
                        "test": [
                          0.9680723548,
                          0.2329801289
                        ],
                        "passed_time": 218.2957005,
                        "iteration": 555,
                        "remaining_time": 174.3224659,
                        "learn": [
                          0.964225173,
                          0.2516290051
                        ]
                      },
                      {
                        "test": [
                          0.9680723548,
                          0.2329581742
                        ],
                        "passed_time": 218.7301631,
                        "iteration": 556,
                        "remaining_time": 173.963128,
                        "learn": [
                          0.9642352462,
                          0.2515911438
                        ]
                      },
                      {
                        "test": [
                          0.9680734873,
                          0.2329539718
                        ],
                        "passed_time": 219.0795978,
                        "iteration": 557,
                        "remaining_time": 173.5361688,
                        "learn": [
                          0.9642398953,
                          0.2515757581
                        ]
                      },
                      {
                        "test": [
                          0.96807307,
                          0.2329395598
                        ],
                        "passed_time": 219.5018334,
                        "iteration": 558,
                        "remaining_time": 173.1669204,
                        "learn": [
                          0.9642671347,
                          0.2515010953
                        ]
                      },
                      {
                        "test": [
                          0.9680848718,
                          0.2329137259
                        ],
                        "passed_time": 219.9346902,
                        "iteration": 559,
                        "remaining_time": 172.805828,
                        "learn": [
                          0.9642990232,
                          0.2514311834
                        ]
                      },
                      {
                        "test": [
                          0.9680879116,
                          0.2328917173
                        ],
                        "passed_time": 220.2562971,
                        "iteration": 560,
                        "remaining_time": 172.3574232,
                        "learn": [
                          0.9643189907,
                          0.2513682152
                        ]
                      },
                      {
                        "test": [
                          0.9680843949,
                          0.2328972666
                        ],
                        "passed_time": 220.6639615,
                        "iteration": 561,
                        "remaining_time": 171.9765394,
                        "learn": [
                          0.9643325508,
                          0.2513328024
                        ]
                      },
                      {
                        "test": [
                          0.9680920243,
                          0.2328746384
                        ],
                        "passed_time": 221.1173386,
                        "iteration": 562,
                        "remaining_time": 171.6310426,
                        "learn": [
                          0.9643565416,
                          0.2512780936
                        ]
                      },
                      {
                        "test": [
                          0.9680921435,
                          0.2328581253
                        ],
                        "passed_time": 221.4621152,
                        "iteration": 563,
                        "remaining_time": 171.2012097,
                        "learn": [
                          0.9643796086,
                          0.2512170075
                        ]
                      },
                      {
                        "test": [
                          0.9680934548,
                          0.2328535727
                        ],
                        "passed_time": 221.894264,
                        "iteration": 564,
                        "remaining_time": 170.8389466,
                        "learn": [
                          0.9644066691,
                          0.2511594663
                        ]
                      },
                      {
                        "test": [
                          0.9681031704,
                          0.2328256107
                        ],
                        "passed_time": 222.2863184,
                        "iteration": 565,
                        "remaining_time": 170.4456929,
                        "learn": [
                          0.9644219875,
                          0.2511189372
                        ]
                      },
                      {
                        "test": [
                          0.968118012,
                          0.2327613898
                        ],
                        "passed_time": 222.7056611,
                        "iteration": 566,
                        "remaining_time": 170.0732826,
                        "learn": [
                          0.9644488096,
                          0.2510176326
                        ]
                      },
                      {
                        "test": [
                          0.9681307077,
                          0.2327188811
                        ],
                        "passed_time": 223.1518522,
                        "iteration": 567,
                        "remaining_time": 169.721127,
                        "learn": [
                          0.9644837976,
                          0.2509342536
                        ]
                      },
                      {
                        "test": [
                          0.9681298137,
                          0.2327030144
                        ],
                        "passed_time": 223.553042,
                        "iteration": 568,
                        "remaining_time": 169.3345538,
                        "learn": [
                          0.9645055532,
                          0.2508667355
                        ]
                      },
                      {
                        "test": [
                          0.968139112,
                          0.2326670248
                        ],
                        "passed_time": 223.9506485,
                        "iteration": 569,
                        "remaining_time": 168.9452261,
                        "learn": [
                          0.9645278454,
                          0.2507987971
                        ]
                      },
                      {
                        "test": [
                          0.9682027698,
                          0.2323493951
                        ],
                        "passed_time": 224.326168,
                        "iteration": 570,
                        "remaining_time": 168.5392751,
                        "learn": [
                          0.9645634294,
                          0.2505762156
                        ]
                      },
                      {
                        "test": [
                          0.9682177901,
                          0.2322844469
                        ],
                        "passed_time": 224.6608699,
                        "iteration": 571,
                        "remaining_time": 168.1028887,
                        "learn": [
                          0.9645989239,
                          0.2504569854
                        ]
                      },
                      {
                        "test": [
                          0.968228817,
                          0.2322440394
                        ],
                        "passed_time": 225.0702757,
                        "iteration": 572,
                        "remaining_time": 167.7225266,
                        "learn": [
                          0.9646269679,
                          0.2503626793
                        ]
                      },
                      {
                        "test": [
                          0.9682631493,
                          0.2321436942
                        ],
                        "passed_time": 225.4857708,
                        "iteration": 573,
                        "remaining_time": 167.3465825,
                        "learn": [
                          0.9646659493,
                          0.2502533346
                        ]
                      },
                      {
                        "test": [
                          0.9682738185,
                          0.2321151395
                        ],
                        "passed_time": 225.8810402,
                        "iteration": 574,
                        "remaining_time": 166.9555515,
                        "learn": [
                          0.9646939635,
                          0.2501822715
                        ]
                      },
                      {
                        "test": [
                          0.9682875276,
                          0.2320570875
                        ],
                        "passed_time": 226.3145099,
                        "iteration": 575,
                        "remaining_time": 166.5926253,
                        "learn": [
                          0.9647367597,
                          0.2500700215
                        ]
                      },
                      {
                        "test": [
                          0.9682931304,
                          0.2320269704
                        ],
                        "passed_time": 226.7205973,
                        "iteration": 576,
                        "remaining_time": 166.2093807,
                        "learn": [
                          0.9647527933,
                          0.2500074553
                        ]
                      },
                      {
                        "test": [
                          0.9682969451,
                          0.232012747
                        ],
                        "passed_time": 227.1130104,
                        "iteration": 577,
                        "remaining_time": 165.8160733,
                        "learn": [
                          0.9647672176,
                          0.2499730841
                        ]
                      },
                      {
                        "test": [
                          0.9682984948,
                          0.2320081136
                        ],
                        "passed_time": 227.5254578,
                        "iteration": 578,
                        "remaining_time": 165.4373363,
                        "learn": [
                          0.9647858739,
                          0.2499345467
                        ]
                      },
                      {
                        "test": [
                          0.9683153629,
                          0.2318938413
                        ],
                        "passed_time": 227.8604275,
                        "iteration": 579,
                        "remaining_time": 165.0023786,
                        "learn": [
                          0.9648132324,
                          0.2498064541
                        ]
                      },
                      {
                        "test": [
                          0.968320787,
                          0.2318734759
                        ],
                        "passed_time": 228.2587044,
                        "iteration": 580,
                        "remaining_time": 164.6134202,
                        "learn": [
                          0.9648358822,
                          0.2497595295
                        ]
                      },
                      {
                        "test": [
                          0.9683256149,
                          0.2318578517
                        ],
                        "passed_time": 228.6234077,
                        "iteration": 581,
                        "remaining_time": 164.2003169,
                        "learn": [
                          0.9648481607,
                          0.2497227462
                        ]
                      },
                      {
                        "test": [
                          0.9683334827,
                          0.231836759
                        ],
                        "passed_time": 229.0181694,
                        "iteration": 582,
                        "remaining_time": 163.8088793,
                        "learn": [
                          0.964866817,
                          0.2496752369
                        ]
                      },
                      {
                        "test": [
                          0.9683395028,
                          0.2318139153
                        ],
                        "passed_time": 229.4395964,
                        "iteration": 583,
                        "remaining_time": 163.4364248,
                        "learn": [
                          0.9648858905,
                          0.2496274351
                        ]
                      },
                      {
                        "test": [
                          0.9683536291,
                          0.2317689552
                        ],
                        "passed_time": 229.8342451,
                        "iteration": 584,
                        "remaining_time": 163.0448064,
                        "learn": [
                          0.9649106264,
                          0.2495578339
                        ]
                      },
                      {
                        "test": [
                          0.968449235,
                          0.2314360246
                        ],
                        "passed_time": 230.1644591,
                        "iteration": 585,
                        "remaining_time": 162.6076554,
                        "learn": [
                          0.9650166631,
                          0.2492522207
                        ]
                      },
                      {
                        "test": [
                          0.9684472084,
                          0.2314100022
                        ],
                        "passed_time": 230.5740894,
                        "iteration": 586,
                        "remaining_time": 162.2267443,
                        "learn": [
                          0.9650422335,
                          0.2491645294
                        ]
                      },
                      {
                        "test": [
                          0.9684551358,
                          0.2313798851
                        ],
                        "passed_time": 231.0069491,
                        "iteration": 587,
                        "remaining_time": 161.862012,
                        "learn": [
                          0.9650654197,
                          0.2490983817
                        ]
                      },
                      {
                        "test": [
                          0.9684599638,
                          0.2313469126
                        ],
                        "passed_time": 231.4575101,
                        "iteration": 588,
                        "remaining_time": 161.5094001,
                        "learn": [
                          0.9650806189,
                          0.2490525169
                        ]
                      },
                      {
                        "test": [
                          0.9684627652,
                          0.2313295374
                        ],
                        "passed_time": 231.833884,
                        "iteration": 589,
                        "remaining_time": 161.1049024,
                        "learn": [
                          0.9650962353,
                          0.24900879
                        ]
                      },
                      {
                        "test": [
                          0.9684718847,
                          0.2313055623
                        ],
                        "passed_time": 232.2576672,
                        "iteration": 590,
                        "remaining_time": 160.7333095,
                        "learn": [
                          0.9651145935,
                          0.2489638753
                        ]
                      },
                      {
                        "test": [
                          0.9684562087,
                          0.2313065321
                        ],
                        "passed_time": 232.6800442,
                        "iteration": 591,
                        "remaining_time": 160.360571,
                        "learn": [
                          0.9651485085,
                          0.2488787239
                        ]
                      },
                      {
                        "test": [
                          0.9684519172,
                          0.2313036497
                        ],
                        "passed_time": 233.0604237,
                        "iteration": 592,
                        "remaining_time": 159.9588406,
                        "learn": [
                          0.9651689529,
                          0.248830173
                        ]
                      },
                      {
                        "test": [
                          0.9684715271,
                          0.2312432809
                        ],
                        "passed_time": 233.4917165,
                        "iteration": 593,
                        "remaining_time": 159.5919813,
                        "learn": [
                          0.9652064443,
                          0.2487321758
                        ]
                      },
                      {
                        "test": [
                          0.9684742093,
                          0.2312249898
                        ],
                        "passed_time": 233.9163017,
                        "iteration": 594,
                        "remaining_time": 159.2203398,
                        "learn": [
                          0.9652302265,
                          0.2486721312
                        ]
                      },
                      {
                        "test": [
                          0.9684895873,
                          0.2311675573
                        ],
                        "passed_time": 234.3165599,
                        "iteration": 595,
                        "remaining_time": 158.8320306,
                        "learn": [
                          0.9652578235,
                          0.248584312
                        ]
                      },
                      {
                        "test": [
                          0.9684993625,
                          0.2311357701
                        ],
                        "passed_time": 234.7540749,
                        "iteration": 596,
                        "remaining_time": 158.4688311,
                        "learn": [
                          0.9652878642,
                          0.2485072189
                        ]
                      },
                      {
                        "test": [
                          0.968508184,
                          0.2311058147
                        ],
                        "passed_time": 235.1557553,
                        "iteration": 597,
                        "remaining_time": 158.0812937,
                        "learn": [
                          0.9653116465,
                          0.2484356807
                        ]
                      },
                      {
                        "test": [
                          0.9685131907,
                          0.2311016392
                        ],
                        "passed_time": 235.5350185,
                        "iteration": 598,
                        "remaining_time": 157.6787019,
                        "learn": [
                          0.9653358459,
                          0.2483932329
                        ]
                      },
                      {
                        "test": [
                          0.9685118794,
                          0.2310924533
                        ],
                        "passed_time": 235.9855709,
                        "iteration": 599,
                        "remaining_time": 157.3237139,
                        "learn": [
                          0.9653574228,
                          0.2483421786
                        ]
                      },
                      {
                        "test": [
                          0.9685052633,
                          0.2310965748
                        ],
                        "passed_time": 236.3806514,
                        "iteration": 600,
                        "remaining_time": 156.9315805,
                        "learn": [
                          0.9653664827,
                          0.2483142943
                        ]
                      },
                      {
                        "test": [
                          0.9685140252,
                          0.2310546588
                        ],
                        "passed_time": 236.7821763,
                        "iteration": 601,
                        "remaining_time": 156.5436979,
                        "learn": [
                          0.9653849006,
                          0.2482555288
                        ]
                      },
                      {
                        "test": [
                          0.968519032,
                          0.2310387921
                        ],
                        "passed_time": 237.1893021,
                        "iteration": 602,
                        "remaining_time": 156.1594576,
                        "learn": [
                          0.9654036164,
                          0.2482136475
                        ]
                      },
                      {
                        "test": [
                          0.9685258865,
                          0.2309843767
                        ],
                        "passed_time": 237.5788937,
                        "iteration": 603,
                        "remaining_time": 155.7636455,
                        "learn": [
                          0.9654209018,
                          0.2481391857
                        ]
                      },
                      {
                        "test": [
                          0.9685257077,
                          0.2309803899
                        ],
                        "passed_time": 237.9915087,
                        "iteration": 604,
                        "remaining_time": 155.3828859,
                        "learn": [
                          0.9654304385,
                          0.2481104425
                        ]
                      },
                      {
                        "test": [
                          0.9685294628,
                          0.2309707729
                        ],
                        "passed_time": 238.396928,
                        "iteration": 605,
                        "remaining_time": 154.9973426,
                        "learn": [
                          0.9654452801,
                          0.2480644315
                        ]
                      },
                      {
                        "test": [
                          0.9685499668,
                          0.2308994133
                        ],
                        "passed_time": 238.8226778,
                        "iteration": 606,
                        "remaining_time": 154.6248968,
                        "learn": [
                          0.9654844999,
                          0.2479534423
                        ]
                      },
                      {
                        "test": [
                          0.9685822725,
                          0.2307988256
                        ],
                        "passed_time": 239.2096351,
                        "iteration": 607,
                        "remaining_time": 154.2272647,
                        "learn": [
                          0.9655322433,
                          0.2478358748
                        ]
                      },
                      {
                        "test": [
                          0.9685824513,
                          0.230783794
                        ],
                        "passed_time": 239.6333923,
                        "iteration": 608,
                        "remaining_time": 153.8532946,
                        "learn": [
                          0.9655488729,
                          0.2477752456
                        ]
                      },
                      {
                        "test": [
                          0.9685872793,
                          0.2307632132
                        ],
                        "passed_time": 240.0383825,
                        "iteration": 609,
                        "remaining_time": 153.4671626,
                        "learn": [
                          0.9655681252,
                          0.2477237162
                        ]
                      },
                      {
                        "test": [
                          0.9685966372,
                          0.2307309141
                        ],
                        "passed_time": 240.4145454,
                        "iteration": 610,
                        "remaining_time": 153.0626156,
                        "learn": [
                          0.9655887485,
                          0.2476652614
                        ]
                      },
                      {
                        "test": [
                          0.9685978293,
                          0.2307212702
                        ],
                        "passed_time": 240.7505203,
                        "iteration": 611,
                        "remaining_time": 152.6326828,
                        "learn": [
                          0.9655988216,
                          0.2476409219
                        ]
                      },
                      {
                        "test": [
                          0.9686104059,
                          0.2306999081
                        ],
                        "passed_time": 241.1870777,
                        "iteration": 612,
                        "remaining_time": 152.2665564,
                        "learn": [
                          0.9656247497,
                          0.2475887347
                        ]
                      },
                      {
                        "test": [
                          0.9686066508,
                          0.2306726735
                        ],
                        "passed_time": 241.571324,
                        "iteration": 613,
                        "remaining_time": 151.8673144,
                        "learn": [
                          0.9656397104,
                          0.2475230804
                        ]
                      },
                      {
                        "test": [
                          0.9686128497,
                          0.2306530085
                        ],
                        "passed_time": 241.8518496,
                        "iteration": 614,
                        "remaining_time": 151.4031904,
                        "learn": [
                          0.9656517506,
                          0.2474926196
                        ]
                      },
                      {
                        "test": [
                          0.9686186314,
                          0.2306391892
                        ],
                        "passed_time": 242.1718162,
                        "iteration": 615,
                        "remaining_time": 150.964249,
                        "learn": [
                          0.9656653702,
                          0.2474523463
                        ]
                      },
                      {
                        "test": [
                          0.96862185,
                          0.2306267975
                        ],
                        "passed_time": 242.530082,
                        "iteration": 616,
                        "remaining_time": 150.5494674,
                        "learn": [
                          0.9656720757,
                          0.2474232194
                        ]
                      },
                      {
                        "test": [
                          0.9686124325,
                          0.230637061
                        ],
                        "passed_time": 242.9485776,
                        "iteration": 617,
                        "remaining_time": 150.1720982,
                        "learn": [
                          0.965692699,
                          0.2473790356
                        ]
                      },
                      {
                        "test": [
                          0.9686488509,
                          0.2304241675
                        ],
                        "passed_time": 243.2699837,
                        "iteration": 618,
                        "remaining_time": 149.7348365,
                        "learn": [
                          0.9657303691,
                          0.2472055716
                        ]
                      },
                      {
                        "test": [
                          0.9686403275,
                          0.2304279119
                        ],
                        "passed_time": 243.6687085,
                        "iteration": 619,
                        "remaining_time": 149.3453375,
                        "learn": [
                          0.96574229,
                          0.247172516
                        ]
                      },
                      {
                        "test": [
                          0.9686466455,
                          0.2304016201
                        ],
                        "passed_time": 244.1025524,
                        "iteration": 620,
                        "remaining_time": 148.9772421,
                        "learn": [
                          0.9657568932,
                          0.2471256828
                        ]
                      },
                      {
                        "test": [
                          0.9686532021,
                          0.2303891746
                        ],
                        "passed_time": 244.4898741,
                        "iteration": 621,
                        "remaining_time": 148.580663,
                        "learn": [
                          0.9657836556,
                          0.2470643043
                        ]
                      },
                      {
                        "test": [
                          0.9686526656,
                          0.2303850531
                        ],
                        "passed_time": 244.8858124,
                        "iteration": 622,
                        "remaining_time": 148.1893279,
                        "learn": [
                          0.9658033848,
                          0.2470217651
                        ]
                      },
                      {
                        "test": [
                          0.9686493278,
                          0.2303717186
                        ],
                        "passed_time": 245.2755718,
                        "iteration": 623,
                        "remaining_time": 147.7942548,
                        "learn": [
                          0.9658128023,
                          0.2469827526
                        ]
                      },
                      {
                        "test": [
                          0.9686493874,
                          0.2303666542
                        ],
                        "passed_time": 245.642961,
                        "iteration": 624,
                        "remaining_time": 147.3857766,
                        "learn": [
                          0.9658188224,
                          0.2469641509
                        ]
                      },
                      {
                        "test": [
                          0.9686744809,
                          0.2302892065
                        ],
                        "passed_time": 246.0729008,
                        "iteration": 625,
                        "remaining_time": 147.0148002,
                        "learn": [
                          0.9658583403,
                          0.2468546783
                        ]
                      },
                      {
                        "test": [
                          0.9686784744,
                          0.2302751447
                        ],
                        "passed_time": 246.4778725,
                        "iteration": 626,
                        "remaining_time": 146.6287822,
                        "learn": [
                          0.9658796191,
                          0.2468090876
                        ]
                      },
                      {
                        "test": [
                          0.9686801434,
                          0.2302603825
                        ],
                        "passed_time": 246.8647168,
                        "iteration": 627,
                        "remaining_time": 146.231966,
                        "learn": [
                          0.9658980966,
                          0.2467639537
                        ]
                      },
                      {
                        "test": [
                          0.9686883688,
                          0.2302332287
                        ],
                        "passed_time": 247.2892849,
                        "iteration": 628,
                        "remaining_time": 145.857432,
                        "learn": [
                          0.9659240842,
                          0.2466957046
                        ]
                      },
                      {
                        "test": [
                          0.9687024355,
                          0.2301908009
                        ],
                        "passed_time": 247.6838204,
                        "iteration": 629,
                        "remaining_time": 145.4651009,
                        "learn": [
                          0.965950489,
                          0.2466274556
                        ]
                      },
                      {
                        "test": [
                          0.9687064886,
                          0.2301707049
                        ],
                        "passed_time": 248.0278972,
                        "iteration": 630,
                        "remaining_time": 145.0432553,
                        "learn": [
                          0.9659636021,
                          0.2465789595
                        ]
                      },
                      {
                        "test": [
                          0.9687034488,
                          0.2301739914
                        ],
                        "passed_time": 248.4180819,
                        "iteration": 631,
                        "remaining_time": 144.6485034,
                        "learn": [
                          0.9659771919,
                          0.2465429803
                        ]
                      },
                      {
                        "test": [
                          0.9687212706,
                          0.2301156968
                        ],
                        "passed_time": 248.8701417,
                        "iteration": 632,
                        "remaining_time": 144.2896398,
                        "learn": [
                          0.9660200477,
                          0.2464331057
                        ]
                      },
                      {
                        "test": [
                          0.9687231183,
                          0.2301124104
                        ],
                        "passed_time": 249.2552023,
                        "iteration": 633,
                        "remaining_time": 143.8918045,
                        "learn": [
                          0.9660326838,
                          0.2464056234
                        ]
                      },
                      {
                        "test": [
                          0.9687296748,
                          0.230104275
                        ],
                        "passed_time": 249.6002295,
                        "iteration": 634,
                        "remaining_time": 143.4709981,
                        "learn": [
                          0.966052115,
                          0.2463664098
                        ]
                      },
                      {
                        "test": [
                          0.968732357,
                          0.230071976
                        ],
                        "passed_time": 250.030773,
                        "iteration": 635,
                        "remaining_time": 143.0993732,
                        "learn": [
                          0.9660660028,
                          0.2462968634
                        ]
                      },
                      {
                        "test": [
                          0.9687328935,
                          0.2300578872
                        ],
                        "passed_time": 250.4320932,
                        "iteration": 636,
                        "remaining_time": 142.7109103,
                        "learn": [
                          0.9660755992,
                          0.2462541415
                        ]
                      },
                      {
                        "test": [
                          0.9688475728,
                          0.2295258016
                        ],
                        "passed_time": 250.8326948,
                        "iteration": 637,
                        "remaining_time": 142.3219992,
                        "learn": [
                          0.9661357403,
                          0.2458879904
                        ]
                      },
                      {
                        "test": [
                          0.9688584805,
                          0.2294834545
                        ],
                        "passed_time": 251.1991521,
                        "iteration": 638,
                        "remaining_time": 141.913762,
                        "learn": [
                          0.9661682844,
                          0.2458067677
                        ]
                      },
                      {
                        "test": [
                          0.9688696861,
                          0.2294197454
                        ],
                        "passed_time": 251.4962549,
                        "iteration": 639,
                        "remaining_time": 141.4666434,
                        "learn": [
                          0.9661841393,
                          0.2457310085
                        ]
                      },
                      {
                        "test": [
                          0.9688761234,
                          0.2293908137
                        ],
                        "passed_time": 251.8410263,
                        "iteration": 640,
                        "remaining_time": 141.0466902,
                        "learn": [
                          0.9662007093,
                          0.2456749109
                        ]
                      },
                      {
                        "test": [
                          0.9688919783,
                          0.2293104297
                        ],
                        "passed_time": 252.1780978,
                        "iteration": 641,
                        "remaining_time": 140.6226776,
                        "learn": [
                          0.9662191272,
                          0.2455988593
                        ]
                      },
                      {
                        "test": [
                          0.9688802958,
                          0.2293191847
                        ],
                        "passed_time": 252.5057135,
                        "iteration": 642,
                        "remaining_time": 140.1936854,
                        "learn": [
                          0.9662353992,
                          0.2455422866
                        ]
                      },
                      {
                        "test": [
                          0.9688836932,
                          0.2292937818
                        ],
                        "passed_time": 252.8782334,
                        "iteration": 643,
                        "remaining_time": 139.7898309,
                        "learn": [
                          0.9662495852,
                          0.2454975913
                        ]
                      },
                      {
                        "test": [
                          0.9688860178,
                          0.2292761103
                        ],
                        "passed_time": 253.2826094,
                        "iteration": 644,
                        "remaining_time": 139.4036067,
                        "learn": [
                          0.9662621617,
                          0.2454558013
                        ]
                      },
                      {
                        "test": [
                          0.9688853025,
                          0.2292789927
                        ],
                        "passed_time": 253.5577062,
                        "iteration": 645,
                        "remaining_time": 138.946483,
                        "learn": [
                          0.9662707448,
                          0.245437163
                        ]
                      },
                      {
                        "test": [
                          0.9688897133,
                          0.2292581425
                        ],
                        "passed_time": 253.9606214,
                        "iteration": 646,
                        "remaining_time": 138.5596589,
                        "learn": [
                          0.9662905931,
                          0.245375748
                        ]
                      },
                      {
                        "test": [
                          0.9688999653,
                          0.2292341943
                        ],
                        "passed_time": 254.3168242,
                        "iteration": 647,
                        "remaining_time": 138.1474107,
                        "learn": [
                          0.9663128257,
                          0.2453289147
                        ]
                      },
                      {
                        "test": [
                          0.9689062238,
                          0.2292100845
                        ],
                        "passed_time": 254.7351197,
                        "iteration": 648,
                        "remaining_time": 137.7689168,
                        "learn": [
                          0.9663227201,
                          0.2452983443
                        ]
                      },
                      {
                        "test": [
                          0.9689130783,
                          0.2291902579
                        ],
                        "passed_time": 255.1866884,
                        "iteration": 649,
                        "remaining_time": 137.4082168,
                        "learn": [
                          0.9663438797,
                          0.245248295
                        ]
                      },
                      {
                        "test": [
                          0.9689272046,
                          0.2291052675
                        ],
                        "passed_time": 255.6325731,
                        "iteration": 650,
                        "remaining_time": 137.0441905,
                        "learn": [
                          0.9663699269,
                          0.2451481781
                        ]
                      },
                      {
                        "test": [
                          0.9689313173,
                          0.2290932261
                        ],
                        "passed_time": 255.9645209,
                        "iteration": 651,
                        "remaining_time": 136.6191001,
                        "learn": [
                          0.9663840532,
                          0.2451115593
                        ]
                      },
                      {
                        "test": [
                          0.9689313173,
                          0.2290925526
                        ],
                        "passed_time": 256.3709791,
                        "iteration": 652,
                        "remaining_time": 136.2338893,
                        "learn": [
                          0.9663959742,
                          0.2450831633
                        ]
                      },
                      {
                        "test": [
                          0.9689438343,
                          0.2290023901
                        ],
                        "passed_time": 256.6949287,
                        "iteration": 653,
                        "remaining_time": 135.8049623,
                        "learn": [
                          0.9664092064,
                          0.2450106567
                        ]
                      },
                      {
                        "test": [
                          0.968955636,
                          0.2289766909
                        ],
                        "passed_time": 256.9830423,
                        "iteration": 654,
                        "remaining_time": 135.3574803,
                        "learn": [
                          0.966432929,
                          0.2449564412
                        ]
                      },
                      {
                        "test": [
                          0.9689648747,
                          0.2289593426
                        ],
                        "passed_time": 257.3908806,
                        "iteration": 655,
                        "remaining_time": 134.9732666,
                        "learn": [
                          0.9664584994,
                          0.2448981691
                        ]
                      },
                      {
                        "test": [
                          0.96899122,
                          0.2288823529
                        ],
                        "passed_time": 257.8151882,
                        "iteration": 656,
                        "remaining_time": 134.5975792,
                        "learn": [
                          0.9664932489,
                          0.2448056903
                        ]
                      },
                      {
                        "test": [
                          0.9690051079,
                          0.2288346182
                        ],
                        "passed_time": 258.2006996,
                        "iteration": 657,
                        "remaining_time": 134.2015794,
                        "learn": [
                          0.9665148854,
                          0.2447366373
                        ]
                      },
                      {
                        "test": [
                          0.9690111279,
                          0.2288173238
                        ],
                        "passed_time": 258.5934287,
                        "iteration": 658,
                        "remaining_time": 133.8093463,
                        "learn": [
                          0.9665258527,
                          0.2446891279
                        ]
                      },
                      {
                        "test": [
                          0.9690303504,
                          0.2287337881
                        ],
                        "passed_time": 259.0225335,
                        "iteration": 659,
                        "remaining_time": 133.4358506,
                        "learn": [
                          0.966555357,
                          0.2445746668
                        ]
                      },
                      {
                        "test": [
                          0.9690417647,
                          0.2287162243
                        ],
                        "passed_time": 259.3483691,
                        "iteration": 660,
                        "remaining_time": 133.0092241,
                        "learn": [
                          0.9665655494,
                          0.2445456496
                        ]
                      },
                      {
                        "test": [
                          0.9690423608,
                          0.2287135574
                        ],
                        "passed_time": 259.7211775,
                        "iteration": 661,
                        "remaining_time": 132.6068852,
                        "learn": [
                          0.966575861,
                          0.2445095607
                        ]
                      },
                      {
                        "test": [
                          0.9690473676,
                          0.228671372
                        ],
                        "passed_time": 260.0114991,
                        "iteration": 662,
                        "remaining_time": 132.1627077,
                        "learn": [
                          0.9665860534,
                          0.2444565695
                        ]
                      },
                      {
                        "test": [
                          0.9690551162,
                          0.2286479626
                        ],
                        "passed_time": 260.4116606,
                        "iteration": 663,
                        "remaining_time": 131.7745752,
                        "learn": [
                          0.9666177034,
                          0.2443891975
                        ]
                      },
                      {
                        "test": [
                          0.9690650702,
                          0.2286133738
                        ],
                        "passed_time": 260.8130181,
                        "iteration": 664,
                        "remaining_time": 131.3870091,
                        "learn": [
                          0.9666602015,
                          0.244284549
                        ]
                      },
                      {
                        "test": [
                          0.9690780044,
                          0.2285815058
                        ],
                        "passed_time": 261.1655589,
                        "iteration": 665,
                        "remaining_time": 130.97492,
                        "learn": [
                          0.9666814804,
                          0.2442284697
                        ]
                      },
                      {
                        "test": [
                          0.9690899849,
                          0.2285527088
                        ],
                        "passed_time": 261.5495261,
                        "iteration": 666,
                        "remaining_time": 130.5786989,
                        "learn": [
                          0.9667056203,
                          0.2441757891
                        ]
                      },
                      {
                        "test": [
                          0.9690909982,
                          0.2285400477
                        ],
                        "passed_time": 261.9683287,
                        "iteration": 667,
                        "remaining_time": 130.199828,
                        "learn": [
                          0.9667218328,
                          0.244130107
                        ]
                      },
                      {
                        "test": [
                          0.9690783024,
                          0.2285493953
                        ],
                        "passed_time": 262.3505592,
                        "iteration": 668,
                        "remaining_time": 129.802743,
                        "learn": [
                          0.9667473733,
                          0.2440713415
                        ]
                      },
                      {
                        "test": [
                          0.9690751433,
                          0.2285490182
                        ],
                        "passed_time": 262.7552878,
                        "iteration": 669,
                        "remaining_time": 129.4167835,
                        "learn": [
                          0.966757834,
                          0.2440428542
                        ]
                      },
                      {
                        "test": [
                          0.9690743685,
                          0.2285326128
                        ],
                        "passed_time": 263.2040182,
                        "iteration": 670,
                        "remaining_time": 129.0523427,
                        "learn": [
                          0.9667755365,
                          0.2439876154
                        ]
                      },
                      {
                        "test": [
                          0.9690853357,
                          0.2285125168
                        ],
                        "passed_time": 263.5322043,
                        "iteration": 671,
                        "remaining_time": 128.628814,
                        "learn": [
                          0.9667969942,
                          0.243937292
                        ]
                      },
                      {
                        "test": [
                          0.9690825343,
                          0.2285257435
                        ],
                        "passed_time": 263.9195421,
                        "iteration": 672,
                        "remaining_time": 128.2343095,
                        "learn": [
                          0.966816783,
                          0.2438917561
                        ]
                      },
                      {
                        "test": [
                          0.9690824151,
                          0.2285213256
                        ],
                        "passed_time": 264.3380253,
                        "iteration": 673,
                        "remaining_time": 127.8548906,
                        "learn": [
                          0.9668207765,
                          0.2438757856
                        ]
                      },
                      {
                        "test": [
                          0.969106853,
                          0.2284471105
                        ],
                        "passed_time": 264.7392522,
                        "iteration": 674,
                        "remaining_time": 127.4670473,
                        "learn": [
                          0.9668468237,
                          0.2437955313
                        ]
                      },
                      {
                        "test": [
                          0.9691152573,
                          0.2284215461
                        ],
                        "passed_time": 265.1460391,
                        "iteration": 675,
                        "remaining_time": 127.0818294,
                        "learn": [
                          0.9668646455,
                          0.2437533759
                        ]
                      },
                      {
                        "test": [
                          0.9691355824,
                          0.2283623626
                        ],
                        "passed_time": 265.5759726,
                        "iteration": 676,
                        "remaining_time": 126.7075911,
                        "learn": [
                          0.966902554,
                          0.2436620117
                        ]
                      },
                      {
                        "test": [
                          0.9691355824,
                          0.2283531766
                        ],
                        "passed_time": 265.9680098,
                        "iteration": 677,
                        "remaining_time": 126.3151905,
                        "learn": [
                          0.9669162631,
                          0.2436082165
                        ]
                      },
                      {
                        "test": [
                          0.9691460133,
                          0.2283099137
                        ],
                        "passed_time": 266.3783339,
                        "iteration": 678,
                        "remaining_time": 125.9314362,
                        "learn": [
                          0.9669439793,
                          0.2435254223
                        ]
                      },
                      {
                        "test": [
                          0.9691448808,
                          0.2283286628
                        ],
                        "passed_time": 266.7159647,
                        "iteration": 679,
                        "remaining_time": 125.5133952,
                        "learn": [
                          0.9669535756,
                          0.2435082275
                        ]
                      },
                      {
                        "test": [
                          0.9691488743,
                          0.2283099406
                        ],
                        "passed_time": 267.1265263,
                        "iteration": 680,
                        "remaining_time": 125.1297531,
                        "learn": [
                          0.9669758081,
                          0.2434480733
                        ]
                      },
                      {
                        "test": [
                          0.9691485167,
                          0.2282987882
                        ],
                        "passed_time": 267.5223734,
                        "iteration": 681,
                        "remaining_time": 124.7391712,
                        "learn": [
                          0.966989994,
                          0.2434025192
                        ]
                      },
                      {
                        "test": [
                          0.9691491127,
                          0.2282991922
                        ],
                        "passed_time": 267.8799687,
                        "iteration": 682,
                        "remaining_time": 124.33082,
                        "learn": [
                          0.9669978619,
                          0.2433872065
                        ]
                      },
                      {
                        "test": [
                          0.9691500068,
                          0.2282896291
                        ],
                        "passed_time": 268.2305316,
                        "iteration": 683,
                        "remaining_time": 123.9193684,
                        "learn": [
                          0.9670141041,
                          0.2433417803
                        ]
                      },
                      {
                        "test": [
                          0.9691620469,
                          0.2282490062
                        ],
                        "passed_time": 268.6319531,
                        "iteration": 684,
                        "remaining_time": 123.5314821,
                        "learn": [
                          0.9670345187,
                          0.2432895565
                        ]
                      },
                      {
                        "test": [
                          0.9691661,
                          0.2282418944
                        ],
                        "passed_time": 269.0353593,
                        "iteration": 685,
                        "remaining_time": 123.1444647,
                        "learn": [
                          0.9670528173,
                          0.2432460854
                        ]
                      },
                      {
                        "test": [
                          0.9691865444,
                          0.228189257
                        ],
                        "passed_time": 269.4662052,
                        "iteration": 686,
                        "remaining_time": 122.7699014,
                        "learn": [
                          0.9670820832,
                          0.2431731951
                        ]
                      },
                      {
                        "test": [
                          0.9692000449,
                          0.2281492805
                        ],
                        "passed_time": 269.8490322,
                        "iteration": 687,
                        "remaining_time": 122.3733983,
                        "learn": [
                          0.9671031833,
                          0.2431181207
                        ]
                      },
                      {
                        "test": [
                          0.9691969156,
                          0.2281511393
                        ],
                        "passed_time": 270.1958723,
                        "iteration": 688,
                        "remaining_time": 121.9606913,
                        "learn": [
                          0.9671084881,
                          0.2430997748
                        ]
                      },
                      {
                        "test": [
                          0.9692537189,
                          0.2279387576
                        ],
                        "passed_time": 270.6676578,
                        "iteration": 689,
                        "remaining_time": 121.60431,
                        "learn": [
                          0.9671534896,
                          0.2429244104
                        ]
                      },
                      {
                        "test": [
                          0.9692615271,
                          0.2279233219
                        ],
                        "passed_time": 271.09716,
                        "iteration": 690,
                        "remaining_time": 121.2286866,
                        "learn": [
                          0.9671721458,
                          0.2428859826
                        ]
                      },
                      {
                        "test": [
                          0.9692691565,
                          0.2278880866
                        ],
                        "passed_time": 271.4597453,
                        "iteration": 691,
                        "remaining_time": 120.8231236,
                        "learn": [
                          0.9671772122,
                          0.2428535666
                        ]
                      },
                      {
                        "test": [
                          0.9692824483,
                          0.2278241081
                        ],
                        "passed_time": 271.8544698,
                        "iteration": 692,
                        "remaining_time": 120.4319224,
                        "learn": [
                          0.96720469,
                          0.2427563734
                        ]
                      },
                      {
                        "test": [
                          0.969291985,
                          0.2277912703
                        ],
                        "passed_time": 272.2207125,
                        "iteration": 693,
                        "remaining_time": 120.0281528,
                        "learn": [
                          0.9672352672,
                          0.2426791889
                        ]
                      },
                      {
                        "test": [
                          0.9693053365,
                          0.2277352116
                        ],
                        "passed_time": 272.5953693,
                        "iteration": 694,
                        "remaining_time": 119.6281836,
                        "learn": [
                          0.9672659039,
                          0.2425861254
                        ]
                      },
                      {
                        "test": [
                          0.96930933,
                          0.2277165703
                        ],
                        "passed_time": 272.9606758,
                        "iteration": 695,
                        "remaining_time": 119.2242032,
                        "learn": [
                          0.9672734141,
                          0.2425521927
                        ]
                      },
                      {
                        "test": [
                          0.9693142772,
                          0.2276839211
                        ],
                        "passed_time": 273.3643476,
                        "iteration": 696,
                        "remaining_time": 118.8370119,
                        "learn": [
                          0.9672914147,
                          0.2424833407
                        ]
                      },
                      {
                        "test": [
                          0.9693245292,
                          0.2276643639
                        ],
                        "passed_time": 273.6465718,
                        "iteration": 697,
                        "remaining_time": 118.3972273,
                        "learn": [
                          0.9673086405,
                          0.2424479096
                        ]
                      },
                      {
                        "test": [
                          0.9693242013,
                          0.2276591917
                        ],
                        "passed_time": 274.04834,
                        "iteration": 698,
                        "remaining_time": 118.009371,
                        "learn": [
                          0.9673088789,
                          0.2424315006
                        ]
                      },
                      {
                        "test": [
                          0.969332993,
                          0.2276289939
                        ],
                        "passed_time": 274.4379334,
                        "iteration": 699,
                        "remaining_time": 117.6162572,
                        "learn": [
                          0.9673393965,
                          0.2423475735
                        ]
                      },
                      {
                        "test": [
                          0.9693440199,
                          0.2275965601
                        ],
                        "passed_time": 274.8473663,
                        "iteration": 700,
                        "remaining_time": 117.2316156,
                        "learn": [
                          0.9673620462,
                          0.2422821202
                        ]
                      },
                      {
                        "test": [
                          0.9693621993,
                          0.2275504417
                        ],
                        "passed_time": 275.2181483,
                        "iteration": 701,
                        "remaining_time": 116.830496,
                        "learn": [
                          0.9673956931,
                          0.2421886181
                        ]
                      },
                      {
                        "test": [
                          0.9693650007,
                          0.2275459969
                        ],
                        "passed_time": 275.5476185,
                        "iteration": 702,
                        "remaining_time": 116.4120095,
                        "learn": [
                          0.9674012065,
                          0.2421718253
                        ]
                      },
                      {
                        "test": [
                          0.9693597555,
                          0.2275413905
                        ],
                        "passed_time": 275.9602197,
                        "iteration": 703,
                        "remaining_time": 116.0287287,
                        "learn": [
                          0.9674102068,
                          0.2421446171
                        ]
                      },
                      {
                        "test": [
                          0.9693644047,
                          0.2275215639
                        ],
                        "passed_time": 276.3535162,
                        "iteration": 704,
                        "remaining_time": 115.6372869,
                        "learn": [
                          0.9674200416,
                          0.2421050929
                        ]
                      },
                      {
                        "test": [
                          0.969391048,
                          0.2274319131
                        ],
                        "passed_time": 276.7738623,
                        "iteration": 705,
                        "remaining_time": 115.2571041,
                        "learn": [
                          0.9674551487,
                          0.2419978497
                        ]
                      },
                      {
                        "test": [
                          0.9693918824,
                          0.2274149689
                        ],
                        "passed_time": 277.1949124,
                        "iteration": 706,
                        "remaining_time": 114.8770995,
                        "learn": [
                          0.967476368,
                          0.2419365077
                        ]
                      },
                      {
                        "test": [
                          0.9693918228,
                          0.2274018769
                        ],
                        "passed_time": 277.5463086,
                        "iteration": 707,
                        "remaining_time": 114.4682516,
                        "learn": [
                          0.9674862623,
                          0.241896545
                        ]
                      },
                      {
                        "test": [
                          0.9694016576,
                          0.2273767165
                        ],
                        "passed_time": 277.9549452,
                        "iteration": 708,
                        "remaining_time": 114.0830593,
                        "learn": [
                          0.9675033689,
                          0.2418447233
                        ]
                      },
                      {
                        "test": [
                          0.9694051147,
                          0.2273417236
                        ],
                        "passed_time": 278.3905464,
                        "iteration": 709,
                        "remaining_time": 113.7088147,
                        "learn": [
                          0.9675179124,
                          0.2417687083
                        ]
                      },
                      {
                        "test": [
                          0.9694189429,
                          0.2273052492
                        ],
                        "passed_time": 278.7859846,
                        "iteration": 710,
                        "remaining_time": 113.3180725,
                        "learn": [
                          0.9675428271,
                          0.2417137801
                        ]
                      },
                      {
                        "test": [
                          0.9694087505,
                          0.2273192302
                        ],
                        "passed_time": 279.2168303,
                        "iteration": 711,
                        "remaining_time": 112.9416392,
                        "learn": [
                          0.9675644636,
                          0.2416682442
                        ]
                      },
                      {
                        "test": [
                          0.969491899,
                          0.226965126
                        ],
                        "passed_time": 279.6071878,
                        "iteration": 712,
                        "remaining_time": 112.5487558,
                        "learn": [
                          0.9676652551,
                          0.2413013622
                        ]
                      },
                      {
                        "test": [
                          0.9695079923,
                          0.2269075319
                        ],
                        "passed_time": 280.0134333,
                        "iteration": 713,
                        "remaining_time": 112.1622436,
                        "learn": [
                          0.9676856399,
                          0.2412359454
                        ]
                      },
                      {
                        "test": [
                          0.9695194364,
                          0.2268758793
                        ],
                        "passed_time": 280.4168502,
                        "iteration": 714,
                        "remaining_time": 111.7745487,
                        "learn": [
                          0.9677238464,
                          0.2411496246
                        ]
                      },
                      {
                        "test": [
                          0.9695193172,
                          0.2268724043
                        ],
                        "passed_time": 280.7990679,
                        "iteration": 715,
                        "remaining_time": 111.3784012,
                        "learn": [
                          0.9677497745,
                          0.2410866746
                        ]
                      },
                      {
                        "test": [
                          0.969519794,
                          0.2268662085
                        ],
                        "passed_time": 281.1784087,
                        "iteration": 716,
                        "remaining_time": 110.9811571,
                        "learn": [
                          0.9677607417,
                          0.241061385
                        ]
                      },
                      {
                        "test": [
                          0.9695239663,
                          0.2268441729
                        ],
                        "passed_time": 281.5979097,
                        "iteration": 717,
                        "remaining_time": 110.5997361,
                        "learn": [
                          0.9677690864,
                          0.2410141132
                        ]
                      },
                      {
                        "test": [
                          0.9695292711,
                          0.226831485
                        ],
                        "passed_time": 281.8822318,
                        "iteration": 718,
                        "remaining_time": 110.1653785,
                        "learn": [
                          0.9677939117,
                          0.2409623828
                        ]
                      },
                      {
                        "test": [
                          0.9695320725,
                          0.2268153489
                        ],
                        "passed_time": 282.2137333,
                        "iteration": 719,
                        "remaining_time": 109.7497852,
                        "learn": [
                          0.9678094983,
                          0.2409129548
                        ]
                      },
                      {
                        "test": [
                          0.9695563912,
                          0.2267413494
                        ],
                        "passed_time": 282.5593741,
                        "iteration": 720,
                        "remaining_time": 109.3398965,
                        "learn": [
                          0.9678429365,
                          0.2408282419
                        ]
                      },
                      {
                        "test": [
                          0.9695602059,
                          0.2267338067
                        ],
                        "passed_time": 282.9610225,
                        "iteration": 721,
                        "remaining_time": 108.9517511,
                        "learn": [
                          0.967874527,
                          0.2407549678
                        ]
                      },
                      {
                        "test": [
                          0.9695658088,
                          0.2267163776
                        ],
                        "passed_time": 283.3569874,
                        "iteration": 722,
                        "remaining_time": 108.5613908,
                        "learn": [
                          0.9678922296,
                          0.2407116064
                        ]
                      },
                      {
                        "test": [
                          0.9695733786,
                          0.2266897894
                        ],
                        "passed_time": 283.7326502,
                        "iteration": 723,
                        "remaining_time": 108.1632755,
                        "learn": [
                          0.9679276943,
                          0.2406299999
                        ]
                      },
                      {
                        "test": [
                          0.9695728421,
                          0.2266859373
                        ],
                        "passed_time": 284.1302754,
                        "iteration": 724,
                        "remaining_time": 107.7735527,
                        "learn": [
                          0.9679342508,
                          0.2406030657
                        ]
                      },
                      {
                        "test": [
                          0.9695735872,
                          0.2266870148
                        ],
                        "passed_time": 284.5332913,
                        "iteration": 725,
                        "remaining_time": 107.3858427,
                        "learn": [
                          0.9679455757,
                          0.2405769721
                        ]
                      },
                      {
                        "test": [
                          0.969589442,
                          0.2266309292
                        ],
                        "passed_time": 284.8332226,
                        "iteration": 726,
                        "remaining_time": 106.9593807,
                        "learn": [
                          0.9679671526,
                          0.2405010119
                        ]
                      },
                      {
                        "test": [
                          0.9695919156,
                          0.2266133116
                        ],
                        "passed_time": 285.2575968,
                        "iteration": 727,
                        "remaining_time": 106.5797615,
                        "learn": [
                          0.9679815769,
                          0.2404634795
                        ]
                      },
                      {
                        "test": [
                          0.9696075916,
                          0.2265626406
                        ],
                        "passed_time": 285.6686366,
                        "iteration": 728,
                        "remaining_time": 106.1950624,
                        "learn": [
                          0.9680047035,
                          0.2403920876
                        ]
                      },
                      {
                        "test": [
                          0.9696089029,
                          0.2265336011
                        ],
                        "passed_time": 286.0238079,
                        "iteration": 729,
                        "remaining_time": 105.7896276,
                        "learn": [
                          0.9680187702,
                          0.2403303437
                        ]
                      },
                      {
                        "test": [
                          0.9696153998,
                          0.2265126431
                        ],
                        "passed_time": 286.4533705,
                        "iteration": 730,
                        "remaining_time": 105.4117054,
                        "learn": [
                          0.968036294,
                          0.2402781016
                        ]
                      },
                      {
                        "test": [
                          0.9696151614,
                          0.2265120235
                        ],
                        "passed_time": 286.7744021,
                        "iteration": 731,
                        "remaining_time": 104.9939068,
                        "learn": [
                          0.9680538774,
                          0.240229569
                        ]
                      },
                      {
                        "test": [
                          0.9696130157,
                          0.2265149867
                        ],
                        "passed_time": 287.194873,
                        "iteration": 732,
                        "remaining_time": 104.6125936,
                        "learn": [
                          0.9680700898,
                          0.2401893139
                        ]
                      },
                      {
                        "test": [
                          0.96961236,
                          0.2265038073
                        ],
                        "passed_time": 287.5583265,
                        "iteration": 733,
                        "remaining_time": 104.2105107,
                        "learn": [
                          0.9680994153,
                          0.2401151445
                        ]
                      },
                      {
                        "test": [
                          0.9696089625,
                          0.2264894222
                        ],
                        "passed_time": 287.9102411,
                        "iteration": 734,
                        "remaining_time": 103.8043726,
                        "learn": [
                          0.9681110978,
                          0.2400700836
                        ]
                      },
                      {
                        "test": [
                          0.9696108103,
                          0.2264857856
                        ],
                        "passed_time": 288.2818935,
                        "iteration": 735,
                        "remaining_time": 103.4054618,
                        "learn": [
                          0.9681199193,
                          0.2400442824
                        ]
                      },
                      {
                        "test": [
                          0.9696105123,
                          0.2264660128
                        ],
                        "passed_time": 288.7015741,
                        "iteration": 736,
                        "remaining_time": 103.0237639,
                        "learn": [
                          0.9681463838,
                          0.2399775317
                        ]
                      },
                      {
                        "test": [
                          0.969617188,
                          0.2264444083
                        ],
                        "passed_time": 289.1222994,
                        "iteration": 737,
                        "remaining_time": 102.6423339,
                        "learn": [
                          0.9681665897,
                          0.2399298762
                        ]
                      },
                      {
                        "test": [
                          0.9696270227,
                          0.2264193287
                        ],
                        "passed_time": 289.5134146,
                        "iteration": 738,
                        "remaining_time": 102.2503399,
                        "learn": [
                          0.9681875706,
                          0.2398774879
                        ]
                      },
                      {
                        "test": [
                          0.9696232677,
                          0.2264155035
                        ],
                        "passed_time": 289.8909896,
                        "iteration": 739,
                        "remaining_time": 101.8535909,
                        "learn": [
                          0.96820575,
                          0.2398392246
                        ]
                      },
                      {
                        "test": [
                          0.9696266651,
                          0.2264085803
                        ],
                        "passed_time": 290.3713167,
                        "iteration": 740,
                        "remaining_time": 101.4928084,
                        "learn": [
                          0.9682208896,
                          0.2398032454
                        ]
                      },
                      {
                        "test": [
                          0.9696929455,
                          0.2261411906
                        ],
                        "passed_time": 290.7800576,
                        "iteration": 741,
                        "remaining_time": 101.1068125,
                        "learn": [
                          0.9682964087,
                          0.2395289701
                        ]
                      },
                      {
                        "test": [
                          0.9696935117,
                          0.2261389547
                        ],
                        "passed_time": 291.1224984,
                        "iteration": 742,
                        "remaining_time": 100.6978225,
                        "learn": [
                          0.9683118463,
                          0.239486705
                        ]
                      },
                      {
                        "test": [
                          0.9696954489,
                          0.226132732
                        ],
                        "passed_time": 291.5739824,
                        "iteration": 743,
                        "remaining_time": 100.3265316,
                        "learn": [
                          0.9683375955,
                          0.2394359979
                        ]
                      },
                      {
                        "test": [
                          0.9696945548,
                          0.2261248391
                        ],
                        "passed_time": 291.9614201,
                        "iteration": 744,
                        "remaining_time": 99.93310353,
                        "learn": [
                          0.9683457017,
                          0.2394119143
                        ]
                      },
                      {
                        "test": [
                          0.9696916938,
                          0.2261073022
                        ],
                        "passed_time": 292.3383693,
                        "iteration": 745,
                        "remaining_time": 99.53612039,
                        "learn": [
                          0.9683515429,
                          0.2393752042
                        ]
                      },
                      {
                        "test": [
                          0.9696989655,
                          0.2260908968
                        ],
                        "passed_time": 292.7339248,
                        "iteration": 746,
                        "remaining_time": 99.14549261,
                        "learn": [
                          0.9683713317,
                          0.239326434
                        ]
                      },
                      {
                        "test": [
                          0.9697059989,
                          0.2260753534
                        ],
                        "passed_time": 293.1689202,
                        "iteration": 747,
                        "remaining_time": 98.7681389,
                        "learn": [
                          0.9683863521,
                          0.2392905096
                        ]
                      },
                      {
                        "test": [
                          0.9697109461,
                          0.2260618034
                        ],
                        "passed_time": 293.6208463,
                        "iteration": 748,
                        "remaining_time": 98.39630496,
                        "learn": [
                          0.9684079289,
                          0.2392444072
                        ]
                      },
                      {
                        "test": [
                          0.969712913,
                          0.2260475261
                        ],
                        "passed_time": 294.0117412,
                        "iteration": 749,
                        "remaining_time": 98.00391372,
                        "learn": [
                          0.9684194922,
                          0.2392026721
                        ]
                      },
                      {
                        "test": [
                          0.9697239995,
                          0.2260184866
                        ],
                        "passed_time": 294.4336706,
                        "iteration": 750,
                        "remaining_time": 97.6218162,
                        "learn": [
                          0.9684436321,
                          0.239156588
                        ]
                      },
                      {
                        "test": [
                          0.969722271,
                          0.2260228237
                        ],
                        "passed_time": 294.8334179,
                        "iteration": 751,
                        "remaining_time": 97.23229741,
                        "learn": [
                          0.9684678912,
                          0.2391001432
                        ]
                      },
                      {
                        "test": [
                          0.9697371125,
                          0.2259673442
                        ],
                        "passed_time": 295.1810144,
                        "iteration": 752,
                        "remaining_time": 96.82564484,
                        "learn": [
                          0.9684844017,
                          0.2390378145
                        ]
                      },
                      {
                        "test": [
                          0.9697957039,
                          0.225719377
                        ],
                        "passed_time": 295.5337369,
                        "iteration": 753,
                        "remaining_time": 96.42082132,
                        "learn": [
                          0.968536377,
                          0.2388248629
                        ]
                      },
                      {
                        "test": [
                          0.9698116183,
                          0.2256721002
                        ],
                        "passed_time": 295.9434075,
                        "iteration": 754,
                        "remaining_time": 96.03461569,
                        "learn": [
                          0.9685669541,
                          0.2387417763
                        ]
                      },
                      {
                        "test": [
                          0.9698176384,
                          0.2256607727
                        ],
                        "passed_time": 296.3424442,
                        "iteration": 755,
                        "remaining_time": 95.64491587,
                        "learn": [
                          0.9685809612,
                          0.2386980677
                        ]
                      },
                      {
                        "test": [
                          0.9698202014,
                          0.2256362588
                        ],
                        "passed_time": 296.7568659,
                        "iteration": 756,
                        "remaining_time": 95.26013001,
                        "learn": [
                          0.9685959816,
                          0.2386437791
                        ]
                      },
                      {
                        "test": [
                          0.9698246121,
                          0.2256131996
                        ],
                        "passed_time": 297.0965128,
                        "iteration": 757,
                        "remaining_time": 94.85139327,
                        "learn": [
                          0.9686095119,
                          0.2386001618
                        ]
                      },
                      {
                        "test": [
                          0.9698212445,
                          0.2256202844
                        ],
                        "passed_time": 297.5141792,
                        "iteration": 758,
                        "remaining_time": 94.46761157,
                        "learn": [
                          0.9686236382,
                          0.2385623553
                        ]
                      },
                      {
                        "test": [
                          0.9698258638,
                          0.2256026263
                        ],
                        "passed_time": 297.9245679,
                        "iteration": 759,
                        "remaining_time": 94.08144249,
                        "learn": [
                          0.9686465263,
                          0.2385075551
                        ]
                      },
                      {
                        "test": [
                          0.9698204994,
                          0.2256084315
                        ],
                        "passed_time": 298.3212723,
                        "iteration": 760,
                        "remaining_time": 93.69091207,
                        "learn": [
                          0.9686599374,
                          0.2384779531
                        ]
                      },
                      {
                        "test": [
                          0.96982342,
                          0.2255961072
                        ],
                        "passed_time": 298.7229467,
                        "iteration": 761,
                        "remaining_time": 93.30191772,
                        "learn": [
                          0.9686880112,
                          0.2384164467
                        ]
                      },
                      {
                        "test": [
                          0.9698312879,
                          0.2255642123
                        ],
                        "passed_time": 299.1301056,
                        "iteration": 762,
                        "remaining_time": 92.91459375,
                        "learn": [
                          0.9687123299,
                          0.2383440132
                        ]
                      },
                      {
                        "test": [
                          0.969843328,
                          0.2255281553
                        ],
                        "passed_time": 299.6117855,
                        "iteration": 763,
                        "remaining_time": 92.55023741,
                        "learn": [
                          0.9687402844,
                          0.2382714883
                        ]
                      },
                      {
                        "test": [
                          0.9699569345,
                          0.2248953473
                        ],
                        "passed_time": 300.0170209,
                        "iteration": 764,
                        "remaining_time": 92.16209138,
                        "learn": [
                          0.9688020945,
                          0.2378371247
                        ]
                      },
                      {
                        "test": [
                          0.9699569345,
                          0.2248945122
                        ],
                        "passed_time": 300.4337944,
                        "iteration": 765,
                        "remaining_time": 91.77742545,
                        "learn": [
                          0.9688231349,
                          0.2377913878
                        ]
                      },
                      {
                        "test": [
                          0.9699568152,
                          0.2248893131
                        ],
                        "passed_time": 300.7168448,
                        "iteration": 766,
                        "remaining_time": 91.35205325,
                        "learn": [
                          0.9688248038,
                          0.2377786882
                        ]
                      },
                      {
                        "test": [
                          0.9699569941,
                          0.2248777027
                        ],
                        "passed_time": 301.1402833,
                        "iteration": 767,
                        "remaining_time": 90.96946057,
                        "learn": [
                          0.9688402414,
                          0.2377315991
                        ]
                      },
                      {
                        "test": [
                          0.9699537158,
                          0.2248849761
                        ],
                        "passed_time": 301.5328877,
                        "iteration": 768,
                        "remaining_time": 90.57749941,
                        "learn": [
                          0.9688498378,
                          0.2377097813
                        ]
                      },
                      {
                        "test": [
                          0.9699302316,
                          0.2249076851
                        ],
                        "passed_time": 301.9243809,
                        "iteration": 769,
                        "remaining_time": 90.18520467,
                        "learn": [
                          0.9688745141,
                          0.2376338577
                        ]
                      },
                      {
                        "test": [
                          0.9699395299,
                          0.2248908621
                        ],
                        "passed_time": 302.367124,
                        "iteration": 770,
                        "remaining_time": 89.8081341,
                        "learn": [
                          0.9688905478,
                          0.2375940229
                        ]
                      },
                      {
                        "test": [
                          0.9699380994,
                          0.2248876295
                        ],
                        "passed_time": 302.7673582,
                        "iteration": 771,
                        "remaining_time": 89.41833894,
                        "learn": [
                          0.9689098001,
                          0.237541525
                        ]
                      },
                      {
                        "test": [
                          0.9699680209,
                          0.2247843076
                        ],
                        "passed_time": 303.1696286,
                        "iteration": 772,
                        "remaining_time": 89.02911475,
                        "learn": [
                          0.9689469934,
                          0.237424122
                        ]
                      },
                      {
                        "test": [
                          0.9700027108,
                          0.2246798139
                        ],
                        "passed_time": 303.5610372,
                        "iteration": 773,
                        "remaining_time": 88.63668528,
                        "learn": [
                          0.9689813852,
                          0.2373163671
                        ]
                      },
                      {
                        "test": [
                          0.9700223804,
                          0.2246258025
                        ],
                        "passed_time": 303.9586594,
                        "iteration": 774,
                        "remaining_time": 88.24606241,
                        "learn": [
                          0.9690078497,
                          0.2372438971
                        ]
                      },
                      {
                        "test": [
                          0.9700135589,
                          0.2246293584
                        ],
                        "passed_time": 304.3986003,
                        "iteration": 775,
                        "remaining_time": 87.8676372,
                        "learn": [
                          0.9690166712,
                          0.2372108232
                        ]
                      },
                      {
                        "test": [
                          0.9700021744,
                          0.2246360391
                        ],
                        "passed_time": 304.8112812,
                        "iteration": 776,
                        "remaining_time": 87.48122999,
                        "learn": [
                          0.9690354466,
                          0.2371554017
                        ]
                      },
                      {
                        "test": [
                          0.9699997902,
                          0.224630611
                        ],
                        "passed_time": 305.1366337,
                        "iteration": 777,
                        "remaining_time": 87.06983634,
                        "learn": [
                          0.9690454006,
                          0.2371167364
                        ]
                      },
                      {
                        "test": [
                          0.9700081944,
                          0.2246056123
                        ],
                        "passed_time": 305.5617968,
                        "iteration": 778,
                        "remaining_time": 86.68697958,
                        "learn": [
                          0.9690530896,
                          0.2370934568
                        ]
                      },
                      {
                        "test": [
                          0.9700134397,
                          0.2245859608
                        ],
                        "passed_time": 305.9798884,
                        "iteration": 779,
                        "remaining_time": 86.3020198,
                        "learn": [
                          0.9690648913,
                          0.2370562898
                        ]
                      },
                      {
                        "test": [
                          0.9700148702,
                          0.2245796841
                        ],
                        "passed_time": 306.3676682,
                        "iteration": 780,
                        "remaining_time": 85.90847547,
                        "learn": [
                          0.9690719843,
                          0.2370365734
                        ]
                      },
                      {
                        "test": [
                          0.9700143933,
                          0.224571239
                        ],
                        "passed_time": 306.6329396,
                        "iteration": 781,
                        "remaining_time": 85.4807939,
                        "learn": [
                          0.9690773487,
                          0.2370147557
                        ]
                      },
                      {
                        "test": [
                          0.9700066447,
                          0.2245725185
                        ],
                        "passed_time": 306.9729646,
                        "iteration": 782,
                        "remaining_time": 85.07424435,
                        "learn": [
                          0.9690899849,
                          0.2369716135
                        ]
                      },
                      {
                        "test": [
                          0.9700072408,
                          0.2245627938
                        ],
                        "passed_time": 307.4094473,
                        "iteration": 783,
                        "remaining_time": 84.69443955,
                        "learn": [
                          0.9691125751,
                          0.2369041137
                        ]
                      },
                      {
                        "test": [
                          0.9700137973,
                          0.2245439505
                        ],
                        "passed_time": 307.8195788,
                        "iteration": 784,
                        "remaining_time": 84.30727318,
                        "learn": [
                          0.9691328406,
                          0.2368556724
                        ]
                      },
                      {
                        "test": [
                          0.9700171947,
                          0.2245215378
                        ],
                        "passed_time": 308.2267788,
                        "iteration": 785,
                        "remaining_time": 83.9192502,
                        "learn": [
                          0.9691454768,
                          0.2368068656
                        ]
                      },
                      {
                        "test": [
                          0.9700232148,
                          0.2244876763
                        ],
                        "passed_time": 308.6377617,
                        "iteration": 786,
                        "remaining_time": 83.53220233,
                        "learn": [
                          0.9691818953,
                          0.236716945
                        ]
                      },
                      {
                        "test": [
                          0.970025599,
                          0.2244748133
                        ],
                        "passed_time": 308.9970629,
                        "iteration": 787,
                        "remaining_time": 83.1311895,
                        "learn": [
                          0.9691892266,
                          0.2366839442
                        ]
                      },
                      {
                        "test": [
                          0.9700415134,
                          0.2244187546
                        ],
                        "passed_time": 309.4254589,
                        "iteration": 788,
                        "remaining_time": 82.74876024,
                        "learn": [
                          0.9692280889,
                          0.2365767558
                        ]
                      },
                      {
                        "test": [
                          0.9700369239,
                          0.2244180004
                        ],
                        "passed_time": 309.7141926,
                        "iteration": 789,
                        "remaining_time": 82.32908918,
                        "learn": [
                          0.9692284465,
                          0.2365633618
                        ]
                      },
                      {
                        "test": [
                          0.9700357318,
                          0.2244100536
                        ],
                        "passed_time": 310.1593729,
                        "iteration": 790,
                        "remaining_time": 81.95108588,
                        "learn": [
                          0.9692565799,
                          0.2364984384
                        ]
                      },
                      {
                        "test": [
                          0.9700389504,
                          0.2244046255
                        ],
                        "passed_time": 310.5370086,
                        "iteration": 791,
                        "remaining_time": 81.55517397,
                        "learn": [
                          0.9692702293,
                          0.236464323
                        ]
                      },
                      {
                        "test": [
                          0.9700401425,
                          0.2244004096
                        ],
                        "passed_time": 310.9350482,
                        "iteration": 792,
                        "remaining_time": 81.16463426,
                        "learn": [
                          0.9692868888,
                          0.2364226061
                        ]
                      },
                      {
                        "test": [
                          0.9700499773,
                          0.2243725689
                        ],
                        "passed_time": 311.3402541,
                        "iteration": 793,
                        "remaining_time": 80.77593493,
                        "learn": [
                          0.9692990184,
                          0.2363876502
                        ]
                      },
                      {
                        "test": [
                          0.9700626135,
                          0.2243363234
                        ],
                        "passed_time": 311.7546877,
                        "iteration": 794,
                        "remaining_time": 80.38957356,
                        "learn": [
                          0.9693165421,
                          0.2363300542
                        ]
                      },
                      {
                        "test": [
                          0.9700682759,
                          0.2242606267
                        ],
                        "passed_time": 312.0227748,
                        "iteration": 795,
                        "remaining_time": 79.96563576,
                        "learn": [
                          0.9693399072,
                          0.2362292795
                        ]
                      },
                      {
                        "test": [
                          0.9700591564,
                          0.2242629165
                        ],
                        "passed_time": 312.4313508,
                        "iteration": 796,
                        "remaining_time": 79.5778723,
                        "learn": [
                          0.9693607092,
                          0.2361675721
                        ]
                      },
                      {
                        "test": [
                          0.9700675011,
                          0.2242348063
                        ],
                        "passed_time": 312.8300806,
                        "iteration": 797,
                        "remaining_time": 79.18756425,
                        "learn": [
                          0.9693873525,
                          0.2360941702
                        ]
                      },
                      {
                        "test": [
                          0.9700831175,
                          0.2241879337
                        ],
                        "passed_time": 313.238116,
                        "iteration": 798,
                        "remaining_time": 78.79957613,
                        "learn": [
                          0.9694176912,
                          0.2360121982
                        ]
                      },
                      {
                        "test": [
                          0.970102191,
                          0.2241358215
                        ],
                        "passed_time": 313.6487375,
                        "iteration": 799,
                        "remaining_time": 78.41218437,
                        "learn": [
                          0.9694391489,
                          0.2359511852
                        ]
                      },
                      {
                        "test": [
                          0.9701157808,
                          0.2241066877
                        ],
                        "passed_time": 314.0191077,
                        "iteration": 800,
                        "remaining_time": 78.01473462,
                        "learn": [
                          0.9694574475,
                          0.2359042423
                        ]
                      },
                      {
                        "test": [
                          0.9701120257,
                          0.2241116309
                        ],
                        "passed_time": 314.4361831,
                        "iteration": 801,
                        "remaining_time": 77.62888311,
                        "learn": [
                          0.9694644213,
                          0.2358798298
                        ]
                      },
                      {
                        "test": [
                          0.9701108336,
                          0.2241150925
                        ],
                        "passed_time": 314.7683249,
                        "iteration": 802,
                        "remaining_time": 77.22211707,
                        "learn": [
                          0.9694745541,
                          0.2358595835
                        ]
                      },
                      {
                        "test": [
                          0.9701176882,
                          0.2240911443
                        ],
                        "passed_time": 315.1628593,
                        "iteration": 803,
                        "remaining_time": 76.83074679,
                        "learn": [
                          0.9694874883,
                          0.2358196025
                        ]
                      },
                      {
                        "test": [
                          0.9701174498,
                          0.2240881137
                        ],
                        "passed_time": 315.5851177,
                        "iteration": 804,
                        "remaining_time": 76.4460844,
                        "learn": [
                          0.969497323,
                          0.2357991552
                        ]
                      },
                      {
                        "test": [
                          0.9701147676,
                          0.2240933398
                        ],
                        "passed_time": 315.9104128,
                        "iteration": 805,
                        "remaining_time": 76.03799018,
                        "learn": [
                          0.969505012,
                          0.2357721662
                        ]
                      },
                      {
                        "test": [
                          0.9701226354,
                          0.224072503
                        ],
                        "passed_time": 316.2990747,
                        "iteration": 806,
                        "remaining_time": 75.64525579,
                        "learn": [
                          0.9695127606,
                          0.2357375575
                        ]
                      },
                      {
                        "test": [
                          0.9701202512,
                          0.2240702267
                        ],
                        "passed_time": 316.7570377,
                        "iteration": 807,
                        "remaining_time": 75.26899906,
                        "learn": [
                          0.9695352316,
                          0.2356744248
                        ]
                      },
                      {
                        "test": [
                          0.9701148272,
                          0.2240721662
                        ],
                        "passed_time": 317.2137414,
                        "iteration": 808,
                        "remaining_time": 74.89224303,
                        "learn": [
                          0.9695510268,
                          0.2356226031
                        ]
                      },
                      {
                        "test": [
                          0.9701145887,
                          0.2240656337
                        ],
                        "passed_time": 317.581281,
                        "iteration": 809,
                        "remaining_time": 74.49437456,
                        "learn": [
                          0.9695725441,
                          0.2355630336
                        ]
                      },
                      {
                        "test": [
                          0.9701137543,
                          0.2240611485
                        ],
                        "passed_time": 317.9435202,
                        "iteration": 810,
                        "remaining_time": 74.09534564,
                        "learn": [
                          0.9695830941,
                          0.2355215725
                        ]
                      },
                      {
                        "test": [
                          0.9701244831,
                          0.2240298057
                        ],
                        "passed_time": 318.3658589,
                        "iteration": 811,
                        "remaining_time": 73.71032202,
                        "learn": [
                          0.9696002603,
                          0.235478741
                        ]
                      },
                      {
                        "test": [
                          0.9701243043,
                          0.2240215896
                        ],
                        "passed_time": 318.7816485,
                        "iteration": 812,
                        "remaining_time": 73.32370022,
                        "learn": [
                          0.9696155787,
                          0.235438559
                        ]
                      },
                      {
                        "test": [
                          0.9701311588,
                          0.2240033658
                        ],
                        "passed_time": 319.2029661,
                        "iteration": 813,
                        "remaining_time": 72.93826989,
                        "learn": [
                          0.9696316123,
                          0.2353952707
                        ]
                      },
                      {
                        "test": [
                          0.9701324701,
                          0.2239963888
                        ],
                        "passed_time": 319.5757916,
                        "iteration": 814,
                        "remaining_time": 72.54174411,
                        "learn": [
                          0.9696353078,
                          0.2353760842
                        ]
                      },
                      {
                        "test": [
                          0.9701514244,
                          0.2239806433
                        ],
                        "passed_time": 319.9122125,
                        "iteration": 815,
                        "remaining_time": 72.13706753,
                        "learn": [
                          0.969658792,
                          0.2353285383
                        ]
                      },
                      {
                        "test": [
                          0.9701660275,
                          0.2239369494
                        ],
                        "passed_time": 320.3636907,
                        "iteration": 816,
                        "remaining_time": 71.75832974,
                        "learn": [
                          0.969681263,
                          0.2352670319
                        ]
                      },
                      {
                        "test": [
                          0.9701841474,
                          0.2238954644
                        ],
                        "passed_time": 320.7902787,
                        "iteration": 817,
                        "remaining_time": 71.3738762,
                        "learn": [
                          0.9697043896,
                          0.2352083396
                        ]
                      },
                      {
                        "test": [
                          0.9701932073,
                          0.2238658053
                        ],
                        "passed_time": 321.2024344,
                        "iteration": 818,
                        "remaining_time": 70.9861302,
                        "learn": [
                          0.9697293043,
                          0.2351382084
                        ]
                      },
                      {
                        "test": [
                          0.9702024162,
                          0.2238382339
                        ],
                        "passed_time": 321.5571618,
                        "iteration": 819,
                        "remaining_time": 70.58571843,
                        "learn": [
                          0.9697468877,
                          0.2350915944
                        ]
                      },
                      {
                        "test": [
                          0.9702198505,
                          0.2237860948
                        ],
                        "passed_time": 321.9995573,
                        "iteration": 820,
                        "remaining_time": 70.20453199,
                        "learn": [
                          0.9697673321,
                          0.235029284
                        ]
                      },
                      {
                        "test": [
                          0.970220089,
                          0.2237811516
                        ],
                        "passed_time": 322.4160753,
                        "iteration": 821,
                        "remaining_time": 69.81759294,
                        "learn": [
                          0.9697774649,
                          0.2349969411
                        ]
                      },
                      {
                        "test": [
                          0.9702222645,
                          0.223757163
                        ],
                        "passed_time": 322.8425118,
                        "iteration": 822,
                        "remaining_time": 69.43271517,
                        "learn": [
                          0.969784677,
                          0.2349621314
                        ]
                      },
                      {
                        "test": [
                          0.9702757001,
                          0.2236139455
                        ],
                        "passed_time": 323.3038701,
                        "iteration": 823,
                        "remaining_time": 69.05519555,
                        "learn": [
                          0.9698346853,
                          0.2348090964
                        ]
                      },
                      {
                        "test": [
                          0.9702761173,
                          0.22361109
                        ],
                        "passed_time": 323.6764978,
                        "iteration": 824,
                        "remaining_time": 68.65865106,
                        "learn": [
                          0.9698479772,
                          0.2347793847
                        ]
                      },
                      {
                        "test": [
                          0.9702875614,
                          0.2235832089
                        ],
                        "passed_time": 324.081552,
                        "iteration": 825,
                        "remaining_time": 68.26899522,
                        "learn": [
                          0.9698697925,
                          0.2347171292
                        ]
                      },
                      {
                        "test": [
                          0.970289886,
                          0.2235723258
                        ],
                        "passed_time": 324.4759508,
                        "iteration": 826,
                        "remaining_time": 67.87707315,
                        "learn": [
                          0.9698862433,
                          0.2346750103
                        ]
                      },
                      {
                        "test": [
                          0.9702897072,
                          0.2235631263
                        ],
                        "passed_time": 324.8257984,
                        "iteration": 827,
                        "remaining_time": 67.47589048,
                        "learn": [
                          0.9698956013,
                          0.2346396341
                        ]
                      },
                      {
                        "test": [
                          0.9702961445,
                          0.223543421
                        ],
                        "passed_time": 325.246176,
                        "iteration": 828,
                        "remaining_time": 67.08938008,
                        "learn": [
                          0.9699099064,
                          0.2346054273
                        ]
                      },
                      {
                        "test": [
                          0.9703001976,
                          0.2235145835
                        ],
                        "passed_time": 325.6752018,
                        "iteration": 829,
                        "remaining_time": 66.7045594,
                        "learn": [
                          0.9699398875,
                          0.2345156346
                        ]
                      },
                      {
                        "test": [
                          0.9703321457,
                          0.2233754201
                        ],
                        "passed_time": 325.9815068,
                        "iteration": 830,
                        "remaining_time": 66.29467467,
                        "learn": [
                          0.9699670076,
                          0.2343836864
                        ]
                      },
                      {
                        "test": [
                          0.9703393579,
                          0.223354314
                        ],
                        "passed_time": 326.4293006,
                        "iteration": 831,
                        "remaining_time": 65.91360877,
                        "learn": [
                          0.9699779749,
                          0.2343425908
                        ]
                      },
                      {
                        "test": [
                          0.9703397155,
                          0.2233399154
                        ],
                        "passed_time": 326.8549641,
                        "iteration": 832,
                        "remaining_time": 65.52794599,
                        "learn": [
                          0.9700023532,
                          0.2342809748
                        ]
                      },
                      {
                        "test": [
                          0.9703366756,
                          0.223348859
                        ],
                        "passed_time": 327.1988378,
                        "iteration": 833,
                        "remaining_time": 65.12590777,
                        "learn": [
                          0.9700082541,
                          0.2342626106
                        ]
                      },
                      {
                        "test": [
                          0.9703356028,
                          0.2233473774
                        ],
                        "passed_time": 327.6022816,
                        "iteration": 834,
                        "remaining_time": 64.73578019,
                        "learn": [
                          0.9700295925,
                          0.2342167093
                        ]
                      },
                      {
                        "test": [
                          0.970343411,
                          0.2233229308
                        ],
                        "passed_time": 327.9923089,
                        "iteration": 835,
                        "remaining_time": 64.34298884,
                        "learn": [
                          0.97004807,
                          0.2341663311
                        ]
                      },
                      {
                        "test": [
                          0.9703478217,
                          0.2233020267
                        ],
                        "passed_time": 328.3998665,
                        "iteration": 836,
                        "remaining_time": 63.95361796,
                        "learn": [
                          0.9700651765,
                          0.2341080773
                        ]
                      },
                      {
                        "test": [
                          0.9703654051,
                          0.2232613902
                        ],
                        "passed_time": 328.8024812,
                        "iteration": 837,
                        "remaining_time": 63.56324816,
                        "learn": [
                          0.9700941443,
                          0.2340347118
                        ]
                      },
                      {
                        "test": [
                          0.9703706503,
                          0.2232258451
                        ],
                        "passed_time": 329.2173669,
                        "iteration": 838,
                        "remaining_time": 63.1752039,
                        "learn": [
                          0.9701164365,
                          0.2339573629
                        ]
                      },
                      {
                        "test": [
                          0.9703834057,
                          0.2231946236
                        ],
                        "passed_time": 329.6405933,
                        "iteration": 839,
                        "remaining_time": 62.78868444,
                        "learn": [
                          0.9701401591,
                          0.2338990543
                        ]
                      },
                      {
                        "test": [
                          0.9703791142,
                          0.2231928726
                        ],
                        "passed_time": 330.0744975,
                        "iteration": 840,
                        "remaining_time": 62.40409643,
                        "learn": [
                          0.9701482654,
                          0.2338756102
                        ]
                      },
                      {
                        "test": [
                          0.970386982,
                          0.2231674429
                        ],
                        "passed_time": 330.4261081,
                        "iteration": 841,
                        "remaining_time": 62.00394902,
                        "learn": [
                          0.9701683521,
                          0.2338229662
                        ]
                      },
                      {
                        "test": [
                          0.9703845978,
                          0.2231698
                        ],
                        "passed_time": 330.8380124,
                        "iteration": 842,
                        "remaining_time": 61.61514584,
                        "learn": [
                          0.9701824784,
                          0.2337829121
                        ]
                      },
                      {
                        "test": [
                          0.9703857899,
                          0.2231510509
                        ],
                        "passed_time": 331.2094242,
                        "iteration": 843,
                        "remaining_time": 61.21880352,
                        "learn": [
                          0.970194459,
                          0.2337453066
                        ]
                      },
                      {
                        "test": [
                          0.9703993797,
                          0.2231289345
                        ],
                        "passed_time": 331.6332577,
                        "iteration": 844,
                        "remaining_time": 60.83213603,
                        "learn": [
                          0.9702231884,
                          0.2336934666
                        ]
                      },
                      {
                        "test": [
                          0.9703932405,
                          0.223135063
                        ],
                        "passed_time": 332.0204219,
                        "iteration": 845,
                        "remaining_time": 60.43870565,
                        "learn": [
                          0.9702301025,
                          0.2336667334
                        ]
                      },
                      {
                        "test": [
                          0.9704024792,
                          0.2231098622
                        ],
                        "passed_time": 332.4550842,
                        "iteration": 846,
                        "remaining_time": 60.05386999,
                        "learn": [
                          0.9702484012,
                          0.2336165014
                        ]
                      },
                      {
                        "test": [
                          0.9704537988,
                          0.2229390463
                        ],
                        "passed_time": 332.897978,
                        "iteration": 847,
                        "remaining_time": 59.67039229,
                        "learn": [
                          0.9702941179,
                          0.2334514246
                        ]
                      },
                      {
                        "test": [
                          0.9704298973,
                          0.2229731098
                        ],
                        "passed_time": 333.3012334,
                        "iteration": 848,
                        "remaining_time": 59.27972467,
                        "learn": [
                          0.9703077078,
                          0.2334108772
                        ]
                      },
                      {
                        "test": [
                          0.9704397321,
                          0.2229211324
                        ],
                        "passed_time": 333.7056457,
                        "iteration": 849,
                        "remaining_time": 58.8892316,
                        "learn": [
                          0.9703239202,
                          0.2333424088
                        ]
                      },
                      {
                        "test": [
                          0.9704469442,
                          0.2228922276
                        ],
                        "passed_time": 334.0968197,
                        "iteration": 850,
                        "remaining_time": 58.49638794,
                        "learn": [
                          0.9703403115,
                          0.2332922682
                        ]
                      },
                      {
                        "test": [
                          0.9704604149,
                          0.2228187533
                        ],
                        "passed_time": 334.4342245,
                        "iteration": 851,
                        "remaining_time": 58.09420801,
                        "learn": [
                          0.9703611135,
                          0.2331961713
                        ]
                      },
                      {
                        "test": [
                          0.9704710841,
                          0.2227777936
                        ],
                        "passed_time": 334.8913017,
                        "iteration": 852,
                        "remaining_time": 57.71280345,
                        "learn": [
                          0.9703910351,
                          0.2331055746
                        ]
                      },
                      {
                        "test": [
                          0.970472157,
                          0.2227690656
                        ],
                        "passed_time": 335.1505788,
                        "iteration": 853,
                        "remaining_time": 57.29740573,
                        "learn": [
                          0.9703935385,
                          0.2330942454
                        ]
                      },
                      {
                        "test": [
                          0.9704893231,
                          0.2227137208
                        ],
                        "passed_time": 335.5719812,
                        "iteration": 854,
                        "remaining_time": 56.90986815,
                        "learn": [
                          0.9704269171,
                          0.2330020407
                        ]
                      },
                      {
                        "test": [
                          0.9705038667,
                          0.2226549144
                        ],
                        "passed_time": 336.0128533,
                        "iteration": 855,
                        "remaining_time": 56.52552672,
                        "learn": [
                          0.9704456329,
                          0.232950091
                        ]
                      },
                      {
                        "test": [
                          0.9705088139,
                          0.222636125
                        ],
                        "passed_time": 336.4305362,
                        "iteration": 856,
                        "remaining_time": 56.13718398,
                        "learn": [
                          0.970463872,
                          0.2328980865
                        ]
                      },
                      {
                        "test": [
                          0.9705040455,
                          0.222640489
                        ],
                        "passed_time": 336.8224556,
                        "iteration": 857,
                        "remaining_time": 55.74450897,
                        "learn": [
                          0.9704761505,
                          0.2328638798
                        ]
                      },
                      {
                        "test": [
                          0.9705107212,
                          0.2226102507
                        ],
                        "passed_time": 337.2279791,
                        "iteration": 858,
                        "remaining_time": 55.35406875,
                        "learn": [
                          0.970488131,
                          0.2328225284
                        ]
                      },
                      {
                        "test": [
                          0.9705036283,
                          0.2226242182
                        ],
                        "passed_time": 337.6197575,
                        "iteration": 859,
                        "remaining_time": 54.96135587,
                        "learn": [
                          0.970502615,
                          0.2327782533
                        ]
                      },
                      {
                        "test": [
                          0.970512867,
                          0.2226077589
                        ],
                        "passed_time": 338.0410179,
                        "iteration": 860,
                        "remaining_time": 54.57340475,
                        "learn": [
                          0.9705306292,
                          0.2327099311
                        ]
                      },
                      {
                        "test": [
                          0.970517695,
                          0.222593522
                        ],
                        "passed_time": 338.4462602,
                        "iteration": 861,
                        "remaining_time": 54.18281196,
                        "learn": [
                          0.9705371857,
                          0.2326924075
                        ]
                      },
                      {
                        "test": [
                          0.9705197215,
                          0.2225819924
                        ],
                        "passed_time": 338.8564134,
                        "iteration": 862,
                        "remaining_time": 53.79296482,
                        "learn": [
                          0.9705491066,
                          0.2326513667
                        ]
                      },
                      {
                        "test": [
                          0.9705431461,
                          0.2225192935
                        ],
                        "passed_time": 339.276681,
                        "iteration": 863,
                        "remaining_time": 53.40466275,
                        "learn": [
                          0.9705837369,
                          0.2325535157
                        ]
                      },
                      {
                        "test": [
                          0.9705526233,
                          0.222508141
                        ],
                        "passed_time": 339.5470815,
                        "iteration": 864,
                        "remaining_time": 52.99289712,
                        "learn": [
                          0.9705973864,
                          0.2325249735
                        ]
                      },
                      {
                        "test": [
                          0.9705587626,
                          0.2224864557
                        ],
                        "passed_time": 339.8340608,
                        "iteration": 865,
                        "remaining_time": 52.58402326,
                        "learn": [
                          0.9706107974,
                          0.2324870573
                        ]
                      },
                      {
                        "test": [
                          0.9705491662,
                          0.2224786436
                        ],
                        "passed_time": 340.1907241,
                        "iteration": 866,
                        "remaining_time": 52.18612031,
                        "learn": [
                          0.970633924,
                          0.2324134178
                        ]
                      },
                      {
                        "test": [
                          0.9705569148,
                          0.2224556248
                        ],
                        "passed_time": 340.4605141,
                        "iteration": 867,
                        "remaining_time": 51.77510122,
                        "learn": [
                          0.9706426263,
                          0.2323918011
                        ]
                      },
                      {
                        "test": [
                          0.9705655575,
                          0.2224219115
                        ],
                        "passed_time": 340.8665498,
                        "iteration": 868,
                        "remaining_time": 51.38494594,
                        "learn": [
                          0.9706632495,
                          0.2323293079
                        ]
                      },
                      {
                        "test": [
                          0.9705677032,
                          0.2224126178
                        ],
                        "passed_time": 341.3225736,
                        "iteration": 869,
                        "remaining_time": 51.00222365,
                        "learn": [
                          0.9706786275,
                          0.2322885047
                        ]
                      },
                      {
                        "test": [
                          0.9705716968,
                          0.2223878884
                        ],
                        "passed_time": 341.7286052,
                        "iteration": 870,
                        "remaining_time": 50.6119289,
                        "learn": [
                          0.9707129598,
                          0.2321901603
                        ]
                      },
                      {
                        "test": [
                          0.9705812931,
                          0.222356384
                        ],
                        "passed_time": 342.1596398,
                        "iteration": 871,
                        "remaining_time": 50.22526822,
                        "learn": [
                          0.9707398415,
                          0.2321121353
                        ]
                      },
                      {
                        "test": [
                          0.970579803,
                          0.2223517102
                        ],
                        "passed_time": 342.5752907,
                        "iteration": 872,
                        "remaining_time": 49.83626796,
                        "learn": [
                          0.9707480073,
                          0.2320779468
                        ]
                      },
                      {
                        "test": [
                          0.9705784917,
                          0.2223556163
                        ],
                        "passed_time": 342.8974261,
                        "iteration": 873,
                        "remaining_time": 49.43372504,
                        "learn": [
                          0.970751822,
                          0.2320678602
                        ]
                      },
                      {
                        "test": [
                          0.9705800414,
                          0.2223442483
                        ],
                        "passed_time": 343.3326935,
                        "iteration": 874,
                        "remaining_time": 49.04752765,
                        "learn": [
                          0.9707775712,
                          0.2320031926
                        ]
                      },
                      {
                        "test": [
                          0.9705848098,
                          0.2223317893
                        ],
                        "passed_time": 343.7321537,
                        "iteration": 875,
                        "remaining_time": 48.65614961,
                        "learn": [
                          0.9707922935,
                          0.2319735906
                        ]
                      },
                      {
                        "test": [
                          0.9705922604,
                          0.2222996115
                        ],
                        "passed_time": 344.1611321,
                        "iteration": 876,
                        "remaining_time": 48.2688931,
                        "learn": [
                          0.9708104134,
                          0.231911664
                        ]
                      },
                      {
                        "test": [
                          0.9706004262,
                          0.2222667468
                        ],
                        "passed_time": 344.5050358,
                        "iteration": 877,
                        "remaining_time": 47.86972024,
                        "learn": [
                          0.9708433747,
                          0.2317970385
                        ]
                      },
                      {
                        "test": [
                          0.9705893993,
                          0.2222701949
                        ],
                        "passed_time": 344.9885268,
                        "iteration": 878,
                        "remaining_time": 47.48988821,
                        "learn": [
                          0.9708559513,
                          0.231752672
                        ]
                      },
                      {
                        "test": [
                          0.970595181,
                          0.22225946
                        ],
                        "passed_time": 345.3754749,
                        "iteration": 879,
                        "remaining_time": 47.09665566,
                        "learn": [
                          0.9708717465,
                          0.2317177161
                        ]
                      },
                      {
                        "test": [
                          0.9705953598,
                          0.2222511899
                        ],
                        "passed_time": 345.7396688,
                        "iteration": 880,
                        "remaining_time": 46.70036389,
                        "learn": [
                          0.9708794951,
                          0.2316903251
                        ]
                      },
                      {
                        "test": [
                          0.97059834,
                          0.2222332355
                        ],
                        "passed_time": 346.1427544,
                        "iteration": 881,
                        "remaining_time": 46.3093481,
                        "learn": [
                          0.970906347,
                          0.2316178002
                        ]
                      },
                      {
                        "test": [
                          0.9706004858,
                          0.2222071996
                        ],
                        "passed_time": 346.5288658,
                        "iteration": 882,
                        "remaining_time": 45.91605584,
                        "learn": [
                          0.970932126,
                          0.2315327402
                        ]
                      },
                      {
                        "test": [
                          0.970600605,
                          0.2222026875
                        ],
                        "passed_time": 346.9596517,
                        "iteration": 883,
                        "remaining_time": 45.52864208,
                        "learn": [
                          0.9709380269,
                          0.2315153627
                        ]
                      },
                      {
                        "test": [
                          0.9706012011,
                          0.2221972863
                        ],
                        "passed_time": 347.2713886,
                        "iteration": 884,
                        "remaining_time": 45.12566067,
                        "learn": [
                          0.9709511399,
                          0.2314754914
                        ]
                      },
                      {
                        "test": [
                          0.9706003964,
                          0.222185191
                        ],
                        "passed_time": 347.6537164,
                        "iteration": 885,
                        "remaining_time": 44.73196802,
                        "learn": [
                          0.9709720612,
                          0.231416799
                        ]
                      },
                      {
                        "test": [
                          0.9706033468,
                          0.2221681795
                        ],
                        "passed_time": 347.9556546,
                        "iteration": 886,
                        "remaining_time": 44.32805972,
                        "learn": [
                          0.970985353,
                          0.2313793032
                        ]
                      },
                      {
                        "test": [
                          0.9706050754,
                          0.2221533499
                        ],
                        "passed_time": 348.3789585,
                        "iteration": 887,
                        "remaining_time": 43.93968846,
                        "learn": [
                          0.9709974527,
                          0.2313353935
                        ]
                      },
                      {
                        "test": [
                          0.9706113338,
                          0.2221348972
                        ],
                        "passed_time": 348.7952631,
                        "iteration": 888,
                        "remaining_time": 43.55036469,
                        "learn": [
                          0.9710100889,
                          0.2313034526
                        ]
                      },
                      {
                        "test": [
                          0.9706183672,
                          0.2221070295
                        ],
                        "passed_time": 349.199721,
                        "iteration": 889,
                        "remaining_time": 43.15951608,
                        "learn": [
                          0.9710245728,
                          0.2312445044
                        ]
                      },
                      {
                        "test": [
                          0.9706217647,
                          0.2220884959
                        ],
                        "passed_time": 349.592819,
                        "iteration": 890,
                        "remaining_time": 42.76724721,
                        "learn": [
                          0.971032083,
                          0.2312193245
                        ]
                      },
                      {
                        "test": [
                          0.9706212878,
                          0.2220882804
                        ],
                        "passed_time": 350.029218,
                        "iteration": 891,
                        "remaining_time": 42.38021922,
                        "learn": [
                          0.9710399508,
                          0.2311965748
                        ]
                      },
                      {
                        "test": [
                          0.9706237316,
                          0.2220757002
                        ],
                        "passed_time": 350.444485,
                        "iteration": 892,
                        "remaining_time": 41.9905486,
                        "learn": [
                          0.9710569382,
                          0.2311604128
                        ]
                      },
                      {
                        "test": [
                          0.9706310034,
                          0.222059847
                        ],
                        "passed_time": 350.852207,
                        "iteration": 893,
                        "remaining_time": 41.59992611,
                        "learn": [
                          0.9710699916,
                          0.2311251828
                        ]
                      },
                      {
                        "test": [
                          0.970630765,
                          0.2220552002
                        ],
                        "passed_time": 351.2427812,
                        "iteration": 894,
                        "remaining_time": 41.20725366,
                        "learn": [
                          0.9710774422,
                          0.2311010809
                        ]
                      },
                      {
                        "test": [
                          0.9706364274,
                          0.2220279386
                        ],
                        "passed_time": 351.6683178,
                        "iteration": 895,
                        "remaining_time": 40.81864404,
                        "learn": [
                          0.9710991979,
                          0.2310331974
                        ]
                      },
                      {
                        "test": [
                          0.9706434608,
                          0.2220077618
                        ],
                        "passed_time": 352.0952981,
                        "iteration": 896,
                        "remaining_time": 40.43011784,
                        "learn": [
                          0.9711256027,
                          0.2309523401
                        ]
                      },
                      {
                        "test": [
                          0.9706454873,
                          0.2219952355
                        ],
                        "passed_time": 352.5205717,
                        "iteration": 897,
                        "remaining_time": 40.04131215,
                        "learn": [
                          0.9711380005,
                          0.2309203626
                        ]
                      },
                      {
                        "test": [
                          0.9706467986,
                          0.2219710583
                        ],
                        "passed_time": 352.8945127,
                        "iteration": 898,
                        "remaining_time": 39.64665826,
                        "learn": [
                          0.9711535573,
                          0.2308587831
                        ]
                      },
                      {
                        "test": [
                          0.9706466198,
                          0.2219549627
                        ],
                        "passed_time": 353.3273258,
                        "iteration": 899,
                        "remaining_time": 39.25859175,
                        "learn": [
                          0.9711617827,
                          0.230818857
                        ]
                      },
                      {
                        "test": [
                          0.9706526995,
                          0.2219306913
                        ],
                        "passed_time": 353.6715921,
                        "iteration": 900,
                        "remaining_time": 38.86069658,
                        "learn": [
                          0.9711706638,
                          0.2307837549
                        ]
                      },
                      {
                        "test": [
                          0.9706535935,
                          0.2219151613
                        ],
                        "passed_time": 354.0220412,
                        "iteration": 901,
                        "remaining_time": 38.46359206,
                        "learn": [
                          0.9711784124,
                          0.2307429699
                        ]
                      },
                      {
                        "test": [
                          0.9706622362,
                          0.2218791852
                        ],
                        "passed_time": 354.4539082,
                        "iteration": 902,
                        "remaining_time": 38.07533676,
                        "learn": [
                          0.9711927772,
                          0.2306827426
                        ]
                      },
                      {
                        "test": [
                          0.9706602693,
                          0.2218794276
                        ],
                        "passed_time": 354.8222758,
                        "iteration": 903,
                        "remaining_time": 37.68024168,
                        "learn": [
                          0.9712026715,
                          0.2306533051
                        ]
                      },
                      {
                        "test": [
                          0.9706599116,
                          0.221875764
                        ],
                        "passed_time": 355.2219688,
                        "iteration": 904,
                        "remaining_time": 37.28849397,
                        "learn": [
                          0.9712072015,
                          0.2306349409
                        ]
                      },
                      {
                        "test": [
                          0.9706649184,
                          0.2218601398
                        ],
                        "passed_time": 355.620705,
                        "iteration": 905,
                        "remaining_time": 36.89662944,
                        "learn": [
                          0.971218884,
                          0.2305945579
                        ]
                      },
                      {
                        "test": [
                          0.9706628323,
                          0.2218582272
                        ],
                        "passed_time": 356.0125944,
                        "iteration": 906,
                        "remaining_time": 36.50404771,
                        "learn": [
                          0.9712436199,
                          0.2305339469
                        ]
                      },
                      {
                        "test": [
                          0.9706736803,
                          0.2218305211
                        ],
                        "passed_time": 356.2912315,
                        "iteration": 907,
                        "remaining_time": 36.09999262,
                        "learn": [
                          0.9712530375,
                          0.2305061357
                        ]
                      },
                      {
                        "test": [
                          0.9706817269,
                          0.2218376059
                        ],
                        "passed_time": 356.6947901,
                        "iteration": 908,
                        "remaining_time": 35.70871936,
                        "learn": [
                          0.9712682962,
                          0.2304667942
                        ]
                      },
                      {
                        "test": [
                          0.9706842303,
                          0.2218241368
                        ],
                        "passed_time": 357.0993208,
                        "iteration": 909,
                        "remaining_time": 35.31751524,
                        "learn": [
                          0.971274972,
                          0.2304383434
                        ]
                      },
                      {
                        "test": [
                          0.9706863165,
                          0.2218084317
                        ],
                        "passed_time": 357.4479208,
                        "iteration": 910,
                        "remaining_time": 34.92081773,
                        "learn": [
                          0.9712888002,
                          0.2304019257
                        ]
                      },
                      {
                        "test": [
                          0.9706986248,
                          0.221780995
                        ],
                        "passed_time": 357.8615602,
                        "iteration": 911,
                        "remaining_time": 34.53050142,
                        "learn": [
                          0.9713075757,
                          0.230358747
                        ]
                      },
                      {
                        "test": [
                          0.9707018137,
                          0.2217727519
                        ],
                        "passed_time": 358.2652262,
                        "iteration": 912,
                        "remaining_time": 34.13918366,
                        "learn": [
                          0.9713260531,
                          0.230295194
                        ]
                      },
                      {
                        "test": [
                          0.9707091451,
                          0.2217449246
                        ],
                        "passed_time": 358.6726205,
                        "iteration": 913,
                        "remaining_time": 33.74818968,
                        "learn": [
                          0.9713460207,
                          0.2302497312
                        ]
                      },
                      {
                        "test": [
                          0.9707096219,
                          0.2217270511
                        ],
                        "passed_time": 358.9885835,
                        "iteration": 914,
                        "remaining_time": 33.34866623,
                        "learn": [
                          0.9713504314,
                          0.230222194
                        ]
                      },
                      {
                        "test": [
                          0.970718503,
                          0.221705689
                        ],
                        "passed_time": 359.4412638,
                        "iteration": 915,
                        "remaining_time": 32.96186262,
                        "learn": [
                          0.9713742137,
                          0.2301592441
                        ]
                      },
                      {
                        "test": [
                          0.9707348347,
                          0.2216608501
                        ],
                        "passed_time": 359.8136683,
                        "iteration": 916,
                        "remaining_time": 32.56764937,
                        "learn": [
                          0.9713979959,
                          0.2300888206
                        ]
                      },
                      {
                        "test": [
                          0.9707332253,
                          0.2216546409
                        ],
                        "passed_time": 360.2055707,
                        "iteration": 917,
                        "remaining_time": 32.17522527,
                        "learn": [
                          0.9714028239,
                          0.230064737
                        ]
                      },
                      {
                        "test": [
                          0.9707356095,
                          0.2216417913
                        ],
                        "passed_time": 360.6443313,
                        "iteration": 918,
                        "remaining_time": 31.78693236,
                        "learn": [
                          0.9714153409,
                          0.2300238789
                        ]
                      },
                      {
                        "test": [
                          0.9707444906,
                          0.2216184088
                        ],
                        "passed_time": 361.021675,
                        "iteration": 919,
                        "remaining_time": 31.39318913,
                        "learn": [
                          0.9714289904,
                          0.2299816687
                        ]
                      },
                      {
                        "test": [
                          0.9707484841,
                          0.2216074315
                        ],
                        "passed_time": 361.3734428,
                        "iteration": 920,
                        "remaining_time": 30.99728771,
                        "learn": [
                          0.9714366198,
                          0.2299577313
                        ]
                      },
                      {
                        "test": [
                          0.9707437754,
                          0.2216123746
                        ],
                        "passed_time": 361.7603014,
                        "iteration": 921,
                        "remaining_time": 30.60445066,
                        "learn": [
                          0.9714530706,
                          0.2299220079
                        ]
                      },
                      {
                        "test": [
                          0.970741868,
                          0.221601936
                        ],
                        "passed_time": 362.1012267,
                        "iteration": 922,
                        "remaining_time": 30.20779465,
                        "learn": [
                          0.9714648128,
                          0.2298844937
                        ]
                      },
                      {
                        "test": [
                          0.970749259,
                          0.221577503
                        ],
                        "passed_time": 362.4862866,
                        "iteration": 923,
                        "remaining_time": 29.81488938,
                        "learn": [
                          0.9714807272,
                          0.2298401456
                        ]
                      },
                      {
                        "test": [
                          0.9707597494,
                          0.2215470088
                        ],
                        "passed_time": 362.8948026,
                        "iteration": 924,
                        "remaining_time": 29.42390291,
                        "learn": [
                          0.9715038538,
                          0.229786259
                        ]
                      },
                      {
                        "test": [
                          0.970760107,
                          0.2215402204
                        ],
                        "passed_time": 363.3173758,
                        "iteration": 925,
                        "remaining_time": 29.03400196,
                        "learn": [
                          0.9715166688,
                          0.2297549211
                        ]
                      },
                      {
                        "test": [
                          0.9707605243,
                          0.2215377151
                        ],
                        "passed_time": 363.7603466,
                        "iteration": 926,
                        "remaining_time": 28.64563679,
                        "learn": [
                          0.971536994,
                          0.2297121078
                        ]
                      },
                      {
                        "test": [
                          0.9707581401,
                          0.221538429
                        ],
                        "passed_time": 364.1670214,
                        "iteration": 927,
                        "remaining_time": 28.25433787,
                        "learn": [
                          0.9715614319,
                          0.2296482991
                        ]
                      },
                      {
                        "test": [
                          0.9707480073,
                          0.2215562352
                        ],
                        "passed_time": 364.471883,
                        "iteration": 928,
                        "remaining_time": 27.85522464,
                        "learn": [
                          0.9715719223,
                          0.2296203782
                        ]
                      },
                      {
                        "test": [
                          0.9707522392,
                          0.2215615286
                        ],
                        "passed_time": 364.8455264,
                        "iteration": 929,
                        "remaining_time": 27.46149124,
                        "learn": [
                          0.9715788364,
                          0.2295940653
                        ]
                      },
                      {
                        "test": [
                          0.9707561135,
                          0.2215396412
                        ],
                        "passed_time": 365.2321848,
                        "iteration": 930,
                        "remaining_time": 27.06876558,
                        "learn": [
                          0.9715979695,
                          0.2295397767
                        ]
                      },
                      {
                        "test": [
                          0.9707762003,
                          0.2214733729
                        ],
                        "passed_time": 365.5632956,
                        "iteration": 931,
                        "remaining_time": 26.67200011,
                        "learn": [
                          0.9716237783,
                          0.2294648398
                        ]
                      },
                      {
                        "test": [
                          0.9707835317,
                          0.2214577083
                        ],
                        "passed_time": 365.9700863,
                        "iteration": 932,
                        "remaining_time": 26.28081005,
                        "learn": [
                          0.9716397524,
                          0.2294240913
                        ]
                      },
                      {
                        "test": [
                          0.9707816243,
                          0.221449115
                        ],
                        "passed_time": 366.3653826,
                        "iteration": 933,
                        "remaining_time": 25.88877436,
                        "learn": [
                          0.9716599584,
                          0.2293622378
                        ]
                      },
                      {
                        "test": [
                          0.9707879424,
                          0.2214371678
                        ],
                        "passed_time": 366.7325638,
                        "iteration": 934,
                        "remaining_time": 25.49477717,
                        "learn": [
                          0.9716704488,
                          0.2293380446
                        ]
                      },
                      {
                        "test": [
                          0.9707872272,
                          0.2214455456
                        ],
                        "passed_time": 367.1780591,
                        "iteration": 935,
                        "remaining_time": 25.10619207,
                        "learn": [
                          0.971696496,
                          0.2292784751
                        ]
                      },
                      {
                        "test": [
                          0.9707885385,
                          0.2214371544
                        ],
                        "passed_time": 367.5059863,
                        "iteration": 936,
                        "remaining_time": 24.70958072,
                        "learn": [
                          0.9717069268,
                          0.2292432634
                        ]
                      },
                      {
                        "test": [
                          0.9707868695,
                          0.2214406159
                        ],
                        "passed_time": 367.8937232,
                        "iteration": 937,
                        "remaining_time": 24.31706913,
                        "learn": [
                          0.9717296958,
                          0.229192538
                        ]
                      },
                      {
                        "test": [
                          0.9707882404,
                          0.221434272
                        ],
                        "passed_time": 368.3088769,
                        "iteration": 938,
                        "remaining_time": 23.92634877,
                        "learn": [
                          0.9717460275,
                          0.2291416116
                        ]
                      },
                      {
                        "test": [
                          0.9707954526,
                          0.2214081418
                        ],
                        "passed_time": 368.7360865,
                        "iteration": 939,
                        "remaining_time": 23.53634595,
                        "learn": [
                          0.9717520475,
                          0.2291124298
                        ]
                      },
                      {
                        "test": [
                          0.9707988501,
                          0.2213957906
                        ],
                        "passed_time": 369.083064,
                        "iteration": 940,
                        "remaining_time": 23.14123356,
                        "learn": [
                          0.9717648625,
                          0.2290778576
                        ]
                      },
                      {
                        "test": [
                          0.970800221,
                          0.221390376
                        ],
                        "passed_time": 369.5276378,
                        "iteration": 941,
                        "remaining_time": 22.75223248,
                        "learn": [
                          0.9717832804,
                          0.2290303665
                        ]
                      },
                      {
                        "test": [
                          0.9707970619,
                          0.2213997909
                        ],
                        "passed_time": 369.9293394,
                        "iteration": 942,
                        "remaining_time": 22.36052211,
                        "learn": [
                          0.9717959762,
                          0.2290053327
                        ]
                      },
                      {
                        "test": [
                          0.9707961082,
                          0.2213946592
                        ],
                        "passed_time": 370.3600457,
                        "iteration": 943,
                        "remaining_time": 21.97051118,
                        "learn": [
                          0.97180897,
                          0.2289712174
                        ]
                      },
                      {
                        "test": [
                          0.9707937837,
                          0.2213948477
                        ],
                        "passed_time": 370.7901167,
                        "iteration": 944,
                        "remaining_time": 21.58037716,
                        "learn": [
                          0.9718131423,
                          0.2289535658
                        ]
                      },
                      {
                        "test": [
                          0.9708073139,
                          0.2213631009
                        ],
                        "passed_time": 371.2257488,
                        "iteration": 945,
                        "remaining_time": 21.19047615,
                        "learn": [
                          0.9718356729,
                          0.2288978885
                        ]
                      },
                      {
                        "test": [
                          0.9708147049,
                          0.221335341
                        ],
                        "passed_time": 371.6682792,
                        "iteration": 946,
                        "remaining_time": 20.80086462,
                        "learn": [
                          0.9718452692,
                          0.2288692732
                        ]
                      },
                      {
                        "test": [
                          0.9708163142,
                          0.221320929
                        ],
                        "passed_time": 372.0907573,
                        "iteration": 947,
                        "remaining_time": 20.41004154,
                        "learn": [
                          0.9718598723,
                          0.228830681
                        ]
                      },
                      {
                        "test": [
                          0.9708906412,
                          0.2210620518
                        ],
                        "passed_time": 372.369758,
                        "iteration": 948,
                        "remaining_time": 20.01144116,
                        "learn": [
                          0.9719188809,
                          0.2286156462
                        ]
                      },
                      {
                        "test": [
                          0.9708922505,
                          0.221058011
                        ],
                        "passed_time": 372.7963747,
                        "iteration": 949,
                        "remaining_time": 19.62086182,
                        "learn": [
                          0.9719288945,
                          0.2285893333
                        ]
                      },
                      {
                        "test": [
                          0.9708955884,
                          0.2210429525
                        ],
                        "passed_time": 373.1898706,
                        "iteration": 950,
                        "remaining_time": 19.22850017,
                        "learn": [
                          0.9719366431,
                          0.2285617414
                        ]
                      },
                      {
                        "test": [
                          0.9709000587,
                          0.2210141285
                        ],
                        "passed_time": 373.6006626,
                        "iteration": 951,
                        "remaining_time": 18.8370082,
                        "learn": [
                          0.9719479084,
                          0.2285194032
                        ]
                      },
                      {
                        "test": [
                          0.9708971381,
                          0.2210170378
                        ],
                        "passed_time": 373.9880024,
                        "iteration": 952,
                        "remaining_time": 18.44431911,
                        "learn": [
                          0.9719639421,
                          0.2284739769
                        ]
                      },
                      {
                        "test": [
                          0.9709073305,
                          0.2209727647
                        ],
                        "passed_time": 374.3949714,
                        "iteration": 953,
                        "remaining_time": 18.05258772,
                        "learn": [
                          0.9719876051,
                          0.2283961712
                        ]
                      },
                      {
                        "test": [
                          0.9709113836,
                          0.2209594976
                        ],
                        "passed_time": 374.7387574,
                        "iteration": 954,
                        "remaining_time": 17.65784721,
                        "learn": [
                          0.9719930887,
                          0.2283765279
                        ]
                      },
                      {
                        "test": [
                          0.9709124565,
                          0.2209557666
                        ],
                        "passed_time": 375.1531408,
                        "iteration": 955,
                        "remaining_time": 17.26646255,
                        "learn": [
                          0.9719975591,
                          0.2283628415
                        ]
                      },
                      {
                        "test": [
                          0.9709604979,
                          0.2207335929
                        ],
                        "passed_time": 375.4600514,
                        "iteration": 956,
                        "remaining_time": 16.87020084,
                        "learn": [
                          0.9720258713,
                          0.2281852844
                        ]
                      },
                      {
                        "test": [
                          0.9709567428,
                          0.2207335525
                        ],
                        "passed_time": 375.8417038,
                        "iteration": 957,
                        "remaining_time": 16.47740246,
                        "learn": [
                          0.9720298648,
                          0.228160543
                        ]
                      },
                      {
                        "test": [
                          0.9709641933,
                          0.2207074627
                        ],
                        "passed_time": 376.2720933,
                        "iteration": 958,
                        "remaining_time": 16.08671098,
                        "learn": [
                          0.9720468521,
                          0.2281218411
                        ]
                      },
                      {
                        "test": [
                          0.9710208178,
                          0.2203530622
                        ],
                        "passed_time": 376.6045762,
                        "iteration": 959,
                        "remaining_time": 15.69185734,
                        "learn": [
                          0.9720912576,
                          0.2278374061
                        ]
                      },
                      {
                        "test": [
                          0.9710305929,
                          0.2203267435
                        ],
                        "passed_time": 376.8958387,
                        "iteration": 960,
                        "remaining_time": 15.29546068,
                        "learn": [
                          0.972099483,
                          0.2278107278
                        ]
                      },
                      {
                        "test": [
                          0.9710291922,
                          0.2203336127
                        ],
                        "passed_time": 377.2795339,
                        "iteration": 961,
                        "remaining_time": 14.90293377,
                        "learn": [
                          0.9721207619,
                          0.2277490752
                        ]
                      },
                      {
                        "test": [
                          0.9710332751,
                          0.2203198473
                        ],
                        "passed_time": 377.681718,
                        "iteration": 962,
                        "remaining_time": 14.51113558,
                        "learn": [
                          0.9721283913,
                          0.2277284452
                        ]
                      },
                      {
                        "test": [
                          0.9710462689,
                          0.2202676273
                        ],
                        "passed_time": 378.1192403,
                        "iteration": 963,
                        "remaining_time": 14.12063553,
                        "learn": [
                          0.9721649885,
                          0.2276210923
                        ]
                      },
                      {
                        "test": [
                          0.971049726,
                          0.2202567712
                        ],
                        "passed_time": 378.5595033,
                        "iteration": 964,
                        "remaining_time": 13.73013743,
                        "learn": [
                          0.9721794724,
                          0.2275819701
                        ]
                      },
                      {
                        "test": [
                          0.9710527658,
                          0.2202453897
                        ],
                        "passed_time": 378.9043398,
                        "iteration": 965,
                        "remaining_time": 13.33617759,
                        "learn": [
                          0.9721835852,
                          0.2275616507
                        ]
                      },
                      {
                        "test": [
                          0.9710585475,
                          0.2202301157
                        ],
                        "passed_time": 379.2920876,
                        "iteration": 966,
                        "remaining_time": 12.94378375,
                        "learn": [
                          0.9721910357,
                          0.2275386818
                        ]
                      },
                      {
                        "test": [
                          0.9710565209,
                          0.2202289304
                        ],
                        "passed_time": 379.6785531,
                        "iteration": 967,
                        "remaining_time": 12.55135713,
                        "learn": [
                          0.9721984863,
                          0.227508422
                        ]
                      },
                      {
                        "test": [
                          0.9710554481,
                          0.2202223979
                        ],
                        "passed_time": 380.0709739,
                        "iteration": 968,
                        "remaining_time": 12.15913332,
                        "learn": [
                          0.9722070098,
                          0.2274733381
                        ]
                      },
                      {
                        "test": [
                          0.9710565805,
                          0.2202200004
                        ],
                        "passed_time": 380.4842256,
                        "iteration": 969,
                        "remaining_time": 11.76755337,
                        "learn": [
                          0.9722189903,
                          0.2274430052
                        ]
                      },
                      {
                        "test": [
                          0.971044898,
                          0.2202286206
                        ],
                        "passed_time": 380.902604,
                        "iteration": 970,
                        "remaining_time": 11.37608189,
                        "learn": [
                          0.9722447395,
                          0.2273777894
                        ]
                      },
                      {
                        "test": [
                          0.9710508585,
                          0.2202127405
                        ],
                        "passed_time": 381.2606566,
                        "iteration": 971,
                        "remaining_time": 10.98281727,
                        "learn": [
                          0.9722610116,
                          0.2273343915
                        ]
                      },
                      {
                        "test": [
                          0.971054852,
                          0.2201858291
                        ],
                        "passed_time": 381.6360343,
                        "iteration": 972,
                        "remaining_time": 10.59010578,
                        "learn": [
                          0.9722773433,
                          0.2272791892
                        ]
                      },
                      {
                        "test": [
                          0.9710533619,
                          0.2201853442
                        ],
                        "passed_time": 382.0416225,
                        "iteration": 973,
                        "remaining_time": 10.19823633,
                        "learn": [
                          0.9722818732,
                          0.2272666175
                        ]
                      },
                      {
                        "test": [
                          0.971051693,
                          0.2201858022
                        ],
                        "passed_time": 382.3774419,
                        "iteration": 974,
                        "remaining_time": 9.804549792,
                        "learn": [
                          0.9722825289,
                          0.2272580475
                        ]
                      },
                      {
                        "test": [
                          0.9710560441,
                          0.2201706763
                        ],
                        "passed_time": 382.7626227,
                        "iteration": 975,
                        "remaining_time": 9.412195639,
                        "learn": [
                          0.9722975492,
                          0.2272155449
                        ]
                      },
                      {
                        "test": [
                          0.9710590839,
                          0.2201604398
                        ],
                        "passed_time": 383.1397305,
                        "iteration": 976,
                        "remaining_time": 9.019666122,
                        "learn": [
                          0.9723073244,
                          0.2271865459
                        ]
                      },
                      {
                        "test": [
                          0.971057117,
                          0.2201604936
                        ],
                        "passed_time": 383.5151845,
                        "iteration": 977,
                        "remaining_time": 8.62713094,
                        "learn": [
                          0.9723143578,
                          0.2271654225
                        ]
                      },
                      {
                        "test": [
                          0.9710628986,
                          0.2201422025
                        ],
                        "passed_time": 383.8807546,
                        "iteration": 978,
                        "remaining_time": 8.234418638,
                        "learn": [
                          0.9723297358,
                          0.2271097269
                        ]
                      },
                      {
                        "test": [
                          0.9710614681,
                          0.2201383369
                        ],
                        "passed_time": 384.2975714,
                        "iteration": 979,
                        "remaining_time": 7.84280758,
                        "learn": [
                          0.9723387957,
                          0.2270807645
                        ]
                      },
                      {
                        "test": [
                          0.9710685611,
                          0.2201164764
                        ],
                        "passed_time": 384.6921842,
                        "iteration": 980,
                        "remaining_time": 7.450715087,
                        "learn": [
                          0.9723626971,
                          0.2270163893
                        ]
                      },
                      {
                        "test": [
                          0.971065402,
                          0.2201055934
                        ],
                        "passed_time": 385.1024323,
                        "iteration": 981,
                        "remaining_time": 7.058904054,
                        "learn": [
                          0.9723744392,
                          0.2269699397
                        ]
                      },
                      {
                        "test": [
                          0.9710712433,
                          0.2200960168
                        ],
                        "passed_time": 385.5393721,
                        "iteration": 982,
                        "remaining_time": 6.667517117,
                        "learn": [
                          0.9723902345,
                          0.2269329372
                        ]
                      },
                      {
                        "test": [
                          0.9710744619,
                          0.2200776044
                        ],
                        "passed_time": 385.9451241,
                        "iteration": 983,
                        "remaining_time": 6.275530473,
                        "learn": [
                          0.9723992348,
                          0.2268948932
                        ]
                      },
                      {
                        "test": [
                          0.9710773826,
                          0.2200543836
                        ],
                        "passed_time": 386.3022715,
                        "iteration": 984,
                        "remaining_time": 5.882775708,
                        "learn": [
                          0.9724140167,
                          0.2268518058
                        ]
                      },
                      {
                        "test": [
                          0.9711402655,
                          0.2198399277
                        ],
                        "passed_time": 386.5933007,
                        "iteration": 985,
                        "remaining_time": 5.489154371,
                        "learn": [
                          0.9724590778,
                          0.2266775012
                        ]
                      },
                      {
                        "test": [
                          0.9711467028,
                          0.2198160603
                        ],
                        "passed_time": 386.9770493,
                        "iteration": 986,
                        "remaining_time": 5.096962149,
                        "learn": [
                          0.9724758267,
                          0.2266273971
                        ]
                      },
                      {
                        "test": [
                          0.9711524844,
                          0.2197984696
                        ],
                        "passed_time": 387.4280785,
                        "iteration": 987,
                        "remaining_time": 4.705604192,
                        "learn": [
                          0.9724886417,
                          0.2265819343
                        ]
                      },
                      {
                        "test": [
                          0.9711557627,
                          0.219788489
                        ],
                        "passed_time": 387.8747048,
                        "iteration": 988,
                        "remaining_time": 4.314076596,
                        "learn": [
                          0.9725096822,
                          0.2265268052
                        ]
                      },
                      {
                        "test": [
                          0.9711568952,
                          0.219784987
                        ],
                        "passed_time": 388.2690878,
                        "iteration": 989,
                        "remaining_time": 3.921909978,
                        "learn": [
                          0.9725204706,
                          0.2264988294
                        ]
                      },
                      {
                        "test": [
                          0.9711629748,
                          0.2197676926
                        ],
                        "passed_time": 388.7487062,
                        "iteration": 990,
                        "remaining_time": 3.530512972,
                        "learn": [
                          0.9725347161,
                          0.2264649516
                        ]
                      },
                      {
                        "test": [
                          0.9711620808,
                          0.2197709117
                        ],
                        "passed_time": 389.1692533,
                        "iteration": 991,
                        "remaining_time": 3.13846172,
                        "learn": [
                          0.9725466371,
                          0.2264398447
                        ]
                      },
                      {
                        "test": [
                          0.9711623192,
                          0.2197675848
                        ],
                        "passed_time": 389.5562819,
                        "iteration": 992,
                        "remaining_time": 2.746116791,
                        "learn": [
                          0.9725524783,
                          0.2264247514
                        ]
                      },
                      {
                        "test": [
                          0.97116822,
                          0.2197581968
                        ],
                        "passed_time": 389.9953009,
                        "iteration": 993,
                        "remaining_time": 2.354096384,
                        "learn": [
                          0.9725619555,
                          0.226402093
                        ]
                      },
                      {
                        "test": [
                          0.9711663127,
                          0.2197597592
                        ],
                        "passed_time": 390.3940693,
                        "iteration": 994,
                        "remaining_time": 1.961779243,
                        "learn": [
                          0.9725799561,
                          0.226360833
                        ]
                      },
                      {
                        "test": [
                          0.9711692333,
                          0.2197439869
                        ],
                        "passed_time": 390.8239257,
                        "iteration": 995,
                        "remaining_time": 1.569573999,
                        "learn": [
                          0.9725929499,
                          0.2263167954
                        ]
                      },
                      {
                        "test": [
                          0.9711779952,
                          0.2197113107
                        ],
                        "passed_time": 391.232285,
                        "iteration": 996,
                        "remaining_time": 1.177228541,
                        "learn": [
                          0.972612381,
                          0.2262651381
                        ]
                      },
                      {
                        "test": [
                          0.9711705446,
                          0.2197276218
                        ],
                        "passed_time": 391.6550891,
                        "iteration": 997,
                        "remaining_time": 0.784879938,
                        "learn": [
                          0.9726263285,
                          0.2262248648
                        ]
                      },
                      {
                        "test": [
                          0.9711669087,
                          0.2197358245
                        ],
                        "passed_time": 392.0736054,
                        "iteration": 998,
                        "remaining_time": 0.3924660715,
                        "learn": [
                          0.9726424813,
                          0.2261888673
                        ]
                      },
                      {
                        "test": [
                          0.9711619616,
                          0.2197440407
                        ],
                        "passed_time": 392.3926474,
                        "iteration": 999,
                        "remaining_time": 0,
                        "learn": [
                          0.9726500511,
                          0.2261658801
                        ]
                      }
                    ]
                  },
                  "total_iterations": 1000,
                  "passed_iterations": 999
                },
                "path": "catboost_clf_find_fraud",
                "name": "catboost_clf_find_fraud"
              }
            },
            "_view_module": "catboost-widget",
            "_model_module_version": "^1.0.0",
            "_view_count": null,
            "_view_module_version": "^1.0.0",
            "layout": "IPY_MODEL_7fe0542dcde14638af7813fe1ee93978",
            "_model_module": "catboost-widget"
          }
        }
      }
    }
  },
  "cells": [
    {
      "cell_type": "markdown",
      "metadata": {
        "id": "view-in-github",
        "colab_type": "text"
      },
      "source": [
        "<a href=\"https://colab.research.google.com/github/ElZho/ElZho/blob/main/Find_Froud_05_02_CatB_v5_1_ipynb%22.ipynb\" target=\"_parent\"><img src=\"https://colab.research.google.com/assets/colab-badge.svg\" alt=\"Open In Colab\"/></a>"
      ]
    },
    {
      "cell_type": "markdown",
      "source": [
        "\n",
        "\n",
        "```\n",
        "# Выбран кодовый формат\n",
        "```\n",
        "\n",
        "**Вариант 5.1**\n",
        "* 1. Убираем список столбцов: 'id_07', 'id_08', 'id_21', 'id_22', 'id_24', 'id_25', 'id_26', 'id_23',  'id_27' (baseline)\n",
        "* 2. Убираем столбцы, которые убрали после 2-й попытки - показавшие 0 в feature_importance и также имеющие высокие коэффициенты корреляции\n",
        "* 3. Добавляем 3 столбца: сгруппированная карта, сгруппированный адрес, сгруппированный dist.\n",
        "* 4. Убираем столбцец D9 - столбец со временем операции\n",
        "* 5. Добавляем столбец с часами операции, вычисленными из TransactionDT, а также добавим день, вычисленный из TransactionDT\n",
        "*  6.Удаляем TransactionDT\n",
        "\n"
      ],
      "metadata": {
        "id": "nhrbPqlxF24M"
      }
    },
    {
      "cell_type": "code",
      "source": [
        "import pandas as pd\n",
        "import numpy as np\n",
        "import matplotlib.pyplot as plt\n",
        "# import seaborn as sns\n",
        "%matplotlib inline"
      ],
      "metadata": {
        "id": "z3sbUzZm9jub"
      },
      "execution_count": 1,
      "outputs": []
    },
    {
      "cell_type": "code",
      "source": [
        "import gc\n",
        "import sys"
      ],
      "metadata": {
        "id": "Fx87FaR_Tax7"
      },
      "execution_count": 2,
      "outputs": []
    },
    {
      "cell_type": "code",
      "execution_count": 3,
      "metadata": {
        "id": "KUUdQ5ZA8gGN"
      },
      "outputs": [],
      "source": [
        "path_to_data = '/content/drive/MyDrive/Classroom/list_off_02_02.csv'\n",
        "list_off= pd.read_csv(path_to_data)"
      ]
    },
    {
      "cell_type": "code",
      "source": [
        "list_off"
      ],
      "metadata": {
        "colab": {
          "base_uri": "https://localhost:8080/",
          "height": 424
        },
        "id": "rtW_6P3EJH7Z",
        "outputId": "89da9469-9bb7-4fa1-b955-70bef42f82fc"
      },
      "execution_count": null,
      "outputs": [
        {
          "output_type": "execute_result",
          "data": {
            "text/html": [
              "\n",
              "  <div id=\"df-1306946c-1ae6-4f05-b34f-3eeb6d19fb92\">\n",
              "    <div class=\"colab-df-container\">\n",
              "      <div>\n",
              "<style scoped>\n",
              "    .dataframe tbody tr th:only-of-type {\n",
              "        vertical-align: middle;\n",
              "    }\n",
              "\n",
              "    .dataframe tbody tr th {\n",
              "        vertical-align: top;\n",
              "    }\n",
              "\n",
              "    .dataframe thead th {\n",
              "        text-align: right;\n",
              "    }\n",
              "</style>\n",
              "<table border=\"1\" class=\"dataframe\">\n",
              "  <thead>\n",
              "    <tr style=\"text-align: right;\">\n",
              "      <th></th>\n",
              "      <th>feature</th>\n",
              "      <th>importance</th>\n",
              "    </tr>\n",
              "  </thead>\n",
              "  <tbody>\n",
              "    <tr>\n",
              "      <th>0</th>\n",
              "      <td>V17</td>\n",
              "      <td>0.0</td>\n",
              "    </tr>\n",
              "    <tr>\n",
              "      <th>1</th>\n",
              "      <td>V18</td>\n",
              "      <td>0.0</td>\n",
              "    </tr>\n",
              "    <tr>\n",
              "      <th>2</th>\n",
              "      <td>V21</td>\n",
              "      <td>0.0</td>\n",
              "    </tr>\n",
              "    <tr>\n",
              "      <th>3</th>\n",
              "      <td>V22</td>\n",
              "      <td>0.0</td>\n",
              "    </tr>\n",
              "    <tr>\n",
              "      <th>4</th>\n",
              "      <td>V31</td>\n",
              "      <td>0.0</td>\n",
              "    </tr>\n",
              "    <tr>\n",
              "      <th>...</th>\n",
              "      <td>...</td>\n",
              "      <td>...</td>\n",
              "    </tr>\n",
              "    <tr>\n",
              "      <th>5</th>\n",
              "      <td>NaN</td>\n",
              "      <td>NaN</td>\n",
              "    </tr>\n",
              "    <tr>\n",
              "      <th>6</th>\n",
              "      <td>NaN</td>\n",
              "      <td>NaN</td>\n",
              "    </tr>\n",
              "    <tr>\n",
              "      <th>7</th>\n",
              "      <td>NaN</td>\n",
              "      <td>NaN</td>\n",
              "    </tr>\n",
              "    <tr>\n",
              "      <th>8</th>\n",
              "      <td>NaN</td>\n",
              "      <td>NaN</td>\n",
              "    </tr>\n",
              "    <tr>\n",
              "      <th>9</th>\n",
              "      <td>NaN</td>\n",
              "      <td>NaN</td>\n",
              "    </tr>\n",
              "  </tbody>\n",
              "</table>\n",
              "<p>78 rows × 2 columns</p>\n",
              "</div>\n",
              "      <button class=\"colab-df-convert\" onclick=\"convertToInteractive('df-1306946c-1ae6-4f05-b34f-3eeb6d19fb92')\"\n",
              "              title=\"Convert this dataframe to an interactive table.\"\n",
              "              style=\"display:none;\">\n",
              "        \n",
              "  <svg xmlns=\"http://www.w3.org/2000/svg\" height=\"24px\"viewBox=\"0 0 24 24\"\n",
              "       width=\"24px\">\n",
              "    <path d=\"M0 0h24v24H0V0z\" fill=\"none\"/>\n",
              "    <path d=\"M18.56 5.44l.94 2.06.94-2.06 2.06-.94-2.06-.94-.94-2.06-.94 2.06-2.06.94zm-11 1L8.5 8.5l.94-2.06 2.06-.94-2.06-.94L8.5 2.5l-.94 2.06-2.06.94zm10 10l.94 2.06.94-2.06 2.06-.94-2.06-.94-.94-2.06-.94 2.06-2.06.94z\"/><path d=\"M17.41 7.96l-1.37-1.37c-.4-.4-.92-.59-1.43-.59-.52 0-1.04.2-1.43.59L10.3 9.45l-7.72 7.72c-.78.78-.78 2.05 0 2.83L4 21.41c.39.39.9.59 1.41.59.51 0 1.02-.2 1.41-.59l7.78-7.78 2.81-2.81c.8-.78.8-2.07 0-2.86zM5.41 20L4 18.59l7.72-7.72 1.47 1.35L5.41 20z\"/>\n",
              "  </svg>\n",
              "      </button>\n",
              "      \n",
              "  <style>\n",
              "    .colab-df-container {\n",
              "      display:flex;\n",
              "      flex-wrap:wrap;\n",
              "      gap: 12px;\n",
              "    }\n",
              "\n",
              "    .colab-df-convert {\n",
              "      background-color: #E8F0FE;\n",
              "      border: none;\n",
              "      border-radius: 50%;\n",
              "      cursor: pointer;\n",
              "      display: none;\n",
              "      fill: #1967D2;\n",
              "      height: 32px;\n",
              "      padding: 0 0 0 0;\n",
              "      width: 32px;\n",
              "    }\n",
              "\n",
              "    .colab-df-convert:hover {\n",
              "      background-color: #E2EBFA;\n",
              "      box-shadow: 0px 1px 2px rgba(60, 64, 67, 0.3), 0px 1px 3px 1px rgba(60, 64, 67, 0.15);\n",
              "      fill: #174EA6;\n",
              "    }\n",
              "\n",
              "    [theme=dark] .colab-df-convert {\n",
              "      background-color: #3B4455;\n",
              "      fill: #D2E3FC;\n",
              "    }\n",
              "\n",
              "    [theme=dark] .colab-df-convert:hover {\n",
              "      background-color: #434B5C;\n",
              "      box-shadow: 0px 1px 3px 1px rgba(0, 0, 0, 0.15);\n",
              "      filter: drop-shadow(0px 1px 2px rgba(0, 0, 0, 0.3));\n",
              "      fill: #FFFFFF;\n",
              "    }\n",
              "  </style>\n",
              "\n",
              "      <script>\n",
              "        const buttonEl =\n",
              "          document.querySelector('#df-1306946c-1ae6-4f05-b34f-3eeb6d19fb92 button.colab-df-convert');\n",
              "        buttonEl.style.display =\n",
              "          google.colab.kernel.accessAllowed ? 'block' : 'none';\n",
              "\n",
              "        async function convertToInteractive(key) {\n",
              "          const element = document.querySelector('#df-1306946c-1ae6-4f05-b34f-3eeb6d19fb92');\n",
              "          const dataTable =\n",
              "            await google.colab.kernel.invokeFunction('convertToInteractive',\n",
              "                                                     [key], {});\n",
              "          if (!dataTable) return;\n",
              "\n",
              "          const docLinkHtml = 'Like what you see? Visit the ' +\n",
              "            '<a target=\"_blank\" href=https://colab.research.google.com/notebooks/data_table.ipynb>data table notebook</a>'\n",
              "            + ' to learn more about interactive tables.';\n",
              "          element.innerHTML = '';\n",
              "          dataTable['output_type'] = 'display_data';\n",
              "          await google.colab.output.renderOutput(dataTable, element);\n",
              "          const docLink = document.createElement('div');\n",
              "          docLink.innerHTML = docLinkHtml;\n",
              "          element.appendChild(docLink);\n",
              "        }\n",
              "      </script>\n",
              "    </div>\n",
              "  </div>\n",
              "  "
            ],
            "text/plain": [
              "   feature  importance\n",
              "0      V17         0.0\n",
              "1      V18         0.0\n",
              "2      V21         0.0\n",
              "3      V22         0.0\n",
              "4      V31         0.0\n",
              "..     ...         ...\n",
              "5      NaN         NaN\n",
              "6      NaN         NaN\n",
              "7      NaN         NaN\n",
              "8      NaN         NaN\n",
              "9      NaN         NaN\n",
              "\n",
              "[78 rows x 2 columns]"
            ]
          },
          "metadata": {},
          "execution_count": 49
        }
      ]
    },
    {
      "cell_type": "code",
      "source": [
        "feat_out= ['id_07', 'id_08', 'id_21', 'id_22', 'id_24', 'id_25', 'id_26',\n",
        "          'id_23',  'id_27', 'D9']"
      ],
      "metadata": {
        "id": "aq0gUC6BnXbf"
      },
      "execution_count": 4,
      "outputs": []
    },
    {
      "cell_type": "code",
      "source": [
        "addr_feature=['addr1', 'addr2']\n",
        "card_feature=['card1', 'card2','card3', 'card4', 'card5', 'card6']\n",
        "identity_feature= ['id_12','id_13', 'id_14', 'id_15', 'id_16', 'id_17',\n",
        "                  'id_18', 'id_19', 'id_20', 'id_21', 'id_22',               \n",
        "                  'id_23', 'id_27', 'id_28', 'id_29', \n",
        "                  'id_30', 'id_31', 'id_33', 'id_34',\n",
        "                  'id_35', 'id_36', 'id_37', 'id_38']"
      ],
      "metadata": {
        "id": "g8GPe9dO_6DB"
      },
      "execution_count": 5,
      "outputs": []
    },
    {
      "cell_type": "code",
      "source": [
        "feature_m=['M1', 'M2', 'M3', 'M4', 'M5', 'M6', 'M7', 'M8', 'M9']"
      ],
      "metadata": {
        "id": "m8gtEeblJTEB"
      },
      "execution_count": 6,
      "outputs": []
    },
    {
      "cell_type": "code",
      "source": [
        "features_cat_itog=['ProductCD', 'P_emaildomain', 'R_emaildomain', 'DeviceType', 'DeviceInfo']\n",
        "features_cat_itog=features_cat_itog+addr_feature+card_feature+identity_feature+feature_m"
      ],
      "metadata": {
        "id": "BGCkc3ZH_6DC"
      },
      "execution_count": 7,
      "outputs": []
    },
    {
      "cell_type": "code",
      "source": [
        "numeric_features_itog=['TransactionID', 'TransactionDT', 'TransactionAmt', 'dist1',\n",
        "                  'dist2', 'C1', 'C2', 'C3', 'C4', 'C5', 'C6', 'C7', 'C8', 'C9',\n",
        "                  'C10', 'C11', 'C12', 'C13', 'C14', 'D1', 'D2', 'D3', 'D4', 'D5',\n",
        "                  'D6', 'D7', 'D8', 'D9', 'D10', 'D11', 'D12', 'D13', 'D14',\n",
        "                  'D15', 'V1', 'V2', 'V3', 'V4', 'V5', 'V6', 'V7', 'V8', 'V9',\n",
        "                  'V10', 'V11', 'V12', 'V13', 'V14', 'V15', 'V16', 'V17', 'V18',\n",
        "                  'V19', 'V20', 'V21', 'V22', 'V23', 'V24', 'V25', 'V26', 'V27',\n",
        "                  'V28', 'V29', 'V30', 'V31', 'V32', 'V33', 'V34', 'V35', 'V36',\n",
        "                  'V37', 'V38', 'V39', 'V40', 'V41', 'V42', 'V43', 'V44', 'V45',\n",
        "                  'V46', 'V47', 'V48', 'V49', 'V50', 'V51', 'V52', 'V53', 'V54',\n",
        "                  'V55', 'V56', 'V57', 'V58', 'V59', 'V60', 'V61', 'V62', 'V63',\n",
        "                  'V64', 'V65', 'V66', 'V67', 'V68', 'V69', 'V70', 'V71', 'V72',\n",
        "                  'V73', 'V74', 'V75', 'V76', 'V77', 'V78', 'V79', 'V80', 'V81',\n",
        "                  'V82', 'V83', 'V84', 'V85', 'V86', 'V87', 'V88', 'V89', 'V90',\n",
        "                  'V91', 'V92', 'V93', 'V94', 'V95', 'V96', 'V97', 'V98', 'V99',\n",
        "                  'V100', 'V101', 'V102', 'V103', 'V104', 'V105', 'V106', 'V107',\n",
        "                  'V108', 'V109', 'V110', 'V111', 'V112', 'V113', 'V114', 'V115',\n",
        "                  'V116', 'V117', 'V118', 'V119', 'V120', 'V121', 'V122', 'V123',\n",
        "                  'V124', 'V125', 'V126', 'V127', 'V128', 'V129', 'V130', 'V131',\n",
        "                  'V132', 'V133', 'V134', 'V135', 'V136', 'V137', 'V138', 'V139',\n",
        "                  'V140', 'V141', 'V142', 'V143', 'V144', 'V145', 'V146', 'V147',\n",
        "                  'V148', 'V149', 'V150', 'V151', 'V152', 'V153', 'V154', 'V155',\n",
        "                  'V156', 'V157', 'V158', 'V159', 'V160', 'V161', 'V162', 'V163',\n",
        "                  'V164', 'V165', 'V166', 'V167', 'V168', 'V169', 'V170', 'V171',\n",
        "                  'V172', 'V173', 'V174', 'V175', 'V176', 'V177', 'V178', 'V179',\n",
        "                  'V180', 'V181', 'V182', 'V183', 'V184', 'V185', 'V186', 'V187',\n",
        "                  'V188', 'V189', 'V190', 'V191', 'V192', 'V193', 'V194', 'V195',\n",
        "                  'V196', 'V197', 'V198', 'V199', 'V200', 'V201', 'V202', 'V203',\n",
        "                  'V204', 'V205', 'V206', 'V207', 'V208', 'V209', 'V210', 'V211',\n",
        "                  'V212', 'V213', 'V214', 'V215', 'V216', 'V217', 'V218', 'V219',\n",
        "                  'V220', 'V221', 'V222', 'V223', 'V224', 'V225', 'V226', 'V227',\n",
        "                  'V228', 'V229', 'V230', 'V231', 'V232', 'V233', 'V234', 'V235',\n",
        "                  'V236', 'V237', 'V238', 'V239', 'V240', 'V241', 'V242', 'V243',\n",
        "                  'V244', 'V245', 'V246', 'V247', 'V248', 'V249', 'V250', 'V251',\n",
        "                  'V252', 'V253', 'V254', 'V255', 'V256', 'V257', 'V258', 'V259',\n",
        "                  'V260', 'V261', 'V262', 'V263', 'V264', 'V265', 'V266', 'V267',\n",
        "                  'V268', 'V269', 'V270', 'V271', 'V272', 'V273', 'V274', 'V275',\n",
        "                  'V276', 'V277', 'V278', 'V279', 'V280', 'V281', 'V282', 'V283',\n",
        "                  'V284', 'V285', 'V286', 'V287', 'V288', 'V289', 'V290', 'V291',\n",
        "                  'V292', 'V293', 'V294', 'V295', 'V296', 'V297', 'V298', 'V299',\n",
        "                  'V300', 'V301', 'V302', 'V303', 'V304', 'V305', 'V306', 'V307',\n",
        "                  'V308', 'V309', 'V310', 'V311', 'V312', 'V313', 'V314', 'V315',\n",
        "                  'V316', 'V317', 'V318', 'V319', 'V320', 'V321', 'V322', 'V323',\n",
        "                  'V324', 'V325', 'V326', 'V327', 'V328', 'V329', 'V330', 'V331',\n",
        "                  'V332', 'V333', 'V334', 'V335', 'V336', 'V337', 'V338', 'V339']"
      ],
      "metadata": {
        "id": "g8oCk0yK_6DC"
      },
      "execution_count": 8,
      "outputs": []
    },
    {
      "cell_type": "code",
      "source": [
        "feature_cat_for_cat=features_cat_itog.copy()\n",
        "feature_cat_for_cat.extend(['card_card', 'dist', 'addr'])"
      ],
      "metadata": {
        "id": "gl_xSkqUOagu"
      },
      "execution_count": 9,
      "outputs": []
    },
    {
      "cell_type": "code",
      "source": [
        "# columns to convert to integer\n",
        "column_to_int=['addr1', 'addr2', 'card2', 'card3', 'id_13','card5', 'id_14', 'id_17', 'id_18', 'id_19', 'id_20']"
      ],
      "metadata": {
        "id": "nhJYk1PoKlME"
      },
      "execution_count": 10,
      "outputs": []
    },
    {
      "cell_type": "code",
      "source": [
        "feature_to_use=numeric_features_itog+features_cat_itog\n",
        "for col in list_off:\n",
        "  if col in feature_to_use:\n",
        "    feature_to_use.remove(col)\n",
        "  if col in numeric_features_itog:\n",
        "    numeric_features_itog.remove(col)\n",
        "  if col in features_cat_itog:\n",
        "    features_cat_itog.remove(col)  \n",
        "  if col in feature_cat_for_cat:\n",
        "    feature_cat_for_cat.remove(col)\n",
        "for col in feat_out:\n",
        "  if col in column_to_int:\n",
        "    column_to_int.remove(col)\n",
        "  if col in feature_to_use:\n",
        "    feature_to_use.remove(col)\n",
        "  if col in numeric_features_itog:\n",
        "    numeric_features_itog.remove(col)\n",
        "  if col in features_cat_itog:\n",
        "    features_cat_itog.remove(col)  \n",
        "  if col in column_to_int:\n",
        "    column_to_int.remove(col)\n",
        "  if col in feature_cat_for_cat:\n",
        "    feature_cat_for_cat.remove(col)         "
      ],
      "metadata": {
        "id": "hpBupP59Dj5g"
      },
      "execution_count": 11,
      "outputs": []
    },
    {
      "cell_type": "code",
      "source": [
        "# create some new feature\n",
        "def add_feature(data):\n",
        "  #groupe card data in one\n",
        "  data['card_card']=data['card1'].astype(str)+\\\n",
        "                             data['card2'].astype(str) +\\\n",
        "                             data['card3'].astype(str)+\\\n",
        "                             data['card4']+data['card6']+\\\n",
        "                             data['card5'].astype(str)\n",
        "  # group dist in one\n",
        "  data['dist']=data['dist1'].astype(str)+data['dist2'].astype(str) \n",
        "  # group address in one\n",
        "  data['addr']=data['addr1'].astype(str)+data['addr2'].astype(str) \n",
        "  #create  hour column\n",
        "  data[\"Hr\"] = data[\"TransactionDT\"]/(60*60)%24//1/24\n",
        "  #create  day column\n",
        "  data['day']=data[\"TransactionDT\"]/(60*60)%24//1\n",
        "  data.drop(columns='TransactionDT', inplace=True)\n",
        "  return data                            "
      ],
      "metadata": {
        "id": "w800oNmFLBfz"
      },
      "execution_count": 12,
      "outputs": []
    },
    {
      "cell_type": "code",
      "source": [
        "# clean some categorical columns\n",
        "def clean_columns(data):\n",
        "  for col in column_to_int:\n",
        "    if data[col].dtype==np.float:\n",
        "      data[col]=data[col].apply(lambda x: '{0:.0f}'.format(x))\n",
        "  for col in feature_cat_for_cat:\n",
        "    data[col].fillna(' ', inplace=True)\n",
        "    data[col].replace('nan', ' ', inplace=True)\n",
        "  return data  \n",
        "  "
      ],
      "metadata": {
        "id": "aJbYxqDbR3ud"
      },
      "execution_count": 34,
      "outputs": []
    },
    {
      "cell_type": "code",
      "source": [
        "f=numeric_features_itog\n",
        "f.remove('TransactionDT')"
      ],
      "metadata": {
        "id": "rsFmxGof_YD1"
      },
      "execution_count": 44,
      "outputs": []
    },
    {
      "cell_type": "code",
      "source": [
        "#downcast some numeric columns\n",
        "def downcasting_num_columns(data):\n",
        "  \n",
        "  for col in f:\n",
        "    if data[col].dtype==float:\n",
        "      # downcasting a float column\n",
        "      data[col] = pd.to_numeric(data[col], downcast='float')\n",
        "    elif  data[col].dtype==int: \n",
        "      # downcasting an integer column\n",
        "      data[col] = pd.to_numeric(data[col], downcast='unsigned')\n",
        "  return data   "
      ],
      "metadata": {
        "id": "kOj_yh65WzKW"
      },
      "execution_count": 42,
      "outputs": []
    },
    {
      "cell_type": "code",
      "source": [
        "# for col in f:\n",
        "#   X[col].replace('nan', ' ', inplace=True)\n",
        "#   X_test[col].replace('nan', ' ', inplace=True)"
      ],
      "metadata": {
        "id": "23piyqH_R3ue"
      },
      "execution_count": null,
      "outputs": []
    },
    {
      "cell_type": "code",
      "execution_count": 16,
      "metadata": {
        "id": "9OnUijHslaDP",
        "colab": {
          "base_uri": "https://localhost:8080/",
          "height": 334
        },
        "outputId": "42877e33-8fc8-4ea7-88e5-2980d962116c"
      },
      "outputs": [
        {
          "output_type": "execute_result",
          "data": {
            "text/html": [
              "\n",
              "  <div id=\"df-e9797ad9-208f-4298-8583-0e288e1329f7\">\n",
              "    <div class=\"colab-df-container\">\n",
              "      <div>\n",
              "<style scoped>\n",
              "    .dataframe tbody tr th:only-of-type {\n",
              "        vertical-align: middle;\n",
              "    }\n",
              "\n",
              "    .dataframe tbody tr th {\n",
              "        vertical-align: top;\n",
              "    }\n",
              "\n",
              "    .dataframe thead th {\n",
              "        text-align: right;\n",
              "    }\n",
              "</style>\n",
              "<table border=\"1\" class=\"dataframe\">\n",
              "  <thead>\n",
              "    <tr style=\"text-align: right;\">\n",
              "      <th></th>\n",
              "      <th>TransactionID</th>\n",
              "      <th>TransactionDT</th>\n",
              "      <th>TransactionAmt</th>\n",
              "      <th>ProductCD</th>\n",
              "      <th>card1</th>\n",
              "      <th>card2</th>\n",
              "      <th>card3</th>\n",
              "      <th>card4</th>\n",
              "      <th>card5</th>\n",
              "      <th>card6</th>\n",
              "      <th>addr1</th>\n",
              "      <th>addr2</th>\n",
              "      <th>dist1</th>\n",
              "      <th>dist2</th>\n",
              "      <th>P_emaildomain</th>\n",
              "      <th>R_emaildomain</th>\n",
              "      <th>C1</th>\n",
              "      <th>C2</th>\n",
              "      <th>C3</th>\n",
              "      <th>C4</th>\n",
              "      <th>C5</th>\n",
              "      <th>C6</th>\n",
              "      <th>C7</th>\n",
              "      <th>C8</th>\n",
              "      <th>C9</th>\n",
              "      <th>C10</th>\n",
              "      <th>C11</th>\n",
              "      <th>C12</th>\n",
              "      <th>C13</th>\n",
              "      <th>C14</th>\n",
              "      <th>D1</th>\n",
              "      <th>D2</th>\n",
              "      <th>D3</th>\n",
              "      <th>D4</th>\n",
              "      <th>D5</th>\n",
              "      <th>D6</th>\n",
              "      <th>D7</th>\n",
              "      <th>D8</th>\n",
              "      <th>D10</th>\n",
              "      <th>D11</th>\n",
              "      <th>...</th>\n",
              "      <th>V321</th>\n",
              "      <th>V322</th>\n",
              "      <th>V323</th>\n",
              "      <th>V324</th>\n",
              "      <th>V325</th>\n",
              "      <th>V326</th>\n",
              "      <th>V327</th>\n",
              "      <th>V328</th>\n",
              "      <th>V329</th>\n",
              "      <th>V330</th>\n",
              "      <th>V331</th>\n",
              "      <th>V332</th>\n",
              "      <th>V333</th>\n",
              "      <th>V334</th>\n",
              "      <th>V335</th>\n",
              "      <th>V336</th>\n",
              "      <th>V337</th>\n",
              "      <th>V338</th>\n",
              "      <th>V339</th>\n",
              "      <th>id_12</th>\n",
              "      <th>id_13</th>\n",
              "      <th>id_14</th>\n",
              "      <th>id_15</th>\n",
              "      <th>id_16</th>\n",
              "      <th>id_17</th>\n",
              "      <th>id_18</th>\n",
              "      <th>id_19</th>\n",
              "      <th>id_20</th>\n",
              "      <th>id_28</th>\n",
              "      <th>id_29</th>\n",
              "      <th>id_30</th>\n",
              "      <th>id_31</th>\n",
              "      <th>id_33</th>\n",
              "      <th>id_34</th>\n",
              "      <th>id_35</th>\n",
              "      <th>id_36</th>\n",
              "      <th>id_37</th>\n",
              "      <th>id_38</th>\n",
              "      <th>DeviceType</th>\n",
              "      <th>DeviceInfo</th>\n",
              "    </tr>\n",
              "  </thead>\n",
              "  <tbody>\n",
              "    <tr>\n",
              "      <th>0</th>\n",
              "      <td>2987000</td>\n",
              "      <td>86400</td>\n",
              "      <td>68.5</td>\n",
              "      <td>W</td>\n",
              "      <td>13926</td>\n",
              "      <td>NaN</td>\n",
              "      <td>150.0</td>\n",
              "      <td>discover</td>\n",
              "      <td>142.0</td>\n",
              "      <td>credit</td>\n",
              "      <td>315.0</td>\n",
              "      <td>87.0</td>\n",
              "      <td>19.0</td>\n",
              "      <td>NaN</td>\n",
              "      <td>NaN</td>\n",
              "      <td>NaN</td>\n",
              "      <td>1.0</td>\n",
              "      <td>1.0</td>\n",
              "      <td>0.0</td>\n",
              "      <td>0.0</td>\n",
              "      <td>0.0</td>\n",
              "      <td>1.0</td>\n",
              "      <td>0.0</td>\n",
              "      <td>0.0</td>\n",
              "      <td>1.0</td>\n",
              "      <td>0.0</td>\n",
              "      <td>2.0</td>\n",
              "      <td>0.0</td>\n",
              "      <td>1.0</td>\n",
              "      <td>1.0</td>\n",
              "      <td>14.0</td>\n",
              "      <td>NaN</td>\n",
              "      <td>13.0</td>\n",
              "      <td>NaN</td>\n",
              "      <td>NaN</td>\n",
              "      <td>NaN</td>\n",
              "      <td>NaN</td>\n",
              "      <td>NaN</td>\n",
              "      <td>13.0</td>\n",
              "      <td>13.0</td>\n",
              "      <td>...</td>\n",
              "      <td>0.0</td>\n",
              "      <td>NaN</td>\n",
              "      <td>NaN</td>\n",
              "      <td>NaN</td>\n",
              "      <td>NaN</td>\n",
              "      <td>NaN</td>\n",
              "      <td>NaN</td>\n",
              "      <td>NaN</td>\n",
              "      <td>NaN</td>\n",
              "      <td>NaN</td>\n",
              "      <td>NaN</td>\n",
              "      <td>NaN</td>\n",
              "      <td>NaN</td>\n",
              "      <td>NaN</td>\n",
              "      <td>NaN</td>\n",
              "      <td>NaN</td>\n",
              "      <td>NaN</td>\n",
              "      <td>NaN</td>\n",
              "      <td>NaN</td>\n",
              "      <td>NaN</td>\n",
              "      <td>NaN</td>\n",
              "      <td>NaN</td>\n",
              "      <td>NaN</td>\n",
              "      <td>NaN</td>\n",
              "      <td>NaN</td>\n",
              "      <td>NaN</td>\n",
              "      <td>NaN</td>\n",
              "      <td>NaN</td>\n",
              "      <td>NaN</td>\n",
              "      <td>NaN</td>\n",
              "      <td>NaN</td>\n",
              "      <td>NaN</td>\n",
              "      <td>NaN</td>\n",
              "      <td>NaN</td>\n",
              "      <td>NaN</td>\n",
              "      <td>NaN</td>\n",
              "      <td>NaN</td>\n",
              "      <td>NaN</td>\n",
              "      <td>NaN</td>\n",
              "      <td>NaN</td>\n",
              "    </tr>\n",
              "    <tr>\n",
              "      <th>1</th>\n",
              "      <td>2987001</td>\n",
              "      <td>86401</td>\n",
              "      <td>29.0</td>\n",
              "      <td>W</td>\n",
              "      <td>2755</td>\n",
              "      <td>404.0</td>\n",
              "      <td>150.0</td>\n",
              "      <td>mastercard</td>\n",
              "      <td>102.0</td>\n",
              "      <td>credit</td>\n",
              "      <td>325.0</td>\n",
              "      <td>87.0</td>\n",
              "      <td>NaN</td>\n",
              "      <td>NaN</td>\n",
              "      <td>gmail.com</td>\n",
              "      <td>NaN</td>\n",
              "      <td>1.0</td>\n",
              "      <td>1.0</td>\n",
              "      <td>0.0</td>\n",
              "      <td>0.0</td>\n",
              "      <td>0.0</td>\n",
              "      <td>1.0</td>\n",
              "      <td>0.0</td>\n",
              "      <td>0.0</td>\n",
              "      <td>0.0</td>\n",
              "      <td>0.0</td>\n",
              "      <td>1.0</td>\n",
              "      <td>0.0</td>\n",
              "      <td>1.0</td>\n",
              "      <td>1.0</td>\n",
              "      <td>0.0</td>\n",
              "      <td>NaN</td>\n",
              "      <td>NaN</td>\n",
              "      <td>0.0</td>\n",
              "      <td>NaN</td>\n",
              "      <td>NaN</td>\n",
              "      <td>NaN</td>\n",
              "      <td>NaN</td>\n",
              "      <td>0.0</td>\n",
              "      <td>NaN</td>\n",
              "      <td>...</td>\n",
              "      <td>0.0</td>\n",
              "      <td>NaN</td>\n",
              "      <td>NaN</td>\n",
              "      <td>NaN</td>\n",
              "      <td>NaN</td>\n",
              "      <td>NaN</td>\n",
              "      <td>NaN</td>\n",
              "      <td>NaN</td>\n",
              "      <td>NaN</td>\n",
              "      <td>NaN</td>\n",
              "      <td>NaN</td>\n",
              "      <td>NaN</td>\n",
              "      <td>NaN</td>\n",
              "      <td>NaN</td>\n",
              "      <td>NaN</td>\n",
              "      <td>NaN</td>\n",
              "      <td>NaN</td>\n",
              "      <td>NaN</td>\n",
              "      <td>NaN</td>\n",
              "      <td>NaN</td>\n",
              "      <td>NaN</td>\n",
              "      <td>NaN</td>\n",
              "      <td>NaN</td>\n",
              "      <td>NaN</td>\n",
              "      <td>NaN</td>\n",
              "      <td>NaN</td>\n",
              "      <td>NaN</td>\n",
              "      <td>NaN</td>\n",
              "      <td>NaN</td>\n",
              "      <td>NaN</td>\n",
              "      <td>NaN</td>\n",
              "      <td>NaN</td>\n",
              "      <td>NaN</td>\n",
              "      <td>NaN</td>\n",
              "      <td>NaN</td>\n",
              "      <td>NaN</td>\n",
              "      <td>NaN</td>\n",
              "      <td>NaN</td>\n",
              "      <td>NaN</td>\n",
              "      <td>NaN</td>\n",
              "    </tr>\n",
              "    <tr>\n",
              "      <th>2</th>\n",
              "      <td>2987002</td>\n",
              "      <td>86469</td>\n",
              "      <td>59.0</td>\n",
              "      <td>W</td>\n",
              "      <td>4663</td>\n",
              "      <td>490.0</td>\n",
              "      <td>150.0</td>\n",
              "      <td>visa</td>\n",
              "      <td>166.0</td>\n",
              "      <td>debit</td>\n",
              "      <td>330.0</td>\n",
              "      <td>87.0</td>\n",
              "      <td>287.0</td>\n",
              "      <td>NaN</td>\n",
              "      <td>outlook.com</td>\n",
              "      <td>NaN</td>\n",
              "      <td>1.0</td>\n",
              "      <td>1.0</td>\n",
              "      <td>0.0</td>\n",
              "      <td>0.0</td>\n",
              "      <td>0.0</td>\n",
              "      <td>1.0</td>\n",
              "      <td>0.0</td>\n",
              "      <td>0.0</td>\n",
              "      <td>1.0</td>\n",
              "      <td>0.0</td>\n",
              "      <td>1.0</td>\n",
              "      <td>0.0</td>\n",
              "      <td>1.0</td>\n",
              "      <td>1.0</td>\n",
              "      <td>0.0</td>\n",
              "      <td>NaN</td>\n",
              "      <td>NaN</td>\n",
              "      <td>0.0</td>\n",
              "      <td>NaN</td>\n",
              "      <td>NaN</td>\n",
              "      <td>NaN</td>\n",
              "      <td>NaN</td>\n",
              "      <td>0.0</td>\n",
              "      <td>315.0</td>\n",
              "      <td>...</td>\n",
              "      <td>0.0</td>\n",
              "      <td>NaN</td>\n",
              "      <td>NaN</td>\n",
              "      <td>NaN</td>\n",
              "      <td>NaN</td>\n",
              "      <td>NaN</td>\n",
              "      <td>NaN</td>\n",
              "      <td>NaN</td>\n",
              "      <td>NaN</td>\n",
              "      <td>NaN</td>\n",
              "      <td>NaN</td>\n",
              "      <td>NaN</td>\n",
              "      <td>NaN</td>\n",
              "      <td>NaN</td>\n",
              "      <td>NaN</td>\n",
              "      <td>NaN</td>\n",
              "      <td>NaN</td>\n",
              "      <td>NaN</td>\n",
              "      <td>NaN</td>\n",
              "      <td>NaN</td>\n",
              "      <td>NaN</td>\n",
              "      <td>NaN</td>\n",
              "      <td>NaN</td>\n",
              "      <td>NaN</td>\n",
              "      <td>NaN</td>\n",
              "      <td>NaN</td>\n",
              "      <td>NaN</td>\n",
              "      <td>NaN</td>\n",
              "      <td>NaN</td>\n",
              "      <td>NaN</td>\n",
              "      <td>NaN</td>\n",
              "      <td>NaN</td>\n",
              "      <td>NaN</td>\n",
              "      <td>NaN</td>\n",
              "      <td>NaN</td>\n",
              "      <td>NaN</td>\n",
              "      <td>NaN</td>\n",
              "      <td>NaN</td>\n",
              "      <td>NaN</td>\n",
              "      <td>NaN</td>\n",
              "    </tr>\n",
              "    <tr>\n",
              "      <th>3</th>\n",
              "      <td>2987003</td>\n",
              "      <td>86499</td>\n",
              "      <td>50.0</td>\n",
              "      <td>W</td>\n",
              "      <td>18132</td>\n",
              "      <td>567.0</td>\n",
              "      <td>150.0</td>\n",
              "      <td>mastercard</td>\n",
              "      <td>117.0</td>\n",
              "      <td>debit</td>\n",
              "      <td>476.0</td>\n",
              "      <td>87.0</td>\n",
              "      <td>NaN</td>\n",
              "      <td>NaN</td>\n",
              "      <td>yahoo.com</td>\n",
              "      <td>NaN</td>\n",
              "      <td>2.0</td>\n",
              "      <td>5.0</td>\n",
              "      <td>0.0</td>\n",
              "      <td>0.0</td>\n",
              "      <td>0.0</td>\n",
              "      <td>4.0</td>\n",
              "      <td>0.0</td>\n",
              "      <td>0.0</td>\n",
              "      <td>1.0</td>\n",
              "      <td>0.0</td>\n",
              "      <td>1.0</td>\n",
              "      <td>0.0</td>\n",
              "      <td>25.0</td>\n",
              "      <td>1.0</td>\n",
              "      <td>112.0</td>\n",
              "      <td>112.0</td>\n",
              "      <td>0.0</td>\n",
              "      <td>94.0</td>\n",
              "      <td>0.0</td>\n",
              "      <td>NaN</td>\n",
              "      <td>NaN</td>\n",
              "      <td>NaN</td>\n",
              "      <td>84.0</td>\n",
              "      <td>NaN</td>\n",
              "      <td>...</td>\n",
              "      <td>0.0</td>\n",
              "      <td>NaN</td>\n",
              "      <td>NaN</td>\n",
              "      <td>NaN</td>\n",
              "      <td>NaN</td>\n",
              "      <td>NaN</td>\n",
              "      <td>NaN</td>\n",
              "      <td>NaN</td>\n",
              "      <td>NaN</td>\n",
              "      <td>NaN</td>\n",
              "      <td>NaN</td>\n",
              "      <td>NaN</td>\n",
              "      <td>NaN</td>\n",
              "      <td>NaN</td>\n",
              "      <td>NaN</td>\n",
              "      <td>NaN</td>\n",
              "      <td>NaN</td>\n",
              "      <td>NaN</td>\n",
              "      <td>NaN</td>\n",
              "      <td>NaN</td>\n",
              "      <td>NaN</td>\n",
              "      <td>NaN</td>\n",
              "      <td>NaN</td>\n",
              "      <td>NaN</td>\n",
              "      <td>NaN</td>\n",
              "      <td>NaN</td>\n",
              "      <td>NaN</td>\n",
              "      <td>NaN</td>\n",
              "      <td>NaN</td>\n",
              "      <td>NaN</td>\n",
              "      <td>NaN</td>\n",
              "      <td>NaN</td>\n",
              "      <td>NaN</td>\n",
              "      <td>NaN</td>\n",
              "      <td>NaN</td>\n",
              "      <td>NaN</td>\n",
              "      <td>NaN</td>\n",
              "      <td>NaN</td>\n",
              "      <td>NaN</td>\n",
              "      <td>NaN</td>\n",
              "    </tr>\n",
              "    <tr>\n",
              "      <th>4</th>\n",
              "      <td>2987004</td>\n",
              "      <td>86506</td>\n",
              "      <td>50.0</td>\n",
              "      <td>H</td>\n",
              "      <td>4497</td>\n",
              "      <td>514.0</td>\n",
              "      <td>150.0</td>\n",
              "      <td>mastercard</td>\n",
              "      <td>102.0</td>\n",
              "      <td>credit</td>\n",
              "      <td>420.0</td>\n",
              "      <td>87.0</td>\n",
              "      <td>NaN</td>\n",
              "      <td>NaN</td>\n",
              "      <td>gmail.com</td>\n",
              "      <td>NaN</td>\n",
              "      <td>1.0</td>\n",
              "      <td>1.0</td>\n",
              "      <td>0.0</td>\n",
              "      <td>0.0</td>\n",
              "      <td>0.0</td>\n",
              "      <td>1.0</td>\n",
              "      <td>0.0</td>\n",
              "      <td>1.0</td>\n",
              "      <td>0.0</td>\n",
              "      <td>1.0</td>\n",
              "      <td>1.0</td>\n",
              "      <td>0.0</td>\n",
              "      <td>1.0</td>\n",
              "      <td>1.0</td>\n",
              "      <td>0.0</td>\n",
              "      <td>NaN</td>\n",
              "      <td>NaN</td>\n",
              "      <td>NaN</td>\n",
              "      <td>NaN</td>\n",
              "      <td>NaN</td>\n",
              "      <td>NaN</td>\n",
              "      <td>NaN</td>\n",
              "      <td>NaN</td>\n",
              "      <td>NaN</td>\n",
              "      <td>...</td>\n",
              "      <td>0.0</td>\n",
              "      <td>0.0</td>\n",
              "      <td>0.0</td>\n",
              "      <td>0.0</td>\n",
              "      <td>0.0</td>\n",
              "      <td>0.0</td>\n",
              "      <td>0.0</td>\n",
              "      <td>0.0</td>\n",
              "      <td>0.0</td>\n",
              "      <td>0.0</td>\n",
              "      <td>0.0</td>\n",
              "      <td>0.0</td>\n",
              "      <td>0.0</td>\n",
              "      <td>0.0</td>\n",
              "      <td>0.0</td>\n",
              "      <td>0.0</td>\n",
              "      <td>0.0</td>\n",
              "      <td>0.0</td>\n",
              "      <td>0.0</td>\n",
              "      <td>NotFound</td>\n",
              "      <td>NaN</td>\n",
              "      <td>-480.0</td>\n",
              "      <td>New</td>\n",
              "      <td>NotFound</td>\n",
              "      <td>166.0</td>\n",
              "      <td>NaN</td>\n",
              "      <td>542.0</td>\n",
              "      <td>144.0</td>\n",
              "      <td>New</td>\n",
              "      <td>NotFound</td>\n",
              "      <td>Android 7.0</td>\n",
              "      <td>samsung browser 6.2</td>\n",
              "      <td>2220x1080</td>\n",
              "      <td>match_status:2</td>\n",
              "      <td>T</td>\n",
              "      <td>F</td>\n",
              "      <td>T</td>\n",
              "      <td>T</td>\n",
              "      <td>mobile</td>\n",
              "      <td>SAMSUNG SM-G892A Build/NRD90M</td>\n",
              "    </tr>\n",
              "  </tbody>\n",
              "</table>\n",
              "<p>5 rows × 413 columns</p>\n",
              "</div>\n",
              "      <button class=\"colab-df-convert\" onclick=\"convertToInteractive('df-e9797ad9-208f-4298-8583-0e288e1329f7')\"\n",
              "              title=\"Convert this dataframe to an interactive table.\"\n",
              "              style=\"display:none;\">\n",
              "        \n",
              "  <svg xmlns=\"http://www.w3.org/2000/svg\" height=\"24px\"viewBox=\"0 0 24 24\"\n",
              "       width=\"24px\">\n",
              "    <path d=\"M0 0h24v24H0V0z\" fill=\"none\"/>\n",
              "    <path d=\"M18.56 5.44l.94 2.06.94-2.06 2.06-.94-2.06-.94-.94-2.06-.94 2.06-2.06.94zm-11 1L8.5 8.5l.94-2.06 2.06-.94-2.06-.94L8.5 2.5l-.94 2.06-2.06.94zm10 10l.94 2.06.94-2.06 2.06-.94-2.06-.94-.94-2.06-.94 2.06-2.06.94z\"/><path d=\"M17.41 7.96l-1.37-1.37c-.4-.4-.92-.59-1.43-.59-.52 0-1.04.2-1.43.59L10.3 9.45l-7.72 7.72c-.78.78-.78 2.05 0 2.83L4 21.41c.39.39.9.59 1.41.59.51 0 1.02-.2 1.41-.59l7.78-7.78 2.81-2.81c.8-.78.8-2.07 0-2.86zM5.41 20L4 18.59l7.72-7.72 1.47 1.35L5.41 20z\"/>\n",
              "  </svg>\n",
              "      </button>\n",
              "      \n",
              "  <style>\n",
              "    .colab-df-container {\n",
              "      display:flex;\n",
              "      flex-wrap:wrap;\n",
              "      gap: 12px;\n",
              "    }\n",
              "\n",
              "    .colab-df-convert {\n",
              "      background-color: #E8F0FE;\n",
              "      border: none;\n",
              "      border-radius: 50%;\n",
              "      cursor: pointer;\n",
              "      display: none;\n",
              "      fill: #1967D2;\n",
              "      height: 32px;\n",
              "      padding: 0 0 0 0;\n",
              "      width: 32px;\n",
              "    }\n",
              "\n",
              "    .colab-df-convert:hover {\n",
              "      background-color: #E2EBFA;\n",
              "      box-shadow: 0px 1px 2px rgba(60, 64, 67, 0.3), 0px 1px 3px 1px rgba(60, 64, 67, 0.15);\n",
              "      fill: #174EA6;\n",
              "    }\n",
              "\n",
              "    [theme=dark] .colab-df-convert {\n",
              "      background-color: #3B4455;\n",
              "      fill: #D2E3FC;\n",
              "    }\n",
              "\n",
              "    [theme=dark] .colab-df-convert:hover {\n",
              "      background-color: #434B5C;\n",
              "      box-shadow: 0px 1px 3px 1px rgba(0, 0, 0, 0.15);\n",
              "      filter: drop-shadow(0px 1px 2px rgba(0, 0, 0, 0.3));\n",
              "      fill: #FFFFFF;\n",
              "    }\n",
              "  </style>\n",
              "\n",
              "      <script>\n",
              "        const buttonEl =\n",
              "          document.querySelector('#df-e9797ad9-208f-4298-8583-0e288e1329f7 button.colab-df-convert');\n",
              "        buttonEl.style.display =\n",
              "          google.colab.kernel.accessAllowed ? 'block' : 'none';\n",
              "\n",
              "        async function convertToInteractive(key) {\n",
              "          const element = document.querySelector('#df-e9797ad9-208f-4298-8583-0e288e1329f7');\n",
              "          const dataTable =\n",
              "            await google.colab.kernel.invokeFunction('convertToInteractive',\n",
              "                                                     [key], {});\n",
              "          if (!dataTable) return;\n",
              "\n",
              "          const docLinkHtml = 'Like what you see? Visit the ' +\n",
              "            '<a target=\"_blank\" href=https://colab.research.google.com/notebooks/data_table.ipynb>data table notebook</a>'\n",
              "            + ' to learn more about interactive tables.';\n",
              "          element.innerHTML = '';\n",
              "          dataTable['output_type'] = 'display_data';\n",
              "          await google.colab.output.renderOutput(dataTable, element);\n",
              "          const docLink = document.createElement('div');\n",
              "          docLink.innerHTML = docLinkHtml;\n",
              "          element.appendChild(docLink);\n",
              "        }\n",
              "      </script>\n",
              "    </div>\n",
              "  </div>\n",
              "  "
            ],
            "text/plain": [
              "   TransactionID  TransactionDT  ...  DeviceType                     DeviceInfo\n",
              "0        2987000          86400  ...         NaN                            NaN\n",
              "1        2987001          86401  ...         NaN                            NaN\n",
              "2        2987002          86469  ...         NaN                            NaN\n",
              "3        2987003          86499  ...         NaN                            NaN\n",
              "4        2987004          86506  ...      mobile  SAMSUNG SM-G892A Build/NRD90M\n",
              "\n",
              "[5 rows x 413 columns]"
            ]
          },
          "metadata": {},
          "execution_count": 16
        }
      ],
      "source": [
        "path_to_data = '/content/drive/MyDrive/Classroom/data_train_full_isFraud_03_02_reduced.csv'\n",
        "X = pd.read_csv(path_to_data,  usecols=feature_to_use)\n",
        "X.head()"
      ]
    },
    {
      "cell_type": "code",
      "source": [
        "X=add_feature(X)"
      ],
      "metadata": {
        "id": "Gb6S-vcNRXUn"
      },
      "execution_count": 17,
      "outputs": []
    },
    {
      "cell_type": "code",
      "source": [
        "X=clean_columns(X)"
      ],
      "metadata": {
        "id": "lmhYK-mDRhmR"
      },
      "execution_count": 18,
      "outputs": []
    },
    {
      "cell_type": "code",
      "source": [
        "X[column_to_int]"
      ],
      "metadata": {
        "id": "JGs6cTGzTB42",
        "colab": {
          "base_uri": "https://localhost:8080/",
          "height": 424
        },
        "outputId": "52d1d798-9939-42dc-e951-c4ba83659e58"
      },
      "execution_count": 19,
      "outputs": [
        {
          "output_type": "execute_result",
          "data": {
            "text/html": [
              "\n",
              "  <div id=\"df-d206019e-01cf-45d8-a1b6-cac2c171bb4d\">\n",
              "    <div class=\"colab-df-container\">\n",
              "      <div>\n",
              "<style scoped>\n",
              "    .dataframe tbody tr th:only-of-type {\n",
              "        vertical-align: middle;\n",
              "    }\n",
              "\n",
              "    .dataframe tbody tr th {\n",
              "        vertical-align: top;\n",
              "    }\n",
              "\n",
              "    .dataframe thead th {\n",
              "        text-align: right;\n",
              "    }\n",
              "</style>\n",
              "<table border=\"1\" class=\"dataframe\">\n",
              "  <thead>\n",
              "    <tr style=\"text-align: right;\">\n",
              "      <th></th>\n",
              "      <th>addr1</th>\n",
              "      <th>addr2</th>\n",
              "      <th>card2</th>\n",
              "      <th>card3</th>\n",
              "      <th>id_13</th>\n",
              "      <th>card5</th>\n",
              "      <th>id_14</th>\n",
              "      <th>id_17</th>\n",
              "      <th>id_18</th>\n",
              "      <th>id_19</th>\n",
              "      <th>id_20</th>\n",
              "    </tr>\n",
              "  </thead>\n",
              "  <tbody>\n",
              "    <tr>\n",
              "      <th>0</th>\n",
              "      <td>315</td>\n",
              "      <td>87</td>\n",
              "      <td></td>\n",
              "      <td>150</td>\n",
              "      <td></td>\n",
              "      <td>142</td>\n",
              "      <td></td>\n",
              "      <td></td>\n",
              "      <td></td>\n",
              "      <td></td>\n",
              "      <td></td>\n",
              "    </tr>\n",
              "    <tr>\n",
              "      <th>1</th>\n",
              "      <td>325</td>\n",
              "      <td>87</td>\n",
              "      <td>404</td>\n",
              "      <td>150</td>\n",
              "      <td></td>\n",
              "      <td>102</td>\n",
              "      <td></td>\n",
              "      <td></td>\n",
              "      <td></td>\n",
              "      <td></td>\n",
              "      <td></td>\n",
              "    </tr>\n",
              "    <tr>\n",
              "      <th>2</th>\n",
              "      <td>330</td>\n",
              "      <td>87</td>\n",
              "      <td>490</td>\n",
              "      <td>150</td>\n",
              "      <td></td>\n",
              "      <td>166</td>\n",
              "      <td></td>\n",
              "      <td></td>\n",
              "      <td></td>\n",
              "      <td></td>\n",
              "      <td></td>\n",
              "    </tr>\n",
              "    <tr>\n",
              "      <th>3</th>\n",
              "      <td>476</td>\n",
              "      <td>87</td>\n",
              "      <td>567</td>\n",
              "      <td>150</td>\n",
              "      <td></td>\n",
              "      <td>117</td>\n",
              "      <td></td>\n",
              "      <td></td>\n",
              "      <td></td>\n",
              "      <td></td>\n",
              "      <td></td>\n",
              "    </tr>\n",
              "    <tr>\n",
              "      <th>4</th>\n",
              "      <td>420</td>\n",
              "      <td>87</td>\n",
              "      <td>514</td>\n",
              "      <td>150</td>\n",
              "      <td></td>\n",
              "      <td>102</td>\n",
              "      <td>-480</td>\n",
              "      <td>166</td>\n",
              "      <td></td>\n",
              "      <td>542</td>\n",
              "      <td>144</td>\n",
              "    </tr>\n",
              "    <tr>\n",
              "      <th>...</th>\n",
              "      <td>...</td>\n",
              "      <td>...</td>\n",
              "      <td>...</td>\n",
              "      <td>...</td>\n",
              "      <td>...</td>\n",
              "      <td>...</td>\n",
              "      <td>...</td>\n",
              "      <td>...</td>\n",
              "      <td>...</td>\n",
              "      <td>...</td>\n",
              "      <td>...</td>\n",
              "    </tr>\n",
              "    <tr>\n",
              "      <th>590535</th>\n",
              "      <td>272</td>\n",
              "      <td>87</td>\n",
              "      <td></td>\n",
              "      <td>150</td>\n",
              "      <td></td>\n",
              "      <td>226</td>\n",
              "      <td></td>\n",
              "      <td></td>\n",
              "      <td></td>\n",
              "      <td></td>\n",
              "      <td></td>\n",
              "    </tr>\n",
              "    <tr>\n",
              "      <th>590536</th>\n",
              "      <td>204</td>\n",
              "      <td>87</td>\n",
              "      <td>225</td>\n",
              "      <td>150</td>\n",
              "      <td></td>\n",
              "      <td>224</td>\n",
              "      <td></td>\n",
              "      <td></td>\n",
              "      <td></td>\n",
              "      <td></td>\n",
              "      <td></td>\n",
              "    </tr>\n",
              "    <tr>\n",
              "      <th>590537</th>\n",
              "      <td>231</td>\n",
              "      <td>87</td>\n",
              "      <td>595</td>\n",
              "      <td>150</td>\n",
              "      <td></td>\n",
              "      <td>224</td>\n",
              "      <td></td>\n",
              "      <td></td>\n",
              "      <td></td>\n",
              "      <td></td>\n",
              "      <td></td>\n",
              "    </tr>\n",
              "    <tr>\n",
              "      <th>590538</th>\n",
              "      <td>387</td>\n",
              "      <td>87</td>\n",
              "      <td>481</td>\n",
              "      <td>150</td>\n",
              "      <td></td>\n",
              "      <td>224</td>\n",
              "      <td></td>\n",
              "      <td></td>\n",
              "      <td></td>\n",
              "      <td></td>\n",
              "      <td></td>\n",
              "    </tr>\n",
              "    <tr>\n",
              "      <th>590539</th>\n",
              "      <td>299</td>\n",
              "      <td>87</td>\n",
              "      <td>170</td>\n",
              "      <td>150</td>\n",
              "      <td></td>\n",
              "      <td>102</td>\n",
              "      <td></td>\n",
              "      <td></td>\n",
              "      <td></td>\n",
              "      <td></td>\n",
              "      <td></td>\n",
              "    </tr>\n",
              "  </tbody>\n",
              "</table>\n",
              "<p>590540 rows × 11 columns</p>\n",
              "</div>\n",
              "      <button class=\"colab-df-convert\" onclick=\"convertToInteractive('df-d206019e-01cf-45d8-a1b6-cac2c171bb4d')\"\n",
              "              title=\"Convert this dataframe to an interactive table.\"\n",
              "              style=\"display:none;\">\n",
              "        \n",
              "  <svg xmlns=\"http://www.w3.org/2000/svg\" height=\"24px\"viewBox=\"0 0 24 24\"\n",
              "       width=\"24px\">\n",
              "    <path d=\"M0 0h24v24H0V0z\" fill=\"none\"/>\n",
              "    <path d=\"M18.56 5.44l.94 2.06.94-2.06 2.06-.94-2.06-.94-.94-2.06-.94 2.06-2.06.94zm-11 1L8.5 8.5l.94-2.06 2.06-.94-2.06-.94L8.5 2.5l-.94 2.06-2.06.94zm10 10l.94 2.06.94-2.06 2.06-.94-2.06-.94-.94-2.06-.94 2.06-2.06.94z\"/><path d=\"M17.41 7.96l-1.37-1.37c-.4-.4-.92-.59-1.43-.59-.52 0-1.04.2-1.43.59L10.3 9.45l-7.72 7.72c-.78.78-.78 2.05 0 2.83L4 21.41c.39.39.9.59 1.41.59.51 0 1.02-.2 1.41-.59l7.78-7.78 2.81-2.81c.8-.78.8-2.07 0-2.86zM5.41 20L4 18.59l7.72-7.72 1.47 1.35L5.41 20z\"/>\n",
              "  </svg>\n",
              "      </button>\n",
              "      \n",
              "  <style>\n",
              "    .colab-df-container {\n",
              "      display:flex;\n",
              "      flex-wrap:wrap;\n",
              "      gap: 12px;\n",
              "    }\n",
              "\n",
              "    .colab-df-convert {\n",
              "      background-color: #E8F0FE;\n",
              "      border: none;\n",
              "      border-radius: 50%;\n",
              "      cursor: pointer;\n",
              "      display: none;\n",
              "      fill: #1967D2;\n",
              "      height: 32px;\n",
              "      padding: 0 0 0 0;\n",
              "      width: 32px;\n",
              "    }\n",
              "\n",
              "    .colab-df-convert:hover {\n",
              "      background-color: #E2EBFA;\n",
              "      box-shadow: 0px 1px 2px rgba(60, 64, 67, 0.3), 0px 1px 3px 1px rgba(60, 64, 67, 0.15);\n",
              "      fill: #174EA6;\n",
              "    }\n",
              "\n",
              "    [theme=dark] .colab-df-convert {\n",
              "      background-color: #3B4455;\n",
              "      fill: #D2E3FC;\n",
              "    }\n",
              "\n",
              "    [theme=dark] .colab-df-convert:hover {\n",
              "      background-color: #434B5C;\n",
              "      box-shadow: 0px 1px 3px 1px rgba(0, 0, 0, 0.15);\n",
              "      filter: drop-shadow(0px 1px 2px rgba(0, 0, 0, 0.3));\n",
              "      fill: #FFFFFF;\n",
              "    }\n",
              "  </style>\n",
              "\n",
              "      <script>\n",
              "        const buttonEl =\n",
              "          document.querySelector('#df-d206019e-01cf-45d8-a1b6-cac2c171bb4d button.colab-df-convert');\n",
              "        buttonEl.style.display =\n",
              "          google.colab.kernel.accessAllowed ? 'block' : 'none';\n",
              "\n",
              "        async function convertToInteractive(key) {\n",
              "          const element = document.querySelector('#df-d206019e-01cf-45d8-a1b6-cac2c171bb4d');\n",
              "          const dataTable =\n",
              "            await google.colab.kernel.invokeFunction('convertToInteractive',\n",
              "                                                     [key], {});\n",
              "          if (!dataTable) return;\n",
              "\n",
              "          const docLinkHtml = 'Like what you see? Visit the ' +\n",
              "            '<a target=\"_blank\" href=https://colab.research.google.com/notebooks/data_table.ipynb>data table notebook</a>'\n",
              "            + ' to learn more about interactive tables.';\n",
              "          element.innerHTML = '';\n",
              "          dataTable['output_type'] = 'display_data';\n",
              "          await google.colab.output.renderOutput(dataTable, element);\n",
              "          const docLink = document.createElement('div');\n",
              "          docLink.innerHTML = docLinkHtml;\n",
              "          element.appendChild(docLink);\n",
              "        }\n",
              "      </script>\n",
              "    </div>\n",
              "  </div>\n",
              "  "
            ],
            "text/plain": [
              "       addr1 addr2 card2 card3 id_13 card5 id_14 id_17 id_18 id_19 id_20\n",
              "0        315    87         150         142                              \n",
              "1        325    87   404   150         102                              \n",
              "2        330    87   490   150         166                              \n",
              "3        476    87   567   150         117                              \n",
              "4        420    87   514   150         102  -480   166         542   144\n",
              "...      ...   ...   ...   ...   ...   ...   ...   ...   ...   ...   ...\n",
              "590535   272    87         150         226                              \n",
              "590536   204    87   225   150         224                              \n",
              "590537   231    87   595   150         224                              \n",
              "590538   387    87   481   150         224                              \n",
              "590539   299    87   170   150         102                              \n",
              "\n",
              "[590540 rows x 11 columns]"
            ]
          },
          "metadata": {},
          "execution_count": 19
        }
      ]
    },
    {
      "cell_type": "code",
      "source": [
        "X[feature_m]"
      ],
      "metadata": {
        "id": "j47tAGCSTFkJ",
        "colab": {
          "base_uri": "https://localhost:8080/",
          "height": 424
        },
        "outputId": "1b9a9344-61a6-4a50-8afd-ccfefe8750ac"
      },
      "execution_count": 20,
      "outputs": [
        {
          "output_type": "execute_result",
          "data": {
            "text/html": [
              "\n",
              "  <div id=\"df-7de02bed-52ba-46b4-a267-2cdb847b31fe\">\n",
              "    <div class=\"colab-df-container\">\n",
              "      <div>\n",
              "<style scoped>\n",
              "    .dataframe tbody tr th:only-of-type {\n",
              "        vertical-align: middle;\n",
              "    }\n",
              "\n",
              "    .dataframe tbody tr th {\n",
              "        vertical-align: top;\n",
              "    }\n",
              "\n",
              "    .dataframe thead th {\n",
              "        text-align: right;\n",
              "    }\n",
              "</style>\n",
              "<table border=\"1\" class=\"dataframe\">\n",
              "  <thead>\n",
              "    <tr style=\"text-align: right;\">\n",
              "      <th></th>\n",
              "      <th>M1</th>\n",
              "      <th>M2</th>\n",
              "      <th>M3</th>\n",
              "      <th>M4</th>\n",
              "      <th>M5</th>\n",
              "      <th>M6</th>\n",
              "      <th>M7</th>\n",
              "      <th>M8</th>\n",
              "      <th>M9</th>\n",
              "    </tr>\n",
              "  </thead>\n",
              "  <tbody>\n",
              "    <tr>\n",
              "      <th>0</th>\n",
              "      <td>T</td>\n",
              "      <td>T</td>\n",
              "      <td>T</td>\n",
              "      <td>M2</td>\n",
              "      <td>F</td>\n",
              "      <td>T</td>\n",
              "      <td></td>\n",
              "      <td></td>\n",
              "      <td></td>\n",
              "    </tr>\n",
              "    <tr>\n",
              "      <th>1</th>\n",
              "      <td></td>\n",
              "      <td></td>\n",
              "      <td></td>\n",
              "      <td>M0</td>\n",
              "      <td>T</td>\n",
              "      <td>T</td>\n",
              "      <td></td>\n",
              "      <td></td>\n",
              "      <td></td>\n",
              "    </tr>\n",
              "    <tr>\n",
              "      <th>2</th>\n",
              "      <td>T</td>\n",
              "      <td>T</td>\n",
              "      <td>T</td>\n",
              "      <td>M0</td>\n",
              "      <td>F</td>\n",
              "      <td>F</td>\n",
              "      <td>F</td>\n",
              "      <td>F</td>\n",
              "      <td>F</td>\n",
              "    </tr>\n",
              "    <tr>\n",
              "      <th>3</th>\n",
              "      <td></td>\n",
              "      <td></td>\n",
              "      <td></td>\n",
              "      <td>M0</td>\n",
              "      <td>T</td>\n",
              "      <td>F</td>\n",
              "      <td></td>\n",
              "      <td></td>\n",
              "      <td></td>\n",
              "    </tr>\n",
              "    <tr>\n",
              "      <th>4</th>\n",
              "      <td></td>\n",
              "      <td></td>\n",
              "      <td></td>\n",
              "      <td></td>\n",
              "      <td></td>\n",
              "      <td></td>\n",
              "      <td></td>\n",
              "      <td></td>\n",
              "      <td></td>\n",
              "    </tr>\n",
              "    <tr>\n",
              "      <th>...</th>\n",
              "      <td>...</td>\n",
              "      <td>...</td>\n",
              "      <td>...</td>\n",
              "      <td>...</td>\n",
              "      <td>...</td>\n",
              "      <td>...</td>\n",
              "      <td>...</td>\n",
              "      <td>...</td>\n",
              "      <td>...</td>\n",
              "    </tr>\n",
              "    <tr>\n",
              "      <th>590535</th>\n",
              "      <td>T</td>\n",
              "      <td>T</td>\n",
              "      <td>T</td>\n",
              "      <td>M0</td>\n",
              "      <td>T</td>\n",
              "      <td>F</td>\n",
              "      <td>F</td>\n",
              "      <td>F</td>\n",
              "      <td>T</td>\n",
              "    </tr>\n",
              "    <tr>\n",
              "      <th>590536</th>\n",
              "      <td>T</td>\n",
              "      <td>F</td>\n",
              "      <td>F</td>\n",
              "      <td>M0</td>\n",
              "      <td>F</td>\n",
              "      <td>T</td>\n",
              "      <td>F</td>\n",
              "      <td>F</td>\n",
              "      <td>F</td>\n",
              "    </tr>\n",
              "    <tr>\n",
              "      <th>590537</th>\n",
              "      <td>T</td>\n",
              "      <td>F</td>\n",
              "      <td>F</td>\n",
              "      <td></td>\n",
              "      <td></td>\n",
              "      <td>T</td>\n",
              "      <td></td>\n",
              "      <td></td>\n",
              "      <td></td>\n",
              "    </tr>\n",
              "    <tr>\n",
              "      <th>590538</th>\n",
              "      <td>T</td>\n",
              "      <td>T</td>\n",
              "      <td>T</td>\n",
              "      <td>M0</td>\n",
              "      <td>F</td>\n",
              "      <td>T</td>\n",
              "      <td></td>\n",
              "      <td></td>\n",
              "      <td></td>\n",
              "    </tr>\n",
              "    <tr>\n",
              "      <th>590539</th>\n",
              "      <td>T</td>\n",
              "      <td>F</td>\n",
              "      <td>F</td>\n",
              "      <td></td>\n",
              "      <td></td>\n",
              "      <td>T</td>\n",
              "      <td>F</td>\n",
              "      <td>F</td>\n",
              "      <td>F</td>\n",
              "    </tr>\n",
              "  </tbody>\n",
              "</table>\n",
              "<p>590540 rows × 9 columns</p>\n",
              "</div>\n",
              "      <button class=\"colab-df-convert\" onclick=\"convertToInteractive('df-7de02bed-52ba-46b4-a267-2cdb847b31fe')\"\n",
              "              title=\"Convert this dataframe to an interactive table.\"\n",
              "              style=\"display:none;\">\n",
              "        \n",
              "  <svg xmlns=\"http://www.w3.org/2000/svg\" height=\"24px\"viewBox=\"0 0 24 24\"\n",
              "       width=\"24px\">\n",
              "    <path d=\"M0 0h24v24H0V0z\" fill=\"none\"/>\n",
              "    <path d=\"M18.56 5.44l.94 2.06.94-2.06 2.06-.94-2.06-.94-.94-2.06-.94 2.06-2.06.94zm-11 1L8.5 8.5l.94-2.06 2.06-.94-2.06-.94L8.5 2.5l-.94 2.06-2.06.94zm10 10l.94 2.06.94-2.06 2.06-.94-2.06-.94-.94-2.06-.94 2.06-2.06.94z\"/><path d=\"M17.41 7.96l-1.37-1.37c-.4-.4-.92-.59-1.43-.59-.52 0-1.04.2-1.43.59L10.3 9.45l-7.72 7.72c-.78.78-.78 2.05 0 2.83L4 21.41c.39.39.9.59 1.41.59.51 0 1.02-.2 1.41-.59l7.78-7.78 2.81-2.81c.8-.78.8-2.07 0-2.86zM5.41 20L4 18.59l7.72-7.72 1.47 1.35L5.41 20z\"/>\n",
              "  </svg>\n",
              "      </button>\n",
              "      \n",
              "  <style>\n",
              "    .colab-df-container {\n",
              "      display:flex;\n",
              "      flex-wrap:wrap;\n",
              "      gap: 12px;\n",
              "    }\n",
              "\n",
              "    .colab-df-convert {\n",
              "      background-color: #E8F0FE;\n",
              "      border: none;\n",
              "      border-radius: 50%;\n",
              "      cursor: pointer;\n",
              "      display: none;\n",
              "      fill: #1967D2;\n",
              "      height: 32px;\n",
              "      padding: 0 0 0 0;\n",
              "      width: 32px;\n",
              "    }\n",
              "\n",
              "    .colab-df-convert:hover {\n",
              "      background-color: #E2EBFA;\n",
              "      box-shadow: 0px 1px 2px rgba(60, 64, 67, 0.3), 0px 1px 3px 1px rgba(60, 64, 67, 0.15);\n",
              "      fill: #174EA6;\n",
              "    }\n",
              "\n",
              "    [theme=dark] .colab-df-convert {\n",
              "      background-color: #3B4455;\n",
              "      fill: #D2E3FC;\n",
              "    }\n",
              "\n",
              "    [theme=dark] .colab-df-convert:hover {\n",
              "      background-color: #434B5C;\n",
              "      box-shadow: 0px 1px 3px 1px rgba(0, 0, 0, 0.15);\n",
              "      filter: drop-shadow(0px 1px 2px rgba(0, 0, 0, 0.3));\n",
              "      fill: #FFFFFF;\n",
              "    }\n",
              "  </style>\n",
              "\n",
              "      <script>\n",
              "        const buttonEl =\n",
              "          document.querySelector('#df-7de02bed-52ba-46b4-a267-2cdb847b31fe button.colab-df-convert');\n",
              "        buttonEl.style.display =\n",
              "          google.colab.kernel.accessAllowed ? 'block' : 'none';\n",
              "\n",
              "        async function convertToInteractive(key) {\n",
              "          const element = document.querySelector('#df-7de02bed-52ba-46b4-a267-2cdb847b31fe');\n",
              "          const dataTable =\n",
              "            await google.colab.kernel.invokeFunction('convertToInteractive',\n",
              "                                                     [key], {});\n",
              "          if (!dataTable) return;\n",
              "\n",
              "          const docLinkHtml = 'Like what you see? Visit the ' +\n",
              "            '<a target=\"_blank\" href=https://colab.research.google.com/notebooks/data_table.ipynb>data table notebook</a>'\n",
              "            + ' to learn more about interactive tables.';\n",
              "          element.innerHTML = '';\n",
              "          dataTable['output_type'] = 'display_data';\n",
              "          await google.colab.output.renderOutput(dataTable, element);\n",
              "          const docLink = document.createElement('div');\n",
              "          docLink.innerHTML = docLinkHtml;\n",
              "          element.appendChild(docLink);\n",
              "        }\n",
              "      </script>\n",
              "    </div>\n",
              "  </div>\n",
              "  "
            ],
            "text/plain": [
              "       M1 M2 M3  M4 M5 M6 M7 M8 M9\n",
              "0       T  T  T  M2  F  T         \n",
              "1                M0  T  T         \n",
              "2       T  T  T  M0  F  F  F  F  F\n",
              "3                M0  T  F         \n",
              "4                                 \n",
              "...    .. .. ..  .. .. .. .. .. ..\n",
              "590535  T  T  T  M0  T  F  F  F  T\n",
              "590536  T  F  F  M0  F  T  F  F  F\n",
              "590537  T  F  F         T         \n",
              "590538  T  T  T  M0  F  T         \n",
              "590539  T  F  F         T  F  F  F\n",
              "\n",
              "[590540 rows x 9 columns]"
            ]
          },
          "metadata": {},
          "execution_count": 20
        }
      ]
    },
    {
      "cell_type": "code",
      "source": [
        "gc.collect()"
      ],
      "metadata": {
        "id": "xy7XLFC2ThRX",
        "colab": {
          "base_uri": "https://localhost:8080/"
        },
        "outputId": "29404eea-efd1-4df0-d62a-7d9fecbaa65b"
      },
      "execution_count": 21,
      "outputs": [
        {
          "output_type": "execute_result",
          "data": {
            "text/plain": [
              "184"
            ]
          },
          "metadata": {},
          "execution_count": 21
        }
      ]
    },
    {
      "cell_type": "code",
      "source": [
        "X=downcasting_num_columns(X)"
      ],
      "metadata": {
        "id": "FmZWC02mXUMw"
      },
      "execution_count": 25,
      "outputs": []
    },
    {
      "cell_type": "code",
      "source": [
        "sys.getsizeof(X) / 1024 ** 2"
      ],
      "metadata": {
        "colab": {
          "base_uri": "https://localhost:8080/"
        },
        "id": "li2NQCFlTxh-",
        "outputId": "ffc71a5e-ec37-4645-af31-521471c871c7"
      },
      "execution_count": null,
      "outputs": [
        {
          "output_type": "execute_result",
          "data": {
            "text/plain": [
              "2306.201192855835"
            ]
          },
          "metadata": {},
          "execution_count": 34
        }
      ]
    },
    {
      "cell_type": "code",
      "source": [
        "from sklearn.model_selection import cross_val_score, train_test_split"
      ],
      "metadata": {
        "id": "HQ8yxo3Z-LHj"
      },
      "execution_count": 26,
      "outputs": []
    },
    {
      "cell_type": "code",
      "source": [
        "path_to_data = '/content/drive/MyDrive/Classroom/data_train_full_isFraud_03_02_reduced.csv'\n",
        "y = pd.read_csv(path_to_data,  usecols=['isFraud'])\n",
        "y.head()"
      ],
      "metadata": {
        "colab": {
          "base_uri": "https://localhost:8080/",
          "height": 206
        },
        "outputId": "10dbcdff-daf7-474c-c046-65eddecde549",
        "id": "50VXZBKj-TFu"
      },
      "execution_count": 28,
      "outputs": [
        {
          "output_type": "execute_result",
          "data": {
            "text/html": [
              "\n",
              "  <div id=\"df-cd8ba09b-801f-451a-a8a3-daa78628eb21\">\n",
              "    <div class=\"colab-df-container\">\n",
              "      <div>\n",
              "<style scoped>\n",
              "    .dataframe tbody tr th:only-of-type {\n",
              "        vertical-align: middle;\n",
              "    }\n",
              "\n",
              "    .dataframe tbody tr th {\n",
              "        vertical-align: top;\n",
              "    }\n",
              "\n",
              "    .dataframe thead th {\n",
              "        text-align: right;\n",
              "    }\n",
              "</style>\n",
              "<table border=\"1\" class=\"dataframe\">\n",
              "  <thead>\n",
              "    <tr style=\"text-align: right;\">\n",
              "      <th></th>\n",
              "      <th>isFraud</th>\n",
              "    </tr>\n",
              "  </thead>\n",
              "  <tbody>\n",
              "    <tr>\n",
              "      <th>0</th>\n",
              "      <td>0</td>\n",
              "    </tr>\n",
              "    <tr>\n",
              "      <th>1</th>\n",
              "      <td>0</td>\n",
              "    </tr>\n",
              "    <tr>\n",
              "      <th>2</th>\n",
              "      <td>0</td>\n",
              "    </tr>\n",
              "    <tr>\n",
              "      <th>3</th>\n",
              "      <td>0</td>\n",
              "    </tr>\n",
              "    <tr>\n",
              "      <th>4</th>\n",
              "      <td>0</td>\n",
              "    </tr>\n",
              "  </tbody>\n",
              "</table>\n",
              "</div>\n",
              "      <button class=\"colab-df-convert\" onclick=\"convertToInteractive('df-cd8ba09b-801f-451a-a8a3-daa78628eb21')\"\n",
              "              title=\"Convert this dataframe to an interactive table.\"\n",
              "              style=\"display:none;\">\n",
              "        \n",
              "  <svg xmlns=\"http://www.w3.org/2000/svg\" height=\"24px\"viewBox=\"0 0 24 24\"\n",
              "       width=\"24px\">\n",
              "    <path d=\"M0 0h24v24H0V0z\" fill=\"none\"/>\n",
              "    <path d=\"M18.56 5.44l.94 2.06.94-2.06 2.06-.94-2.06-.94-.94-2.06-.94 2.06-2.06.94zm-11 1L8.5 8.5l.94-2.06 2.06-.94-2.06-.94L8.5 2.5l-.94 2.06-2.06.94zm10 10l.94 2.06.94-2.06 2.06-.94-2.06-.94-.94-2.06-.94 2.06-2.06.94z\"/><path d=\"M17.41 7.96l-1.37-1.37c-.4-.4-.92-.59-1.43-.59-.52 0-1.04.2-1.43.59L10.3 9.45l-7.72 7.72c-.78.78-.78 2.05 0 2.83L4 21.41c.39.39.9.59 1.41.59.51 0 1.02-.2 1.41-.59l7.78-7.78 2.81-2.81c.8-.78.8-2.07 0-2.86zM5.41 20L4 18.59l7.72-7.72 1.47 1.35L5.41 20z\"/>\n",
              "  </svg>\n",
              "      </button>\n",
              "      \n",
              "  <style>\n",
              "    .colab-df-container {\n",
              "      display:flex;\n",
              "      flex-wrap:wrap;\n",
              "      gap: 12px;\n",
              "    }\n",
              "\n",
              "    .colab-df-convert {\n",
              "      background-color: #E8F0FE;\n",
              "      border: none;\n",
              "      border-radius: 50%;\n",
              "      cursor: pointer;\n",
              "      display: none;\n",
              "      fill: #1967D2;\n",
              "      height: 32px;\n",
              "      padding: 0 0 0 0;\n",
              "      width: 32px;\n",
              "    }\n",
              "\n",
              "    .colab-df-convert:hover {\n",
              "      background-color: #E2EBFA;\n",
              "      box-shadow: 0px 1px 2px rgba(60, 64, 67, 0.3), 0px 1px 3px 1px rgba(60, 64, 67, 0.15);\n",
              "      fill: #174EA6;\n",
              "    }\n",
              "\n",
              "    [theme=dark] .colab-df-convert {\n",
              "      background-color: #3B4455;\n",
              "      fill: #D2E3FC;\n",
              "    }\n",
              "\n",
              "    [theme=dark] .colab-df-convert:hover {\n",
              "      background-color: #434B5C;\n",
              "      box-shadow: 0px 1px 3px 1px rgba(0, 0, 0, 0.15);\n",
              "      filter: drop-shadow(0px 1px 2px rgba(0, 0, 0, 0.3));\n",
              "      fill: #FFFFFF;\n",
              "    }\n",
              "  </style>\n",
              "\n",
              "      <script>\n",
              "        const buttonEl =\n",
              "          document.querySelector('#df-cd8ba09b-801f-451a-a8a3-daa78628eb21 button.colab-df-convert');\n",
              "        buttonEl.style.display =\n",
              "          google.colab.kernel.accessAllowed ? 'block' : 'none';\n",
              "\n",
              "        async function convertToInteractive(key) {\n",
              "          const element = document.querySelector('#df-cd8ba09b-801f-451a-a8a3-daa78628eb21');\n",
              "          const dataTable =\n",
              "            await google.colab.kernel.invokeFunction('convertToInteractive',\n",
              "                                                     [key], {});\n",
              "          if (!dataTable) return;\n",
              "\n",
              "          const docLinkHtml = 'Like what you see? Visit the ' +\n",
              "            '<a target=\"_blank\" href=https://colab.research.google.com/notebooks/data_table.ipynb>data table notebook</a>'\n",
              "            + ' to learn more about interactive tables.';\n",
              "          element.innerHTML = '';\n",
              "          dataTable['output_type'] = 'display_data';\n",
              "          await google.colab.output.renderOutput(dataTable, element);\n",
              "          const docLink = document.createElement('div');\n",
              "          docLink.innerHTML = docLinkHtml;\n",
              "          element.appendChild(docLink);\n",
              "        }\n",
              "      </script>\n",
              "    </div>\n",
              "  </div>\n",
              "  "
            ],
            "text/plain": [
              "   isFraud\n",
              "0        0\n",
              "1        0\n",
              "2        0\n",
              "3        0\n",
              "4        0"
            ]
          },
          "metadata": {},
          "execution_count": 28
        }
      ]
    },
    {
      "cell_type": "code",
      "source": [
        "X_train, X_validate, y_train, y_validate = train_test_split(X, y,\n",
        "                                              test_size=0.25, random_state=42)"
      ],
      "metadata": {
        "id": "Jq_8WssR-LHk"
      },
      "execution_count": 29,
      "outputs": []
    },
    {
      "cell_type": "code",
      "source": [
        "del X\n",
        "gc.collect()"
      ],
      "metadata": {
        "colab": {
          "base_uri": "https://localhost:8080/"
        },
        "outputId": "fe8485ab-a934-47b3-c276-607ff2e8ce5c",
        "id": "BAXCCLsC-LHl"
      },
      "execution_count": 30,
      "outputs": [
        {
          "output_type": "execute_result",
          "data": {
            "text/plain": [
              "163"
            ]
          },
          "metadata": {},
          "execution_count": 30
        }
      ]
    },
    {
      "cell_type": "code",
      "execution_count": 31,
      "metadata": {
        "colab": {
          "base_uri": "https://localhost:8080/",
          "height": 299
        },
        "outputId": "1561d9ba-f068-4ee5-dfa2-adca71aca31a",
        "id": "sLNQXp_ZDhPM"
      },
      "outputs": [
        {
          "output_type": "execute_result",
          "data": {
            "text/html": [
              "\n",
              "  <div id=\"df-337c78ff-c825-4c74-baa2-5a5d9df964f1\">\n",
              "    <div class=\"colab-df-container\">\n",
              "      <div>\n",
              "<style scoped>\n",
              "    .dataframe tbody tr th:only-of-type {\n",
              "        vertical-align: middle;\n",
              "    }\n",
              "\n",
              "    .dataframe tbody tr th {\n",
              "        vertical-align: top;\n",
              "    }\n",
              "\n",
              "    .dataframe thead th {\n",
              "        text-align: right;\n",
              "    }\n",
              "</style>\n",
              "<table border=\"1\" class=\"dataframe\">\n",
              "  <thead>\n",
              "    <tr style=\"text-align: right;\">\n",
              "      <th></th>\n",
              "      <th>TransactionID</th>\n",
              "      <th>TransactionDT</th>\n",
              "      <th>TransactionAmt</th>\n",
              "      <th>ProductCD</th>\n",
              "      <th>card1</th>\n",
              "      <th>card2</th>\n",
              "      <th>card3</th>\n",
              "      <th>card4</th>\n",
              "      <th>card5</th>\n",
              "      <th>card6</th>\n",
              "      <th>addr1</th>\n",
              "      <th>addr2</th>\n",
              "      <th>dist1</th>\n",
              "      <th>dist2</th>\n",
              "      <th>P_emaildomain</th>\n",
              "      <th>R_emaildomain</th>\n",
              "      <th>C1</th>\n",
              "      <th>C2</th>\n",
              "      <th>C3</th>\n",
              "      <th>C4</th>\n",
              "      <th>C5</th>\n",
              "      <th>C6</th>\n",
              "      <th>C7</th>\n",
              "      <th>C8</th>\n",
              "      <th>C9</th>\n",
              "      <th>C10</th>\n",
              "      <th>C11</th>\n",
              "      <th>C12</th>\n",
              "      <th>C13</th>\n",
              "      <th>C14</th>\n",
              "      <th>D1</th>\n",
              "      <th>D2</th>\n",
              "      <th>D3</th>\n",
              "      <th>D4</th>\n",
              "      <th>D5</th>\n",
              "      <th>D6</th>\n",
              "      <th>D7</th>\n",
              "      <th>D8</th>\n",
              "      <th>D10</th>\n",
              "      <th>D11</th>\n",
              "      <th>...</th>\n",
              "      <th>V321</th>\n",
              "      <th>V322</th>\n",
              "      <th>V323</th>\n",
              "      <th>V324</th>\n",
              "      <th>V325</th>\n",
              "      <th>V326</th>\n",
              "      <th>V327</th>\n",
              "      <th>V328</th>\n",
              "      <th>V329</th>\n",
              "      <th>V330</th>\n",
              "      <th>V331</th>\n",
              "      <th>V332</th>\n",
              "      <th>V333</th>\n",
              "      <th>V334</th>\n",
              "      <th>V335</th>\n",
              "      <th>V336</th>\n",
              "      <th>V337</th>\n",
              "      <th>V338</th>\n",
              "      <th>V339</th>\n",
              "      <th>id_12</th>\n",
              "      <th>id_13</th>\n",
              "      <th>id_14</th>\n",
              "      <th>id_15</th>\n",
              "      <th>id_16</th>\n",
              "      <th>id_17</th>\n",
              "      <th>id_18</th>\n",
              "      <th>id_19</th>\n",
              "      <th>id_20</th>\n",
              "      <th>id_28</th>\n",
              "      <th>id_29</th>\n",
              "      <th>id_30</th>\n",
              "      <th>id_31</th>\n",
              "      <th>id_33</th>\n",
              "      <th>id_34</th>\n",
              "      <th>id_35</th>\n",
              "      <th>id_36</th>\n",
              "      <th>id_37</th>\n",
              "      <th>id_38</th>\n",
              "      <th>DeviceType</th>\n",
              "      <th>DeviceInfo</th>\n",
              "    </tr>\n",
              "  </thead>\n",
              "  <tbody>\n",
              "    <tr>\n",
              "      <th>0</th>\n",
              "      <td>3663549</td>\n",
              "      <td>18403224</td>\n",
              "      <td>31.95</td>\n",
              "      <td>W</td>\n",
              "      <td>10409</td>\n",
              "      <td>111.0</td>\n",
              "      <td>150.0</td>\n",
              "      <td>visa</td>\n",
              "      <td>226.0</td>\n",
              "      <td>debit</td>\n",
              "      <td>170.0</td>\n",
              "      <td>87.0</td>\n",
              "      <td>1.0</td>\n",
              "      <td>NaN</td>\n",
              "      <td>gmail.com</td>\n",
              "      <td>NaN</td>\n",
              "      <td>6.0</td>\n",
              "      <td>6.0</td>\n",
              "      <td>0.0</td>\n",
              "      <td>0.0</td>\n",
              "      <td>3.0</td>\n",
              "      <td>4.0</td>\n",
              "      <td>0.0</td>\n",
              "      <td>0.0</td>\n",
              "      <td>6.0</td>\n",
              "      <td>0.0</td>\n",
              "      <td>5.0</td>\n",
              "      <td>1.0</td>\n",
              "      <td>115.0</td>\n",
              "      <td>6.0</td>\n",
              "      <td>419.0</td>\n",
              "      <td>419.0</td>\n",
              "      <td>27.0</td>\n",
              "      <td>398.0</td>\n",
              "      <td>27.0</td>\n",
              "      <td>NaN</td>\n",
              "      <td>NaN</td>\n",
              "      <td>NaN</td>\n",
              "      <td>418.0</td>\n",
              "      <td>203.0</td>\n",
              "      <td>...</td>\n",
              "      <td>0.0</td>\n",
              "      <td>NaN</td>\n",
              "      <td>NaN</td>\n",
              "      <td>NaN</td>\n",
              "      <td>NaN</td>\n",
              "      <td>NaN</td>\n",
              "      <td>NaN</td>\n",
              "      <td>NaN</td>\n",
              "      <td>NaN</td>\n",
              "      <td>NaN</td>\n",
              "      <td>NaN</td>\n",
              "      <td>NaN</td>\n",
              "      <td>NaN</td>\n",
              "      <td>NaN</td>\n",
              "      <td>NaN</td>\n",
              "      <td>NaN</td>\n",
              "      <td>NaN</td>\n",
              "      <td>NaN</td>\n",
              "      <td>NaN</td>\n",
              "      <td>NaN</td>\n",
              "      <td>NaN</td>\n",
              "      <td>NaN</td>\n",
              "      <td>NaN</td>\n",
              "      <td>NaN</td>\n",
              "      <td>NaN</td>\n",
              "      <td>NaN</td>\n",
              "      <td>NaN</td>\n",
              "      <td>NaN</td>\n",
              "      <td>NaN</td>\n",
              "      <td>NaN</td>\n",
              "      <td>NaN</td>\n",
              "      <td>NaN</td>\n",
              "      <td>NaN</td>\n",
              "      <td>NaN</td>\n",
              "      <td>NaN</td>\n",
              "      <td>NaN</td>\n",
              "      <td>NaN</td>\n",
              "      <td>NaN</td>\n",
              "      <td>NaN</td>\n",
              "      <td>NaN</td>\n",
              "    </tr>\n",
              "    <tr>\n",
              "      <th>1</th>\n",
              "      <td>3663550</td>\n",
              "      <td>18403263</td>\n",
              "      <td>49.00</td>\n",
              "      <td>W</td>\n",
              "      <td>4272</td>\n",
              "      <td>111.0</td>\n",
              "      <td>150.0</td>\n",
              "      <td>visa</td>\n",
              "      <td>226.0</td>\n",
              "      <td>debit</td>\n",
              "      <td>299.0</td>\n",
              "      <td>87.0</td>\n",
              "      <td>4.0</td>\n",
              "      <td>NaN</td>\n",
              "      <td>aol.com</td>\n",
              "      <td>NaN</td>\n",
              "      <td>3.0</td>\n",
              "      <td>2.0</td>\n",
              "      <td>0.0</td>\n",
              "      <td>0.0</td>\n",
              "      <td>0.0</td>\n",
              "      <td>1.0</td>\n",
              "      <td>0.0</td>\n",
              "      <td>0.0</td>\n",
              "      <td>2.0</td>\n",
              "      <td>0.0</td>\n",
              "      <td>1.0</td>\n",
              "      <td>1.0</td>\n",
              "      <td>12.0</td>\n",
              "      <td>2.0</td>\n",
              "      <td>149.0</td>\n",
              "      <td>149.0</td>\n",
              "      <td>7.0</td>\n",
              "      <td>634.0</td>\n",
              "      <td>7.0</td>\n",
              "      <td>NaN</td>\n",
              "      <td>NaN</td>\n",
              "      <td>NaN</td>\n",
              "      <td>231.0</td>\n",
              "      <td>634.0</td>\n",
              "      <td>...</td>\n",
              "      <td>0.0</td>\n",
              "      <td>NaN</td>\n",
              "      <td>NaN</td>\n",
              "      <td>NaN</td>\n",
              "      <td>NaN</td>\n",
              "      <td>NaN</td>\n",
              "      <td>NaN</td>\n",
              "      <td>NaN</td>\n",
              "      <td>NaN</td>\n",
              "      <td>NaN</td>\n",
              "      <td>NaN</td>\n",
              "      <td>NaN</td>\n",
              "      <td>NaN</td>\n",
              "      <td>NaN</td>\n",
              "      <td>NaN</td>\n",
              "      <td>NaN</td>\n",
              "      <td>NaN</td>\n",
              "      <td>NaN</td>\n",
              "      <td>NaN</td>\n",
              "      <td>NaN</td>\n",
              "      <td>NaN</td>\n",
              "      <td>NaN</td>\n",
              "      <td>NaN</td>\n",
              "      <td>NaN</td>\n",
              "      <td>NaN</td>\n",
              "      <td>NaN</td>\n",
              "      <td>NaN</td>\n",
              "      <td>NaN</td>\n",
              "      <td>NaN</td>\n",
              "      <td>NaN</td>\n",
              "      <td>NaN</td>\n",
              "      <td>NaN</td>\n",
              "      <td>NaN</td>\n",
              "      <td>NaN</td>\n",
              "      <td>NaN</td>\n",
              "      <td>NaN</td>\n",
              "      <td>NaN</td>\n",
              "      <td>NaN</td>\n",
              "      <td>NaN</td>\n",
              "      <td>NaN</td>\n",
              "    </tr>\n",
              "    <tr>\n",
              "      <th>2</th>\n",
              "      <td>3663551</td>\n",
              "      <td>18403310</td>\n",
              "      <td>171.00</td>\n",
              "      <td>W</td>\n",
              "      <td>4476</td>\n",
              "      <td>574.0</td>\n",
              "      <td>150.0</td>\n",
              "      <td>visa</td>\n",
              "      <td>226.0</td>\n",
              "      <td>debit</td>\n",
              "      <td>472.0</td>\n",
              "      <td>87.0</td>\n",
              "      <td>2635.0</td>\n",
              "      <td>NaN</td>\n",
              "      <td>hotmail.com</td>\n",
              "      <td>NaN</td>\n",
              "      <td>2.0</td>\n",
              "      <td>2.0</td>\n",
              "      <td>0.0</td>\n",
              "      <td>0.0</td>\n",
              "      <td>0.0</td>\n",
              "      <td>5.0</td>\n",
              "      <td>0.0</td>\n",
              "      <td>0.0</td>\n",
              "      <td>4.0</td>\n",
              "      <td>0.0</td>\n",
              "      <td>2.0</td>\n",
              "      <td>0.0</td>\n",
              "      <td>22.0</td>\n",
              "      <td>2.0</td>\n",
              "      <td>137.0</td>\n",
              "      <td>137.0</td>\n",
              "      <td>10.0</td>\n",
              "      <td>97.0</td>\n",
              "      <td>10.0</td>\n",
              "      <td>NaN</td>\n",
              "      <td>NaN</td>\n",
              "      <td>NaN</td>\n",
              "      <td>136.0</td>\n",
              "      <td>136.0</td>\n",
              "      <td>...</td>\n",
              "      <td>0.0</td>\n",
              "      <td>NaN</td>\n",
              "      <td>NaN</td>\n",
              "      <td>NaN</td>\n",
              "      <td>NaN</td>\n",
              "      <td>NaN</td>\n",
              "      <td>NaN</td>\n",
              "      <td>NaN</td>\n",
              "      <td>NaN</td>\n",
              "      <td>NaN</td>\n",
              "      <td>NaN</td>\n",
              "      <td>NaN</td>\n",
              "      <td>NaN</td>\n",
              "      <td>NaN</td>\n",
              "      <td>NaN</td>\n",
              "      <td>NaN</td>\n",
              "      <td>NaN</td>\n",
              "      <td>NaN</td>\n",
              "      <td>NaN</td>\n",
              "      <td>NaN</td>\n",
              "      <td>NaN</td>\n",
              "      <td>NaN</td>\n",
              "      <td>NaN</td>\n",
              "      <td>NaN</td>\n",
              "      <td>NaN</td>\n",
              "      <td>NaN</td>\n",
              "      <td>NaN</td>\n",
              "      <td>NaN</td>\n",
              "      <td>NaN</td>\n",
              "      <td>NaN</td>\n",
              "      <td>NaN</td>\n",
              "      <td>NaN</td>\n",
              "      <td>NaN</td>\n",
              "      <td>NaN</td>\n",
              "      <td>NaN</td>\n",
              "      <td>NaN</td>\n",
              "      <td>NaN</td>\n",
              "      <td>NaN</td>\n",
              "      <td>NaN</td>\n",
              "      <td>NaN</td>\n",
              "    </tr>\n",
              "    <tr>\n",
              "      <th>3</th>\n",
              "      <td>3663552</td>\n",
              "      <td>18403310</td>\n",
              "      <td>284.95</td>\n",
              "      <td>W</td>\n",
              "      <td>10989</td>\n",
              "      <td>360.0</td>\n",
              "      <td>150.0</td>\n",
              "      <td>visa</td>\n",
              "      <td>166.0</td>\n",
              "      <td>debit</td>\n",
              "      <td>205.0</td>\n",
              "      <td>87.0</td>\n",
              "      <td>17.0</td>\n",
              "      <td>NaN</td>\n",
              "      <td>gmail.com</td>\n",
              "      <td>NaN</td>\n",
              "      <td>5.0</td>\n",
              "      <td>2.0</td>\n",
              "      <td>0.0</td>\n",
              "      <td>0.0</td>\n",
              "      <td>1.0</td>\n",
              "      <td>1.0</td>\n",
              "      <td>0.0</td>\n",
              "      <td>0.0</td>\n",
              "      <td>2.0</td>\n",
              "      <td>0.0</td>\n",
              "      <td>2.0</td>\n",
              "      <td>0.0</td>\n",
              "      <td>7.0</td>\n",
              "      <td>4.0</td>\n",
              "      <td>42.0</td>\n",
              "      <td>42.0</td>\n",
              "      <td>41.0</td>\n",
              "      <td>242.0</td>\n",
              "      <td>41.0</td>\n",
              "      <td>NaN</td>\n",
              "      <td>NaN</td>\n",
              "      <td>NaN</td>\n",
              "      <td>242.0</td>\n",
              "      <td>242.0</td>\n",
              "      <td>...</td>\n",
              "      <td>0.0</td>\n",
              "      <td>NaN</td>\n",
              "      <td>NaN</td>\n",
              "      <td>NaN</td>\n",
              "      <td>NaN</td>\n",
              "      <td>NaN</td>\n",
              "      <td>NaN</td>\n",
              "      <td>NaN</td>\n",
              "      <td>NaN</td>\n",
              "      <td>NaN</td>\n",
              "      <td>NaN</td>\n",
              "      <td>NaN</td>\n",
              "      <td>NaN</td>\n",
              "      <td>NaN</td>\n",
              "      <td>NaN</td>\n",
              "      <td>NaN</td>\n",
              "      <td>NaN</td>\n",
              "      <td>NaN</td>\n",
              "      <td>NaN</td>\n",
              "      <td>NaN</td>\n",
              "      <td>NaN</td>\n",
              "      <td>NaN</td>\n",
              "      <td>NaN</td>\n",
              "      <td>NaN</td>\n",
              "      <td>NaN</td>\n",
              "      <td>NaN</td>\n",
              "      <td>NaN</td>\n",
              "      <td>NaN</td>\n",
              "      <td>NaN</td>\n",
              "      <td>NaN</td>\n",
              "      <td>NaN</td>\n",
              "      <td>NaN</td>\n",
              "      <td>NaN</td>\n",
              "      <td>NaN</td>\n",
              "      <td>NaN</td>\n",
              "      <td>NaN</td>\n",
              "      <td>NaN</td>\n",
              "      <td>NaN</td>\n",
              "      <td>NaN</td>\n",
              "      <td>NaN</td>\n",
              "    </tr>\n",
              "    <tr>\n",
              "      <th>4</th>\n",
              "      <td>3663553</td>\n",
              "      <td>18403317</td>\n",
              "      <td>67.95</td>\n",
              "      <td>W</td>\n",
              "      <td>18018</td>\n",
              "      <td>452.0</td>\n",
              "      <td>150.0</td>\n",
              "      <td>mastercard</td>\n",
              "      <td>117.0</td>\n",
              "      <td>debit</td>\n",
              "      <td>264.0</td>\n",
              "      <td>87.0</td>\n",
              "      <td>6.0</td>\n",
              "      <td>NaN</td>\n",
              "      <td>gmail.com</td>\n",
              "      <td>NaN</td>\n",
              "      <td>6.0</td>\n",
              "      <td>6.0</td>\n",
              "      <td>0.0</td>\n",
              "      <td>0.0</td>\n",
              "      <td>2.0</td>\n",
              "      <td>5.0</td>\n",
              "      <td>0.0</td>\n",
              "      <td>0.0</td>\n",
              "      <td>5.0</td>\n",
              "      <td>0.0</td>\n",
              "      <td>6.0</td>\n",
              "      <td>0.0</td>\n",
              "      <td>14.0</td>\n",
              "      <td>6.0</td>\n",
              "      <td>22.0</td>\n",
              "      <td>22.0</td>\n",
              "      <td>0.0</td>\n",
              "      <td>22.0</td>\n",
              "      <td>0.0</td>\n",
              "      <td>NaN</td>\n",
              "      <td>NaN</td>\n",
              "      <td>NaN</td>\n",
              "      <td>22.0</td>\n",
              "      <td>22.0</td>\n",
              "      <td>...</td>\n",
              "      <td>0.0</td>\n",
              "      <td>NaN</td>\n",
              "      <td>NaN</td>\n",
              "      <td>NaN</td>\n",
              "      <td>NaN</td>\n",
              "      <td>NaN</td>\n",
              "      <td>NaN</td>\n",
              "      <td>NaN</td>\n",
              "      <td>NaN</td>\n",
              "      <td>NaN</td>\n",
              "      <td>NaN</td>\n",
              "      <td>NaN</td>\n",
              "      <td>NaN</td>\n",
              "      <td>NaN</td>\n",
              "      <td>NaN</td>\n",
              "      <td>NaN</td>\n",
              "      <td>NaN</td>\n",
              "      <td>NaN</td>\n",
              "      <td>NaN</td>\n",
              "      <td>NaN</td>\n",
              "      <td>NaN</td>\n",
              "      <td>NaN</td>\n",
              "      <td>NaN</td>\n",
              "      <td>NaN</td>\n",
              "      <td>NaN</td>\n",
              "      <td>NaN</td>\n",
              "      <td>NaN</td>\n",
              "      <td>NaN</td>\n",
              "      <td>NaN</td>\n",
              "      <td>NaN</td>\n",
              "      <td>NaN</td>\n",
              "      <td>NaN</td>\n",
              "      <td>NaN</td>\n",
              "      <td>NaN</td>\n",
              "      <td>NaN</td>\n",
              "      <td>NaN</td>\n",
              "      <td>NaN</td>\n",
              "      <td>NaN</td>\n",
              "      <td>NaN</td>\n",
              "      <td>NaN</td>\n",
              "    </tr>\n",
              "  </tbody>\n",
              "</table>\n",
              "<p>5 rows × 413 columns</p>\n",
              "</div>\n",
              "      <button class=\"colab-df-convert\" onclick=\"convertToInteractive('df-337c78ff-c825-4c74-baa2-5a5d9df964f1')\"\n",
              "              title=\"Convert this dataframe to an interactive table.\"\n",
              "              style=\"display:none;\">\n",
              "        \n",
              "  <svg xmlns=\"http://www.w3.org/2000/svg\" height=\"24px\"viewBox=\"0 0 24 24\"\n",
              "       width=\"24px\">\n",
              "    <path d=\"M0 0h24v24H0V0z\" fill=\"none\"/>\n",
              "    <path d=\"M18.56 5.44l.94 2.06.94-2.06 2.06-.94-2.06-.94-.94-2.06-.94 2.06-2.06.94zm-11 1L8.5 8.5l.94-2.06 2.06-.94-2.06-.94L8.5 2.5l-.94 2.06-2.06.94zm10 10l.94 2.06.94-2.06 2.06-.94-2.06-.94-.94-2.06-.94 2.06-2.06.94z\"/><path d=\"M17.41 7.96l-1.37-1.37c-.4-.4-.92-.59-1.43-.59-.52 0-1.04.2-1.43.59L10.3 9.45l-7.72 7.72c-.78.78-.78 2.05 0 2.83L4 21.41c.39.39.9.59 1.41.59.51 0 1.02-.2 1.41-.59l7.78-7.78 2.81-2.81c.8-.78.8-2.07 0-2.86zM5.41 20L4 18.59l7.72-7.72 1.47 1.35L5.41 20z\"/>\n",
              "  </svg>\n",
              "      </button>\n",
              "      \n",
              "  <style>\n",
              "    .colab-df-container {\n",
              "      display:flex;\n",
              "      flex-wrap:wrap;\n",
              "      gap: 12px;\n",
              "    }\n",
              "\n",
              "    .colab-df-convert {\n",
              "      background-color: #E8F0FE;\n",
              "      border: none;\n",
              "      border-radius: 50%;\n",
              "      cursor: pointer;\n",
              "      display: none;\n",
              "      fill: #1967D2;\n",
              "      height: 32px;\n",
              "      padding: 0 0 0 0;\n",
              "      width: 32px;\n",
              "    }\n",
              "\n",
              "    .colab-df-convert:hover {\n",
              "      background-color: #E2EBFA;\n",
              "      box-shadow: 0px 1px 2px rgba(60, 64, 67, 0.3), 0px 1px 3px 1px rgba(60, 64, 67, 0.15);\n",
              "      fill: #174EA6;\n",
              "    }\n",
              "\n",
              "    [theme=dark] .colab-df-convert {\n",
              "      background-color: #3B4455;\n",
              "      fill: #D2E3FC;\n",
              "    }\n",
              "\n",
              "    [theme=dark] .colab-df-convert:hover {\n",
              "      background-color: #434B5C;\n",
              "      box-shadow: 0px 1px 3px 1px rgba(0, 0, 0, 0.15);\n",
              "      filter: drop-shadow(0px 1px 2px rgba(0, 0, 0, 0.3));\n",
              "      fill: #FFFFFF;\n",
              "    }\n",
              "  </style>\n",
              "\n",
              "      <script>\n",
              "        const buttonEl =\n",
              "          document.querySelector('#df-337c78ff-c825-4c74-baa2-5a5d9df964f1 button.colab-df-convert');\n",
              "        buttonEl.style.display =\n",
              "          google.colab.kernel.accessAllowed ? 'block' : 'none';\n",
              "\n",
              "        async function convertToInteractive(key) {\n",
              "          const element = document.querySelector('#df-337c78ff-c825-4c74-baa2-5a5d9df964f1');\n",
              "          const dataTable =\n",
              "            await google.colab.kernel.invokeFunction('convertToInteractive',\n",
              "                                                     [key], {});\n",
              "          if (!dataTable) return;\n",
              "\n",
              "          const docLinkHtml = 'Like what you see? Visit the ' +\n",
              "            '<a target=\"_blank\" href=https://colab.research.google.com/notebooks/data_table.ipynb>data table notebook</a>'\n",
              "            + ' to learn more about interactive tables.';\n",
              "          element.innerHTML = '';\n",
              "          dataTable['output_type'] = 'display_data';\n",
              "          await google.colab.output.renderOutput(dataTable, element);\n",
              "          const docLink = document.createElement('div');\n",
              "          docLink.innerHTML = docLinkHtml;\n",
              "          element.appendChild(docLink);\n",
              "        }\n",
              "      </script>\n",
              "    </div>\n",
              "  </div>\n",
              "  "
            ],
            "text/plain": [
              "   TransactionID  TransactionDT  TransactionAmt  ... id_38  DeviceType  DeviceInfo\n",
              "0        3663549       18403224           31.95  ...   NaN         NaN         NaN\n",
              "1        3663550       18403263           49.00  ...   NaN         NaN         NaN\n",
              "2        3663551       18403310          171.00  ...   NaN         NaN         NaN\n",
              "3        3663552       18403310          284.95  ...   NaN         NaN         NaN\n",
              "4        3663553       18403317           67.95  ...   NaN         NaN         NaN\n",
              "\n",
              "[5 rows x 413 columns]"
            ]
          },
          "metadata": {},
          "execution_count": 31
        }
      ],
      "source": [
        "path_to_data = '/content/drive/MyDrive/Classroom/data_test_isFraud_03_02_reduced.csv'\n",
        "X_test = pd.read_csv(path_to_data,  usecols=feature_to_use)\n",
        "X_test.head()"
      ]
    },
    {
      "cell_type": "code",
      "source": [
        "X_test=add_feature(X_test)"
      ],
      "metadata": {
        "id": "GPIojf1NT9ok"
      },
      "execution_count": 32,
      "outputs": []
    },
    {
      "cell_type": "code",
      "source": [
        "X_test=clean_columns(X_test)"
      ],
      "metadata": {
        "id": "93XfSI9kT9ok"
      },
      "execution_count": 35,
      "outputs": []
    },
    {
      "cell_type": "code",
      "source": [
        "X_test[column_to_int]"
      ],
      "metadata": {
        "id": "5Xc6cALlT9ol"
      },
      "execution_count": null,
      "outputs": []
    },
    {
      "cell_type": "code",
      "source": [
        "X_test[feature_m]"
      ],
      "metadata": {
        "id": "GdBS_6O4T9ol"
      },
      "execution_count": null,
      "outputs": []
    },
    {
      "cell_type": "code",
      "source": [
        "gc.collect()"
      ],
      "metadata": {
        "colab": {
          "base_uri": "https://localhost:8080/"
        },
        "id": "dtNSmWJTT9om",
        "outputId": "3097b176-8911-4f98-c90e-f8aa4df5ed6a"
      },
      "execution_count": 38,
      "outputs": [
        {
          "output_type": "execute_result",
          "data": {
            "text/plain": [
              "439"
            ]
          },
          "metadata": {},
          "execution_count": 38
        }
      ]
    },
    {
      "cell_type": "code",
      "source": [
        "sys.getsizeof(X_test) / 1024 ** 2"
      ],
      "metadata": {
        "colab": {
          "base_uri": "https://localhost:8080/"
        },
        "id": "s6HehwUVT9om",
        "outputId": "24bd1c2d-d8fa-4d71-ffac-46a2c8dc3784"
      },
      "execution_count": 39,
      "outputs": [
        {
          "output_type": "execute_result",
          "data": {
            "text/plain": [
              "2695.0375566482544"
            ]
          },
          "metadata": {},
          "execution_count": 39
        }
      ]
    },
    {
      "cell_type": "code",
      "source": [
        "X_test=downcasting_num_columns(X_test)"
      ],
      "metadata": {
        "id": "8tRV2LBIYnFa"
      },
      "execution_count": 45,
      "outputs": []
    },
    {
      "cell_type": "code",
      "source": [
        "sys.getsizeof(X_test) / 1024 ** 2"
      ],
      "metadata": {
        "colab": {
          "base_uri": "https://localhost:8080/"
        },
        "outputId": "3a173ffd-ed7c-4041-e7e5-a7e071cf960e",
        "id": "L5NuKrLGYuHT"
      },
      "execution_count": 46,
      "outputs": [
        {
          "output_type": "execute_result",
          "data": {
            "text/plain": [
              "1977.9417581558228"
            ]
          },
          "metadata": {},
          "execution_count": 46
        }
      ]
    },
    {
      "cell_type": "code",
      "source": [
        "ID=X_test['TransactionID']\n",
        "ID.to_csv('/content/drive/MyDrive/Classroom/ID_05_02.csv', index=False)"
      ],
      "metadata": {
        "id": "WFTKiNWUkmKp"
      },
      "execution_count": 47,
      "outputs": []
    },
    {
      "cell_type": "markdown",
      "source": [
        "#CatBoost"
      ],
      "metadata": {
        "id": "oZjpJbwJx0_i"
      }
    },
    {
      "cell_type": "code",
      "source": [
        "!pip install -q catboost shap"
      ],
      "metadata": {
        "id": "PB7NAq4fcxoS",
        "colab": {
          "base_uri": "https://localhost:8080/"
        },
        "outputId": "097a9b89-dd5c-4acb-d62e-70b08a66362f"
      },
      "execution_count": 49,
      "outputs": [
        {
          "output_type": "stream",
          "name": "stdout",
          "text": [
            "\u001b[K     |████████████████████████████████| 76.1 MB 1.5 MB/s \n",
            "\u001b[K     |████████████████████████████████| 564 kB 42.8 MB/s \n",
            "\u001b[?25h"
          ]
        }
      ]
    },
    {
      "cell_type": "code",
      "source": [
        "import catboost\n",
        "from catboost import CatBoostRegressor\n",
        "\n",
        "import shap\n",
        "import sklearn.model_selection\n",
        "import matplotlib.pyplot as plt\n",
        "import seaborn as sns"
      ],
      "metadata": {
        "id": "mhCa2tX-c3YM"
      },
      "execution_count": 50,
      "outputs": []
    },
    {
      "cell_type": "code",
      "source": [
        "gc.collect()"
      ],
      "metadata": {
        "colab": {
          "base_uri": "https://localhost:8080/"
        },
        "id": "ibjpVlpAaoTl",
        "outputId": "30b2acfc-5ee4-4184-962d-6d90daed9c22"
      },
      "execution_count": 53,
      "outputs": [
        {
          "output_type": "execute_result",
          "data": {
            "text/plain": [
              "88"
            ]
          },
          "metadata": {},
          "execution_count": 53
        }
      ]
    },
    {
      "cell_type": "code",
      "source": [
        "train_pool = catboost.Pool(\n",
        "    X_train,\n",
        "    label=y_train,\n",
        "    cat_features=feature_cat_for_cat\n",
        ")\n",
        "val_pool = catboost.Pool(\n",
        "    X_validate,\n",
        "    label=y_validate,\n",
        "    cat_features=feature_cat_for_cat\n",
        ")\n",
        "test_pool = catboost.Pool(\n",
        "    X_test,\n",
        "    cat_features=feature_cat_for_cat\n",
        ")"
      ],
      "metadata": {
        "id": "TJBN85zNn_Jf"
      },
      "execution_count": 52,
      "outputs": []
    },
    {
      "cell_type": "code",
      "source": [
        "!rm -rf 'catboost_clf_find_fraud/snapshot.bkp'"
      ],
      "metadata": {
        "id": "y8MvrE3UAXDX"
      },
      "execution_count": 54,
      "outputs": []
    },
    {
      "cell_type": "code",
      "metadata": {
        "id": "NpZBBUs_6oGH",
        "colab": {
          "base_uri": "https://localhost:8080/",
          "height": 1000,
          "referenced_widgets": [
            "b99cd1b1d8054ff4943ec39b8b4ca63b"
          ]
        },
        "outputId": "0412f86a-a850-4020-8eee-b6cb3f37b86d"
      },
      "source": [
        "catboost_train_dir = 'catboost_clf_find_fraud'\n",
        "clf = catboost.CatBoostClassifier(\n",
        "    eval_metric='AUC',\n",
        "    od_pval=0.05,\n",
        "    od_wait=20,\n",
        "    # early_stopping_rounds=20,\n",
        "    random_seed=52,\n",
        "    train_dir=catboost_train_dir,\n",
        "    # task_type='CPU',\n",
        "    task_type='GPU',\n",
        "    devices='0',\n",
        "    auto_class_weights='Balanced',\n",
        "    use_best_model=True\n",
        ")\n",
        "clf.fit(\n",
        "    train_pool, \n",
        "    eval_set=val_pool,\n",
        "    plot=True,\n",
        "    save_snapshot=True,\n",
        "    snapshot_file='snapshot.bkp',\n",
        ")"
      ],
      "execution_count": 55,
      "outputs": [
        {
          "output_type": "display_data",
          "data": {
            "application/vnd.jupyter.widget-view+json": {
              "model_id": "b99cd1b1d8054ff4943ec39b8b4ca63b",
              "version_minor": 0,
              "version_major": 2
            },
            "text/plain": [
              "MetricVisualizer(layout=Layout(align_self='stretch', height='500px'))"
            ]
          },
          "metadata": {}
        },
        {
          "output_type": "stream",
          "name": "stdout",
          "text": [
            "Learning rate set to 0.042422\n",
            "0:\tlearn: 0.8434737\ttest: 0.8529460\tbest: 0.8529460 (0)\ttotal: 473ms\tremaining: 7m 52s\n",
            "1:\tlearn: 0.8479683\ttest: 0.8579989\tbest: 0.8579989 (1)\ttotal: 885ms\tremaining: 7m 21s\n",
            "2:\tlearn: 0.8480529\ttest: 0.8588283\tbest: 0.8588283 (2)\ttotal: 1.29s\tremaining: 7m 7s\n",
            "3:\tlearn: 0.8495231\ttest: 0.8592567\tbest: 0.8592567 (3)\ttotal: 1.7s\tremaining: 7m 3s\n",
            "4:\tlearn: 0.8601182\ttest: 0.8683679\tbest: 0.8683679 (4)\ttotal: 2.12s\tremaining: 7m 1s\n",
            "5:\tlearn: 0.8671536\ttest: 0.8769312\tbest: 0.8769312 (5)\ttotal: 2.57s\tremaining: 7m 5s\n",
            "6:\tlearn: 0.8719442\ttest: 0.8816095\tbest: 0.8816095 (6)\ttotal: 3.02s\tremaining: 7m 9s\n",
            "7:\tlearn: 0.8728953\ttest: 0.8822721\tbest: 0.8822721 (7)\ttotal: 3.47s\tremaining: 7m 9s\n",
            "8:\tlearn: 0.8741380\ttest: 0.8835302\tbest: 0.8835302 (8)\ttotal: 3.92s\tremaining: 7m 12s\n",
            "9:\tlearn: 0.8760024\ttest: 0.8857948\tbest: 0.8857948 (9)\ttotal: 4.39s\tremaining: 7m 14s\n",
            "10:\tlearn: 0.8791313\ttest: 0.8893055\tbest: 0.8893055 (10)\ttotal: 4.86s\tremaining: 7m 16s\n",
            "11:\tlearn: 0.8813170\ttest: 0.8914426\tbest: 0.8914426 (11)\ttotal: 5.29s\tremaining: 7m 15s\n",
            "12:\tlearn: 0.8817799\ttest: 0.8918848\tbest: 0.8918848 (12)\ttotal: 5.71s\tremaining: 7m 13s\n",
            "13:\tlearn: 0.8833288\ttest: 0.8936270\tbest: 0.8936270 (13)\ttotal: 6.18s\tremaining: 7m 15s\n",
            "14:\tlearn: 0.8834607\ttest: 0.8939545\tbest: 0.8939545 (14)\ttotal: 6.61s\tremaining: 7m 13s\n",
            "15:\tlearn: 0.8840970\ttest: 0.8942886\tbest: 0.8942886 (15)\ttotal: 7.05s\tremaining: 7m 13s\n",
            "16:\tlearn: 0.8851660\ttest: 0.8953579\tbest: 0.8953579 (16)\ttotal: 7.48s\tremaining: 7m 12s\n",
            "17:\tlearn: 0.8859044\ttest: 0.8959961\tbest: 0.8959961 (17)\ttotal: 7.92s\tremaining: 7m 12s\n",
            "18:\tlearn: 0.8872044\ttest: 0.8973530\tbest: 0.8973530 (18)\ttotal: 8.39s\tremaining: 7m 13s\n",
            "19:\tlearn: 0.8876695\ttest: 0.8977555\tbest: 0.8977555 (19)\ttotal: 8.85s\tremaining: 7m 13s\n",
            "20:\tlearn: 0.8888548\ttest: 0.8990532\tbest: 0.8990532 (20)\ttotal: 9.27s\tremaining: 7m 12s\n",
            "21:\tlearn: 0.8891862\ttest: 0.8990372\tbest: 0.8990532 (20)\ttotal: 9.66s\tremaining: 7m 9s\n",
            "22:\tlearn: 0.8903099\ttest: 0.9000661\tbest: 0.9000661 (22)\ttotal: 10.1s\tremaining: 7m 10s\n",
            "23:\tlearn: 0.8909408\ttest: 0.9007689\tbest: 0.9007689 (23)\ttotal: 10.6s\tremaining: 7m 9s\n",
            "24:\tlearn: 0.8912270\ttest: 0.9008913\tbest: 0.9008913 (24)\ttotal: 11s\tremaining: 7m 8s\n",
            "25:\tlearn: 0.8914398\ttest: 0.9010186\tbest: 0.9010186 (25)\ttotal: 11.4s\tremaining: 7m 7s\n",
            "26:\tlearn: 0.8925167\ttest: 0.9022995\tbest: 0.9022995 (26)\ttotal: 11.9s\tremaining: 7m 7s\n",
            "27:\tlearn: 0.8930013\ttest: 0.9029711\tbest: 0.9029711 (27)\ttotal: 12.3s\tremaining: 7m 6s\n",
            "28:\tlearn: 0.8938127\ttest: 0.9035938\tbest: 0.9035938 (28)\ttotal: 12.7s\tremaining: 7m 6s\n",
            "29:\tlearn: 0.8942629\ttest: 0.9042766\tbest: 0.9042766 (29)\ttotal: 13.1s\tremaining: 7m 3s\n",
            "30:\tlearn: 0.8950520\ttest: 0.9052718\tbest: 0.9052718 (30)\ttotal: 13.6s\tremaining: 7m 4s\n",
            "31:\tlearn: 0.8957555\ttest: 0.9058202\tbest: 0.9058202 (31)\ttotal: 14s\tremaining: 7m 3s\n",
            "32:\tlearn: 0.8976113\ttest: 0.9083292\tbest: 0.9083292 (32)\ttotal: 14.3s\tremaining: 6m 59s\n",
            "33:\tlearn: 0.8985029\ttest: 0.9093836\tbest: 0.9093836 (33)\ttotal: 14.8s\tremaining: 7m\n",
            "34:\tlearn: 0.8991585\ttest: 0.9100363\tbest: 0.9100363 (34)\ttotal: 15.2s\tremaining: 6m 59s\n",
            "35:\tlearn: 0.8997410\ttest: 0.9106545\tbest: 0.9106545 (35)\ttotal: 15.6s\tremaining: 6m 56s\n",
            "36:\tlearn: 0.9000729\ttest: 0.9108839\tbest: 0.9108839 (36)\ttotal: 16s\tremaining: 6m 57s\n",
            "37:\tlearn: 0.9018393\ttest: 0.9129514\tbest: 0.9129514 (37)\ttotal: 16.4s\tremaining: 6m 55s\n",
            "38:\tlearn: 0.9020442\ttest: 0.9129662\tbest: 0.9129662 (38)\ttotal: 16.8s\tremaining: 6m 55s\n",
            "39:\tlearn: 0.9033542\ttest: 0.9143877\tbest: 0.9143877 (39)\ttotal: 17.2s\tremaining: 6m 52s\n",
            "40:\tlearn: 0.9038077\ttest: 0.9147318\tbest: 0.9147318 (40)\ttotal: 17.6s\tremaining: 6m 50s\n",
            "41:\tlearn: 0.9043899\ttest: 0.9152322\tbest: 0.9152322 (41)\ttotal: 18s\tremaining: 6m 51s\n",
            "42:\tlearn: 0.9047692\ttest: 0.9155047\tbest: 0.9155047 (42)\ttotal: 18.4s\tremaining: 6m 50s\n",
            "43:\tlearn: 0.9054894\ttest: 0.9161534\tbest: 0.9161534 (43)\ttotal: 18.8s\tremaining: 6m 48s\n",
            "44:\tlearn: 0.9059428\ttest: 0.9164239\tbest: 0.9164239 (44)\ttotal: 19.2s\tremaining: 6m 47s\n",
            "45:\tlearn: 0.9073408\ttest: 0.9183925\tbest: 0.9183925 (45)\ttotal: 19.6s\tremaining: 6m 46s\n",
            "46:\tlearn: 0.9078692\ttest: 0.9188439\tbest: 0.9188439 (46)\ttotal: 20s\tremaining: 6m 45s\n",
            "47:\tlearn: 0.9087988\ttest: 0.9198530\tbest: 0.9198530 (47)\ttotal: 20.4s\tremaining: 6m 45s\n",
            "48:\tlearn: 0.9092925\ttest: 0.9200628\tbest: 0.9200628 (48)\ttotal: 20.9s\tremaining: 6m 44s\n",
            "49:\tlearn: 0.9096312\ttest: 0.9204640\tbest: 0.9204640 (49)\ttotal: 21.3s\tremaining: 6m 44s\n",
            "50:\tlearn: 0.9115624\ttest: 0.9225920\tbest: 0.9225920 (50)\ttotal: 21.8s\tremaining: 6m 44s\n",
            "51:\tlearn: 0.9123201\ttest: 0.9233945\tbest: 0.9233945 (51)\ttotal: 22.2s\tremaining: 6m 44s\n",
            "52:\tlearn: 0.9151250\ttest: 0.9272125\tbest: 0.9272125 (52)\ttotal: 22.5s\tremaining: 6m 42s\n",
            "53:\tlearn: 0.9153188\ttest: 0.9273171\tbest: 0.9273171 (53)\ttotal: 22.9s\tremaining: 6m 41s\n",
            "54:\tlearn: 0.9165491\ttest: 0.9287980\tbest: 0.9287980 (54)\ttotal: 23.3s\tremaining: 6m 40s\n",
            "55:\tlearn: 0.9168912\ttest: 0.9290228\tbest: 0.9290228 (55)\ttotal: 23.7s\tremaining: 6m 39s\n",
            "56:\tlearn: 0.9174246\ttest: 0.9296241\tbest: 0.9296241 (56)\ttotal: 24.1s\tremaining: 6m 38s\n",
            "57:\tlearn: 0.9178997\ttest: 0.9300032\tbest: 0.9300032 (57)\ttotal: 24.5s\tremaining: 6m 37s\n",
            "58:\tlearn: 0.9195388\ttest: 0.9318815\tbest: 0.9318815 (58)\ttotal: 24.9s\tremaining: 6m 37s\n",
            "59:\tlearn: 0.9198057\ttest: 0.9320253\tbest: 0.9320253 (59)\ttotal: 25.4s\tremaining: 6m 37s\n",
            "60:\tlearn: 0.9201836\ttest: 0.9324084\tbest: 0.9324084 (60)\ttotal: 25.7s\tremaining: 6m 36s\n",
            "61:\tlearn: 0.9215537\ttest: 0.9339754\tbest: 0.9339754 (61)\ttotal: 26.2s\tremaining: 6m 36s\n",
            "62:\tlearn: 0.9218782\ttest: 0.9342566\tbest: 0.9342566 (62)\ttotal: 26.6s\tremaining: 6m 35s\n",
            "63:\tlearn: 0.9222751\ttest: 0.9345710\tbest: 0.9345710 (63)\ttotal: 27s\tremaining: 6m 35s\n",
            "64:\tlearn: 0.9224184\ttest: 0.9346147\tbest: 0.9346147 (64)\ttotal: 27.5s\tremaining: 6m 35s\n",
            "65:\tlearn: 0.9232243\ttest: 0.9356779\tbest: 0.9356779 (65)\ttotal: 27.8s\tremaining: 6m 34s\n",
            "66:\tlearn: 0.9245037\ttest: 0.9370801\tbest: 0.9370801 (66)\ttotal: 28.2s\tremaining: 6m 32s\n",
            "67:\tlearn: 0.9250554\ttest: 0.9376385\tbest: 0.9376385 (67)\ttotal: 28.5s\tremaining: 6m 31s\n",
            "68:\tlearn: 0.9253810\ttest: 0.9378653\tbest: 0.9378653 (68)\ttotal: 28.9s\tremaining: 6m 29s\n",
            "69:\tlearn: 0.9259594\ttest: 0.9384847\tbest: 0.9384847 (69)\ttotal: 29.3s\tremaining: 6m 29s\n",
            "70:\tlearn: 0.9262446\ttest: 0.9387602\tbest: 0.9387602 (70)\ttotal: 29.6s\tremaining: 6m 27s\n",
            "71:\tlearn: 0.9264890\ttest: 0.9389624\tbest: 0.9389624 (71)\ttotal: 30s\tremaining: 6m 27s\n",
            "72:\tlearn: 0.9267469\ttest: 0.9391156\tbest: 0.9391156 (72)\ttotal: 30.5s\tremaining: 6m 26s\n",
            "73:\tlearn: 0.9269082\ttest: 0.9391756\tbest: 0.9391756 (73)\ttotal: 30.9s\tremaining: 6m 26s\n",
            "74:\tlearn: 0.9276558\ttest: 0.9401778\tbest: 0.9401778 (74)\ttotal: 31.2s\tremaining: 6m 25s\n",
            "75:\tlearn: 0.9278621\ttest: 0.9402941\tbest: 0.9402941 (75)\ttotal: 31.7s\tremaining: 6m 24s\n",
            "76:\tlearn: 0.9280871\ttest: 0.9404278\tbest: 0.9404278 (76)\ttotal: 32.4s\tremaining: 6m 28s\n",
            "77:\tlearn: 0.9285413\ttest: 0.9409209\tbest: 0.9409209 (77)\ttotal: 32.8s\tremaining: 6m 27s\n",
            "78:\tlearn: 0.9290209\ttest: 0.9415409\tbest: 0.9415409 (78)\ttotal: 33.2s\tremaining: 6m 26s\n",
            "79:\tlearn: 0.9297449\ttest: 0.9423940\tbest: 0.9423940 (79)\ttotal: 33.9s\tremaining: 6m 29s\n",
            "80:\tlearn: 0.9299389\ttest: 0.9424895\tbest: 0.9424895 (80)\ttotal: 34.3s\tremaining: 6m 29s\n",
            "81:\tlearn: 0.9301942\ttest: 0.9426925\tbest: 0.9426925 (81)\ttotal: 35s\tremaining: 6m 31s\n",
            "82:\tlearn: 0.9303983\ttest: 0.9428414\tbest: 0.9428414 (82)\ttotal: 35.3s\tremaining: 6m 30s\n",
            "83:\tlearn: 0.9308418\ttest: 0.9434222\tbest: 0.9434222 (83)\ttotal: 35.7s\tremaining: 6m 29s\n",
            "84:\tlearn: 0.9316282\ttest: 0.9443261\tbest: 0.9443261 (84)\ttotal: 36s\tremaining: 6m 27s\n",
            "85:\tlearn: 0.9320296\ttest: 0.9448299\tbest: 0.9448299 (85)\ttotal: 36.4s\tremaining: 6m 27s\n",
            "86:\tlearn: 0.9321510\ttest: 0.9448917\tbest: 0.9448917 (86)\ttotal: 36.8s\tremaining: 6m 26s\n",
            "87:\tlearn: 0.9329034\ttest: 0.9457591\tbest: 0.9457591 (87)\ttotal: 37.2s\tremaining: 6m 25s\n",
            "88:\tlearn: 0.9331152\ttest: 0.9459035\tbest: 0.9459035 (88)\ttotal: 37.6s\tremaining: 6m 25s\n",
            "89:\tlearn: 0.9332880\ttest: 0.9460348\tbest: 0.9460348 (89)\ttotal: 38.1s\tremaining: 6m 24s\n",
            "90:\tlearn: 0.9334705\ttest: 0.9461644\tbest: 0.9461644 (90)\ttotal: 38.5s\tremaining: 6m 24s\n",
            "91:\tlearn: 0.9337143\ttest: 0.9463140\tbest: 0.9463140 (91)\ttotal: 38.9s\tremaining: 6m 23s\n",
            "92:\tlearn: 0.9343067\ttest: 0.9470069\tbest: 0.9470069 (92)\ttotal: 39.3s\tremaining: 6m 22s\n",
            "93:\tlearn: 0.9348373\ttest: 0.9476855\tbest: 0.9476855 (93)\ttotal: 39.6s\tremaining: 6m 21s\n",
            "94:\tlearn: 0.9350610\ttest: 0.9478104\tbest: 0.9478104 (94)\ttotal: 40.1s\tremaining: 6m 21s\n",
            "95:\tlearn: 0.9353227\ttest: 0.9481564\tbest: 0.9481564 (95)\ttotal: 40.4s\tremaining: 6m 20s\n",
            "96:\tlearn: 0.9354921\ttest: 0.9483002\tbest: 0.9483002 (96)\ttotal: 40.7s\tremaining: 6m 18s\n",
            "97:\tlearn: 0.9356625\ttest: 0.9483816\tbest: 0.9483816 (97)\ttotal: 41.1s\tremaining: 6m 17s\n",
            "98:\tlearn: 0.9358470\ttest: 0.9485393\tbest: 0.9485393 (98)\ttotal: 41.5s\tremaining: 6m 17s\n",
            "99:\tlearn: 0.9362291\ttest: 0.9490397\tbest: 0.9490397 (99)\ttotal: 41.9s\tremaining: 6m 16s\n",
            "100:\tlearn: 0.9363260\ttest: 0.9490764\tbest: 0.9490764 (100)\ttotal: 42.2s\tremaining: 6m 16s\n",
            "101:\tlearn: 0.9364349\ttest: 0.9491231\tbest: 0.9491231 (101)\ttotal: 42.6s\tremaining: 6m 14s\n",
            "102:\tlearn: 0.9368272\ttest: 0.9494468\tbest: 0.9494468 (102)\ttotal: 43s\tremaining: 6m 14s\n",
            "103:\tlearn: 0.9371835\ttest: 0.9498010\tbest: 0.9498010 (103)\ttotal: 43.3s\tremaining: 6m 13s\n",
            "104:\tlearn: 0.9375346\ttest: 0.9501149\tbest: 0.9501149 (104)\ttotal: 43.6s\tremaining: 6m 11s\n",
            "105:\tlearn: 0.9378183\ttest: 0.9503191\tbest: 0.9503191 (105)\ttotal: 43.9s\tremaining: 6m 10s\n",
            "106:\tlearn: 0.9379563\ttest: 0.9504306\tbest: 0.9504306 (106)\ttotal: 44.2s\tremaining: 6m 9s\n",
            "107:\tlearn: 0.9383012\ttest: 0.9507476\tbest: 0.9507476 (107)\ttotal: 44.6s\tremaining: 6m 8s\n",
            "108:\tlearn: 0.9384755\ttest: 0.9508055\tbest: 0.9508055 (108)\ttotal: 44.9s\tremaining: 6m 7s\n",
            "109:\tlearn: 0.9386575\ttest: 0.9509453\tbest: 0.9509453 (109)\ttotal: 45.3s\tremaining: 6m 6s\n",
            "110:\tlearn: 0.9388400\ttest: 0.9510510\tbest: 0.9510510 (110)\ttotal: 45.7s\tremaining: 6m 6s\n",
            "111:\tlearn: 0.9390066\ttest: 0.9511652\tbest: 0.9511652 (111)\ttotal: 46.2s\tremaining: 6m 6s\n",
            "112:\tlearn: 0.9392336\ttest: 0.9513495\tbest: 0.9513495 (112)\ttotal: 46.6s\tremaining: 6m 5s\n",
            "113:\tlearn: 0.9393448\ttest: 0.9513981\tbest: 0.9513981 (113)\ttotal: 46.9s\tremaining: 6m 4s\n",
            "114:\tlearn: 0.9394124\ttest: 0.9514133\tbest: 0.9514133 (114)\ttotal: 47.2s\tremaining: 6m 3s\n",
            "115:\tlearn: 0.9395326\ttest: 0.9514740\tbest: 0.9514740 (115)\ttotal: 47.7s\tremaining: 6m 3s\n",
            "116:\tlearn: 0.9398726\ttest: 0.9518266\tbest: 0.9518266 (116)\ttotal: 48.1s\tremaining: 6m 2s\n",
            "117:\tlearn: 0.9400492\ttest: 0.9519348\tbest: 0.9519348 (117)\ttotal: 48.4s\tremaining: 6m 1s\n",
            "118:\tlearn: 0.9408204\ttest: 0.9529068\tbest: 0.9529068 (118)\ttotal: 48.8s\tremaining: 6m 1s\n",
            "119:\tlearn: 0.9409919\ttest: 0.9530330\tbest: 0.9530330 (119)\ttotal: 49.2s\tremaining: 6m\n",
            "120:\tlearn: 0.9411568\ttest: 0.9530787\tbest: 0.9530787 (120)\ttotal: 49.6s\tremaining: 6m\n",
            "121:\tlearn: 0.9413092\ttest: 0.9531531\tbest: 0.9531531 (121)\ttotal: 50s\tremaining: 5m 59s\n",
            "122:\tlearn: 0.9417034\ttest: 0.9536170\tbest: 0.9536170 (122)\ttotal: 50.4s\tremaining: 5m 59s\n",
            "123:\tlearn: 0.9417859\ttest: 0.9536357\tbest: 0.9536357 (123)\ttotal: 50.8s\tremaining: 5m 58s\n",
            "124:\tlearn: 0.9419728\ttest: 0.9537576\tbest: 0.9537576 (124)\ttotal: 51.2s\tremaining: 5m 58s\n",
            "125:\tlearn: 0.9420889\ttest: 0.9538143\tbest: 0.9538143 (125)\ttotal: 51.6s\tremaining: 5m 58s\n",
            "126:\tlearn: 0.9422260\ttest: 0.9539229\tbest: 0.9539229 (126)\ttotal: 52s\tremaining: 5m 57s\n",
            "127:\tlearn: 0.9423478\ttest: 0.9540247\tbest: 0.9540247 (127)\ttotal: 52.4s\tremaining: 5m 56s\n",
            "128:\tlearn: 0.9427155\ttest: 0.9544601\tbest: 0.9544601 (128)\ttotal: 52.7s\tremaining: 5m 55s\n",
            "129:\tlearn: 0.9427867\ttest: 0.9544766\tbest: 0.9544766 (129)\ttotal: 53.1s\tremaining: 5m 55s\n",
            "130:\tlearn: 0.9430842\ttest: 0.9548208\tbest: 0.9548208 (130)\ttotal: 53.6s\tremaining: 5m 55s\n",
            "131:\tlearn: 0.9431645\ttest: 0.9548632\tbest: 0.9548632 (131)\ttotal: 54s\tremaining: 5m 54s\n",
            "132:\tlearn: 0.9432586\ttest: 0.9549214\tbest: 0.9549214 (132)\ttotal: 54.4s\tremaining: 5m 54s\n",
            "133:\tlearn: 0.9433500\ttest: 0.9549640\tbest: 0.9549640 (133)\ttotal: 54.8s\tremaining: 5m 54s\n",
            "134:\tlearn: 0.9434642\ttest: 0.9550381\tbest: 0.9550381 (134)\ttotal: 55.1s\tremaining: 5m 53s\n",
            "135:\tlearn: 0.9435845\ttest: 0.9551180\tbest: 0.9551180 (135)\ttotal: 55.5s\tremaining: 5m 52s\n",
            "136:\tlearn: 0.9436725\ttest: 0.9551700\tbest: 0.9551700 (136)\ttotal: 55.9s\tremaining: 5m 52s\n",
            "137:\tlearn: 0.9438443\ttest: 0.9553128\tbest: 0.9553128 (137)\ttotal: 56.3s\tremaining: 5m 51s\n",
            "138:\tlearn: 0.9440016\ttest: 0.9553952\tbest: 0.9553952 (138)\ttotal: 56.8s\tremaining: 5m 51s\n",
            "139:\tlearn: 0.9440847\ttest: 0.9554299\tbest: 0.9554299 (139)\ttotal: 57.2s\tremaining: 5m 51s\n",
            "140:\tlearn: 0.9441525\ttest: 0.9554295\tbest: 0.9554299 (139)\ttotal: 57.5s\tremaining: 5m 50s\n",
            "141:\tlearn: 0.9442522\ttest: 0.9554740\tbest: 0.9554740 (141)\ttotal: 57.9s\tremaining: 5m 49s\n",
            "142:\tlearn: 0.9443651\ttest: 0.9555305\tbest: 0.9555305 (142)\ttotal: 58.3s\tremaining: 5m 49s\n",
            "143:\tlearn: 0.9444234\ttest: 0.9555598\tbest: 0.9555598 (143)\ttotal: 58.6s\tremaining: 5m 48s\n",
            "144:\tlearn: 0.9445289\ttest: 0.9556257\tbest: 0.9556257 (144)\ttotal: 59s\tremaining: 5m 47s\n",
            "145:\tlearn: 0.9446728\ttest: 0.9557716\tbest: 0.9557716 (145)\ttotal: 59.4s\tremaining: 5m 47s\n",
            "146:\tlearn: 0.9447464\ttest: 0.9558053\tbest: 0.9558053 (146)\ttotal: 59.8s\tremaining: 5m 47s\n",
            "147:\tlearn: 0.9448554\ttest: 0.9558825\tbest: 0.9558825 (147)\ttotal: 1m\tremaining: 5m 46s\n",
            "148:\tlearn: 0.9449764\ttest: 0.9559500\tbest: 0.9559500 (148)\ttotal: 1m\tremaining: 5m 45s\n",
            "149:\tlearn: 0.9450501\ttest: 0.9560014\tbest: 0.9560014 (149)\ttotal: 1m\tremaining: 5m 45s\n",
            "150:\tlearn: 0.9452157\ttest: 0.9561674\tbest: 0.9561674 (150)\ttotal: 1m 1s\tremaining: 5m 44s\n",
            "151:\tlearn: 0.9452697\ttest: 0.9561886\tbest: 0.9561886 (151)\ttotal: 1m 1s\tremaining: 5m 43s\n",
            "152:\tlearn: 0.9453767\ttest: 0.9562451\tbest: 0.9562451 (152)\ttotal: 1m 2s\tremaining: 5m 43s\n",
            "153:\tlearn: 0.9454988\ttest: 0.9563892\tbest: 0.9563892 (153)\ttotal: 1m 2s\tremaining: 5m 42s\n",
            "154:\tlearn: 0.9456120\ttest: 0.9564391\tbest: 0.9564391 (154)\ttotal: 1m 2s\tremaining: 5m 42s\n",
            "155:\tlearn: 0.9457006\ttest: 0.9564651\tbest: 0.9564651 (155)\ttotal: 1m 3s\tremaining: 5m 42s\n",
            "156:\tlearn: 0.9457535\ttest: 0.9564986\tbest: 0.9564986 (156)\ttotal: 1m 3s\tremaining: 5m 41s\n",
            "157:\tlearn: 0.9458200\ttest: 0.9565326\tbest: 0.9565326 (157)\ttotal: 1m 4s\tremaining: 5m 41s\n",
            "158:\tlearn: 0.9458999\ttest: 0.9565848\tbest: 0.9565848 (158)\ttotal: 1m 4s\tremaining: 5m 40s\n",
            "159:\tlearn: 0.9461864\ttest: 0.9568285\tbest: 0.9568285 (159)\ttotal: 1m 4s\tremaining: 5m 40s\n",
            "160:\tlearn: 0.9462891\ttest: 0.9569070\tbest: 0.9569070 (160)\ttotal: 1m 5s\tremaining: 5m 39s\n",
            "161:\tlearn: 0.9463633\ttest: 0.9569196\tbest: 0.9569196 (161)\ttotal: 1m 5s\tremaining: 5m 39s\n",
            "162:\tlearn: 0.9464304\ttest: 0.9569389\tbest: 0.9569389 (162)\ttotal: 1m 5s\tremaining: 5m 38s\n",
            "163:\tlearn: 0.9464955\ttest: 0.9569892\tbest: 0.9569892 (163)\ttotal: 1m 6s\tremaining: 5m 37s\n",
            "164:\tlearn: 0.9465508\ttest: 0.9570137\tbest: 0.9570137 (164)\ttotal: 1m 6s\tremaining: 5m 37s\n",
            "165:\tlearn: 0.9467266\ttest: 0.9572468\tbest: 0.9572468 (165)\ttotal: 1m 7s\tremaining: 5m 37s\n",
            "166:\tlearn: 0.9468111\ttest: 0.9572988\tbest: 0.9572988 (166)\ttotal: 1m 7s\tremaining: 5m 36s\n",
            "167:\tlearn: 0.9468806\ttest: 0.9573200\tbest: 0.9573200 (167)\ttotal: 1m 7s\tremaining: 5m 36s\n",
            "168:\tlearn: 0.9470304\ttest: 0.9575011\tbest: 0.9575011 (168)\ttotal: 1m 8s\tremaining: 5m 35s\n",
            "169:\tlearn: 0.9470906\ttest: 0.9575472\tbest: 0.9575472 (169)\ttotal: 1m 8s\tremaining: 5m 35s\n",
            "170:\tlearn: 0.9471651\ttest: 0.9575834\tbest: 0.9575834 (170)\ttotal: 1m 9s\tremaining: 5m 34s\n",
            "171:\tlearn: 0.9472073\ttest: 0.9575884\tbest: 0.9575884 (171)\ttotal: 1m 9s\tremaining: 5m 33s\n",
            "172:\tlearn: 0.9474244\ttest: 0.9577991\tbest: 0.9577991 (172)\ttotal: 1m 9s\tremaining: 5m 33s\n",
            "173:\tlearn: 0.9474687\ttest: 0.9578251\tbest: 0.9578251 (173)\ttotal: 1m 10s\tremaining: 5m 32s\n",
            "174:\tlearn: 0.9476811\ttest: 0.9581114\tbest: 0.9581114 (174)\ttotal: 1m 10s\tremaining: 5m 31s\n",
            "175:\tlearn: 0.9477531\ttest: 0.9581214\tbest: 0.9581214 (175)\ttotal: 1m 10s\tremaining: 5m 31s\n",
            "176:\tlearn: 0.9478191\ttest: 0.9581555\tbest: 0.9581555 (176)\ttotal: 1m 11s\tremaining: 5m 31s\n",
            "177:\tlearn: 0.9479160\ttest: 0.9581981\tbest: 0.9581981 (177)\ttotal: 1m 11s\tremaining: 5m 30s\n",
            "178:\tlearn: 0.9479805\ttest: 0.9582208\tbest: 0.9582208 (178)\ttotal: 1m 12s\tremaining: 5m 30s\n",
            "179:\tlearn: 0.9480281\ttest: 0.9582424\tbest: 0.9582424 (179)\ttotal: 1m 12s\tremaining: 5m 29s\n",
            "180:\tlearn: 0.9480875\ttest: 0.9582652\tbest: 0.9582652 (180)\ttotal: 1m 12s\tremaining: 5m 29s\n",
            "181:\tlearn: 0.9481939\ttest: 0.9583623\tbest: 0.9583623 (181)\ttotal: 1m 13s\tremaining: 5m 29s\n",
            "182:\tlearn: 0.9482766\ttest: 0.9584104\tbest: 0.9584104 (182)\ttotal: 1m 13s\tremaining: 5m 28s\n",
            "183:\tlearn: 0.9483594\ttest: 0.9584445\tbest: 0.9584445 (183)\ttotal: 1m 14s\tremaining: 5m 28s\n",
            "184:\tlearn: 0.9484110\ttest: 0.9584773\tbest: 0.9584773 (184)\ttotal: 1m 14s\tremaining: 5m 27s\n",
            "185:\tlearn: 0.9485403\ttest: 0.9586259\tbest: 0.9586259 (185)\ttotal: 1m 14s\tremaining: 5m 27s\n",
            "186:\tlearn: 0.9488282\ttest: 0.9590046\tbest: 0.9590046 (186)\ttotal: 1m 15s\tremaining: 5m 27s\n",
            "187:\tlearn: 0.9488820\ttest: 0.9590280\tbest: 0.9590280 (187)\ttotal: 1m 15s\tremaining: 5m 26s\n",
            "188:\tlearn: 0.9489374\ttest: 0.9590528\tbest: 0.9590528 (188)\ttotal: 1m 15s\tremaining: 5m 26s\n",
            "189:\tlearn: 0.9489855\ttest: 0.9590607\tbest: 0.9590607 (189)\ttotal: 1m 16s\tremaining: 5m 25s\n",
            "190:\tlearn: 0.9490632\ttest: 0.9590912\tbest: 0.9590912 (190)\ttotal: 1m 16s\tremaining: 5m 25s\n",
            "191:\tlearn: 0.9491102\ttest: 0.9591096\tbest: 0.9591096 (191)\ttotal: 1m 17s\tremaining: 5m 24s\n",
            "192:\tlearn: 0.9491827\ttest: 0.9591436\tbest: 0.9591436 (192)\ttotal: 1m 17s\tremaining: 5m 24s\n",
            "193:\tlearn: 0.9492804\ttest: 0.9591977\tbest: 0.9591977 (193)\ttotal: 1m 17s\tremaining: 5m 24s\n",
            "194:\tlearn: 0.9493226\ttest: 0.9592119\tbest: 0.9592119 (194)\ttotal: 1m 18s\tremaining: 5m 23s\n",
            "195:\tlearn: 0.9493670\ttest: 0.9592365\tbest: 0.9592365 (195)\ttotal: 1m 18s\tremaining: 5m 22s\n",
            "196:\tlearn: 0.9494209\ttest: 0.9592573\tbest: 0.9592573 (196)\ttotal: 1m 19s\tremaining: 5m 22s\n",
            "197:\tlearn: 0.9494831\ttest: 0.9593025\tbest: 0.9593025 (197)\ttotal: 1m 19s\tremaining: 5m 22s\n",
            "198:\tlearn: 0.9495313\ttest: 0.9593599\tbest: 0.9593599 (198)\ttotal: 1m 19s\tremaining: 5m 21s\n",
            "199:\tlearn: 0.9495722\ttest: 0.9593841\tbest: 0.9593841 (199)\ttotal: 1m 20s\tremaining: 5m 20s\n",
            "200:\tlearn: 0.9496871\ttest: 0.9594463\tbest: 0.9594463 (200)\ttotal: 1m 20s\tremaining: 5m 20s\n",
            "201:\tlearn: 0.9498606\ttest: 0.9596493\tbest: 0.9596493 (201)\ttotal: 1m 21s\tremaining: 5m 20s\n",
            "202:\tlearn: 0.9499066\ttest: 0.9596780\tbest: 0.9596780 (202)\ttotal: 1m 21s\tremaining: 5m 19s\n",
            "203:\tlearn: 0.9499554\ttest: 0.9597084\tbest: 0.9597084 (203)\ttotal: 1m 21s\tremaining: 5m 19s\n",
            "204:\tlearn: 0.9500306\ttest: 0.9597443\tbest: 0.9597443 (204)\ttotal: 1m 22s\tremaining: 5m 18s\n",
            "205:\tlearn: 0.9500887\ttest: 0.9597584\tbest: 0.9597584 (205)\ttotal: 1m 22s\tremaining: 5m 18s\n",
            "206:\tlearn: 0.9501269\ttest: 0.9597832\tbest: 0.9597832 (206)\ttotal: 1m 22s\tremaining: 5m 17s\n",
            "207:\tlearn: 0.9501634\ttest: 0.9597688\tbest: 0.9597832 (206)\ttotal: 1m 23s\tremaining: 5m 17s\n",
            "208:\tlearn: 0.9502335\ttest: 0.9598029\tbest: 0.9598029 (208)\ttotal: 1m 23s\tremaining: 5m 16s\n",
            "209:\tlearn: 0.9502708\ttest: 0.9598328\tbest: 0.9598328 (209)\ttotal: 1m 23s\tremaining: 5m 15s\n",
            "210:\tlearn: 0.9504844\ttest: 0.9600644\tbest: 0.9600644 (210)\ttotal: 1m 24s\tremaining: 5m 15s\n",
            "211:\tlearn: 0.9505426\ttest: 0.9600983\tbest: 0.9600983 (211)\ttotal: 1m 24s\tremaining: 5m 15s\n",
            "212:\tlearn: 0.9506415\ttest: 0.9601869\tbest: 0.9601869 (212)\ttotal: 1m 25s\tremaining: 5m 14s\n",
            "213:\tlearn: 0.9506704\ttest: 0.9601994\tbest: 0.9601994 (213)\ttotal: 1m 25s\tremaining: 5m 14s\n",
            "214:\tlearn: 0.9507452\ttest: 0.9602389\tbest: 0.9602389 (214)\ttotal: 1m 25s\tremaining: 5m 13s\n",
            "215:\tlearn: 0.9508213\ttest: 0.9602872\tbest: 0.9602872 (215)\ttotal: 1m 26s\tremaining: 5m 12s\n",
            "216:\tlearn: 0.9509109\ttest: 0.9603403\tbest: 0.9603403 (216)\ttotal: 1m 26s\tremaining: 5m 12s\n",
            "217:\tlearn: 0.9509797\ttest: 0.9603909\tbest: 0.9603909 (217)\ttotal: 1m 26s\tremaining: 5m 11s\n",
            "218:\tlearn: 0.9510484\ttest: 0.9604106\tbest: 0.9604106 (218)\ttotal: 1m 27s\tremaining: 5m 11s\n",
            "219:\tlearn: 0.9510902\ttest: 0.9604443\tbest: 0.9604443 (219)\ttotal: 1m 27s\tremaining: 5m 10s\n",
            "220:\tlearn: 0.9511382\ttest: 0.9604703\tbest: 0.9604703 (220)\ttotal: 1m 28s\tremaining: 5m 10s\n",
            "221:\tlearn: 0.9511693\ttest: 0.9604858\tbest: 0.9604858 (221)\ttotal: 1m 28s\tremaining: 5m 9s\n",
            "222:\tlearn: 0.9512708\ttest: 0.9606131\tbest: 0.9606131 (222)\ttotal: 1m 28s\tremaining: 5m 9s\n",
            "223:\tlearn: 0.9512990\ttest: 0.9606099\tbest: 0.9606131 (222)\ttotal: 1m 29s\tremaining: 5m 9s\n",
            "224:\tlearn: 0.9513473\ttest: 0.9606494\tbest: 0.9606494 (224)\ttotal: 1m 29s\tremaining: 5m 8s\n",
            "225:\tlearn: 0.9513890\ttest: 0.9606771\tbest: 0.9606771 (225)\ttotal: 1m 29s\tremaining: 5m 8s\n",
            "226:\tlearn: 0.9514771\ttest: 0.9607400\tbest: 0.9607400 (226)\ttotal: 1m 30s\tremaining: 5m 7s\n",
            "227:\tlearn: 0.9515402\ttest: 0.9607709\tbest: 0.9607709 (227)\ttotal: 1m 30s\tremaining: 5m 7s\n",
            "228:\tlearn: 0.9515965\ttest: 0.9607715\tbest: 0.9607715 (228)\ttotal: 1m 31s\tremaining: 5m 6s\n",
            "229:\tlearn: 0.9516640\ttest: 0.9607781\tbest: 0.9607781 (229)\ttotal: 1m 31s\tremaining: 5m 6s\n",
            "230:\tlearn: 0.9516909\ttest: 0.9607751\tbest: 0.9607781 (229)\ttotal: 1m 31s\tremaining: 5m 6s\n",
            "231:\tlearn: 0.9517662\ttest: 0.9608095\tbest: 0.9608095 (231)\ttotal: 1m 32s\tremaining: 5m 5s\n",
            "232:\tlearn: 0.9517993\ttest: 0.9608197\tbest: 0.9608197 (232)\ttotal: 1m 32s\tremaining: 5m 5s\n",
            "233:\tlearn: 0.9518428\ttest: 0.9608580\tbest: 0.9608580 (233)\ttotal: 1m 33s\tremaining: 5m 4s\n",
            "234:\tlearn: 0.9519018\ttest: 0.9608795\tbest: 0.9608795 (234)\ttotal: 1m 33s\tremaining: 5m 4s\n",
            "235:\tlearn: 0.9519210\ttest: 0.9608862\tbest: 0.9608862 (235)\ttotal: 1m 33s\tremaining: 5m 4s\n",
            "236:\tlearn: 0.9519394\ttest: 0.9609105\tbest: 0.9609105 (236)\ttotal: 1m 34s\tremaining: 5m 3s\n",
            "237:\tlearn: 0.9520129\ttest: 0.9609569\tbest: 0.9609569 (237)\ttotal: 1m 34s\tremaining: 5m 3s\n",
            "238:\tlearn: 0.9522003\ttest: 0.9611093\tbest: 0.9611093 (238)\ttotal: 1m 35s\tremaining: 5m 2s\n",
            "239:\tlearn: 0.9522668\ttest: 0.9611161\tbest: 0.9611161 (239)\ttotal: 1m 35s\tremaining: 5m 2s\n",
            "240:\tlearn: 0.9523147\ttest: 0.9611582\tbest: 0.9611582 (240)\ttotal: 1m 35s\tremaining: 5m 1s\n",
            "241:\tlearn: 0.9523602\ttest: 0.9611672\tbest: 0.9611672 (241)\ttotal: 1m 36s\tremaining: 5m 1s\n",
            "242:\tlearn: 0.9523951\ttest: 0.9611920\tbest: 0.9611920 (242)\ttotal: 1m 36s\tremaining: 5m 1s\n",
            "243:\tlearn: 0.9524632\ttest: 0.9612363\tbest: 0.9612363 (243)\ttotal: 1m 37s\tremaining: 5m\n",
            "244:\tlearn: 0.9524971\ttest: 0.9612675\tbest: 0.9612675 (244)\ttotal: 1m 37s\tremaining: 5m\n",
            "245:\tlearn: 0.9525371\ttest: 0.9612772\tbest: 0.9612772 (245)\ttotal: 1m 37s\tremaining: 4m 59s\n",
            "246:\tlearn: 0.9525638\ttest: 0.9612794\tbest: 0.9612794 (246)\ttotal: 1m 38s\tremaining: 4m 59s\n",
            "247:\tlearn: 0.9525995\ttest: 0.9612850\tbest: 0.9612850 (247)\ttotal: 1m 38s\tremaining: 4m 58s\n",
            "248:\tlearn: 0.9526504\ttest: 0.9612988\tbest: 0.9612988 (248)\ttotal: 1m 38s\tremaining: 4m 58s\n",
            "249:\tlearn: 0.9526982\ttest: 0.9613214\tbest: 0.9613214 (249)\ttotal: 1m 39s\tremaining: 4m 58s\n",
            "250:\tlearn: 0.9527379\ttest: 0.9613210\tbest: 0.9613214 (249)\ttotal: 1m 39s\tremaining: 4m 57s\n",
            "251:\tlearn: 0.9528713\ttest: 0.9614688\tbest: 0.9614688 (251)\ttotal: 1m 40s\tremaining: 4m 56s\n",
            "252:\tlearn: 0.9529229\ttest: 0.9615179\tbest: 0.9615179 (252)\ttotal: 1m 40s\tremaining: 4m 56s\n",
            "253:\tlearn: 0.9529769\ttest: 0.9615440\tbest: 0.9615440 (253)\ttotal: 1m 40s\tremaining: 4m 55s\n",
            "254:\tlearn: 0.9530368\ttest: 0.9615842\tbest: 0.9615842 (254)\ttotal: 1m 41s\tremaining: 4m 55s\n",
            "255:\tlearn: 0.9531398\ttest: 0.9616727\tbest: 0.9616727 (255)\ttotal: 1m 41s\tremaining: 4m 55s\n",
            "256:\tlearn: 0.9532131\ttest: 0.9617375\tbest: 0.9617375 (256)\ttotal: 1m 41s\tremaining: 4m 54s\n",
            "257:\tlearn: 0.9532445\ttest: 0.9617405\tbest: 0.9617405 (257)\ttotal: 1m 42s\tremaining: 4m 54s\n",
            "258:\tlearn: 0.9535635\ttest: 0.9621238\tbest: 0.9621238 (258)\ttotal: 1m 42s\tremaining: 4m 53s\n",
            "259:\tlearn: 0.9536007\ttest: 0.9621408\tbest: 0.9621408 (259)\ttotal: 1m 43s\tremaining: 4m 53s\n",
            "260:\tlearn: 0.9536241\ttest: 0.9621448\tbest: 0.9621448 (260)\ttotal: 1m 43s\tremaining: 4m 52s\n",
            "261:\tlearn: 0.9536647\ttest: 0.9621629\tbest: 0.9621629 (261)\ttotal: 1m 43s\tremaining: 4m 52s\n",
            "262:\tlearn: 0.9536985\ttest: 0.9621799\tbest: 0.9621799 (262)\ttotal: 1m 44s\tremaining: 4m 52s\n",
            "263:\tlearn: 0.9537174\ttest: 0.9621940\tbest: 0.9621940 (263)\ttotal: 1m 44s\tremaining: 4m 51s\n",
            "264:\tlearn: 0.9537923\ttest: 0.9622257\tbest: 0.9622257 (264)\ttotal: 1m 44s\tremaining: 4m 51s\n",
            "265:\tlearn: 0.9538596\ttest: 0.9622707\tbest: 0.9622707 (265)\ttotal: 1m 45s\tremaining: 4m 50s\n",
            "266:\tlearn: 0.9538925\ttest: 0.9622848\tbest: 0.9622848 (266)\ttotal: 1m 45s\tremaining: 4m 50s\n",
            "267:\tlearn: 0.9539294\ttest: 0.9622975\tbest: 0.9622975 (267)\ttotal: 1m 46s\tremaining: 4m 49s\n",
            "268:\tlearn: 0.9539878\ttest: 0.9623410\tbest: 0.9623410 (268)\ttotal: 1m 46s\tremaining: 4m 49s\n",
            "269:\tlearn: 0.9541528\ttest: 0.9625840\tbest: 0.9625840 (269)\ttotal: 1m 46s\tremaining: 4m 48s\n",
            "270:\tlearn: 0.9542047\ttest: 0.9626027\tbest: 0.9626027 (270)\ttotal: 1m 47s\tremaining: 4m 48s\n",
            "271:\tlearn: 0.9542254\ttest: 0.9626101\tbest: 0.9626101 (271)\ttotal: 1m 47s\tremaining: 4m 47s\n",
            "272:\tlearn: 0.9542912\ttest: 0.9626229\tbest: 0.9626229 (272)\ttotal: 1m 47s\tremaining: 4m 47s\n",
            "273:\tlearn: 0.9543291\ttest: 0.9626476\tbest: 0.9626476 (273)\ttotal: 1m 48s\tremaining: 4m 46s\n",
            "274:\tlearn: 0.9543601\ttest: 0.9626589\tbest: 0.9626589 (274)\ttotal: 1m 48s\tremaining: 4m 46s\n",
            "275:\tlearn: 0.9543917\ttest: 0.9626831\tbest: 0.9626831 (275)\ttotal: 1m 49s\tremaining: 4m 46s\n",
            "276:\tlearn: 0.9544146\ttest: 0.9626994\tbest: 0.9626994 (276)\ttotal: 1m 49s\tremaining: 4m 45s\n",
            "277:\tlearn: 0.9544505\ttest: 0.9627198\tbest: 0.9627198 (277)\ttotal: 1m 49s\tremaining: 4m 45s\n",
            "278:\tlearn: 0.9545111\ttest: 0.9627607\tbest: 0.9627607 (278)\ttotal: 1m 50s\tremaining: 4m 44s\n",
            "279:\tlearn: 0.9545498\ttest: 0.9627714\tbest: 0.9627714 (279)\ttotal: 1m 50s\tremaining: 4m 44s\n",
            "280:\tlearn: 0.9545699\ttest: 0.9627696\tbest: 0.9627714 (279)\ttotal: 1m 50s\tremaining: 4m 43s\n",
            "281:\tlearn: 0.9546103\ttest: 0.9627991\tbest: 0.9627991 (281)\ttotal: 1m 51s\tremaining: 4m 43s\n",
            "282:\tlearn: 0.9546456\ttest: 0.9628178\tbest: 0.9628178 (282)\ttotal: 1m 51s\tremaining: 4m 43s\n",
            "283:\tlearn: 0.9547097\ttest: 0.9628621\tbest: 0.9628621 (283)\ttotal: 1m 52s\tremaining: 4m 42s\n",
            "284:\tlearn: 0.9547415\ttest: 0.9628786\tbest: 0.9628786 (284)\ttotal: 1m 52s\tremaining: 4m 42s\n",
            "285:\tlearn: 0.9547861\ttest: 0.9629013\tbest: 0.9629013 (285)\ttotal: 1m 52s\tremaining: 4m 41s\n",
            "286:\tlearn: 0.9548264\ttest: 0.9629110\tbest: 0.9629110 (286)\ttotal: 1m 53s\tremaining: 4m 41s\n",
            "287:\tlearn: 0.9548440\ttest: 0.9629093\tbest: 0.9629110 (286)\ttotal: 1m 53s\tremaining: 4m 41s\n",
            "288:\tlearn: 0.9548857\ttest: 0.9629366\tbest: 0.9629366 (288)\ttotal: 1m 54s\tremaining: 4m 40s\n",
            "289:\tlearn: 0.9549620\ttest: 0.9629377\tbest: 0.9629377 (289)\ttotal: 1m 54s\tremaining: 4m 40s\n",
            "290:\tlearn: 0.9549778\ttest: 0.9629315\tbest: 0.9629377 (289)\ttotal: 1m 54s\tremaining: 4m 40s\n",
            "291:\tlearn: 0.9550184\ttest: 0.9629531\tbest: 0.9629531 (291)\ttotal: 1m 55s\tremaining: 4m 39s\n",
            "292:\tlearn: 0.9550389\ttest: 0.9629646\tbest: 0.9629646 (292)\ttotal: 1m 55s\tremaining: 4m 39s\n",
            "293:\tlearn: 0.9550686\ttest: 0.9629647\tbest: 0.9629647 (293)\ttotal: 1m 56s\tremaining: 4m 38s\n",
            "294:\tlearn: 0.9551099\ttest: 0.9629807\tbest: 0.9629807 (294)\ttotal: 1m 56s\tremaining: 4m 38s\n",
            "295:\tlearn: 0.9551457\ttest: 0.9629895\tbest: 0.9629895 (295)\ttotal: 1m 56s\tremaining: 4m 37s\n",
            "296:\tlearn: 0.9551777\ttest: 0.9629947\tbest: 0.9629947 (296)\ttotal: 1m 57s\tremaining: 4m 37s\n",
            "297:\tlearn: 0.9552091\ttest: 0.9630122\tbest: 0.9630122 (297)\ttotal: 1m 57s\tremaining: 4m 37s\n",
            "298:\tlearn: 0.9552386\ttest: 0.9630173\tbest: 0.9630173 (298)\ttotal: 1m 58s\tremaining: 4m 36s\n",
            "299:\tlearn: 0.9552822\ttest: 0.9630334\tbest: 0.9630334 (299)\ttotal: 1m 58s\tremaining: 4m 36s\n",
            "300:\tlearn: 0.9553370\ttest: 0.9630678\tbest: 0.9630678 (300)\ttotal: 1m 58s\tremaining: 4m 35s\n",
            "301:\tlearn: 0.9553526\ttest: 0.9630699\tbest: 0.9630699 (301)\ttotal: 1m 59s\tremaining: 4m 35s\n",
            "302:\tlearn: 0.9553926\ttest: 0.9630882\tbest: 0.9630882 (302)\ttotal: 1m 59s\tremaining: 4m 35s\n",
            "303:\tlearn: 0.9554767\ttest: 0.9631367\tbest: 0.9631367 (303)\ttotal: 2m\tremaining: 4m 34s\n",
            "304:\tlearn: 0.9555363\ttest: 0.9631539\tbest: 0.9631539 (304)\ttotal: 2m\tremaining: 4m 34s\n",
            "305:\tlearn: 0.9556807\ttest: 0.9632692\tbest: 0.9632692 (305)\ttotal: 2m\tremaining: 4m 34s\n",
            "306:\tlearn: 0.9557174\ttest: 0.9632730\tbest: 0.9632730 (306)\ttotal: 2m 1s\tremaining: 4m 33s\n",
            "307:\tlearn: 0.9557434\ttest: 0.9632927\tbest: 0.9632927 (307)\ttotal: 2m 1s\tremaining: 4m 33s\n",
            "308:\tlearn: 0.9557682\ttest: 0.9632951\tbest: 0.9632951 (308)\ttotal: 2m 1s\tremaining: 4m 32s\n",
            "309:\tlearn: 0.9557928\ttest: 0.9632897\tbest: 0.9632951 (308)\ttotal: 2m 2s\tremaining: 4m 32s\n",
            "310:\tlearn: 0.9558054\ttest: 0.9633003\tbest: 0.9633003 (310)\ttotal: 2m 2s\tremaining: 4m 31s\n",
            "311:\tlearn: 0.9558383\ttest: 0.9633324\tbest: 0.9633324 (311)\ttotal: 2m 3s\tremaining: 4m 31s\n",
            "312:\tlearn: 0.9558750\ttest: 0.9633420\tbest: 0.9633420 (312)\ttotal: 2m 3s\tremaining: 4m 31s\n",
            "313:\tlearn: 0.9558969\ttest: 0.9633428\tbest: 0.9633428 (313)\ttotal: 2m 3s\tremaining: 4m 30s\n",
            "314:\tlearn: 0.9559630\ttest: 0.9633806\tbest: 0.9633806 (314)\ttotal: 2m 4s\tremaining: 4m 30s\n",
            "315:\tlearn: 0.9560101\ttest: 0.9633646\tbest: 0.9633806 (314)\ttotal: 2m 4s\tremaining: 4m 30s\n",
            "316:\tlearn: 0.9560333\ttest: 0.9633746\tbest: 0.9633806 (314)\ttotal: 2m 5s\tremaining: 4m 29s\n",
            "317:\tlearn: 0.9560703\ttest: 0.9633884\tbest: 0.9633884 (317)\ttotal: 2m 5s\tremaining: 4m 29s\n",
            "318:\tlearn: 0.9561047\ttest: 0.9633944\tbest: 0.9633944 (318)\ttotal: 2m 6s\tremaining: 4m 29s\n",
            "319:\tlearn: 0.9561489\ttest: 0.9634122\tbest: 0.9634122 (319)\ttotal: 2m 6s\tremaining: 4m 28s\n",
            "320:\tlearn: 0.9562705\ttest: 0.9635458\tbest: 0.9635458 (320)\ttotal: 2m 6s\tremaining: 4m 28s\n",
            "321:\tlearn: 0.9563157\ttest: 0.9635634\tbest: 0.9635634 (321)\ttotal: 2m 7s\tremaining: 4m 27s\n",
            "322:\tlearn: 0.9563556\ttest: 0.9635889\tbest: 0.9635889 (322)\ttotal: 2m 7s\tremaining: 4m 27s\n",
            "323:\tlearn: 0.9563878\ttest: 0.9636008\tbest: 0.9636008 (323)\ttotal: 2m 7s\tremaining: 4m 27s\n",
            "324:\tlearn: 0.9563975\ttest: 0.9636038\tbest: 0.9636038 (324)\ttotal: 2m 8s\tremaining: 4m 26s\n",
            "325:\tlearn: 0.9564382\ttest: 0.9636285\tbest: 0.9636285 (325)\ttotal: 2m 8s\tremaining: 4m 26s\n",
            "326:\tlearn: 0.9566110\ttest: 0.9637789\tbest: 0.9637789 (326)\ttotal: 2m 9s\tremaining: 4m 25s\n",
            "327:\tlearn: 0.9566318\ttest: 0.9637770\tbest: 0.9637789 (326)\ttotal: 2m 9s\tremaining: 4m 25s\n",
            "328:\tlearn: 0.9567673\ttest: 0.9639171\tbest: 0.9639171 (328)\ttotal: 2m 9s\tremaining: 4m 25s\n",
            "329:\tlearn: 0.9568014\ttest: 0.9639341\tbest: 0.9639341 (329)\ttotal: 2m 10s\tremaining: 4m 24s\n",
            "330:\tlearn: 0.9568368\ttest: 0.9639403\tbest: 0.9639403 (330)\ttotal: 2m 10s\tremaining: 4m 24s\n",
            "331:\tlearn: 0.9569581\ttest: 0.9640498\tbest: 0.9640498 (331)\ttotal: 2m 11s\tremaining: 4m 23s\n",
            "332:\tlearn: 0.9570082\ttest: 0.9640884\tbest: 0.9640884 (332)\ttotal: 2m 11s\tremaining: 4m 23s\n",
            "333:\tlearn: 0.9570611\ttest: 0.9641427\tbest: 0.9641427 (333)\ttotal: 2m 11s\tremaining: 4m 22s\n",
            "334:\tlearn: 0.9571218\ttest: 0.9641583\tbest: 0.9641583 (334)\ttotal: 2m 12s\tremaining: 4m 22s\n",
            "335:\tlearn: 0.9571554\ttest: 0.9641626\tbest: 0.9641626 (335)\ttotal: 2m 12s\tremaining: 4m 21s\n",
            "336:\tlearn: 0.9571715\ttest: 0.9641612\tbest: 0.9641626 (335)\ttotal: 2m 12s\tremaining: 4m 21s\n",
            "337:\tlearn: 0.9572005\ttest: 0.9641806\tbest: 0.9641806 (337)\ttotal: 2m 13s\tremaining: 4m 20s\n",
            "338:\tlearn: 0.9572263\ttest: 0.9641941\tbest: 0.9641941 (338)\ttotal: 2m 13s\tremaining: 4m 20s\n",
            "339:\tlearn: 0.9572580\ttest: 0.9642169\tbest: 0.9642169 (339)\ttotal: 2m 13s\tremaining: 4m 19s\n",
            "340:\tlearn: 0.9572765\ttest: 0.9642229\tbest: 0.9642229 (340)\ttotal: 2m 14s\tremaining: 4m 19s\n",
            "341:\tlearn: 0.9572951\ttest: 0.9642246\tbest: 0.9642246 (341)\ttotal: 2m 14s\tremaining: 4m 18s\n",
            "342:\tlearn: 0.9573278\ttest: 0.9642441\tbest: 0.9642441 (342)\ttotal: 2m 14s\tremaining: 4m 18s\n",
            "343:\tlearn: 0.9573399\ttest: 0.9642459\tbest: 0.9642459 (343)\ttotal: 2m 15s\tremaining: 4m 17s\n",
            "344:\tlearn: 0.9574624\ttest: 0.9644168\tbest: 0.9644168 (344)\ttotal: 2m 15s\tremaining: 4m 17s\n",
            "345:\tlearn: 0.9574973\ttest: 0.9644143\tbest: 0.9644168 (344)\ttotal: 2m 16s\tremaining: 4m 17s\n",
            "346:\tlearn: 0.9576467\ttest: 0.9645744\tbest: 0.9645744 (346)\ttotal: 2m 16s\tremaining: 4m 16s\n",
            "347:\tlearn: 0.9576752\ttest: 0.9645741\tbest: 0.9645744 (346)\ttotal: 2m 16s\tremaining: 4m 16s\n",
            "348:\tlearn: 0.9578039\ttest: 0.9647979\tbest: 0.9647979 (348)\ttotal: 2m 17s\tremaining: 4m 16s\n",
            "349:\tlearn: 0.9578241\ttest: 0.9648066\tbest: 0.9648066 (349)\ttotal: 2m 17s\tremaining: 4m 15s\n",
            "350:\tlearn: 0.9578557\ttest: 0.9648283\tbest: 0.9648283 (350)\ttotal: 2m 18s\tremaining: 4m 15s\n",
            "351:\tlearn: 0.9578859\ttest: 0.9648315\tbest: 0.9648315 (351)\ttotal: 2m 18s\tremaining: 4m 14s\n",
            "352:\tlearn: 0.9579266\ttest: 0.9648570\tbest: 0.9648570 (352)\ttotal: 2m 18s\tremaining: 4m 14s\n",
            "353:\tlearn: 0.9579360\ttest: 0.9648555\tbest: 0.9648570 (352)\ttotal: 2m 19s\tremaining: 4m 14s\n",
            "354:\tlearn: 0.9579673\ttest: 0.9648675\tbest: 0.9648675 (354)\ttotal: 2m 19s\tremaining: 4m 13s\n",
            "355:\tlearn: 0.9579997\ttest: 0.9648680\tbest: 0.9648680 (355)\ttotal: 2m 20s\tremaining: 4m 13s\n",
            "356:\tlearn: 0.9580089\ttest: 0.9648731\tbest: 0.9648731 (356)\ttotal: 2m 20s\tremaining: 4m 13s\n",
            "357:\tlearn: 0.9580473\ttest: 0.9648787\tbest: 0.9648787 (357)\ttotal: 2m 20s\tremaining: 4m 12s\n",
            "358:\tlearn: 0.9580632\ttest: 0.9648820\tbest: 0.9648820 (358)\ttotal: 2m 21s\tremaining: 4m 12s\n",
            "359:\tlearn: 0.9580939\ttest: 0.9648755\tbest: 0.9648820 (358)\ttotal: 2m 21s\tremaining: 4m 11s\n",
            "360:\tlearn: 0.9582174\ttest: 0.9650484\tbest: 0.9650484 (360)\ttotal: 2m 22s\tremaining: 4m 11s\n",
            "361:\tlearn: 0.9582449\ttest: 0.9650622\tbest: 0.9650622 (361)\ttotal: 2m 22s\tremaining: 4m 11s\n",
            "362:\tlearn: 0.9582928\ttest: 0.9651007\tbest: 0.9651007 (362)\ttotal: 2m 22s\tremaining: 4m 10s\n",
            "363:\tlearn: 0.9583157\ttest: 0.9650999\tbest: 0.9651007 (362)\ttotal: 2m 23s\tremaining: 4m 10s\n",
            "364:\tlearn: 0.9583348\ttest: 0.9651068\tbest: 0.9651068 (364)\ttotal: 2m 23s\tremaining: 4m 9s\n",
            "365:\tlearn: 0.9583645\ttest: 0.9651139\tbest: 0.9651139 (365)\ttotal: 2m 24s\tremaining: 4m 9s\n",
            "366:\tlearn: 0.9584008\ttest: 0.9651379\tbest: 0.9651379 (366)\ttotal: 2m 24s\tremaining: 4m 9s\n",
            "367:\tlearn: 0.9584159\ttest: 0.9651365\tbest: 0.9651379 (366)\ttotal: 2m 24s\tremaining: 4m 8s\n",
            "368:\tlearn: 0.9584394\ttest: 0.9651397\tbest: 0.9651397 (368)\ttotal: 2m 25s\tremaining: 4m 8s\n",
            "369:\tlearn: 0.9584718\ttest: 0.9651588\tbest: 0.9651588 (369)\ttotal: 2m 25s\tremaining: 4m 7s\n",
            "370:\tlearn: 0.9584989\ttest: 0.9651707\tbest: 0.9651707 (370)\ttotal: 2m 25s\tremaining: 4m 7s\n",
            "371:\tlearn: 0.9585246\ttest: 0.9651823\tbest: 0.9651823 (371)\ttotal: 2m 26s\tremaining: 4m 7s\n",
            "372:\tlearn: 0.9586183\ttest: 0.9653321\tbest: 0.9653321 (372)\ttotal: 2m 26s\tremaining: 4m 6s\n",
            "373:\tlearn: 0.9586447\ttest: 0.9653440\tbest: 0.9653440 (373)\ttotal: 2m 27s\tremaining: 4m 6s\n",
            "374:\tlearn: 0.9586844\ttest: 0.9653598\tbest: 0.9653598 (374)\ttotal: 2m 27s\tremaining: 4m 5s\n",
            "375:\tlearn: 0.9587294\ttest: 0.9653398\tbest: 0.9653598 (374)\ttotal: 2m 27s\tremaining: 4m 5s\n",
            "376:\tlearn: 0.9587807\ttest: 0.9653627\tbest: 0.9653627 (376)\ttotal: 2m 28s\tremaining: 4m 4s\n",
            "377:\tlearn: 0.9588098\ttest: 0.9653753\tbest: 0.9653753 (377)\ttotal: 2m 28s\tremaining: 4m 4s\n",
            "378:\tlearn: 0.9588297\ttest: 0.9653895\tbest: 0.9653895 (378)\ttotal: 2m 29s\tremaining: 4m 4s\n",
            "379:\tlearn: 0.9588630\ttest: 0.9654066\tbest: 0.9654066 (379)\ttotal: 2m 29s\tremaining: 4m 3s\n",
            "380:\tlearn: 0.9588932\ttest: 0.9653986\tbest: 0.9654066 (379)\ttotal: 2m 29s\tremaining: 4m 3s\n",
            "381:\tlearn: 0.9589152\ttest: 0.9654121\tbest: 0.9654121 (381)\ttotal: 2m 30s\tremaining: 4m 3s\n",
            "382:\tlearn: 0.9589496\ttest: 0.9654307\tbest: 0.9654307 (382)\ttotal: 2m 30s\tremaining: 4m 2s\n",
            "383:\tlearn: 0.9589663\ttest: 0.9654419\tbest: 0.9654419 (383)\ttotal: 2m 31s\tremaining: 4m 2s\n",
            "384:\tlearn: 0.9589741\ttest: 0.9654419\tbest: 0.9654419 (383)\ttotal: 2m 31s\tremaining: 4m 1s\n",
            "385:\tlearn: 0.9589951\ttest: 0.9654357\tbest: 0.9654419 (383)\ttotal: 2m 31s\tremaining: 4m 1s\n",
            "386:\tlearn: 0.9590399\ttest: 0.9654518\tbest: 0.9654518 (386)\ttotal: 2m 32s\tremaining: 4m 1s\n",
            "387:\tlearn: 0.9590515\ttest: 0.9654434\tbest: 0.9654518 (386)\ttotal: 2m 32s\tremaining: 4m\n",
            "388:\tlearn: 0.9591517\ttest: 0.9655412\tbest: 0.9655412 (388)\ttotal: 2m 33s\tremaining: 4m\n",
            "389:\tlearn: 0.9591830\ttest: 0.9655492\tbest: 0.9655492 (389)\ttotal: 2m 33s\tremaining: 4m\n",
            "390:\tlearn: 0.9592677\ttest: 0.9655948\tbest: 0.9655948 (390)\ttotal: 2m 33s\tremaining: 3m 59s\n",
            "391:\tlearn: 0.9592910\ttest: 0.9656017\tbest: 0.9656017 (391)\ttotal: 2m 34s\tremaining: 3m 59s\n",
            "392:\tlearn: 0.9593440\ttest: 0.9656429\tbest: 0.9656429 (392)\ttotal: 2m 34s\tremaining: 3m 58s\n",
            "393:\tlearn: 0.9593706\ttest: 0.9656429\tbest: 0.9656429 (393)\ttotal: 2m 35s\tremaining: 3m 58s\n",
            "394:\tlearn: 0.9593940\ttest: 0.9656498\tbest: 0.9656498 (394)\ttotal: 2m 35s\tremaining: 3m 58s\n",
            "395:\tlearn: 0.9594231\ttest: 0.9656559\tbest: 0.9656559 (395)\ttotal: 2m 35s\tremaining: 3m 57s\n",
            "396:\tlearn: 0.9594489\ttest: 0.9656564\tbest: 0.9656564 (396)\ttotal: 2m 36s\tremaining: 3m 57s\n",
            "397:\tlearn: 0.9594794\ttest: 0.9656539\tbest: 0.9656564 (396)\ttotal: 2m 36s\tremaining: 3m 57s\n",
            "398:\tlearn: 0.9594811\ttest: 0.9656531\tbest: 0.9656564 (396)\ttotal: 2m 37s\tremaining: 3m 56s\n",
            "399:\tlearn: 0.9595031\ttest: 0.9656655\tbest: 0.9656655 (399)\ttotal: 2m 37s\tremaining: 3m 56s\n",
            "400:\tlearn: 0.9595438\ttest: 0.9656781\tbest: 0.9656781 (400)\ttotal: 2m 37s\tremaining: 3m 55s\n",
            "401:\tlearn: 0.9595613\ttest: 0.9656866\tbest: 0.9656866 (401)\ttotal: 2m 38s\tremaining: 3m 55s\n",
            "402:\tlearn: 0.9596078\ttest: 0.9656918\tbest: 0.9656918 (402)\ttotal: 2m 38s\tremaining: 3m 55s\n",
            "403:\tlearn: 0.9596448\ttest: 0.9657175\tbest: 0.9657175 (403)\ttotal: 2m 39s\tremaining: 3m 54s\n",
            "404:\tlearn: 0.9596804\ttest: 0.9657368\tbest: 0.9657368 (404)\ttotal: 2m 39s\tremaining: 3m 54s\n",
            "405:\tlearn: 0.9597337\ttest: 0.9657617\tbest: 0.9657617 (405)\ttotal: 2m 39s\tremaining: 3m 54s\n",
            "406:\tlearn: 0.9597584\ttest: 0.9657611\tbest: 0.9657617 (405)\ttotal: 2m 40s\tremaining: 3m 53s\n",
            "407:\tlearn: 0.9597835\ttest: 0.9657685\tbest: 0.9657685 (407)\ttotal: 2m 40s\tremaining: 3m 53s\n",
            "408:\tlearn: 0.9598209\ttest: 0.9657943\tbest: 0.9657943 (408)\ttotal: 2m 41s\tremaining: 3m 52s\n",
            "409:\tlearn: 0.9598483\ttest: 0.9657984\tbest: 0.9657984 (409)\ttotal: 2m 41s\tremaining: 3m 52s\n",
            "410:\tlearn: 0.9598862\ttest: 0.9658155\tbest: 0.9658155 (410)\ttotal: 2m 41s\tremaining: 3m 52s\n",
            "411:\tlearn: 0.9599110\ttest: 0.9658175\tbest: 0.9658175 (411)\ttotal: 2m 42s\tremaining: 3m 51s\n",
            "412:\tlearn: 0.9599342\ttest: 0.9658362\tbest: 0.9658362 (412)\ttotal: 2m 42s\tremaining: 3m 51s\n",
            "413:\tlearn: 0.9600094\ttest: 0.9658710\tbest: 0.9658710 (413)\ttotal: 2m 43s\tremaining: 3m 50s\n",
            "414:\tlearn: 0.9600387\ttest: 0.9658904\tbest: 0.9658904 (414)\ttotal: 2m 43s\tremaining: 3m 50s\n",
            "415:\tlearn: 0.9600744\ttest: 0.9659023\tbest: 0.9659023 (415)\ttotal: 2m 43s\tremaining: 3m 50s\n",
            "416:\tlearn: 0.9601025\ttest: 0.9659170\tbest: 0.9659170 (416)\ttotal: 2m 44s\tremaining: 3m 49s\n",
            "417:\tlearn: 0.9601164\ttest: 0.9659286\tbest: 0.9659286 (417)\ttotal: 2m 44s\tremaining: 3m 49s\n",
            "418:\tlearn: 0.9601486\ttest: 0.9659312\tbest: 0.9659312 (418)\ttotal: 2m 45s\tremaining: 3m 48s\n",
            "419:\tlearn: 0.9601610\ttest: 0.9659309\tbest: 0.9659312 (418)\ttotal: 2m 45s\tremaining: 3m 48s\n",
            "420:\tlearn: 0.9601858\ttest: 0.9659407\tbest: 0.9659407 (420)\ttotal: 2m 45s\tremaining: 3m 48s\n",
            "421:\tlearn: 0.9602047\ttest: 0.9659447\tbest: 0.9659447 (421)\ttotal: 2m 46s\tremaining: 3m 47s\n",
            "422:\tlearn: 0.9602761\ttest: 0.9660192\tbest: 0.9660192 (422)\ttotal: 2m 46s\tremaining: 3m 47s\n",
            "423:\tlearn: 0.9602858\ttest: 0.9660300\tbest: 0.9660300 (423)\ttotal: 2m 46s\tremaining: 3m 46s\n",
            "424:\tlearn: 0.9603153\ttest: 0.9660468\tbest: 0.9660468 (424)\ttotal: 2m 47s\tremaining: 3m 46s\n",
            "425:\tlearn: 0.9603747\ttest: 0.9660558\tbest: 0.9660558 (425)\ttotal: 2m 47s\tremaining: 3m 46s\n",
            "426:\tlearn: 0.9603919\ttest: 0.9660590\tbest: 0.9660590 (426)\ttotal: 2m 48s\tremaining: 3m 45s\n",
            "427:\tlearn: 0.9604069\ttest: 0.9660653\tbest: 0.9660653 (427)\ttotal: 2m 48s\tremaining: 3m 45s\n",
            "428:\tlearn: 0.9604402\ttest: 0.9660721\tbest: 0.9660721 (428)\ttotal: 2m 48s\tremaining: 3m 44s\n",
            "429:\tlearn: 0.9604556\ttest: 0.9660797\tbest: 0.9660797 (429)\ttotal: 2m 49s\tremaining: 3m 44s\n",
            "430:\tlearn: 0.9605239\ttest: 0.9661928\tbest: 0.9661928 (430)\ttotal: 2m 49s\tremaining: 3m 44s\n",
            "431:\tlearn: 0.9605463\ttest: 0.9661975\tbest: 0.9661975 (431)\ttotal: 2m 50s\tremaining: 3m 43s\n",
            "432:\tlearn: 0.9605794\ttest: 0.9662104\tbest: 0.9662104 (432)\ttotal: 2m 50s\tremaining: 3m 43s\n",
            "433:\tlearn: 0.9605860\ttest: 0.9662141\tbest: 0.9662141 (433)\ttotal: 2m 50s\tremaining: 3m 42s\n",
            "434:\tlearn: 0.9606255\ttest: 0.9662256\tbest: 0.9662256 (434)\ttotal: 2m 51s\tremaining: 3m 42s\n",
            "435:\tlearn: 0.9606450\ttest: 0.9662313\tbest: 0.9662313 (435)\ttotal: 2m 51s\tremaining: 3m 41s\n",
            "436:\tlearn: 0.9606935\ttest: 0.9662651\tbest: 0.9662651 (436)\ttotal: 2m 51s\tremaining: 3m 41s\n",
            "437:\tlearn: 0.9607061\ttest: 0.9662676\tbest: 0.9662676 (437)\ttotal: 2m 52s\tremaining: 3m 41s\n",
            "438:\tlearn: 0.9607444\ttest: 0.9662791\tbest: 0.9662791 (438)\ttotal: 2m 52s\tremaining: 3m 40s\n",
            "439:\tlearn: 0.9607679\ttest: 0.9662888\tbest: 0.9662888 (439)\ttotal: 2m 53s\tremaining: 3m 40s\n",
            "440:\tlearn: 0.9607772\ttest: 0.9662810\tbest: 0.9662888 (439)\ttotal: 2m 53s\tremaining: 3m 39s\n",
            "441:\tlearn: 0.9607894\ttest: 0.9662854\tbest: 0.9662888 (439)\ttotal: 2m 53s\tremaining: 3m 39s\n",
            "442:\tlearn: 0.9608342\ttest: 0.9662891\tbest: 0.9662891 (442)\ttotal: 2m 54s\tremaining: 3m 39s\n",
            "443:\tlearn: 0.9608508\ttest: 0.9662936\tbest: 0.9662936 (443)\ttotal: 2m 54s\tremaining: 3m 38s\n",
            "444:\tlearn: 0.9608886\ttest: 0.9663044\tbest: 0.9663044 (444)\ttotal: 2m 55s\tremaining: 3m 38s\n",
            "445:\tlearn: 0.9609222\ttest: 0.9663222\tbest: 0.9663222 (445)\ttotal: 2m 55s\tremaining: 3m 37s\n",
            "446:\tlearn: 0.9609391\ttest: 0.9663270\tbest: 0.9663270 (446)\ttotal: 2m 55s\tremaining: 3m 37s\n",
            "447:\tlearn: 0.9609784\ttest: 0.9663302\tbest: 0.9663302 (447)\ttotal: 2m 56s\tremaining: 3m 36s\n",
            "448:\tlearn: 0.9610598\ttest: 0.9664471\tbest: 0.9664471 (448)\ttotal: 2m 56s\tremaining: 3m 36s\n",
            "449:\tlearn: 0.9610887\ttest: 0.9664497\tbest: 0.9664497 (449)\ttotal: 2m 56s\tremaining: 3m 36s\n",
            "450:\tlearn: 0.9611183\ttest: 0.9664643\tbest: 0.9664643 (450)\ttotal: 2m 57s\tremaining: 3m 35s\n",
            "451:\tlearn: 0.9611377\ttest: 0.9664667\tbest: 0.9664667 (451)\ttotal: 2m 57s\tremaining: 3m 35s\n",
            "452:\tlearn: 0.9611664\ttest: 0.9664794\tbest: 0.9664794 (452)\ttotal: 2m 58s\tremaining: 3m 35s\n",
            "453:\tlearn: 0.9612108\ttest: 0.9664990\tbest: 0.9664990 (453)\ttotal: 2m 58s\tremaining: 3m 34s\n",
            "454:\tlearn: 0.9612675\ttest: 0.9665164\tbest: 0.9665164 (454)\ttotal: 2m 58s\tremaining: 3m 34s\n",
            "455:\tlearn: 0.9612858\ttest: 0.9665121\tbest: 0.9665164 (454)\ttotal: 2m 59s\tremaining: 3m 33s\n",
            "456:\tlearn: 0.9614130\ttest: 0.9666417\tbest: 0.9666417 (456)\ttotal: 2m 59s\tremaining: 3m 33s\n",
            "457:\tlearn: 0.9614509\ttest: 0.9666434\tbest: 0.9666434 (457)\ttotal: 3m\tremaining: 3m 33s\n",
            "458:\tlearn: 0.9614711\ttest: 0.9666505\tbest: 0.9666505 (458)\ttotal: 3m\tremaining: 3m 32s\n",
            "459:\tlearn: 0.9615358\ttest: 0.9666879\tbest: 0.9666879 (459)\ttotal: 3m\tremaining: 3m 32s\n",
            "460:\tlearn: 0.9615512\ttest: 0.9666995\tbest: 0.9666995 (460)\ttotal: 3m 1s\tremaining: 3m 32s\n",
            "461:\tlearn: 0.9615739\ttest: 0.9667150\tbest: 0.9667150 (461)\ttotal: 3m 1s\tremaining: 3m 31s\n",
            "462:\tlearn: 0.9616015\ttest: 0.9667175\tbest: 0.9667175 (462)\ttotal: 3m 2s\tremaining: 3m 31s\n",
            "463:\tlearn: 0.9616146\ttest: 0.9667109\tbest: 0.9667175 (462)\ttotal: 3m 2s\tremaining: 3m 30s\n",
            "464:\tlearn: 0.9616410\ttest: 0.9667241\tbest: 0.9667241 (464)\ttotal: 3m 2s\tremaining: 3m 30s\n",
            "465:\tlearn: 0.9616580\ttest: 0.9667490\tbest: 0.9667490 (465)\ttotal: 3m 3s\tremaining: 3m 29s\n",
            "466:\tlearn: 0.9616923\ttest: 0.9667674\tbest: 0.9667674 (466)\ttotal: 3m 3s\tremaining: 3m 29s\n",
            "467:\tlearn: 0.9618348\ttest: 0.9669743\tbest: 0.9669743 (467)\ttotal: 3m 3s\tremaining: 3m 29s\n",
            "468:\tlearn: 0.9618502\ttest: 0.9669822\tbest: 0.9669822 (468)\ttotal: 3m 4s\tremaining: 3m 28s\n",
            "469:\tlearn: 0.9618750\ttest: 0.9670096\tbest: 0.9670096 (469)\ttotal: 3m 4s\tremaining: 3m 28s\n",
            "470:\tlearn: 0.9619090\ttest: 0.9670236\tbest: 0.9670236 (470)\ttotal: 3m 5s\tremaining: 3m 27s\n",
            "471:\tlearn: 0.9619312\ttest: 0.9670411\tbest: 0.9670411 (471)\ttotal: 3m 5s\tremaining: 3m 27s\n",
            "472:\tlearn: 0.9619606\ttest: 0.9670495\tbest: 0.9670495 (472)\ttotal: 3m 5s\tremaining: 3m 27s\n",
            "473:\tlearn: 0.9619772\ttest: 0.9670532\tbest: 0.9670532 (473)\ttotal: 3m 6s\tremaining: 3m 26s\n",
            "474:\tlearn: 0.9619896\ttest: 0.9670627\tbest: 0.9670627 (474)\ttotal: 3m 6s\tremaining: 3m 26s\n",
            "475:\tlearn: 0.9620137\ttest: 0.9670708\tbest: 0.9670708 (475)\ttotal: 3m 6s\tremaining: 3m 25s\n",
            "476:\tlearn: 0.9620482\ttest: 0.9670884\tbest: 0.9670884 (476)\ttotal: 3m 7s\tremaining: 3m 25s\n",
            "477:\tlearn: 0.9620699\ttest: 0.9671046\tbest: 0.9671046 (477)\ttotal: 3m 7s\tremaining: 3m 25s\n",
            "478:\tlearn: 0.9620920\ttest: 0.9671159\tbest: 0.9671159 (478)\ttotal: 3m 8s\tremaining: 3m 24s\n",
            "479:\tlearn: 0.9621072\ttest: 0.9671178\tbest: 0.9671178 (479)\ttotal: 3m 8s\tremaining: 3m 24s\n",
            "480:\tlearn: 0.9621138\ttest: 0.9671207\tbest: 0.9671207 (480)\ttotal: 3m 8s\tremaining: 3m 23s\n",
            "481:\tlearn: 0.9621303\ttest: 0.9671265\tbest: 0.9671265 (481)\ttotal: 3m 9s\tremaining: 3m 23s\n",
            "482:\tlearn: 0.9621415\ttest: 0.9671235\tbest: 0.9671265 (481)\ttotal: 3m 9s\tremaining: 3m 23s\n",
            "483:\tlearn: 0.9621717\ttest: 0.9671159\tbest: 0.9671265 (481)\ttotal: 3m 10s\tremaining: 3m 22s\n",
            "484:\tlearn: 0.9621862\ttest: 0.9671263\tbest: 0.9671265 (481)\ttotal: 3m 10s\tremaining: 3m 22s\n",
            "485:\tlearn: 0.9622244\ttest: 0.9671341\tbest: 0.9671341 (485)\ttotal: 3m 10s\tremaining: 3m 21s\n",
            "486:\tlearn: 0.9623070\ttest: 0.9672380\tbest: 0.9672380 (486)\ttotal: 3m 11s\tremaining: 3m 21s\n",
            "487:\tlearn: 0.9623269\ttest: 0.9672420\tbest: 0.9672420 (487)\ttotal: 3m 11s\tremaining: 3m 21s\n",
            "488:\tlearn: 0.9623353\ttest: 0.9672374\tbest: 0.9672420 (487)\ttotal: 3m 12s\tremaining: 3m 20s\n",
            "489:\tlearn: 0.9623610\ttest: 0.9672428\tbest: 0.9672428 (489)\ttotal: 3m 12s\tremaining: 3m 20s\n",
            "490:\tlearn: 0.9623842\ttest: 0.9672431\tbest: 0.9672431 (490)\ttotal: 3m 12s\tremaining: 3m 19s\n",
            "491:\tlearn: 0.9624200\ttest: 0.9672601\tbest: 0.9672601 (491)\ttotal: 3m 13s\tremaining: 3m 19s\n",
            "492:\tlearn: 0.9624350\ttest: 0.9672739\tbest: 0.9672739 (492)\ttotal: 3m 13s\tremaining: 3m 19s\n",
            "493:\tlearn: 0.9624894\ttest: 0.9673131\tbest: 0.9673131 (493)\ttotal: 3m 14s\tremaining: 3m 18s\n",
            "494:\tlearn: 0.9625152\ttest: 0.9673298\tbest: 0.9673298 (494)\ttotal: 3m 14s\tremaining: 3m 18s\n",
            "495:\tlearn: 0.9625455\ttest: 0.9673212\tbest: 0.9673298 (494)\ttotal: 3m 14s\tremaining: 3m 18s\n",
            "496:\tlearn: 0.9625641\ttest: 0.9673308\tbest: 0.9673308 (496)\ttotal: 3m 15s\tremaining: 3m 17s\n",
            "497:\tlearn: 0.9625923\ttest: 0.9673428\tbest: 0.9673428 (497)\ttotal: 3m 15s\tremaining: 3m 17s\n",
            "498:\tlearn: 0.9626079\ttest: 0.9673477\tbest: 0.9673477 (498)\ttotal: 3m 16s\tremaining: 3m 16s\n",
            "499:\tlearn: 0.9626414\ttest: 0.9673478\tbest: 0.9673478 (499)\ttotal: 3m 16s\tremaining: 3m 16s\n",
            "500:\tlearn: 0.9626705\ttest: 0.9673623\tbest: 0.9673623 (500)\ttotal: 3m 16s\tremaining: 3m 16s\n",
            "501:\tlearn: 0.9627033\ttest: 0.9673876\tbest: 0.9673876 (501)\ttotal: 3m 17s\tremaining: 3m 15s\n",
            "502:\tlearn: 0.9627256\ttest: 0.9673913\tbest: 0.9673913 (502)\ttotal: 3m 17s\tremaining: 3m 15s\n",
            "503:\tlearn: 0.9627647\ttest: 0.9674116\tbest: 0.9674116 (503)\ttotal: 3m 18s\tremaining: 3m 14s\n",
            "504:\tlearn: 0.9627881\ttest: 0.9674261\tbest: 0.9674261 (504)\ttotal: 3m 18s\tremaining: 3m 14s\n",
            "505:\tlearn: 0.9628064\ttest: 0.9674342\tbest: 0.9674342 (505)\ttotal: 3m 18s\tremaining: 3m 13s\n",
            "506:\tlearn: 0.9628339\ttest: 0.9674447\tbest: 0.9674447 (506)\ttotal: 3m 18s\tremaining: 3m 13s\n",
            "507:\tlearn: 0.9629132\ttest: 0.9675615\tbest: 0.9675615 (507)\ttotal: 3m 19s\tremaining: 3m 13s\n",
            "508:\tlearn: 0.9629384\ttest: 0.9675677\tbest: 0.9675677 (508)\ttotal: 3m 19s\tremaining: 3m 12s\n",
            "509:\tlearn: 0.9629655\ttest: 0.9675776\tbest: 0.9675776 (509)\ttotal: 3m 20s\tremaining: 3m 12s\n",
            "510:\tlearn: 0.9630039\ttest: 0.9676030\tbest: 0.9676030 (510)\ttotal: 3m 20s\tremaining: 3m 11s\n",
            "511:\tlearn: 0.9630275\ttest: 0.9675946\tbest: 0.9676030 (510)\ttotal: 3m 21s\tremaining: 3m 11s\n",
            "512:\tlearn: 0.9630551\ttest: 0.9675974\tbest: 0.9676030 (510)\ttotal: 3m 21s\tremaining: 3m 11s\n",
            "513:\tlearn: 0.9630785\ttest: 0.9676036\tbest: 0.9676036 (513)\ttotal: 3m 21s\tremaining: 3m 10s\n",
            "514:\tlearn: 0.9631186\ttest: 0.9676039\tbest: 0.9676039 (514)\ttotal: 3m 22s\tremaining: 3m 10s\n",
            "515:\tlearn: 0.9631416\ttest: 0.9676130\tbest: 0.9676130 (515)\ttotal: 3m 22s\tremaining: 3m 9s\n",
            "516:\tlearn: 0.9631679\ttest: 0.9676176\tbest: 0.9676176 (516)\ttotal: 3m 22s\tremaining: 3m 9s\n",
            "517:\tlearn: 0.9631847\ttest: 0.9676397\tbest: 0.9676397 (517)\ttotal: 3m 23s\tremaining: 3m 9s\n",
            "518:\tlearn: 0.9632215\ttest: 0.9676319\tbest: 0.9676397 (517)\ttotal: 3m 23s\tremaining: 3m 8s\n",
            "519:\tlearn: 0.9632350\ttest: 0.9676430\tbest: 0.9676430 (519)\ttotal: 3m 24s\tremaining: 3m 8s\n",
            "520:\tlearn: 0.9632810\ttest: 0.9676576\tbest: 0.9676576 (520)\ttotal: 3m 24s\tremaining: 3m 8s\n",
            "521:\tlearn: 0.9633206\ttest: 0.9676777\tbest: 0.9676777 (521)\ttotal: 3m 24s\tremaining: 3m 7s\n",
            "522:\tlearn: 0.9633513\ttest: 0.9676909\tbest: 0.9676909 (522)\ttotal: 3m 25s\tremaining: 3m 7s\n",
            "523:\tlearn: 0.9633577\ttest: 0.9676887\tbest: 0.9676909 (522)\ttotal: 3m 25s\tremaining: 3m 6s\n",
            "524:\tlearn: 0.9633912\ttest: 0.9676993\tbest: 0.9676993 (524)\ttotal: 3m 26s\tremaining: 3m 6s\n",
            "525:\tlearn: 0.9634057\ttest: 0.9677019\tbest: 0.9677019 (525)\ttotal: 3m 26s\tremaining: 3m 6s\n",
            "526:\tlearn: 0.9634305\ttest: 0.9677055\tbest: 0.9677055 (526)\ttotal: 3m 26s\tremaining: 3m 5s\n",
            "527:\tlearn: 0.9634528\ttest: 0.9676971\tbest: 0.9677055 (526)\ttotal: 3m 27s\tremaining: 3m 5s\n",
            "528:\tlearn: 0.9634883\ttest: 0.9677167\tbest: 0.9677167 (528)\ttotal: 3m 27s\tremaining: 3m 4s\n",
            "529:\tlearn: 0.9635267\ttest: 0.9677342\tbest: 0.9677342 (529)\ttotal: 3m 28s\tremaining: 3m 4s\n",
            "530:\tlearn: 0.9635478\ttest: 0.9677408\tbest: 0.9677408 (530)\ttotal: 3m 28s\tremaining: 3m 4s\n",
            "531:\tlearn: 0.9635683\ttest: 0.9677489\tbest: 0.9677489 (531)\ttotal: 3m 28s\tremaining: 3m 3s\n",
            "532:\tlearn: 0.9635879\ttest: 0.9677551\tbest: 0.9677551 (532)\ttotal: 3m 29s\tremaining: 3m 3s\n",
            "533:\tlearn: 0.9635955\ttest: 0.9677529\tbest: 0.9677551 (532)\ttotal: 3m 29s\tremaining: 3m 3s\n",
            "534:\tlearn: 0.9636180\ttest: 0.9677463\tbest: 0.9677551 (532)\ttotal: 3m 30s\tremaining: 3m 2s\n",
            "535:\tlearn: 0.9636428\ttest: 0.9677517\tbest: 0.9677551 (532)\ttotal: 3m 30s\tremaining: 3m 2s\n",
            "536:\tlearn: 0.9636762\ttest: 0.9677515\tbest: 0.9677551 (532)\ttotal: 3m 30s\tremaining: 3m 1s\n",
            "537:\tlearn: 0.9636920\ttest: 0.9677560\tbest: 0.9677560 (537)\ttotal: 3m 31s\tremaining: 3m 1s\n",
            "538:\tlearn: 0.9637235\ttest: 0.9677689\tbest: 0.9677689 (538)\ttotal: 3m 31s\tremaining: 3m 1s\n",
            "539:\tlearn: 0.9637533\ttest: 0.9677646\tbest: 0.9677689 (538)\ttotal: 3m 32s\tremaining: 3m\n",
            "540:\tlearn: 0.9637858\ttest: 0.9677848\tbest: 0.9677848 (540)\ttotal: 3m 32s\tremaining: 3m\n",
            "541:\tlearn: 0.9638094\ttest: 0.9677900\tbest: 0.9677900 (541)\ttotal: 3m 32s\tremaining: 2m 59s\n",
            "542:\tlearn: 0.9638303\ttest: 0.9677925\tbest: 0.9677925 (542)\ttotal: 3m 33s\tremaining: 2m 59s\n",
            "543:\tlearn: 0.9638594\ttest: 0.9678097\tbest: 0.9678097 (543)\ttotal: 3m 33s\tremaining: 2m 59s\n",
            "544:\tlearn: 0.9638737\ttest: 0.9678088\tbest: 0.9678097 (543)\ttotal: 3m 33s\tremaining: 2m 58s\n",
            "545:\tlearn: 0.9639882\ttest: 0.9679738\tbest: 0.9679738 (545)\ttotal: 3m 34s\tremaining: 2m 58s\n",
            "546:\tlearn: 0.9640091\ttest: 0.9679734\tbest: 0.9679738 (545)\ttotal: 3m 34s\tremaining: 2m 57s\n",
            "547:\tlearn: 0.9640248\ttest: 0.9679817\tbest: 0.9679817 (547)\ttotal: 3m 35s\tremaining: 2m 57s\n",
            "548:\tlearn: 0.9640352\ttest: 0.9679846\tbest: 0.9679846 (548)\ttotal: 3m 35s\tremaining: 2m 57s\n",
            "549:\tlearn: 0.9640656\ttest: 0.9680024\tbest: 0.9680024 (549)\ttotal: 3m 35s\tremaining: 2m 56s\n",
            "550:\tlearn: 0.9640999\ttest: 0.9680195\tbest: 0.9680195 (550)\ttotal: 3m 36s\tremaining: 2m 56s\n",
            "551:\tlearn: 0.9641167\ttest: 0.9680306\tbest: 0.9680306 (551)\ttotal: 3m 36s\tremaining: 2m 55s\n",
            "552:\tlearn: 0.9641619\ttest: 0.9680530\tbest: 0.9680530 (552)\ttotal: 3m 37s\tremaining: 2m 55s\n",
            "553:\tlearn: 0.9641803\ttest: 0.9680541\tbest: 0.9680541 (553)\ttotal: 3m 37s\tremaining: 2m 55s\n",
            "554:\tlearn: 0.9642073\ttest: 0.9680663\tbest: 0.9680663 (554)\ttotal: 3m 37s\tremaining: 2m 54s\n",
            "555:\tlearn: 0.9642252\ttest: 0.9680724\tbest: 0.9680724 (555)\ttotal: 3m 38s\tremaining: 2m 54s\n",
            "556:\tlearn: 0.9642352\ttest: 0.9680724\tbest: 0.9680724 (555)\ttotal: 3m 38s\tremaining: 2m 53s\n",
            "557:\tlearn: 0.9642399\ttest: 0.9680735\tbest: 0.9680735 (557)\ttotal: 3m 39s\tremaining: 2m 53s\n",
            "558:\tlearn: 0.9642671\ttest: 0.9680731\tbest: 0.9680735 (557)\ttotal: 3m 39s\tremaining: 2m 53s\n",
            "559:\tlearn: 0.9642990\ttest: 0.9680849\tbest: 0.9680849 (559)\ttotal: 3m 39s\tremaining: 2m 52s\n",
            "560:\tlearn: 0.9643190\ttest: 0.9680879\tbest: 0.9680879 (560)\ttotal: 3m 40s\tremaining: 2m 52s\n",
            "561:\tlearn: 0.9643326\ttest: 0.9680844\tbest: 0.9680879 (560)\ttotal: 3m 40s\tremaining: 2m 51s\n",
            "562:\tlearn: 0.9643565\ttest: 0.9680920\tbest: 0.9680920 (562)\ttotal: 3m 41s\tremaining: 2m 51s\n",
            "563:\tlearn: 0.9643796\ttest: 0.9680921\tbest: 0.9680921 (563)\ttotal: 3m 41s\tremaining: 2m 51s\n",
            "564:\tlearn: 0.9644067\ttest: 0.9680935\tbest: 0.9680935 (564)\ttotal: 3m 41s\tremaining: 2m 50s\n",
            "565:\tlearn: 0.9644220\ttest: 0.9681032\tbest: 0.9681032 (565)\ttotal: 3m 42s\tremaining: 2m 50s\n",
            "566:\tlearn: 0.9644488\ttest: 0.9681180\tbest: 0.9681180 (566)\ttotal: 3m 42s\tremaining: 2m 50s\n",
            "567:\tlearn: 0.9644838\ttest: 0.9681307\tbest: 0.9681307 (567)\ttotal: 3m 43s\tremaining: 2m 49s\n",
            "568:\tlearn: 0.9645056\ttest: 0.9681298\tbest: 0.9681307 (567)\ttotal: 3m 43s\tremaining: 2m 49s\n",
            "569:\tlearn: 0.9645278\ttest: 0.9681391\tbest: 0.9681391 (569)\ttotal: 3m 43s\tremaining: 2m 48s\n",
            "570:\tlearn: 0.9645634\ttest: 0.9682028\tbest: 0.9682028 (570)\ttotal: 3m 44s\tremaining: 2m 48s\n",
            "571:\tlearn: 0.9645989\ttest: 0.9682178\tbest: 0.9682178 (571)\ttotal: 3m 44s\tremaining: 2m 48s\n",
            "572:\tlearn: 0.9646270\ttest: 0.9682288\tbest: 0.9682288 (572)\ttotal: 3m 45s\tremaining: 2m 47s\n",
            "573:\tlearn: 0.9646659\ttest: 0.9682631\tbest: 0.9682631 (573)\ttotal: 3m 45s\tremaining: 2m 47s\n",
            "574:\tlearn: 0.9646940\ttest: 0.9682738\tbest: 0.9682738 (574)\ttotal: 3m 45s\tremaining: 2m 46s\n",
            "575:\tlearn: 0.9647368\ttest: 0.9682875\tbest: 0.9682875 (575)\ttotal: 3m 46s\tremaining: 2m 46s\n",
            "576:\tlearn: 0.9647528\ttest: 0.9682931\tbest: 0.9682931 (576)\ttotal: 3m 46s\tremaining: 2m 46s\n",
            "577:\tlearn: 0.9647672\ttest: 0.9682969\tbest: 0.9682969 (577)\ttotal: 3m 47s\tremaining: 2m 45s\n",
            "578:\tlearn: 0.9647859\ttest: 0.9682985\tbest: 0.9682985 (578)\ttotal: 3m 47s\tremaining: 2m 45s\n",
            "579:\tlearn: 0.9648132\ttest: 0.9683154\tbest: 0.9683154 (579)\ttotal: 3m 47s\tremaining: 2m 45s\n",
            "580:\tlearn: 0.9648359\ttest: 0.9683208\tbest: 0.9683208 (580)\ttotal: 3m 48s\tremaining: 2m 44s\n",
            "581:\tlearn: 0.9648482\ttest: 0.9683256\tbest: 0.9683256 (581)\ttotal: 3m 48s\tremaining: 2m 44s\n",
            "582:\tlearn: 0.9648668\ttest: 0.9683335\tbest: 0.9683335 (582)\ttotal: 3m 49s\tremaining: 2m 43s\n",
            "583:\tlearn: 0.9648859\ttest: 0.9683395\tbest: 0.9683395 (583)\ttotal: 3m 49s\tremaining: 2m 43s\n",
            "584:\tlearn: 0.9649106\ttest: 0.9683536\tbest: 0.9683536 (584)\ttotal: 3m 49s\tremaining: 2m 43s\n",
            "585:\tlearn: 0.9650167\ttest: 0.9684492\tbest: 0.9684492 (585)\ttotal: 3m 50s\tremaining: 2m 42s\n",
            "586:\tlearn: 0.9650422\ttest: 0.9684472\tbest: 0.9684492 (585)\ttotal: 3m 50s\tremaining: 2m 42s\n",
            "587:\tlearn: 0.9650654\ttest: 0.9684551\tbest: 0.9684551 (587)\ttotal: 3m 51s\tremaining: 2m 41s\n",
            "588:\tlearn: 0.9650806\ttest: 0.9684600\tbest: 0.9684600 (588)\ttotal: 3m 51s\tremaining: 2m 41s\n",
            "589:\tlearn: 0.9650962\ttest: 0.9684628\tbest: 0.9684628 (589)\ttotal: 3m 51s\tremaining: 2m 41s\n",
            "590:\tlearn: 0.9651146\ttest: 0.9684719\tbest: 0.9684719 (590)\ttotal: 3m 52s\tremaining: 2m 40s\n",
            "591:\tlearn: 0.9651485\ttest: 0.9684562\tbest: 0.9684719 (590)\ttotal: 3m 52s\tremaining: 2m 40s\n",
            "592:\tlearn: 0.9651690\ttest: 0.9684519\tbest: 0.9684719 (590)\ttotal: 3m 53s\tremaining: 2m 39s\n",
            "593:\tlearn: 0.9652064\ttest: 0.9684715\tbest: 0.9684719 (590)\ttotal: 3m 53s\tremaining: 2m 39s\n",
            "594:\tlearn: 0.9652302\ttest: 0.9684742\tbest: 0.9684742 (594)\ttotal: 3m 53s\tremaining: 2m 39s\n",
            "595:\tlearn: 0.9652578\ttest: 0.9684896\tbest: 0.9684896 (595)\ttotal: 3m 54s\tremaining: 2m 38s\n",
            "596:\tlearn: 0.9652879\ttest: 0.9684994\tbest: 0.9684994 (596)\ttotal: 3m 54s\tremaining: 2m 38s\n",
            "597:\tlearn: 0.9653116\ttest: 0.9685082\tbest: 0.9685082 (597)\ttotal: 3m 55s\tremaining: 2m 38s\n",
            "598:\tlearn: 0.9653358\ttest: 0.9685132\tbest: 0.9685132 (598)\ttotal: 3m 55s\tremaining: 2m 37s\n",
            "599:\tlearn: 0.9653574\ttest: 0.9685119\tbest: 0.9685132 (598)\ttotal: 3m 55s\tremaining: 2m 37s\n",
            "600:\tlearn: 0.9653665\ttest: 0.9685053\tbest: 0.9685132 (598)\ttotal: 3m 56s\tremaining: 2m 36s\n",
            "601:\tlearn: 0.9653849\ttest: 0.9685140\tbest: 0.9685140 (601)\ttotal: 3m 56s\tremaining: 2m 36s\n",
            "602:\tlearn: 0.9654036\ttest: 0.9685190\tbest: 0.9685190 (602)\ttotal: 3m 57s\tremaining: 2m 36s\n",
            "603:\tlearn: 0.9654209\ttest: 0.9685259\tbest: 0.9685259 (603)\ttotal: 3m 57s\tremaining: 2m 35s\n",
            "604:\tlearn: 0.9654304\ttest: 0.9685257\tbest: 0.9685259 (603)\ttotal: 3m 57s\tremaining: 2m 35s\n",
            "605:\tlearn: 0.9654453\ttest: 0.9685295\tbest: 0.9685295 (605)\ttotal: 3m 58s\tremaining: 2m 34s\n",
            "606:\tlearn: 0.9654845\ttest: 0.9685500\tbest: 0.9685500 (606)\ttotal: 3m 58s\tremaining: 2m 34s\n",
            "607:\tlearn: 0.9655322\ttest: 0.9685823\tbest: 0.9685823 (607)\ttotal: 3m 59s\tremaining: 2m 34s\n",
            "608:\tlearn: 0.9655489\ttest: 0.9685825\tbest: 0.9685825 (608)\ttotal: 3m 59s\tremaining: 2m 33s\n",
            "609:\tlearn: 0.9655681\ttest: 0.9685873\tbest: 0.9685873 (609)\ttotal: 4m\tremaining: 2m 33s\n",
            "610:\tlearn: 0.9655887\ttest: 0.9685966\tbest: 0.9685966 (610)\ttotal: 4m\tremaining: 2m 33s\n",
            "611:\tlearn: 0.9655988\ttest: 0.9685978\tbest: 0.9685978 (611)\ttotal: 4m\tremaining: 2m 32s\n",
            "612:\tlearn: 0.9656247\ttest: 0.9686104\tbest: 0.9686104 (612)\ttotal: 4m 1s\tremaining: 2m 32s\n",
            "613:\tlearn: 0.9656397\ttest: 0.9686067\tbest: 0.9686104 (612)\ttotal: 4m 1s\tremaining: 2m 31s\n",
            "614:\tlearn: 0.9656518\ttest: 0.9686128\tbest: 0.9686128 (614)\ttotal: 4m 1s\tremaining: 2m 31s\n",
            "615:\tlearn: 0.9656654\ttest: 0.9686186\tbest: 0.9686186 (615)\ttotal: 4m 2s\tremaining: 2m 30s\n",
            "616:\tlearn: 0.9656721\ttest: 0.9686219\tbest: 0.9686219 (616)\ttotal: 4m 2s\tremaining: 2m 30s\n",
            "617:\tlearn: 0.9656927\ttest: 0.9686124\tbest: 0.9686219 (616)\ttotal: 4m 2s\tremaining: 2m 30s\n",
            "618:\tlearn: 0.9657304\ttest: 0.9686489\tbest: 0.9686489 (618)\ttotal: 4m 3s\tremaining: 2m 29s\n",
            "619:\tlearn: 0.9657423\ttest: 0.9686403\tbest: 0.9686489 (618)\ttotal: 4m 3s\tremaining: 2m 29s\n",
            "620:\tlearn: 0.9657569\ttest: 0.9686466\tbest: 0.9686489 (618)\ttotal: 4m 4s\tremaining: 2m 28s\n",
            "621:\tlearn: 0.9657837\ttest: 0.9686532\tbest: 0.9686532 (621)\ttotal: 4m 4s\tremaining: 2m 28s\n",
            "622:\tlearn: 0.9658034\ttest: 0.9686527\tbest: 0.9686532 (621)\ttotal: 4m 4s\tremaining: 2m 28s\n",
            "623:\tlearn: 0.9658128\ttest: 0.9686493\tbest: 0.9686532 (621)\ttotal: 4m 5s\tremaining: 2m 27s\n",
            "624:\tlearn: 0.9658188\ttest: 0.9686494\tbest: 0.9686532 (621)\ttotal: 4m 5s\tremaining: 2m 27s\n",
            "625:\tlearn: 0.9658583\ttest: 0.9686745\tbest: 0.9686745 (625)\ttotal: 4m 6s\tremaining: 2m 27s\n",
            "626:\tlearn: 0.9658796\ttest: 0.9686785\tbest: 0.9686785 (626)\ttotal: 4m 6s\tremaining: 2m 26s\n",
            "627:\tlearn: 0.9658981\ttest: 0.9686801\tbest: 0.9686801 (627)\ttotal: 4m 6s\tremaining: 2m 26s\n",
            "628:\tlearn: 0.9659241\ttest: 0.9686884\tbest: 0.9686884 (628)\ttotal: 4m 7s\tremaining: 2m 25s\n",
            "629:\tlearn: 0.9659505\ttest: 0.9687024\tbest: 0.9687024 (629)\ttotal: 4m 7s\tremaining: 2m 25s\n",
            "630:\tlearn: 0.9659636\ttest: 0.9687065\tbest: 0.9687065 (630)\ttotal: 4m 8s\tremaining: 2m 25s\n",
            "631:\tlearn: 0.9659772\ttest: 0.9687034\tbest: 0.9687065 (630)\ttotal: 4m 8s\tremaining: 2m 24s\n",
            "632:\tlearn: 0.9660200\ttest: 0.9687213\tbest: 0.9687213 (632)\ttotal: 4m 8s\tremaining: 2m 24s\n",
            "633:\tlearn: 0.9660327\ttest: 0.9687231\tbest: 0.9687231 (633)\ttotal: 4m 9s\tremaining: 2m 23s\n",
            "634:\tlearn: 0.9660521\ttest: 0.9687297\tbest: 0.9687297 (634)\ttotal: 4m 9s\tremaining: 2m 23s\n",
            "635:\tlearn: 0.9660660\ttest: 0.9687324\tbest: 0.9687324 (635)\ttotal: 4m 10s\tremaining: 2m 23s\n",
            "636:\tlearn: 0.9660756\ttest: 0.9687329\tbest: 0.9687329 (636)\ttotal: 4m 10s\tremaining: 2m 22s\n",
            "637:\tlearn: 0.9661357\ttest: 0.9688476\tbest: 0.9688476 (637)\ttotal: 4m 10s\tremaining: 2m 22s\n",
            "638:\tlearn: 0.9661683\ttest: 0.9688585\tbest: 0.9688585 (638)\ttotal: 4m 11s\tremaining: 2m 21s\n",
            "639:\tlearn: 0.9661841\ttest: 0.9688697\tbest: 0.9688697 (639)\ttotal: 4m 11s\tremaining: 2m 21s\n",
            "640:\tlearn: 0.9662007\ttest: 0.9688761\tbest: 0.9688761 (640)\ttotal: 4m 11s\tremaining: 2m 21s\n",
            "641:\tlearn: 0.9662191\ttest: 0.9688920\tbest: 0.9688920 (641)\ttotal: 4m 12s\tremaining: 2m 20s\n",
            "642:\tlearn: 0.9662354\ttest: 0.9688803\tbest: 0.9688920 (641)\ttotal: 4m 12s\tremaining: 2m 20s\n",
            "643:\tlearn: 0.9662496\ttest: 0.9688837\tbest: 0.9688920 (641)\ttotal: 4m 12s\tremaining: 2m 19s\n",
            "644:\tlearn: 0.9662622\ttest: 0.9688860\tbest: 0.9688920 (641)\ttotal: 4m 13s\tremaining: 2m 19s\n",
            "645:\tlearn: 0.9662707\ttest: 0.9688853\tbest: 0.9688920 (641)\ttotal: 4m 13s\tremaining: 2m 18s\n",
            "646:\tlearn: 0.9662906\ttest: 0.9688897\tbest: 0.9688920 (641)\ttotal: 4m 13s\tremaining: 2m 18s\n",
            "647:\tlearn: 0.9663128\ttest: 0.9689000\tbest: 0.9689000 (647)\ttotal: 4m 14s\tremaining: 2m 18s\n",
            "648:\tlearn: 0.9663227\ttest: 0.9689062\tbest: 0.9689062 (648)\ttotal: 4m 14s\tremaining: 2m 17s\n",
            "649:\tlearn: 0.9663439\ttest: 0.9689131\tbest: 0.9689131 (649)\ttotal: 4m 15s\tremaining: 2m 17s\n",
            "650:\tlearn: 0.9663699\ttest: 0.9689272\tbest: 0.9689272 (650)\ttotal: 4m 15s\tremaining: 2m 17s\n",
            "651:\tlearn: 0.9663841\ttest: 0.9689313\tbest: 0.9689313 (651)\ttotal: 4m 15s\tremaining: 2m 16s\n",
            "652:\tlearn: 0.9663960\ttest: 0.9689313\tbest: 0.9689313 (651)\ttotal: 4m 16s\tremaining: 2m 16s\n",
            "653:\tlearn: 0.9664092\ttest: 0.9689438\tbest: 0.9689438 (653)\ttotal: 4m 16s\tremaining: 2m 15s\n",
            "654:\tlearn: 0.9664329\ttest: 0.9689556\tbest: 0.9689556 (654)\ttotal: 4m 16s\tremaining: 2m 15s\n",
            "655:\tlearn: 0.9664585\ttest: 0.9689649\tbest: 0.9689649 (655)\ttotal: 4m 17s\tremaining: 2m 14s\n",
            "656:\tlearn: 0.9664932\ttest: 0.9689912\tbest: 0.9689912 (656)\ttotal: 4m 17s\tremaining: 2m 14s\n",
            "657:\tlearn: 0.9665149\ttest: 0.9690051\tbest: 0.9690051 (657)\ttotal: 4m 18s\tremaining: 2m 14s\n",
            "658:\tlearn: 0.9665259\ttest: 0.9690111\tbest: 0.9690111 (658)\ttotal: 4m 18s\tremaining: 2m 13s\n",
            "659:\tlearn: 0.9665554\ttest: 0.9690304\tbest: 0.9690304 (659)\ttotal: 4m 19s\tremaining: 2m 13s\n",
            "660:\tlearn: 0.9665655\ttest: 0.9690418\tbest: 0.9690418 (660)\ttotal: 4m 19s\tremaining: 2m 13s\n",
            "661:\tlearn: 0.9665759\ttest: 0.9690424\tbest: 0.9690424 (661)\ttotal: 4m 19s\tremaining: 2m 12s\n",
            "662:\tlearn: 0.9665861\ttest: 0.9690474\tbest: 0.9690474 (662)\ttotal: 4m 20s\tremaining: 2m 12s\n",
            "663:\tlearn: 0.9666177\ttest: 0.9690551\tbest: 0.9690551 (663)\ttotal: 4m 20s\tremaining: 2m 11s\n",
            "664:\tlearn: 0.9666602\ttest: 0.9690651\tbest: 0.9690651 (664)\ttotal: 4m 20s\tremaining: 2m 11s\n",
            "665:\tlearn: 0.9666815\ttest: 0.9690780\tbest: 0.9690780 (665)\ttotal: 4m 21s\tremaining: 2m 10s\n",
            "666:\tlearn: 0.9667056\ttest: 0.9690900\tbest: 0.9690900 (666)\ttotal: 4m 21s\tremaining: 2m 10s\n",
            "667:\tlearn: 0.9667218\ttest: 0.9690910\tbest: 0.9690910 (667)\ttotal: 4m 21s\tremaining: 2m 10s\n",
            "668:\tlearn: 0.9667474\ttest: 0.9690783\tbest: 0.9690910 (667)\ttotal: 4m 22s\tremaining: 2m 9s\n",
            "669:\tlearn: 0.9667578\ttest: 0.9690751\tbest: 0.9690910 (667)\ttotal: 4m 22s\tremaining: 2m 9s\n",
            "670:\tlearn: 0.9667755\ttest: 0.9690744\tbest: 0.9690910 (667)\ttotal: 4m 23s\tremaining: 2m 9s\n",
            "671:\tlearn: 0.9667970\ttest: 0.9690853\tbest: 0.9690910 (667)\ttotal: 4m 23s\tremaining: 2m 8s\n",
            "672:\tlearn: 0.9668168\ttest: 0.9690825\tbest: 0.9690910 (667)\ttotal: 4m 23s\tremaining: 2m 8s\n",
            "673:\tlearn: 0.9668208\ttest: 0.9690824\tbest: 0.9690910 (667)\ttotal: 4m 24s\tremaining: 2m 7s\n",
            "674:\tlearn: 0.9668468\ttest: 0.9691069\tbest: 0.9691069 (674)\ttotal: 4m 24s\tremaining: 2m 7s\n",
            "675:\tlearn: 0.9668646\ttest: 0.9691153\tbest: 0.9691153 (675)\ttotal: 4m 25s\tremaining: 2m 7s\n",
            "676:\tlearn: 0.9669026\ttest: 0.9691356\tbest: 0.9691356 (676)\ttotal: 4m 25s\tremaining: 2m 6s\n",
            "677:\tlearn: 0.9669163\ttest: 0.9691356\tbest: 0.9691356 (676)\ttotal: 4m 25s\tremaining: 2m 6s\n",
            "678:\tlearn: 0.9669440\ttest: 0.9691460\tbest: 0.9691460 (678)\ttotal: 4m 26s\tremaining: 2m 5s\n",
            "679:\tlearn: 0.9669536\ttest: 0.9691449\tbest: 0.9691460 (678)\ttotal: 4m 26s\tremaining: 2m 5s\n",
            "680:\tlearn: 0.9669758\ttest: 0.9691489\tbest: 0.9691489 (680)\ttotal: 4m 27s\tremaining: 2m 5s\n",
            "681:\tlearn: 0.9669900\ttest: 0.9691485\tbest: 0.9691489 (680)\ttotal: 4m 27s\tremaining: 2m 4s\n",
            "682:\tlearn: 0.9669979\ttest: 0.9691491\tbest: 0.9691491 (682)\ttotal: 4m 27s\tremaining: 2m 4s\n",
            "683:\tlearn: 0.9670141\ttest: 0.9691500\tbest: 0.9691500 (683)\ttotal: 4m 28s\tremaining: 2m 3s\n",
            "684:\tlearn: 0.9670345\ttest: 0.9691620\tbest: 0.9691620 (684)\ttotal: 4m 28s\tremaining: 2m 3s\n",
            "685:\tlearn: 0.9670528\ttest: 0.9691661\tbest: 0.9691661 (685)\ttotal: 4m 29s\tremaining: 2m 3s\n",
            "686:\tlearn: 0.9670821\ttest: 0.9691865\tbest: 0.9691865 (686)\ttotal: 4m 29s\tremaining: 2m 2s\n",
            "687:\tlearn: 0.9671032\ttest: 0.9692000\tbest: 0.9692000 (687)\ttotal: 4m 29s\tremaining: 2m 2s\n",
            "688:\tlearn: 0.9671085\ttest: 0.9691969\tbest: 0.9692000 (687)\ttotal: 4m 30s\tremaining: 2m 1s\n",
            "689:\tlearn: 0.9671535\ttest: 0.9692537\tbest: 0.9692537 (689)\ttotal: 4m 30s\tremaining: 2m 1s\n",
            "690:\tlearn: 0.9671721\ttest: 0.9692615\tbest: 0.9692615 (690)\ttotal: 4m 31s\tremaining: 2m 1s\n",
            "691:\tlearn: 0.9671772\ttest: 0.9692692\tbest: 0.9692692 (691)\ttotal: 4m 31s\tremaining: 2m\n",
            "692:\tlearn: 0.9672047\ttest: 0.9692824\tbest: 0.9692824 (692)\ttotal: 4m 31s\tremaining: 2m\n",
            "693:\tlearn: 0.9672353\ttest: 0.9692920\tbest: 0.9692920 (693)\ttotal: 4m 32s\tremaining: 2m\n",
            "694:\tlearn: 0.9672659\ttest: 0.9693053\tbest: 0.9693053 (694)\ttotal: 4m 32s\tremaining: 1m 59s\n",
            "695:\tlearn: 0.9672734\ttest: 0.9693093\tbest: 0.9693093 (695)\ttotal: 4m 32s\tremaining: 1m 59s\n",
            "696:\tlearn: 0.9672914\ttest: 0.9693143\tbest: 0.9693143 (696)\ttotal: 4m 33s\tremaining: 1m 58s\n",
            "697:\tlearn: 0.9673086\ttest: 0.9693245\tbest: 0.9693245 (697)\ttotal: 4m 33s\tremaining: 1m 58s\n",
            "698:\tlearn: 0.9673089\ttest: 0.9693242\tbest: 0.9693245 (697)\ttotal: 4m 34s\tremaining: 1m 58s\n",
            "699:\tlearn: 0.9673394\ttest: 0.9693330\tbest: 0.9693330 (699)\ttotal: 4m 34s\tremaining: 1m 57s\n",
            "700:\tlearn: 0.9673620\ttest: 0.9693440\tbest: 0.9693440 (700)\ttotal: 4m 34s\tremaining: 1m 57s\n",
            "701:\tlearn: 0.9673957\ttest: 0.9693622\tbest: 0.9693622 (701)\ttotal: 4m 35s\tremaining: 1m 56s\n",
            "702:\tlearn: 0.9674012\ttest: 0.9693650\tbest: 0.9693650 (702)\ttotal: 4m 35s\tremaining: 1m 56s\n",
            "703:\tlearn: 0.9674102\ttest: 0.9693598\tbest: 0.9693650 (702)\ttotal: 4m 35s\tremaining: 1m 56s\n",
            "704:\tlearn: 0.9674200\ttest: 0.9693644\tbest: 0.9693650 (702)\ttotal: 4m 36s\tremaining: 1m 55s\n",
            "705:\tlearn: 0.9674551\ttest: 0.9693910\tbest: 0.9693910 (705)\ttotal: 4m 36s\tremaining: 1m 55s\n",
            "706:\tlearn: 0.9674764\ttest: 0.9693919\tbest: 0.9693919 (706)\ttotal: 4m 37s\tremaining: 1m 54s\n",
            "707:\tlearn: 0.9674863\ttest: 0.9693918\tbest: 0.9693919 (706)\ttotal: 4m 37s\tremaining: 1m 54s\n",
            "708:\tlearn: 0.9675034\ttest: 0.9694017\tbest: 0.9694017 (708)\ttotal: 4m 37s\tremaining: 1m 54s\n",
            "709:\tlearn: 0.9675179\ttest: 0.9694051\tbest: 0.9694051 (709)\ttotal: 4m 38s\tremaining: 1m 53s\n",
            "710:\tlearn: 0.9675428\ttest: 0.9694189\tbest: 0.9694189 (710)\ttotal: 4m 38s\tremaining: 1m 53s\n",
            "711:\tlearn: 0.9675645\ttest: 0.9694088\tbest: 0.9694189 (710)\ttotal: 4m 39s\tremaining: 1m 52s\n",
            "712:\tlearn: 0.9676653\ttest: 0.9694919\tbest: 0.9694919 (712)\ttotal: 4m 39s\tremaining: 1m 52s\n",
            "713:\tlearn: 0.9676856\ttest: 0.9695080\tbest: 0.9695080 (713)\ttotal: 4m 40s\tremaining: 1m 52s\n",
            "714:\tlearn: 0.9677238\ttest: 0.9695194\tbest: 0.9695194 (714)\ttotal: 4m 40s\tremaining: 1m 51s\n",
            "715:\tlearn: 0.9677498\ttest: 0.9695193\tbest: 0.9695194 (714)\ttotal: 4m 40s\tremaining: 1m 51s\n",
            "716:\tlearn: 0.9677607\ttest: 0.9695198\tbest: 0.9695198 (716)\ttotal: 4m 41s\tremaining: 1m 50s\n",
            "717:\tlearn: 0.9677691\ttest: 0.9695240\tbest: 0.9695240 (717)\ttotal: 4m 41s\tremaining: 1m 50s\n",
            "718:\tlearn: 0.9677939\ttest: 0.9695293\tbest: 0.9695293 (718)\ttotal: 4m 41s\tremaining: 1m 50s\n",
            "719:\tlearn: 0.9678095\ttest: 0.9695321\tbest: 0.9695321 (719)\ttotal: 4m 42s\tremaining: 1m 49s\n",
            "720:\tlearn: 0.9678429\ttest: 0.9695564\tbest: 0.9695564 (720)\ttotal: 4m 42s\tremaining: 1m 49s\n",
            "721:\tlearn: 0.9678745\ttest: 0.9695602\tbest: 0.9695602 (721)\ttotal: 4m 42s\tremaining: 1m 48s\n",
            "722:\tlearn: 0.9678922\ttest: 0.9695658\tbest: 0.9695658 (722)\ttotal: 4m 43s\tremaining: 1m 48s\n",
            "723:\tlearn: 0.9679277\ttest: 0.9695734\tbest: 0.9695734 (723)\ttotal: 4m 43s\tremaining: 1m 48s\n",
            "724:\tlearn: 0.9679343\ttest: 0.9695728\tbest: 0.9695734 (723)\ttotal: 4m 44s\tremaining: 1m 47s\n",
            "725:\tlearn: 0.9679456\ttest: 0.9695736\tbest: 0.9695736 (725)\ttotal: 4m 44s\tremaining: 1m 47s\n",
            "726:\tlearn: 0.9679672\ttest: 0.9695894\tbest: 0.9695894 (726)\ttotal: 4m 44s\tremaining: 1m 46s\n",
            "727:\tlearn: 0.9679816\ttest: 0.9695919\tbest: 0.9695919 (727)\ttotal: 4m 45s\tremaining: 1m 46s\n",
            "728:\tlearn: 0.9680047\ttest: 0.9696076\tbest: 0.9696076 (728)\ttotal: 4m 45s\tremaining: 1m 46s\n",
            "729:\tlearn: 0.9680188\ttest: 0.9696089\tbest: 0.9696089 (729)\ttotal: 4m 46s\tremaining: 1m 45s\n",
            "730:\tlearn: 0.9680363\ttest: 0.9696154\tbest: 0.9696154 (730)\ttotal: 4m 46s\tremaining: 1m 45s\n",
            "731:\tlearn: 0.9680539\ttest: 0.9696152\tbest: 0.9696154 (730)\ttotal: 4m 46s\tremaining: 1m 44s\n",
            "732:\tlearn: 0.9680701\ttest: 0.9696130\tbest: 0.9696154 (730)\ttotal: 4m 47s\tremaining: 1m 44s\n",
            "733:\tlearn: 0.9680994\ttest: 0.9696124\tbest: 0.9696154 (730)\ttotal: 4m 47s\tremaining: 1m 44s\n",
            "734:\tlearn: 0.9681111\ttest: 0.9696090\tbest: 0.9696154 (730)\ttotal: 4m 47s\tremaining: 1m 43s\n",
            "735:\tlearn: 0.9681199\ttest: 0.9696108\tbest: 0.9696154 (730)\ttotal: 4m 48s\tremaining: 1m 43s\n",
            "736:\tlearn: 0.9681464\ttest: 0.9696105\tbest: 0.9696154 (730)\ttotal: 4m 48s\tremaining: 1m 43s\n",
            "737:\tlearn: 0.9681666\ttest: 0.9696172\tbest: 0.9696172 (737)\ttotal: 4m 49s\tremaining: 1m 42s\n",
            "738:\tlearn: 0.9681876\ttest: 0.9696270\tbest: 0.9696270 (738)\ttotal: 4m 49s\tremaining: 1m 42s\n",
            "739:\tlearn: 0.9682057\ttest: 0.9696233\tbest: 0.9696270 (738)\ttotal: 4m 49s\tremaining: 1m 41s\n",
            "740:\tlearn: 0.9682209\ttest: 0.9696267\tbest: 0.9696270 (738)\ttotal: 4m 50s\tremaining: 1m 41s\n",
            "741:\tlearn: 0.9682964\ttest: 0.9696929\tbest: 0.9696929 (741)\ttotal: 4m 50s\tremaining: 1m 41s\n",
            "742:\tlearn: 0.9683118\ttest: 0.9696935\tbest: 0.9696935 (742)\ttotal: 4m 51s\tremaining: 1m 40s\n",
            "743:\tlearn: 0.9683376\ttest: 0.9696954\tbest: 0.9696954 (743)\ttotal: 4m 51s\tremaining: 1m 40s\n",
            "744:\tlearn: 0.9683457\ttest: 0.9696946\tbest: 0.9696954 (743)\ttotal: 4m 51s\tremaining: 1m 39s\n",
            "745:\tlearn: 0.9683515\ttest: 0.9696917\tbest: 0.9696954 (743)\ttotal: 4m 52s\tremaining: 1m 39s\n",
            "746:\tlearn: 0.9683713\ttest: 0.9696990\tbest: 0.9696990 (746)\ttotal: 4m 52s\tremaining: 1m 39s\n",
            "747:\tlearn: 0.9683864\ttest: 0.9697060\tbest: 0.9697060 (747)\ttotal: 4m 53s\tremaining: 1m 38s\n",
            "748:\tlearn: 0.9684079\ttest: 0.9697109\tbest: 0.9697109 (748)\ttotal: 4m 53s\tremaining: 1m 38s\n",
            "749:\tlearn: 0.9684195\ttest: 0.9697129\tbest: 0.9697129 (749)\ttotal: 4m 54s\tremaining: 1m 38s\n",
            "750:\tlearn: 0.9684436\ttest: 0.9697240\tbest: 0.9697240 (750)\ttotal: 4m 54s\tremaining: 1m 37s\n",
            "751:\tlearn: 0.9684679\ttest: 0.9697223\tbest: 0.9697240 (750)\ttotal: 4m 54s\tremaining: 1m 37s\n",
            "752:\tlearn: 0.9684844\ttest: 0.9697371\tbest: 0.9697371 (752)\ttotal: 4m 55s\tremaining: 1m 36s\n",
            "753:\tlearn: 0.9685364\ttest: 0.9697957\tbest: 0.9697957 (753)\ttotal: 4m 55s\tremaining: 1m 36s\n",
            "754:\tlearn: 0.9685670\ttest: 0.9698116\tbest: 0.9698116 (754)\ttotal: 4m 55s\tremaining: 1m 36s\n",
            "755:\tlearn: 0.9685810\ttest: 0.9698176\tbest: 0.9698176 (755)\ttotal: 4m 56s\tremaining: 1m 35s\n",
            "756:\tlearn: 0.9685960\ttest: 0.9698202\tbest: 0.9698202 (756)\ttotal: 4m 56s\tremaining: 1m 35s\n",
            "757:\tlearn: 0.9686095\ttest: 0.9698246\tbest: 0.9698246 (757)\ttotal: 4m 57s\tremaining: 1m 34s\n",
            "758:\tlearn: 0.9686236\ttest: 0.9698212\tbest: 0.9698246 (757)\ttotal: 4m 57s\tremaining: 1m 34s\n",
            "759:\tlearn: 0.9686465\ttest: 0.9698259\tbest: 0.9698259 (759)\ttotal: 4m 57s\tremaining: 1m 34s\n",
            "760:\tlearn: 0.9686599\ttest: 0.9698205\tbest: 0.9698259 (759)\ttotal: 4m 58s\tremaining: 1m 33s\n",
            "761:\tlearn: 0.9686880\ttest: 0.9698234\tbest: 0.9698259 (759)\ttotal: 4m 58s\tremaining: 1m 33s\n",
            "762:\tlearn: 0.9687123\ttest: 0.9698313\tbest: 0.9698313 (762)\ttotal: 4m 59s\tremaining: 1m 32s\n",
            "763:\tlearn: 0.9687403\ttest: 0.9698433\tbest: 0.9698433 (763)\ttotal: 4m 59s\tremaining: 1m 32s\n",
            "764:\tlearn: 0.9688021\ttest: 0.9699569\tbest: 0.9699569 (764)\ttotal: 5m\tremaining: 1m 32s\n",
            "765:\tlearn: 0.9688231\ttest: 0.9699569\tbest: 0.9699569 (764)\ttotal: 5m\tremaining: 1m 31s\n",
            "766:\tlearn: 0.9688248\ttest: 0.9699568\tbest: 0.9699569 (764)\ttotal: 5m\tremaining: 1m 31s\n",
            "767:\tlearn: 0.9688402\ttest: 0.9699570\tbest: 0.9699570 (767)\ttotal: 5m 1s\tremaining: 1m 30s\n",
            "768:\tlearn: 0.9688498\ttest: 0.9699537\tbest: 0.9699570 (767)\ttotal: 5m 1s\tremaining: 1m 30s\n",
            "769:\tlearn: 0.9688745\ttest: 0.9699302\tbest: 0.9699570 (767)\ttotal: 5m 1s\tremaining: 1m 30s\n",
            "770:\tlearn: 0.9688905\ttest: 0.9699395\tbest: 0.9699570 (767)\ttotal: 5m 2s\tremaining: 1m 29s\n",
            "771:\tlearn: 0.9689098\ttest: 0.9699381\tbest: 0.9699570 (767)\ttotal: 5m 2s\tremaining: 1m 29s\n",
            "772:\tlearn: 0.9689470\ttest: 0.9699680\tbest: 0.9699680 (772)\ttotal: 5m 3s\tremaining: 1m 29s\n",
            "773:\tlearn: 0.9689814\ttest: 0.9700027\tbest: 0.9700027 (773)\ttotal: 5m 3s\tremaining: 1m 28s\n",
            "774:\tlearn: 0.9690078\ttest: 0.9700224\tbest: 0.9700224 (774)\ttotal: 5m 3s\tremaining: 1m 28s\n",
            "775:\tlearn: 0.9690167\ttest: 0.9700136\tbest: 0.9700224 (774)\ttotal: 5m 4s\tremaining: 1m 27s\n",
            "776:\tlearn: 0.9690354\ttest: 0.9700022\tbest: 0.9700224 (774)\ttotal: 5m 4s\tremaining: 1m 27s\n",
            "777:\tlearn: 0.9690454\ttest: 0.9699998\tbest: 0.9700224 (774)\ttotal: 5m 5s\tremaining: 1m 27s\n",
            "778:\tlearn: 0.9690531\ttest: 0.9700082\tbest: 0.9700224 (774)\ttotal: 5m 5s\tremaining: 1m 26s\n",
            "779:\tlearn: 0.9690649\ttest: 0.9700134\tbest: 0.9700224 (774)\ttotal: 5m 5s\tremaining: 1m 26s\n",
            "780:\tlearn: 0.9690720\ttest: 0.9700149\tbest: 0.9700224 (774)\ttotal: 5m 6s\tremaining: 1m 25s\n",
            "781:\tlearn: 0.9690773\ttest: 0.9700144\tbest: 0.9700224 (774)\ttotal: 5m 6s\tremaining: 1m 25s\n",
            "782:\tlearn: 0.9690900\ttest: 0.9700066\tbest: 0.9700224 (774)\ttotal: 5m 6s\tremaining: 1m 25s\n",
            "783:\tlearn: 0.9691126\ttest: 0.9700072\tbest: 0.9700224 (774)\ttotal: 5m 7s\tremaining: 1m 24s\n",
            "784:\tlearn: 0.9691328\ttest: 0.9700138\tbest: 0.9700224 (774)\ttotal: 5m 7s\tremaining: 1m 24s\n",
            "785:\tlearn: 0.9691455\ttest: 0.9700172\tbest: 0.9700224 (774)\ttotal: 5m 8s\tremaining: 1m 23s\n",
            "786:\tlearn: 0.9691819\ttest: 0.9700232\tbest: 0.9700232 (786)\ttotal: 5m 8s\tremaining: 1m 23s\n",
            "787:\tlearn: 0.9691892\ttest: 0.9700256\tbest: 0.9700256 (787)\ttotal: 5m 8s\tremaining: 1m 23s\n",
            "788:\tlearn: 0.9692281\ttest: 0.9700415\tbest: 0.9700415 (788)\ttotal: 5m 9s\tremaining: 1m 22s\n",
            "789:\tlearn: 0.9692284\ttest: 0.9700369\tbest: 0.9700415 (788)\ttotal: 5m 9s\tremaining: 1m 22s\n",
            "790:\tlearn: 0.9692566\ttest: 0.9700357\tbest: 0.9700415 (788)\ttotal: 5m 10s\tremaining: 1m 21s\n",
            "791:\tlearn: 0.9692702\ttest: 0.9700390\tbest: 0.9700415 (788)\ttotal: 5m 10s\tremaining: 1m 21s\n",
            "792:\tlearn: 0.9692869\ttest: 0.9700401\tbest: 0.9700415 (788)\ttotal: 5m 10s\tremaining: 1m 21s\n",
            "793:\tlearn: 0.9692990\ttest: 0.9700500\tbest: 0.9700500 (793)\ttotal: 5m 11s\tremaining: 1m 20s\n",
            "794:\tlearn: 0.9693165\ttest: 0.9700626\tbest: 0.9700626 (794)\ttotal: 5m 11s\tremaining: 1m 20s\n",
            "795:\tlearn: 0.9693399\ttest: 0.9700683\tbest: 0.9700683 (795)\ttotal: 5m 12s\tremaining: 1m 19s\n",
            "796:\tlearn: 0.9693607\ttest: 0.9700592\tbest: 0.9700683 (795)\ttotal: 5m 12s\tremaining: 1m 19s\n",
            "797:\tlearn: 0.9693874\ttest: 0.9700675\tbest: 0.9700683 (795)\ttotal: 5m 12s\tremaining: 1m 19s\n",
            "798:\tlearn: 0.9694177\ttest: 0.9700831\tbest: 0.9700831 (798)\ttotal: 5m 13s\tremaining: 1m 18s\n",
            "799:\tlearn: 0.9694391\ttest: 0.9701022\tbest: 0.9701022 (799)\ttotal: 5m 13s\tremaining: 1m 18s\n",
            "800:\tlearn: 0.9694574\ttest: 0.9701158\tbest: 0.9701158 (800)\ttotal: 5m 14s\tremaining: 1m 18s\n",
            "801:\tlearn: 0.9694644\ttest: 0.9701120\tbest: 0.9701158 (800)\ttotal: 5m 14s\tremaining: 1m 17s\n",
            "802:\tlearn: 0.9694746\ttest: 0.9701108\tbest: 0.9701158 (800)\ttotal: 5m 14s\tremaining: 1m 17s\n",
            "803:\tlearn: 0.9694875\ttest: 0.9701177\tbest: 0.9701177 (803)\ttotal: 5m 15s\tremaining: 1m 16s\n",
            "804:\tlearn: 0.9694973\ttest: 0.9701174\tbest: 0.9701177 (803)\ttotal: 5m 15s\tremaining: 1m 16s\n",
            "805:\tlearn: 0.9695050\ttest: 0.9701148\tbest: 0.9701177 (803)\ttotal: 5m 15s\tremaining: 1m 16s\n",
            "806:\tlearn: 0.9695128\ttest: 0.9701226\tbest: 0.9701226 (806)\ttotal: 5m 16s\tremaining: 1m 15s\n",
            "807:\tlearn: 0.9695352\ttest: 0.9701203\tbest: 0.9701226 (806)\ttotal: 5m 16s\tremaining: 1m 15s\n",
            "808:\tlearn: 0.9695510\ttest: 0.9701148\tbest: 0.9701226 (806)\ttotal: 5m 17s\tremaining: 1m 14s\n",
            "809:\tlearn: 0.9695725\ttest: 0.9701146\tbest: 0.9701226 (806)\ttotal: 5m 17s\tremaining: 1m 14s\n",
            "810:\tlearn: 0.9695831\ttest: 0.9701138\tbest: 0.9701226 (806)\ttotal: 5m 17s\tremaining: 1m 14s\n",
            "811:\tlearn: 0.9696003\ttest: 0.9701245\tbest: 0.9701245 (811)\ttotal: 5m 18s\tremaining: 1m 13s\n",
            "812:\tlearn: 0.9696156\ttest: 0.9701243\tbest: 0.9701245 (811)\ttotal: 5m 18s\tremaining: 1m 13s\n",
            "813:\tlearn: 0.9696316\ttest: 0.9701312\tbest: 0.9701312 (813)\ttotal: 5m 19s\tremaining: 1m 12s\n",
            "814:\tlearn: 0.9696353\ttest: 0.9701325\tbest: 0.9701325 (814)\ttotal: 5m 19s\tremaining: 1m 12s\n",
            "815:\tlearn: 0.9696588\ttest: 0.9701514\tbest: 0.9701514 (815)\ttotal: 5m 19s\tremaining: 1m 12s\n",
            "816:\tlearn: 0.9696813\ttest: 0.9701660\tbest: 0.9701660 (816)\ttotal: 5m 20s\tremaining: 1m 11s\n",
            "817:\tlearn: 0.9697044\ttest: 0.9701841\tbest: 0.9701841 (817)\ttotal: 5m 20s\tremaining: 1m 11s\n",
            "818:\tlearn: 0.9697293\ttest: 0.9701932\tbest: 0.9701932 (818)\ttotal: 5m 21s\tremaining: 1m 10s\n",
            "819:\tlearn: 0.9697469\ttest: 0.9702024\tbest: 0.9702024 (819)\ttotal: 5m 21s\tremaining: 1m 10s\n",
            "820:\tlearn: 0.9697673\ttest: 0.9702199\tbest: 0.9702199 (820)\ttotal: 5m 22s\tremaining: 1m 10s\n",
            "821:\tlearn: 0.9697775\ttest: 0.9702201\tbest: 0.9702201 (821)\ttotal: 5m 22s\tremaining: 1m 9s\n",
            "822:\tlearn: 0.9697847\ttest: 0.9702223\tbest: 0.9702223 (822)\ttotal: 5m 22s\tremaining: 1m 9s\n",
            "823:\tlearn: 0.9698347\ttest: 0.9702757\tbest: 0.9702757 (823)\ttotal: 5m 23s\tremaining: 1m 9s\n",
            "824:\tlearn: 0.9698480\ttest: 0.9702761\tbest: 0.9702761 (824)\ttotal: 5m 23s\tremaining: 1m 8s\n",
            "825:\tlearn: 0.9698698\ttest: 0.9702876\tbest: 0.9702876 (825)\ttotal: 5m 24s\tremaining: 1m 8s\n",
            "826:\tlearn: 0.9698862\ttest: 0.9702899\tbest: 0.9702899 (826)\ttotal: 5m 24s\tremaining: 1m 7s\n",
            "827:\tlearn: 0.9698956\ttest: 0.9702897\tbest: 0.9702899 (826)\ttotal: 5m 24s\tremaining: 1m 7s\n",
            "828:\tlearn: 0.9699099\ttest: 0.9702961\tbest: 0.9702961 (828)\ttotal: 5m 25s\tremaining: 1m 7s\n",
            "829:\tlearn: 0.9699399\ttest: 0.9703002\tbest: 0.9703002 (829)\ttotal: 5m 25s\tremaining: 1m 6s\n",
            "830:\tlearn: 0.9699670\ttest: 0.9703321\tbest: 0.9703321 (830)\ttotal: 5m 25s\tremaining: 1m 6s\n",
            "831:\tlearn: 0.9699780\ttest: 0.9703394\tbest: 0.9703394 (831)\ttotal: 5m 26s\tremaining: 1m 5s\n",
            "832:\tlearn: 0.9700024\ttest: 0.9703397\tbest: 0.9703397 (832)\ttotal: 5m 26s\tremaining: 1m 5s\n",
            "833:\tlearn: 0.9700083\ttest: 0.9703367\tbest: 0.9703397 (832)\ttotal: 5m 27s\tremaining: 1m 5s\n",
            "834:\tlearn: 0.9700296\ttest: 0.9703356\tbest: 0.9703397 (832)\ttotal: 5m 27s\tremaining: 1m 4s\n",
            "835:\tlearn: 0.9700481\ttest: 0.9703434\tbest: 0.9703434 (835)\ttotal: 5m 27s\tremaining: 1m 4s\n",
            "836:\tlearn: 0.9700652\ttest: 0.9703478\tbest: 0.9703478 (836)\ttotal: 5m 28s\tremaining: 1m 3s\n",
            "837:\tlearn: 0.9700941\ttest: 0.9703654\tbest: 0.9703654 (837)\ttotal: 5m 28s\tremaining: 1m 3s\n",
            "838:\tlearn: 0.9701164\ttest: 0.9703707\tbest: 0.9703707 (838)\ttotal: 5m 29s\tremaining: 1m 3s\n",
            "839:\tlearn: 0.9701402\ttest: 0.9703834\tbest: 0.9703834 (839)\ttotal: 5m 29s\tremaining: 1m 2s\n",
            "840:\tlearn: 0.9701483\ttest: 0.9703791\tbest: 0.9703834 (839)\ttotal: 5m 30s\tremaining: 1m 2s\n",
            "841:\tlearn: 0.9701684\ttest: 0.9703870\tbest: 0.9703870 (841)\ttotal: 5m 30s\tremaining: 1m 2s\n",
            "842:\tlearn: 0.9701825\ttest: 0.9703846\tbest: 0.9703870 (841)\ttotal: 5m 30s\tremaining: 1m 1s\n",
            "843:\tlearn: 0.9701945\ttest: 0.9703858\tbest: 0.9703870 (841)\ttotal: 5m 31s\tremaining: 1m 1s\n",
            "844:\tlearn: 0.9702232\ttest: 0.9703994\tbest: 0.9703994 (844)\ttotal: 5m 31s\tremaining: 1m\n",
            "845:\tlearn: 0.9702301\ttest: 0.9703932\tbest: 0.9703994 (844)\ttotal: 5m 32s\tremaining: 1m\n",
            "846:\tlearn: 0.9702484\ttest: 0.9704025\tbest: 0.9704025 (846)\ttotal: 5m 32s\tremaining: 1m\n",
            "847:\tlearn: 0.9702941\ttest: 0.9704538\tbest: 0.9704538 (847)\ttotal: 5m 32s\tremaining: 59.7s\n",
            "848:\tlearn: 0.9703077\ttest: 0.9704299\tbest: 0.9704538 (847)\ttotal: 5m 33s\tremaining: 59.3s\n",
            "849:\tlearn: 0.9703239\ttest: 0.9704397\tbest: 0.9704538 (847)\ttotal: 5m 33s\tremaining: 58.9s\n",
            "850:\tlearn: 0.9703403\ttest: 0.9704469\tbest: 0.9704538 (847)\ttotal: 5m 34s\tremaining: 58.5s\n",
            "851:\tlearn: 0.9703611\ttest: 0.9704604\tbest: 0.9704604 (851)\ttotal: 5m 34s\tremaining: 58.1s\n",
            "852:\tlearn: 0.9703910\ttest: 0.9704711\tbest: 0.9704711 (852)\ttotal: 5m 34s\tremaining: 57.7s\n",
            "853:\tlearn: 0.9703935\ttest: 0.9704722\tbest: 0.9704722 (853)\ttotal: 5m 35s\tremaining: 57.3s\n",
            "854:\tlearn: 0.9704269\ttest: 0.9704893\tbest: 0.9704893 (854)\ttotal: 5m 35s\tremaining: 56.9s\n",
            "855:\tlearn: 0.9704456\ttest: 0.9705039\tbest: 0.9705039 (855)\ttotal: 5m 36s\tremaining: 56.5s\n",
            "856:\tlearn: 0.9704639\ttest: 0.9705088\tbest: 0.9705088 (856)\ttotal: 5m 36s\tremaining: 56.1s\n",
            "857:\tlearn: 0.9704762\ttest: 0.9705040\tbest: 0.9705088 (856)\ttotal: 5m 36s\tremaining: 55.7s\n",
            "858:\tlearn: 0.9704881\ttest: 0.9705107\tbest: 0.9705107 (858)\ttotal: 5m 37s\tremaining: 55.4s\n",
            "859:\tlearn: 0.9705026\ttest: 0.9705036\tbest: 0.9705107 (858)\ttotal: 5m 37s\tremaining: 55s\n",
            "860:\tlearn: 0.9705306\ttest: 0.9705129\tbest: 0.9705129 (860)\ttotal: 5m 38s\tremaining: 54.6s\n",
            "861:\tlearn: 0.9705372\ttest: 0.9705177\tbest: 0.9705177 (861)\ttotal: 5m 38s\tremaining: 54.2s\n",
            "862:\tlearn: 0.9705491\ttest: 0.9705197\tbest: 0.9705197 (862)\ttotal: 5m 38s\tremaining: 53.8s\n",
            "863:\tlearn: 0.9705837\ttest: 0.9705431\tbest: 0.9705431 (863)\ttotal: 5m 39s\tremaining: 53.4s\n",
            "864:\tlearn: 0.9705974\ttest: 0.9705526\tbest: 0.9705526 (864)\ttotal: 5m 39s\tremaining: 53s\n",
            "865:\tlearn: 0.9706108\ttest: 0.9705588\tbest: 0.9705588 (865)\ttotal: 5m 39s\tremaining: 52.6s\n",
            "866:\tlearn: 0.9706339\ttest: 0.9705492\tbest: 0.9705588 (865)\ttotal: 5m 40s\tremaining: 52.2s\n",
            "867:\tlearn: 0.9706426\ttest: 0.9705569\tbest: 0.9705588 (865)\ttotal: 5m 40s\tremaining: 51.8s\n",
            "868:\tlearn: 0.9706632\ttest: 0.9705656\tbest: 0.9705656 (868)\ttotal: 5m 40s\tremaining: 51.4s\n",
            "869:\tlearn: 0.9706786\ttest: 0.9705677\tbest: 0.9705677 (869)\ttotal: 5m 41s\tremaining: 51s\n",
            "870:\tlearn: 0.9707130\ttest: 0.9705717\tbest: 0.9705717 (870)\ttotal: 5m 41s\tremaining: 50.6s\n",
            "871:\tlearn: 0.9707398\ttest: 0.9705813\tbest: 0.9705813 (871)\ttotal: 5m 42s\tremaining: 50.2s\n",
            "872:\tlearn: 0.9707480\ttest: 0.9705798\tbest: 0.9705813 (871)\ttotal: 5m 42s\tremaining: 49.8s\n",
            "873:\tlearn: 0.9707518\ttest: 0.9705785\tbest: 0.9705813 (871)\ttotal: 5m 42s\tremaining: 49.4s\n",
            "874:\tlearn: 0.9707776\ttest: 0.9705800\tbest: 0.9705813 (871)\ttotal: 5m 43s\tremaining: 49s\n",
            "875:\tlearn: 0.9707923\ttest: 0.9705848\tbest: 0.9705848 (875)\ttotal: 5m 43s\tremaining: 48.7s\n",
            "876:\tlearn: 0.9708104\ttest: 0.9705923\tbest: 0.9705923 (876)\ttotal: 5m 44s\tremaining: 48.3s\n",
            "877:\tlearn: 0.9708434\ttest: 0.9706004\tbest: 0.9706004 (877)\ttotal: 5m 44s\tremaining: 47.9s\n",
            "878:\tlearn: 0.9708560\ttest: 0.9705894\tbest: 0.9706004 (877)\ttotal: 5m 44s\tremaining: 47.5s\n",
            "879:\tlearn: 0.9708717\ttest: 0.9705952\tbest: 0.9706004 (877)\ttotal: 5m 45s\tremaining: 47.1s\n",
            "880:\tlearn: 0.9708795\ttest: 0.9705954\tbest: 0.9706004 (877)\ttotal: 5m 45s\tremaining: 46.7s\n",
            "881:\tlearn: 0.9709063\ttest: 0.9705983\tbest: 0.9706004 (877)\ttotal: 5m 46s\tremaining: 46.3s\n",
            "882:\tlearn: 0.9709321\ttest: 0.9706005\tbest: 0.9706005 (882)\ttotal: 5m 46s\tremaining: 45.9s\n",
            "883:\tlearn: 0.9709380\ttest: 0.9706006\tbest: 0.9706006 (883)\ttotal: 5m 46s\tremaining: 45.5s\n",
            "884:\tlearn: 0.9709511\ttest: 0.9706012\tbest: 0.9706012 (884)\ttotal: 5m 47s\tremaining: 45.1s\n",
            "885:\tlearn: 0.9709721\ttest: 0.9706004\tbest: 0.9706012 (884)\ttotal: 5m 47s\tremaining: 44.7s\n",
            "886:\tlearn: 0.9709854\ttest: 0.9706033\tbest: 0.9706033 (886)\ttotal: 5m 47s\tremaining: 44.3s\n",
            "887:\tlearn: 0.9709975\ttest: 0.9706051\tbest: 0.9706051 (887)\ttotal: 5m 48s\tremaining: 43.9s\n",
            "888:\tlearn: 0.9710101\ttest: 0.9706113\tbest: 0.9706113 (888)\ttotal: 5m 48s\tremaining: 43.5s\n",
            "889:\tlearn: 0.9710246\ttest: 0.9706184\tbest: 0.9706184 (889)\ttotal: 5m 49s\tremaining: 43.2s\n",
            "890:\tlearn: 0.9710321\ttest: 0.9706218\tbest: 0.9706218 (890)\ttotal: 5m 49s\tremaining: 42.8s\n",
            "891:\tlearn: 0.9710400\ttest: 0.9706213\tbest: 0.9706218 (890)\ttotal: 5m 50s\tremaining: 42.4s\n",
            "892:\tlearn: 0.9710569\ttest: 0.9706237\tbest: 0.9706237 (892)\ttotal: 5m 50s\tremaining: 42s\n",
            "893:\tlearn: 0.9710700\ttest: 0.9706310\tbest: 0.9706310 (893)\ttotal: 5m 50s\tremaining: 41.6s\n",
            "894:\tlearn: 0.9710774\ttest: 0.9706308\tbest: 0.9706310 (893)\ttotal: 5m 51s\tremaining: 41.2s\n",
            "895:\tlearn: 0.9710992\ttest: 0.9706364\tbest: 0.9706364 (895)\ttotal: 5m 51s\tremaining: 40.8s\n",
            "896:\tlearn: 0.9711256\ttest: 0.9706435\tbest: 0.9706435 (896)\ttotal: 5m 52s\tremaining: 40.4s\n",
            "897:\tlearn: 0.9711380\ttest: 0.9706455\tbest: 0.9706455 (897)\ttotal: 5m 52s\tremaining: 40s\n",
            "898:\tlearn: 0.9711536\ttest: 0.9706468\tbest: 0.9706468 (898)\ttotal: 5m 52s\tremaining: 39.6s\n",
            "899:\tlearn: 0.9711618\ttest: 0.9706466\tbest: 0.9706468 (898)\ttotal: 5m 53s\tremaining: 39.3s\n",
            "900:\tlearn: 0.9711707\ttest: 0.9706527\tbest: 0.9706527 (900)\ttotal: 5m 53s\tremaining: 38.9s\n",
            "901:\tlearn: 0.9711784\ttest: 0.9706536\tbest: 0.9706536 (901)\ttotal: 5m 54s\tremaining: 38.5s\n",
            "902:\tlearn: 0.9711928\ttest: 0.9706622\tbest: 0.9706622 (902)\ttotal: 5m 54s\tremaining: 38.1s\n",
            "903:\tlearn: 0.9712027\ttest: 0.9706603\tbest: 0.9706622 (902)\ttotal: 5m 54s\tremaining: 37.7s\n",
            "904:\tlearn: 0.9712072\ttest: 0.9706599\tbest: 0.9706622 (902)\ttotal: 5m 55s\tremaining: 37.3s\n",
            "905:\tlearn: 0.9712189\ttest: 0.9706649\tbest: 0.9706649 (905)\ttotal: 5m 55s\tremaining: 36.9s\n",
            "906:\tlearn: 0.9712436\ttest: 0.9706628\tbest: 0.9706649 (905)\ttotal: 5m 56s\tremaining: 36.5s\n",
            "907:\tlearn: 0.9712530\ttest: 0.9706737\tbest: 0.9706737 (907)\ttotal: 5m 56s\tremaining: 36.1s\n",
            "908:\tlearn: 0.9712683\ttest: 0.9706817\tbest: 0.9706817 (908)\ttotal: 5m 56s\tremaining: 35.7s\n",
            "909:\tlearn: 0.9712750\ttest: 0.9706842\tbest: 0.9706842 (909)\ttotal: 5m 57s\tremaining: 35.3s\n",
            "910:\tlearn: 0.9712888\ttest: 0.9706863\tbest: 0.9706863 (910)\ttotal: 5m 57s\tremaining: 34.9s\n",
            "911:\tlearn: 0.9713076\ttest: 0.9706986\tbest: 0.9706986 (911)\ttotal: 5m 57s\tremaining: 34.5s\n",
            "912:\tlearn: 0.9713261\ttest: 0.9707018\tbest: 0.9707018 (912)\ttotal: 5m 58s\tremaining: 34.1s\n",
            "913:\tlearn: 0.9713460\ttest: 0.9707091\tbest: 0.9707091 (913)\ttotal: 5m 58s\tremaining: 33.7s\n",
            "914:\tlearn: 0.9713504\ttest: 0.9707096\tbest: 0.9707096 (914)\ttotal: 5m 58s\tremaining: 33.3s\n",
            "915:\tlearn: 0.9713742\ttest: 0.9707185\tbest: 0.9707185 (915)\ttotal: 5m 59s\tremaining: 33s\n",
            "916:\tlearn: 0.9713980\ttest: 0.9707348\tbest: 0.9707348 (916)\ttotal: 5m 59s\tremaining: 32.6s\n",
            "917:\tlearn: 0.9714028\ttest: 0.9707332\tbest: 0.9707348 (916)\ttotal: 6m\tremaining: 32.2s\n",
            "918:\tlearn: 0.9714153\ttest: 0.9707356\tbest: 0.9707356 (918)\ttotal: 6m\tremaining: 31.8s\n",
            "919:\tlearn: 0.9714290\ttest: 0.9707445\tbest: 0.9707445 (919)\ttotal: 6m 1s\tremaining: 31.4s\n",
            "920:\tlearn: 0.9714366\ttest: 0.9707485\tbest: 0.9707485 (920)\ttotal: 6m 1s\tremaining: 31s\n",
            "921:\tlearn: 0.9714531\ttest: 0.9707438\tbest: 0.9707485 (920)\ttotal: 6m 1s\tremaining: 30.6s\n",
            "922:\tlearn: 0.9714648\ttest: 0.9707419\tbest: 0.9707485 (920)\ttotal: 6m 2s\tremaining: 30.2s\n",
            "923:\tlearn: 0.9714807\ttest: 0.9707493\tbest: 0.9707493 (923)\ttotal: 6m 2s\tremaining: 29.8s\n",
            "924:\tlearn: 0.9715039\ttest: 0.9707597\tbest: 0.9707597 (924)\ttotal: 6m 2s\tremaining: 29.4s\n",
            "925:\tlearn: 0.9715167\ttest: 0.9707601\tbest: 0.9707601 (925)\ttotal: 6m 3s\tremaining: 29s\n",
            "926:\tlearn: 0.9715370\ttest: 0.9707605\tbest: 0.9707605 (926)\ttotal: 6m 3s\tremaining: 28.6s\n",
            "927:\tlearn: 0.9715614\ttest: 0.9707581\tbest: 0.9707605 (926)\ttotal: 6m 4s\tremaining: 28.3s\n",
            "928:\tlearn: 0.9715719\ttest: 0.9707480\tbest: 0.9707605 (926)\ttotal: 6m 4s\tremaining: 27.9s\n",
            "929:\tlearn: 0.9715788\ttest: 0.9707522\tbest: 0.9707605 (926)\ttotal: 6m 4s\tremaining: 27.5s\n",
            "930:\tlearn: 0.9715980\ttest: 0.9707561\tbest: 0.9707605 (926)\ttotal: 6m 5s\tremaining: 27.1s\n",
            "931:\tlearn: 0.9716238\ttest: 0.9707762\tbest: 0.9707762 (931)\ttotal: 6m 5s\tremaining: 26.7s\n",
            "932:\tlearn: 0.9716398\ttest: 0.9707835\tbest: 0.9707835 (932)\ttotal: 6m 5s\tremaining: 26.3s\n",
            "933:\tlearn: 0.9716600\ttest: 0.9707816\tbest: 0.9707835 (932)\ttotal: 6m 6s\tremaining: 25.9s\n",
            "934:\tlearn: 0.9716704\ttest: 0.9707879\tbest: 0.9707879 (934)\ttotal: 6m 6s\tremaining: 25.5s\n",
            "935:\tlearn: 0.9716965\ttest: 0.9707872\tbest: 0.9707879 (934)\ttotal: 6m 7s\tremaining: 25.1s\n",
            "936:\tlearn: 0.9717069\ttest: 0.9707885\tbest: 0.9707885 (936)\ttotal: 6m 7s\tremaining: 24.7s\n",
            "937:\tlearn: 0.9717297\ttest: 0.9707869\tbest: 0.9707885 (936)\ttotal: 6m 7s\tremaining: 24.3s\n",
            "938:\tlearn: 0.9717460\ttest: 0.9707882\tbest: 0.9707885 (936)\ttotal: 6m 8s\tremaining: 23.9s\n",
            "939:\tlearn: 0.9717520\ttest: 0.9707955\tbest: 0.9707955 (939)\ttotal: 6m 8s\tremaining: 23.5s\n",
            "940:\tlearn: 0.9717649\ttest: 0.9707989\tbest: 0.9707989 (940)\ttotal: 6m 9s\tremaining: 23.1s\n",
            "941:\tlearn: 0.9717833\ttest: 0.9708002\tbest: 0.9708002 (941)\ttotal: 6m 9s\tremaining: 22.8s\n",
            "942:\tlearn: 0.9717960\ttest: 0.9707971\tbest: 0.9708002 (941)\ttotal: 6m 9s\tremaining: 22.4s\n",
            "943:\tlearn: 0.9718090\ttest: 0.9707961\tbest: 0.9708002 (941)\ttotal: 6m 10s\tremaining: 22s\n",
            "944:\tlearn: 0.9718131\ttest: 0.9707938\tbest: 0.9708002 (941)\ttotal: 6m 10s\tremaining: 21.6s\n",
            "945:\tlearn: 0.9718357\ttest: 0.9708073\tbest: 0.9708073 (945)\ttotal: 6m 11s\tremaining: 21.2s\n",
            "946:\tlearn: 0.9718453\ttest: 0.9708147\tbest: 0.9708147 (946)\ttotal: 6m 11s\tremaining: 20.8s\n",
            "947:\tlearn: 0.9718599\ttest: 0.9708163\tbest: 0.9708163 (947)\ttotal: 6m 12s\tremaining: 20.4s\n",
            "948:\tlearn: 0.9719189\ttest: 0.9708906\tbest: 0.9708906 (948)\ttotal: 6m 12s\tremaining: 20s\n",
            "949:\tlearn: 0.9719289\ttest: 0.9708923\tbest: 0.9708923 (949)\ttotal: 6m 12s\tremaining: 19.6s\n",
            "950:\tlearn: 0.9719366\ttest: 0.9708956\tbest: 0.9708956 (950)\ttotal: 6m 13s\tremaining: 19.2s\n",
            "951:\tlearn: 0.9719479\ttest: 0.9709001\tbest: 0.9709001 (951)\ttotal: 6m 13s\tremaining: 18.8s\n",
            "952:\tlearn: 0.9719639\ttest: 0.9708971\tbest: 0.9709001 (951)\ttotal: 6m 13s\tremaining: 18.4s\n",
            "953:\tlearn: 0.9719876\ttest: 0.9709073\tbest: 0.9709073 (953)\ttotal: 6m 14s\tremaining: 18.1s\n",
            "954:\tlearn: 0.9719931\ttest: 0.9709114\tbest: 0.9709114 (954)\ttotal: 6m 14s\tremaining: 17.7s\n",
            "955:\tlearn: 0.9719976\ttest: 0.9709125\tbest: 0.9709125 (955)\ttotal: 6m 15s\tremaining: 17.3s\n",
            "956:\tlearn: 0.9720259\ttest: 0.9709605\tbest: 0.9709605 (956)\ttotal: 6m 15s\tremaining: 16.9s\n",
            "957:\tlearn: 0.9720299\ttest: 0.9709567\tbest: 0.9709605 (956)\ttotal: 6m 15s\tremaining: 16.5s\n",
            "958:\tlearn: 0.9720469\ttest: 0.9709642\tbest: 0.9709642 (958)\ttotal: 6m 16s\tremaining: 16.1s\n",
            "959:\tlearn: 0.9720913\ttest: 0.9710208\tbest: 0.9710208 (959)\ttotal: 6m 16s\tremaining: 15.7s\n",
            "960:\tlearn: 0.9720995\ttest: 0.9710306\tbest: 0.9710306 (960)\ttotal: 6m 16s\tremaining: 15.3s\n",
            "961:\tlearn: 0.9721208\ttest: 0.9710292\tbest: 0.9710306 (960)\ttotal: 6m 17s\tremaining: 14.9s\n",
            "962:\tlearn: 0.9721284\ttest: 0.9710333\tbest: 0.9710333 (962)\ttotal: 6m 17s\tremaining: 14.5s\n",
            "963:\tlearn: 0.9721650\ttest: 0.9710463\tbest: 0.9710463 (963)\ttotal: 6m 18s\tremaining: 14.1s\n",
            "964:\tlearn: 0.9721795\ttest: 0.9710497\tbest: 0.9710497 (964)\ttotal: 6m 18s\tremaining: 13.7s\n",
            "965:\tlearn: 0.9721836\ttest: 0.9710528\tbest: 0.9710528 (965)\ttotal: 6m 18s\tremaining: 13.3s\n",
            "966:\tlearn: 0.9721910\ttest: 0.9710585\tbest: 0.9710585 (966)\ttotal: 6m 19s\tremaining: 12.9s\n",
            "967:\tlearn: 0.9721985\ttest: 0.9710565\tbest: 0.9710585 (966)\ttotal: 6m 19s\tremaining: 12.6s\n",
            "968:\tlearn: 0.9722070\ttest: 0.9710554\tbest: 0.9710585 (966)\ttotal: 6m 20s\tremaining: 12.2s\n",
            "969:\tlearn: 0.9722190\ttest: 0.9710566\tbest: 0.9710585 (966)\ttotal: 6m 20s\tremaining: 11.8s\n",
            "970:\tlearn: 0.9722447\ttest: 0.9710449\tbest: 0.9710585 (966)\ttotal: 6m 20s\tremaining: 11.4s\n",
            "971:\tlearn: 0.9722610\ttest: 0.9710509\tbest: 0.9710585 (966)\ttotal: 6m 21s\tremaining: 11s\n",
            "972:\tlearn: 0.9722773\ttest: 0.9710549\tbest: 0.9710585 (966)\ttotal: 6m 21s\tremaining: 10.6s\n",
            "973:\tlearn: 0.9722819\ttest: 0.9710534\tbest: 0.9710585 (966)\ttotal: 6m 22s\tremaining: 10.2s\n",
            "974:\tlearn: 0.9722825\ttest: 0.9710517\tbest: 0.9710585 (966)\ttotal: 6m 22s\tremaining: 9.8s\n",
            "975:\tlearn: 0.9722975\ttest: 0.9710560\tbest: 0.9710585 (966)\ttotal: 6m 22s\tremaining: 9.41s\n",
            "976:\tlearn: 0.9723073\ttest: 0.9710591\tbest: 0.9710591 (976)\ttotal: 6m 23s\tremaining: 9.02s\n",
            "977:\tlearn: 0.9723144\ttest: 0.9710571\tbest: 0.9710591 (976)\ttotal: 6m 23s\tremaining: 8.63s\n",
            "978:\tlearn: 0.9723297\ttest: 0.9710629\tbest: 0.9710629 (978)\ttotal: 6m 23s\tremaining: 8.23s\n",
            "979:\tlearn: 0.9723388\ttest: 0.9710615\tbest: 0.9710629 (978)\ttotal: 6m 24s\tremaining: 7.84s\n",
            "980:\tlearn: 0.9723627\ttest: 0.9710686\tbest: 0.9710686 (980)\ttotal: 6m 24s\tremaining: 7.45s\n",
            "981:\tlearn: 0.9723744\ttest: 0.9710654\tbest: 0.9710686 (980)\ttotal: 6m 25s\tremaining: 7.06s\n",
            "982:\tlearn: 0.9723902\ttest: 0.9710712\tbest: 0.9710712 (982)\ttotal: 6m 25s\tremaining: 6.67s\n",
            "983:\tlearn: 0.9723992\ttest: 0.9710745\tbest: 0.9710745 (983)\ttotal: 6m 25s\tremaining: 6.28s\n",
            "984:\tlearn: 0.9724140\ttest: 0.9710774\tbest: 0.9710774 (984)\ttotal: 6m 26s\tremaining: 5.88s\n",
            "985:\tlearn: 0.9724591\ttest: 0.9711403\tbest: 0.9711403 (985)\ttotal: 6m 26s\tremaining: 5.49s\n",
            "986:\tlearn: 0.9724758\ttest: 0.9711467\tbest: 0.9711467 (986)\ttotal: 6m 26s\tremaining: 5.1s\n",
            "987:\tlearn: 0.9724886\ttest: 0.9711525\tbest: 0.9711525 (987)\ttotal: 6m 27s\tremaining: 4.71s\n",
            "988:\tlearn: 0.9725097\ttest: 0.9711558\tbest: 0.9711558 (988)\ttotal: 6m 27s\tremaining: 4.31s\n",
            "989:\tlearn: 0.9725205\ttest: 0.9711569\tbest: 0.9711569 (989)\ttotal: 6m 28s\tremaining: 3.92s\n",
            "990:\tlearn: 0.9725347\ttest: 0.9711630\tbest: 0.9711630 (990)\ttotal: 6m 28s\tremaining: 3.53s\n",
            "991:\tlearn: 0.9725466\ttest: 0.9711621\tbest: 0.9711630 (990)\ttotal: 6m 29s\tremaining: 3.14s\n",
            "992:\tlearn: 0.9725525\ttest: 0.9711623\tbest: 0.9711630 (990)\ttotal: 6m 29s\tremaining: 2.75s\n",
            "993:\tlearn: 0.9725620\ttest: 0.9711682\tbest: 0.9711682 (993)\ttotal: 6m 29s\tremaining: 2.35s\n",
            "994:\tlearn: 0.9725800\ttest: 0.9711663\tbest: 0.9711682 (993)\ttotal: 6m 30s\tremaining: 1.96s\n",
            "995:\tlearn: 0.9725929\ttest: 0.9711692\tbest: 0.9711692 (995)\ttotal: 6m 30s\tremaining: 1.57s\n",
            "996:\tlearn: 0.9726124\ttest: 0.9711780\tbest: 0.9711780 (996)\ttotal: 6m 31s\tremaining: 1.18s\n",
            "997:\tlearn: 0.9726263\ttest: 0.9711705\tbest: 0.9711780 (996)\ttotal: 6m 31s\tremaining: 785ms\n",
            "998:\tlearn: 0.9726425\ttest: 0.9711669\tbest: 0.9711780 (996)\ttotal: 6m 32s\tremaining: 392ms\n",
            "999:\tlearn: 0.9726501\ttest: 0.9711620\tbest: 0.9711780 (996)\ttotal: 6m 32s\tremaining: 0us\n",
            "bestTest = 0.9711779952\n",
            "bestIteration = 996\n",
            "Shrink model to first 997 iterations.\n"
          ]
        },
        {
          "output_type": "execute_result",
          "data": {
            "text/plain": [
              "<catboost.core.CatBoostClassifier at 0x7f33910f87d0>"
            ]
          },
          "metadata": {},
          "execution_count": 55
        }
      ]
    },
    {
      "cell_type": "code",
      "source": [
        "gc.collect()"
      ],
      "metadata": {
        "colab": {
          "base_uri": "https://localhost:8080/"
        },
        "id": "pbTphzygkb9-",
        "outputId": "476ef63a-5403-40fd-d22b-c0f3d73f5c02"
      },
      "execution_count": 56,
      "outputs": [
        {
          "output_type": "execute_result",
          "data": {
            "text/plain": [
              "439"
            ]
          },
          "metadata": {},
          "execution_count": 56
        }
      ]
    },
    {
      "cell_type": "markdown",
      "source": [
        "Предсказываем"
      ],
      "metadata": {
        "id": "m9Mxj14QPhLv"
      }
    },
    {
      "cell_type": "code",
      "source": [
        "vt_pool = catboost.Pool(\n",
        "    X_validate,\n",
        "    cat_features=feature_cat_for_cat\n",
        "    )  \n",
        "\n",
        "tt_pool = catboost.Pool(\n",
        "    X_train,\n",
        "    cat_features=feature_cat_for_cat\n",
        ") \n",
        "y_pred_train = clf.predict(tt_pool)\n",
        "y_pred_val = clf.predict(vt_pool)\n",
        "y_pred_submit = clf.predict(test_pool)"
      ],
      "metadata": {
        "id": "NHoK09A8J4T1"
      },
      "execution_count": 57,
      "outputs": []
    },
    {
      "cell_type": "code",
      "source": [
        "gc.collect()"
      ],
      "metadata": {
        "colab": {
          "base_uri": "https://localhost:8080/"
        },
        "id": "yAEl0Zm2k1Yo",
        "outputId": "c5fe0ef0-e010-4bd6-990e-5a3553ae0418"
      },
      "execution_count": 58,
      "outputs": [
        {
          "output_type": "execute_result",
          "data": {
            "text/plain": [
              "269"
            ]
          },
          "metadata": {},
          "execution_count": 58
        }
      ]
    },
    {
      "cell_type": "markdown",
      "source": [
        "Сохраняем результат"
      ],
      "metadata": {
        "id": "JidpGRb7Pl4_"
      }
    },
    {
      "cell_type": "code",
      "source": [
        "y_pred_submit_res=pd.DataFrame(zip(ID, y_pred_submit), columns=['TransactionID','isFraud'])"
      ],
      "metadata": {
        "id": "_GgFXt9IJ_fz"
      },
      "execution_count": 59,
      "outputs": []
    },
    {
      "cell_type": "code",
      "source": [
        "y_pred_submit_res"
      ],
      "metadata": {
        "id": "-MOHVyO8J_f8",
        "colab": {
          "base_uri": "https://localhost:8080/",
          "height": 424
        },
        "outputId": "da7419ab-e42e-472a-a775-c7cc098c6fa6"
      },
      "execution_count": 60,
      "outputs": [
        {
          "output_type": "execute_result",
          "data": {
            "text/html": [
              "\n",
              "  <div id=\"df-ab0de01c-3e3c-4bc8-baed-62f7f80f763a\">\n",
              "    <div class=\"colab-df-container\">\n",
              "      <div>\n",
              "<style scoped>\n",
              "    .dataframe tbody tr th:only-of-type {\n",
              "        vertical-align: middle;\n",
              "    }\n",
              "\n",
              "    .dataframe tbody tr th {\n",
              "        vertical-align: top;\n",
              "    }\n",
              "\n",
              "    .dataframe thead th {\n",
              "        text-align: right;\n",
              "    }\n",
              "</style>\n",
              "<table border=\"1\" class=\"dataframe\">\n",
              "  <thead>\n",
              "    <tr style=\"text-align: right;\">\n",
              "      <th></th>\n",
              "      <th>TransactionID</th>\n",
              "      <th>isFraud</th>\n",
              "    </tr>\n",
              "  </thead>\n",
              "  <tbody>\n",
              "    <tr>\n",
              "      <th>0</th>\n",
              "      <td>3663549</td>\n",
              "      <td>0</td>\n",
              "    </tr>\n",
              "    <tr>\n",
              "      <th>1</th>\n",
              "      <td>3663550</td>\n",
              "      <td>0</td>\n",
              "    </tr>\n",
              "    <tr>\n",
              "      <th>2</th>\n",
              "      <td>3663551</td>\n",
              "      <td>0</td>\n",
              "    </tr>\n",
              "    <tr>\n",
              "      <th>3</th>\n",
              "      <td>3663552</td>\n",
              "      <td>0</td>\n",
              "    </tr>\n",
              "    <tr>\n",
              "      <th>4</th>\n",
              "      <td>3663553</td>\n",
              "      <td>0</td>\n",
              "    </tr>\n",
              "    <tr>\n",
              "      <th>...</th>\n",
              "      <td>...</td>\n",
              "      <td>...</td>\n",
              "    </tr>\n",
              "    <tr>\n",
              "      <th>506686</th>\n",
              "      <td>4170235</td>\n",
              "      <td>0</td>\n",
              "    </tr>\n",
              "    <tr>\n",
              "      <th>506687</th>\n",
              "      <td>4170236</td>\n",
              "      <td>0</td>\n",
              "    </tr>\n",
              "    <tr>\n",
              "      <th>506688</th>\n",
              "      <td>4170237</td>\n",
              "      <td>0</td>\n",
              "    </tr>\n",
              "    <tr>\n",
              "      <th>506689</th>\n",
              "      <td>4170238</td>\n",
              "      <td>0</td>\n",
              "    </tr>\n",
              "    <tr>\n",
              "      <th>506690</th>\n",
              "      <td>4170239</td>\n",
              "      <td>0</td>\n",
              "    </tr>\n",
              "  </tbody>\n",
              "</table>\n",
              "<p>506691 rows × 2 columns</p>\n",
              "</div>\n",
              "      <button class=\"colab-df-convert\" onclick=\"convertToInteractive('df-ab0de01c-3e3c-4bc8-baed-62f7f80f763a')\"\n",
              "              title=\"Convert this dataframe to an interactive table.\"\n",
              "              style=\"display:none;\">\n",
              "        \n",
              "  <svg xmlns=\"http://www.w3.org/2000/svg\" height=\"24px\"viewBox=\"0 0 24 24\"\n",
              "       width=\"24px\">\n",
              "    <path d=\"M0 0h24v24H0V0z\" fill=\"none\"/>\n",
              "    <path d=\"M18.56 5.44l.94 2.06.94-2.06 2.06-.94-2.06-.94-.94-2.06-.94 2.06-2.06.94zm-11 1L8.5 8.5l.94-2.06 2.06-.94-2.06-.94L8.5 2.5l-.94 2.06-2.06.94zm10 10l.94 2.06.94-2.06 2.06-.94-2.06-.94-.94-2.06-.94 2.06-2.06.94z\"/><path d=\"M17.41 7.96l-1.37-1.37c-.4-.4-.92-.59-1.43-.59-.52 0-1.04.2-1.43.59L10.3 9.45l-7.72 7.72c-.78.78-.78 2.05 0 2.83L4 21.41c.39.39.9.59 1.41.59.51 0 1.02-.2 1.41-.59l7.78-7.78 2.81-2.81c.8-.78.8-2.07 0-2.86zM5.41 20L4 18.59l7.72-7.72 1.47 1.35L5.41 20z\"/>\n",
              "  </svg>\n",
              "      </button>\n",
              "      \n",
              "  <style>\n",
              "    .colab-df-container {\n",
              "      display:flex;\n",
              "      flex-wrap:wrap;\n",
              "      gap: 12px;\n",
              "    }\n",
              "\n",
              "    .colab-df-convert {\n",
              "      background-color: #E8F0FE;\n",
              "      border: none;\n",
              "      border-radius: 50%;\n",
              "      cursor: pointer;\n",
              "      display: none;\n",
              "      fill: #1967D2;\n",
              "      height: 32px;\n",
              "      padding: 0 0 0 0;\n",
              "      width: 32px;\n",
              "    }\n",
              "\n",
              "    .colab-df-convert:hover {\n",
              "      background-color: #E2EBFA;\n",
              "      box-shadow: 0px 1px 2px rgba(60, 64, 67, 0.3), 0px 1px 3px 1px rgba(60, 64, 67, 0.15);\n",
              "      fill: #174EA6;\n",
              "    }\n",
              "\n",
              "    [theme=dark] .colab-df-convert {\n",
              "      background-color: #3B4455;\n",
              "      fill: #D2E3FC;\n",
              "    }\n",
              "\n",
              "    [theme=dark] .colab-df-convert:hover {\n",
              "      background-color: #434B5C;\n",
              "      box-shadow: 0px 1px 3px 1px rgba(0, 0, 0, 0.15);\n",
              "      filter: drop-shadow(0px 1px 2px rgba(0, 0, 0, 0.3));\n",
              "      fill: #FFFFFF;\n",
              "    }\n",
              "  </style>\n",
              "\n",
              "      <script>\n",
              "        const buttonEl =\n",
              "          document.querySelector('#df-ab0de01c-3e3c-4bc8-baed-62f7f80f763a button.colab-df-convert');\n",
              "        buttonEl.style.display =\n",
              "          google.colab.kernel.accessAllowed ? 'block' : 'none';\n",
              "\n",
              "        async function convertToInteractive(key) {\n",
              "          const element = document.querySelector('#df-ab0de01c-3e3c-4bc8-baed-62f7f80f763a');\n",
              "          const dataTable =\n",
              "            await google.colab.kernel.invokeFunction('convertToInteractive',\n",
              "                                                     [key], {});\n",
              "          if (!dataTable) return;\n",
              "\n",
              "          const docLinkHtml = 'Like what you see? Visit the ' +\n",
              "            '<a target=\"_blank\" href=https://colab.research.google.com/notebooks/data_table.ipynb>data table notebook</a>'\n",
              "            + ' to learn more about interactive tables.';\n",
              "          element.innerHTML = '';\n",
              "          dataTable['output_type'] = 'display_data';\n",
              "          await google.colab.output.renderOutput(dataTable, element);\n",
              "          const docLink = document.createElement('div');\n",
              "          docLink.innerHTML = docLinkHtml;\n",
              "          element.appendChild(docLink);\n",
              "        }\n",
              "      </script>\n",
              "    </div>\n",
              "  </div>\n",
              "  "
            ],
            "text/plain": [
              "        TransactionID  isFraud\n",
              "0             3663549        0\n",
              "1             3663550        0\n",
              "2             3663551        0\n",
              "3             3663552        0\n",
              "4             3663553        0\n",
              "...               ...      ...\n",
              "506686        4170235        0\n",
              "506687        4170236        0\n",
              "506688        4170237        0\n",
              "506689        4170238        0\n",
              "506690        4170239        0\n",
              "\n",
              "[506691 rows x 2 columns]"
            ]
          },
          "metadata": {},
          "execution_count": 60
        }
      ]
    },
    {
      "cell_type": "code",
      "source": [
        "y_pred_submit_res.to_csv('/content/drive/MyDrive/Classroom/submit_isFraud_05_02_try5_1.csv', index=False)"
      ],
      "metadata": {
        "id": "897Bwc-zJ_f9"
      },
      "execution_count": 61,
      "outputs": []
    },
    {
      "cell_type": "code",
      "source": [
        "y.sum()/y.shape[0]"
      ],
      "metadata": {
        "colab": {
          "base_uri": "https://localhost:8080/"
        },
        "id": "Pi2KwwWwBasO",
        "outputId": "d6ef15b1-abf5-4df2-a527-bda02bc6184b"
      },
      "execution_count": null,
      "outputs": [
        {
          "output_type": "execute_result",
          "data": {
            "text/plain": [
              "isFraud    0.03499\n",
              "dtype: float64"
            ]
          },
          "metadata": {},
          "execution_count": 73
        }
      ]
    },
    {
      "cell_type": "code",
      "source": [
        "y_pred_submit_res.isFraud.sum()/y_pred_submit_res.shape[0]"
      ],
      "metadata": {
        "colab": {
          "base_uri": "https://localhost:8080/"
        },
        "id": "Lc5XToiHBk5I",
        "outputId": "24a95ee0-069d-41dd-a8d6-ce6a815ef3f9"
      },
      "execution_count": 62,
      "outputs": [
        {
          "output_type": "execute_result",
          "data": {
            "text/plain": [
              "0.09915313277717583"
            ]
          },
          "metadata": {},
          "execution_count": 62
        }
      ]
    },
    {
      "cell_type": "markdown",
      "source": [
        "#Анализируем результат"
      ],
      "metadata": {
        "id": "4yDdWUbmP1Ev"
      }
    },
    {
      "cell_type": "code",
      "source": [
        "gc.collect()"
      ],
      "metadata": {
        "colab": {
          "base_uri": "https://localhost:8080/"
        },
        "id": "q9L5Zptv4uAe",
        "outputId": "3d8ff3f5-f487-47b6-fe9b-cb72e93d2cf4"
      },
      "execution_count": 63,
      "outputs": [
        {
          "output_type": "execute_result",
          "data": {
            "text/plain": [
              "533"
            ]
          },
          "metadata": {},
          "execution_count": 63
        }
      ]
    },
    {
      "cell_type": "markdown",
      "source": [
        "График обучения"
      ],
      "metadata": {
        "id": "kJCnggY-3X1m"
      }
    },
    {
      "cell_type": "code",
      "source": [
        "hist = clf.get_evals_result()\n",
        "plt.plot(list(hist['learn'].values())[0], label= 'train')\n",
        "plt.plot(list(hist['validation'].values())[0], label = 'test')\n",
        "plt.ylabel('loss')\n",
        "plt.xlabel('iterations')\n",
        "plt.legend()\n",
        "plt.show()"
      ],
      "metadata": {
        "id": "7FxpSLVG__YV",
        "colab": {
          "base_uri": "https://localhost:8080/",
          "height": 279
        },
        "outputId": "a11cc561-bddb-4b4f-cae3-cd5895217531"
      },
      "execution_count": 64,
      "outputs": [
        {
          "output_type": "display_data",
          "data": {
            "image/png": "[encoded data removed]",
            "text/plain": [
              "<Figure size 432x288 with 1 Axes>"
            ]
          },
          "metadata": {
            "needs_background": "light"
          }
        }
      ]
    },
    {
      "cell_type": "code",
      "source": [
        "feature_import=sorted(\n",
        "    zip(X_train.columns, clf.feature_importances_), \n",
        "    key=lambda p: p[1], \n",
        "    reverse=True\n",
        ")"
      ],
      "metadata": {
        "id": "KUu9lX-8Ih_I"
      },
      "execution_count": 65,
      "outputs": []
    },
    {
      "cell_type": "markdown",
      "source": [
        "Сохраняем feature_import"
      ],
      "metadata": {
        "id": "DUlcDGKpQGMb"
      }
    },
    {
      "cell_type": "code",
      "source": [
        "feature_import"
      ],
      "metadata": {
        "id": "9DUe-CIdHiEI",
        "colab": {
          "base_uri": "https://localhost:8080/"
        },
        "outputId": "eb940f4c-5d3e-4dda-a027-2fa104fd795b"
      },
      "execution_count": 66,
      "outputs": [
        {
          "output_type": "execute_result",
          "data": {
            "text/plain": [
              "[('C1', 6.866290696356674),\n",
              " ('card1', 4.932523846842089),\n",
              " ('card_card', 4.77772662719201),\n",
              " ('TransactionAmt', 4.351297018847598),\n",
              " ('C14', 4.087759275525005),\n",
              " ('P_emaildomain', 3.5036370912965773),\n",
              " ('C13', 3.365440954553114),\n",
              " ('addr1', 3.3095196255607977),\n",
              " ('dist', 2.584976535428955),\n",
              " ('M5', 2.4910014181368467),\n",
              " ('D2', 2.4556030014190067),\n",
              " ('TransactionID', 2.4520087320324917),\n",
              " ('card2', 2.299669475785124),\n",
              " ('M6', 2.045661007634975),\n",
              " ('R_emaildomain', 1.7898411146873783),\n",
              " ('C5', 1.5860067574641894),\n",
              " ('C6', 1.569837923733076),\n",
              " ('DeviceInfo', 1.5543027159536806),\n",
              " ('V258', 1.4132439659819624),\n",
              " ('M4', 1.4119578710952416),\n",
              " ('C11', 1.3570505153746877),\n",
              " ('id_19', 1.3165532530891604),\n",
              " ('D15', 1.2753334652592994),\n",
              " ('V308', 1.2679731983453604),\n",
              " ('ProductCD', 1.1575017160373622),\n",
              " ('dist1', 0.974308582118621),\n",
              " ('D11', 0.9673227683688209),\n",
              " ('D8', 0.8551477675258811),\n",
              " ('D5', 0.8305055589103882),\n",
              " ('D4', 0.8287752003379243),\n",
              " ('V294', 0.8011653533955321),\n",
              " ('id_31', 0.7912388340056835),\n",
              " ('D3', 0.781199840506775),\n",
              " ('card5', 0.7798627160514704),\n",
              " ('card6', 0.7741562278788423),\n",
              " ('D10', 0.7446665310025483),\n",
              " ('addr', 0.7389452739090255),\n",
              " ('C9', 0.6960848028581151),\n",
              " ('V91', 0.6672905037935374),\n",
              " ('C2', 0.6348189809255561),\n",
              " ('V307', 0.6281961484901175),\n",
              " ('M3', 0.6077896007425734),\n",
              " ('day', 0.6020810390155725),\n",
              " ('V317', 0.5821609879105756),\n",
              " ('id_33', 0.5774541510067495),\n",
              " ('D1', 0.5645169346417658),\n",
              " ('id_20', 0.5286459448119536),\n",
              " ('V201', 0.46108147811050626),\n",
              " ('V70', 0.4361938008927364),\n",
              " ('V281', 0.4129175409511252),\n",
              " ('V55', 0.41025023146742395),\n",
              " ('card4', 0.40672162552150143),\n",
              " ('card3', 0.40244740240442417),\n",
              " ('V310', 0.3800298326543535),\n",
              " ('id_38', 0.35544796380610394),\n",
              " ('V283', 0.3296291966468364),\n",
              " ('M7', 0.310037583165119),\n",
              " ('V67', 0.3048059608969897),\n",
              " ('V313', 0.29738441288858564),\n",
              " ('V87', 0.29349912033637116),\n",
              " ('V48', 0.2863552175248583),\n",
              " ('id_14', 0.2753787872328305),\n",
              " ('M2', 0.2628125387823711),\n",
              " ('V165', 0.2549107303594142),\n",
              " ('V82', 0.24764079426844832),\n",
              " ('V102', 0.2462568787260472),\n",
              " ('V90', 0.2459148241618221),\n",
              " ('C4', 0.23485865188793636),\n",
              " ('V187', 0.22573430935110872),\n",
              " ('V133', 0.216672403973694),\n",
              " ('V309', 0.21619991309395145),\n",
              " ('M8', 0.21161523288040937),\n",
              " ('V311', 0.20648139487737407),\n",
              " ('M9', 0.2037839202087168),\n",
              " ('V189', 0.2003182710275253),\n",
              " ('V56', 0.19923279514076198),\n",
              " ('id_13', 0.1965572681946159),\n",
              " ('D13', 0.19470145239286005),\n",
              " ('V45', 0.19167430463456883),\n",
              " ('C8', 0.18955674868341013),\n",
              " ('id_18', 0.18575983917205627),\n",
              " ('Hr', 0.18343657891000417),\n",
              " ('V285', 0.1790140471419195),\n",
              " ('V164', 0.1743024595576806),\n",
              " ('V83', 0.16787178335971914),\n",
              " ('V312', 0.16706329931247446),\n",
              " ('V61', 0.16442058536179588),\n",
              " ('V314', 0.16229094802500676),\n",
              " ('C3', 0.16156254346743967),\n",
              " ('D12', 0.1586937663171808),\n",
              " ('V5', 0.1555955234035244),\n",
              " ('V280', 0.1531230837966748),\n",
              " ('V69', 0.14919759607576222),\n",
              " ('V130', 0.14607935639189454),\n",
              " ('V315', 0.1421698379660427),\n",
              " ('V306', 0.13673190003219712),\n",
              " ('V86', 0.13291562733728257),\n",
              " ('V62', 0.13155781890006318),\n",
              " ('id_30', 0.12336200404073654),\n",
              " ('V71', 0.12327382439581099),\n",
              " ('V316', 0.11797202626636599),\n",
              " ('V75', 0.11735275332829165),\n",
              " ('V29', 0.1169137989474518),\n",
              " ('V159', 0.11353630307857798),\n",
              " ('id_12', 0.11352677855744028),\n",
              " ('id_36', 0.11195493072222612),\n",
              " ('V129', 0.11139456568080375),\n",
              " ('V244', 0.10903788061385902),\n",
              " ('DeviceType', 0.10426502261248086),\n",
              " ('V99', 0.10267441414255303),\n",
              " ('V36', 0.09944989925448117),\n",
              " ('V264', 0.09938086407006565),\n",
              " ('V10', 0.09836283023496716),\n",
              " ('V293', 0.09807901364807577),\n",
              " ('V150', 0.09752812929431842),\n",
              " ('id_34', 0.09222168557058208),\n",
              " ('V12', 0.09207730409242863),\n",
              " ('V65', 0.09178520433057263),\n",
              " ('V246', 0.09124127026816323),\n",
              " ('V63', 0.08876422553464285),\n",
              " ('V128', 0.08600963584754799),\n",
              " ('id_16', 0.08410362187401692),\n",
              " ('dist2', 0.08344482328748762),\n",
              " ('V145', 0.08312225334867819),\n",
              " ('V44', 0.08224681001621732),\n",
              " ('V127', 0.08224252054585271),\n",
              " ('V53', 0.07816165202714158),\n",
              " ('V72', 0.0777452750510044),\n",
              " ('V49', 0.07651656584203173),\n",
              " ('V136', 0.07453656063430268),\n",
              " ('D7', 0.07381794675168613),\n",
              " ('M1', 0.06984827901478488),\n",
              " ('V156', 0.06749782746388663),\n",
              " ('V54', 0.06728097881935098),\n",
              " ('V6', 0.06308003679448025),\n",
              " ('V76', 0.06186887995765471),\n",
              " ('id_35', 0.06060931369382711),\n",
              " ('V143', 0.060391650035319704),\n",
              " ('V329', 0.05938380746740076),\n",
              " ('V23', 0.05899853015374057),\n",
              " ('V149', 0.05747144534690265),\n",
              " ('V8', 0.057237674482922656),\n",
              " ('V35', 0.057087926870406265),\n",
              " ('V319', 0.05677695309424236),\n",
              " ('V7', 0.053973355481448194),\n",
              " ('V284', 0.05387237419762572),\n",
              " ('id_37', 0.05337852555048905),\n",
              " ('V234', 0.05293450864540486),\n",
              " ('V337', 0.05270932922862161),\n",
              " ('V286', 0.05229265977692012),\n",
              " ('V137', 0.05184900558503999),\n",
              " ('V328', 0.05169003364270546),\n",
              " ('C10', 0.05150202395905125),\n",
              " ('V126', 0.051464929331974836),\n",
              " ('V30', 0.04784142791435013),\n",
              " ('V162', 0.04686785308294145),\n",
              " ('V326', 0.046280872305063954),\n",
              " ('V2', 0.045381487908062776),\n",
              " ('V166', 0.045190626845231924),\n",
              " ('V11', 0.04491435477100425),\n",
              " ('id_29', 0.04398087640529812),\n",
              " ('V13', 0.04307268845118184),\n",
              " ('V282', 0.04193713708622183),\n",
              " ('V19', 0.03996905845434784),\n",
              " ('V203', 0.03978102768118709),\n",
              " ('V320', 0.038697027140616805),\n",
              " ('V59', 0.03702170649198038),\n",
              " ('V300', 0.03615875016494951),\n",
              " ('V291', 0.0349872880796885),\n",
              " ('id_28', 0.034681216863541704),\n",
              " ('V296', 0.03455776928168556),\n",
              " ('V279', 0.03407408289514505),\n",
              " ('V288', 0.034069307951274094),\n",
              " ('V38', 0.03362235379327055),\n",
              " ('V206', 0.032771671677972),\n",
              " ('V135', 0.03195845706743266),\n",
              " ('id_15', 0.03192352738370664),\n",
              " ('V131', 0.031663112302322646),\n",
              " ('C12', 0.0314530118451528),\n",
              " ('V108', 0.03072510407714663),\n",
              " ('V81', 0.028605016523457403),\n",
              " ('V161', 0.027327823774987717),\n",
              " ('V134', 0.026329296127586797),\n",
              " ('V25', 0.024913530033535594),\n",
              " ('V332', 0.024411193828426523),\n",
              " ('V20', 0.02349192473778627),\n",
              " ('D14', 0.022926274134633173),\n",
              " ('V209', 0.022868935735555058),\n",
              " ('V74', 0.022500388642892513),\n",
              " ('V167', 0.02242856518993554),\n",
              " ('V98', 0.022101933812542822),\n",
              " ('V333', 0.021443871386360672),\n",
              " ('V290', 0.02114993583575363),\n",
              " ('V46', 0.02102434615940531),\n",
              " ('V66', 0.02040948796567939),\n",
              " ('V272', 0.020340936775606243),\n",
              " ('V26', 0.020160631808801607),\n",
              " ('V301', 0.020077553277796742),\n",
              " ('V168', 0.020062947339281337),\n",
              " ('V318', 0.019890720893630913),\n",
              " ('V188', 0.019841612483092266),\n",
              " ('V253', 0.01966174626901704),\n",
              " ('V141', 0.019505937743546593),\n",
              " ('V47', 0.01861655753027314),\n",
              " ('addr2', 0.016736557047270905),\n",
              " ('V215', 0.016266039042685813),\n",
              " ('id_17', 0.015086758911280992),\n",
              " ('V33', 0.014856377863975614),\n",
              " ('V214', 0.014725657846994934),\n",
              " ('V152', 0.01465754638745297),\n",
              " ('V267', 0.014560057428408909),\n",
              " ('V105', 0.014093890977449664),\n",
              " ('V330', 0.014063743576523893),\n",
              " ('V173', 0.014021786596975946),\n",
              " ('V204', 0.013784644909823205),\n",
              " ('V177', 0.013760381039727152),\n",
              " ('D6', 0.013685593109421268),\n",
              " ('V241', 0.013522877084986906),\n",
              " ('V3', 0.013326280759567537),\n",
              " ('V262', 0.013094805634368331),\n",
              " ('V338', 0.012947835291220226),\n",
              " ('V85', 0.01272322768919219),\n",
              " ('V205', 0.012327748619429863),\n",
              " ('V78', 0.012324310511039457),\n",
              " ('V95', 0.012020580766077591),\n",
              " ('V171', 0.01135888568839616),\n",
              " ('V295', 0.011280255557898113),\n",
              " ('V192', 0.010639983964119507),\n",
              " ('V107', 0.010419144243000899),\n",
              " ('V123', 0.010197021930560086),\n",
              " ('V112', 0.010152977095991705),\n",
              " ('V196', 0.010152002912117354),\n",
              " ('V97', 0.01005574144285966),\n",
              " ('V321', 0.010013216913704204),\n",
              " ('V261', 0.009943519594603524),\n",
              " ('V222', 0.009861000521177657),\n",
              " ('V160', 0.009793037719924604),\n",
              " ('V331', 0.00975356898322123),\n",
              " ('V265', 0.009198686640384717),\n",
              " ('V163', 0.009192768059531923),\n",
              " ('V268', 0.009153834264746582),\n",
              " ('V271', 0.008963148560852322),\n",
              " ('V151', 0.008858590875697951),\n",
              " ('V124', 0.00859325985126537),\n",
              " ('V51', 0.00764038952600988),\n",
              " ('V298', 0.007077307913950285),\n",
              " ('V109', 0.006985204758852926),\n",
              " ('V218', 0.006947326863838172),\n",
              " ('V170', 0.006025551241327686),\n",
              " ('V263', 0.005913291141927198),\n",
              " ('V207', 0.005890797210859585),\n",
              " ('V79', 0.005528790119375814),\n",
              " ('V96', 0.005449533772395366),\n",
              " ('V334', 0.00534204722251286),\n",
              " ('V172', 0.005148134342481292),\n",
              " ('V322', 0.005056155672506461),\n",
              " ('C7', 0.004882509882302111),\n",
              " ('V64', 0.004849384376250909),\n",
              " ('V266', 0.004655390399326043),\n",
              " ('V174', 0.004424506392015064),\n",
              " ('V180', 0.003748564113998315),\n",
              " ('V227', 0.003624006234260657),\n",
              " ('V103', 0.003608276832990384),\n",
              " ('V93', 0.0035041223792167463),\n",
              " ('V100', 0.0034616544839739644),\n",
              " ('V114', 0.003082475930728938),\n",
              " ('V208', 0.002860821342777301),\n",
              " ('V4', 0.002662847053771443),\n",
              " ('V274', 0.002625490766092123),\n",
              " ('V213', 0.002219062614651225),\n",
              " ('V193', 0.0021069570424495734),\n",
              " ('V9', 0.002034829400146724),\n",
              " ('V32', 0.0018950139668714434),\n",
              " ('V176', 0.001781045931368444),\n",
              " ('V94', 0.0017534006487495179),\n",
              " ('V186', 0.001543036049621174),\n",
              " ('V132', 0.0015151496801485752),\n",
              " ('V111', 0.0012336196192501534),\n",
              " ('V125', 0.0010010096850810626),\n",
              " ('V60', 0.0008388075246365061),\n",
              " ('V1', 0.0),\n",
              " ('V14', 0.0),\n",
              " ('V15', 0.0),\n",
              " ('V16', 0.0),\n",
              " ('V17', 0.0),\n",
              " ('V18', 0.0),\n",
              " ('V21', 0.0),\n",
              " ('V22', 0.0),\n",
              " ('V24', 0.0),\n",
              " ('V27', 0.0),\n",
              " ('V28', 0.0),\n",
              " ('V31', 0.0),\n",
              " ('V34', 0.0),\n",
              " ('V37', 0.0),\n",
              " ('V39', 0.0),\n",
              " ('V40', 0.0),\n",
              " ('V41', 0.0),\n",
              " ('V42', 0.0),\n",
              " ('V43', 0.0),\n",
              " ('V50', 0.0),\n",
              " ('V52', 0.0),\n",
              " ('V57', 0.0),\n",
              " ('V58', 0.0),\n",
              " ('V68', 0.0),\n",
              " ('V73', 0.0),\n",
              " ('V77', 0.0),\n",
              " ('V80', 0.0),\n",
              " ('V84', 0.0),\n",
              " ('V88', 0.0),\n",
              " ('V89', 0.0),\n",
              " ('V92', 0.0),\n",
              " ('V101', 0.0),\n",
              " ('V104', 0.0),\n",
              " ('V106', 0.0),\n",
              " ('V110', 0.0),\n",
              " ('V113', 0.0),\n",
              " ('V115', 0.0),\n",
              " ('V116', 0.0),\n",
              " ('V117', 0.0),\n",
              " ('V118', 0.0),\n",
              " ('V119', 0.0),\n",
              " ('V120', 0.0),\n",
              " ('V121', 0.0),\n",
              " ('V122', 0.0),\n",
              " ('V138', 0.0),\n",
              " ('V139', 0.0),\n",
              " ('V140', 0.0),\n",
              " ('V142', 0.0),\n",
              " ('V144', 0.0),\n",
              " ('V146', 0.0),\n",
              " ('V147', 0.0),\n",
              " ('V148', 0.0),\n",
              " ('V153', 0.0),\n",
              " ('V154', 0.0),\n",
              " ('V155', 0.0),\n",
              " ('V157', 0.0),\n",
              " ('V158', 0.0),\n",
              " ('V169', 0.0),\n",
              " ('V175', 0.0),\n",
              " ('V178', 0.0),\n",
              " ('V179', 0.0),\n",
              " ('V181', 0.0),\n",
              " ('V182', 0.0),\n",
              " ('V183', 0.0),\n",
              " ('V184', 0.0),\n",
              " ('V185', 0.0),\n",
              " ('V190', 0.0),\n",
              " ('V191', 0.0),\n",
              " ('V194', 0.0),\n",
              " ('V195', 0.0),\n",
              " ('V197', 0.0),\n",
              " ('V198', 0.0),\n",
              " ('V199', 0.0),\n",
              " ('V200', 0.0),\n",
              " ('V202', 0.0),\n",
              " ('V210', 0.0),\n",
              " ('V211', 0.0),\n",
              " ('V212', 0.0),\n",
              " ('V216', 0.0),\n",
              " ('V217', 0.0),\n",
              " ('V219', 0.0),\n",
              " ('V220', 0.0),\n",
              " ('V221', 0.0),\n",
              " ('V223', 0.0),\n",
              " ('V224', 0.0),\n",
              " ('V225', 0.0),\n",
              " ('V226', 0.0),\n",
              " ('V228', 0.0),\n",
              " ('V229', 0.0),\n",
              " ('V230', 0.0),\n",
              " ('V231', 0.0),\n",
              " ('V232', 0.0),\n",
              " ('V233', 0.0),\n",
              " ('V235', 0.0),\n",
              " ('V236', 0.0),\n",
              " ('V237', 0.0),\n",
              " ('V238', 0.0),\n",
              " ('V239', 0.0),\n",
              " ('V240', 0.0),\n",
              " ('V242', 0.0),\n",
              " ('V243', 0.0),\n",
              " ('V245', 0.0),\n",
              " ('V247', 0.0),\n",
              " ('V248', 0.0),\n",
              " ('V249', 0.0),\n",
              " ('V250', 0.0),\n",
              " ('V251', 0.0),\n",
              " ('V252', 0.0),\n",
              " ('V254', 0.0),\n",
              " ('V255', 0.0),\n",
              " ('V256', 0.0),\n",
              " ('V257', 0.0),\n",
              " ('V259', 0.0),\n",
              " ('V260', 0.0),\n",
              " ('V269', 0.0),\n",
              " ('V270', 0.0),\n",
              " ('V273', 0.0),\n",
              " ('V275', 0.0),\n",
              " ('V276', 0.0),\n",
              " ('V277', 0.0),\n",
              " ('V278', 0.0),\n",
              " ('V287', 0.0),\n",
              " ('V289', 0.0),\n",
              " ('V292', 0.0),\n",
              " ('V297', 0.0),\n",
              " ('V299', 0.0),\n",
              " ('V302', 0.0),\n",
              " ('V303', 0.0),\n",
              " ('V304', 0.0),\n",
              " ('V305', 0.0),\n",
              " ('V323', 0.0),\n",
              " ('V324', 0.0),\n",
              " ('V325', 0.0),\n",
              " ('V327', 0.0),\n",
              " ('V335', 0.0),\n",
              " ('V336', 0.0),\n",
              " ('V339', 0.0)]"
            ]
          },
          "metadata": {},
          "execution_count": 66
        }
      ]
    },
    {
      "cell_type": "code",
      "source": [
        "feature_import=pd.DataFrame(feature_import, columns=['feature', 'importance'])"
      ],
      "metadata": {
        "id": "ggph1LMTovgq"
      },
      "execution_count": 67,
      "outputs": []
    },
    {
      "cell_type": "code",
      "source": [
        "feature_import.to_csv('/content/drive/MyDrive/Classroom/feature_import_05_02_v5.csv', index=False)"
      ],
      "metadata": {
        "id": "jTsK2DatpJqe"
      },
      "execution_count": 68,
      "outputs": []
    },
    {
      "cell_type": "code",
      "source": [
        "del X_test\n",
        "gc.collect()"
      ],
      "metadata": {
        "id": "5Pt3SyCI3syp",
        "colab": {
          "base_uri": "https://localhost:8080/"
        },
        "outputId": "0918d470-20c8-471e-91e8-806841d5ef2a"
      },
      "execution_count": 69,
      "outputs": [
        {
          "output_type": "execute_result",
          "data": {
            "text/plain": [
              "2967"
            ]
          },
          "metadata": {},
          "execution_count": 69
        }
      ]
    },
    {
      "cell_type": "code",
      "source": [
        "gc.collect()"
      ],
      "metadata": {
        "colab": {
          "base_uri": "https://localhost:8080/"
        },
        "id": "UFept-1w5H31",
        "outputId": "ced48342-dcd0-4403-e95c-7682442d88c1"
      },
      "execution_count": 70,
      "outputs": [
        {
          "output_type": "execute_result",
          "data": {
            "text/plain": [
              "131"
            ]
          },
          "metadata": {},
          "execution_count": 70
        }
      ]
    },
    {
      "cell_type": "code",
      "source": [
        "shap_info = clf.get_feature_importance(\n",
        "    data=train_pool, \n",
        "    type='ShapValues', \n",
        "    verbose=10000\n",
        ")\n",
        "shap_values = shap_info[:,:-1]\n",
        "base_values = shap_info[:,-1]"
      ],
      "metadata": {
        "id": "nLFGaGBZIwiN",
        "colab": {
          "base_uri": "https://localhost:8080/"
        },
        "outputId": "b18abb57-868c-4990-cd95-3218158a5c75"
      },
      "execution_count": null,
      "outputs": [
        {
          "output_type": "stream",
          "name": "stdout",
          "text": [
            "Processing trees...\n",
            "128/997 trees processed\tpassed time: 310ms\tremaining time: 2.1s\n",
            "997/997 trees processed\tpassed time: 2.24s\tremaining time: 0us\n",
            "Processing documents...\n",
            "128/442905 documents processed\tpassed time: 29ms\tremaining time: 1m 40s\n",
            "10112/442905 documents processed\tpassed time: 2.06s\tremaining time: 1m 28s\n",
            "20096/442905 documents processed\tpassed time: 4.05s\tremaining time: 1m 25s\n",
            "30080/442905 documents processed\tpassed time: 6.07s\tremaining time: 1m 23s\n",
            "40064/442905 documents processed\tpassed time: 8.1s\tremaining time: 1m 21s\n",
            "50048/442905 documents processed\tpassed time: 10.1s\tremaining time: 1m 19s\n",
            "60032/442905 documents processed\tpassed time: 12.1s\tremaining time: 1m 17s\n",
            "70016/442905 documents processed\tpassed time: 14.1s\tremaining time: 1m 15s\n",
            "80128/442905 documents processed\tpassed time: 16.2s\tremaining time: 1m 13s\n",
            "90112/442905 documents processed\tpassed time: 18.3s\tremaining time: 1m 11s\n",
            "100096/442905 documents processed\tpassed time: 20.3s\tremaining time: 1m 9s\n",
            "110080/442905 documents processed\tpassed time: 22.3s\tremaining time: 1m 7s\n",
            "120064/442905 documents processed\tpassed time: 24.4s\tremaining time: 1m 5s\n",
            "130048/442905 documents processed\tpassed time: 26.4s\tremaining time: 1m 3s\n",
            "140032/442905 documents processed\tpassed time: 28.5s\tremaining time: 1m 1s\n",
            "150016/442905 documents processed\tpassed time: 30.5s\tremaining time: 59.6s\n",
            "160128/442905 documents processed\tpassed time: 32.6s\tremaining time: 57.5s\n",
            "170112/442905 documents processed\tpassed time: 34.6s\tremaining time: 55.5s\n",
            "180096/442905 documents processed\tpassed time: 36.7s\tremaining time: 53.6s\n",
            "190080/442905 documents processed\tpassed time: 38.8s\tremaining time: 51.6s\n",
            "200064/442905 documents processed\tpassed time: 40.8s\tremaining time: 49.6s\n",
            "210048/442905 documents processed\tpassed time: 42.9s\tremaining time: 47.5s\n",
            "220032/442905 documents processed\tpassed time: 45s\tremaining time: 45.6s\n",
            "230016/442905 documents processed\tpassed time: 47s\tremaining time: 43.5s\n",
            "240128/442905 documents processed\tpassed time: 49.2s\tremaining time: 41.5s\n",
            "250112/442905 documents processed\tpassed time: 51.2s\tremaining time: 39.5s\n",
            "260096/442905 documents processed\tpassed time: 53.2s\tremaining time: 37.4s\n",
            "270080/442905 documents processed\tpassed time: 55.3s\tremaining time: 35.4s\n",
            "280064/442905 documents processed\tpassed time: 57.3s\tremaining time: 33.3s\n",
            "290048/442905 documents processed\tpassed time: 59.3s\tremaining time: 31.3s\n",
            "300032/442905 documents processed\tpassed time: 1m 1s\tremaining time: 29.2s\n",
            "310016/442905 documents processed\tpassed time: 1m 3s\tremaining time: 27.2s\n",
            "320128/442905 documents processed\tpassed time: 1m 5s\tremaining time: 25.1s\n",
            "330112/442905 documents processed\tpassed time: 1m 7s\tremaining time: 23.1s\n",
            "340096/442905 documents processed\tpassed time: 1m 9s\tremaining time: 21s\n",
            "350080/442905 documents processed\tpassed time: 1m 11s\tremaining time: 19s\n",
            "360064/442905 documents processed\tpassed time: 1m 13s\tremaining time: 17s\n",
            "370048/442905 documents processed\tpassed time: 1m 15s\tremaining time: 14.9s\n",
            "380032/442905 documents processed\tpassed time: 1m 17s\tremaining time: 12.9s\n",
            "390016/442905 documents processed\tpassed time: 1m 19s\tremaining time: 10.8s\n",
            "400128/442905 documents processed\tpassed time: 1m 22s\tremaining time: 8.77s\n",
            "410112/442905 documents processed\tpassed time: 1m 24s\tremaining time: 6.73s\n",
            "420096/442905 documents processed\tpassed time: 1m 26s\tremaining time: 4.68s\n",
            "430080/442905 documents processed\tpassed time: 1m 28s\tremaining time: 2.63s\n",
            "440064/442905 documents processed\tpassed time: 1m 30s\tremaining time: 583ms\n",
            "442905/442905 documents processed\tpassed time: 1m 30s\tremaining time: 0us\n"
          ]
        }
      ]
    },
    {
      "cell_type": "code",
      "source": [
        "/content/catboost_clf_find_fraud/snapshot.bkp"
      ],
      "metadata": {
        "id": "OIY2DTGFDgL2"
      },
      "execution_count": null,
      "outputs": []
    },
    {
      "cell_type": "code",
      "source": [
        "shap.summary_plot(shap_values, X_train)"
      ],
      "metadata": {
        "id": "0NZHRVaK7zSn"
      },
      "execution_count": null,
      "outputs": []
    }
  ]
}